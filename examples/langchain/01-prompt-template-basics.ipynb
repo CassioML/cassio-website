{
 "cells": [
  {
   "cell_type": "code",
   "execution_count": null,
   "id": "18ec4113",
   "metadata": {},
   "outputs": [],
   "source": [
    "from langchain.prompts import createCassandraPromptTemplate"
   ]
  },
  {
   "cell_type": "code",
   "execution_count": null,
   "id": "bb9736ba",
   "metadata": {},
   "outputs": [],
   "source": [
    "from cqlsession import getCqlSession\n",
    "astraSession = getCqlSession()"
   ]
  },
  {
   "cell_type": "code",
   "execution_count": null,
   "id": "0c9904ab",
   "metadata": {},
   "outputs": [],
   "source": [
    "ctemplate0 = \"\"\"Please answer a question from a user.\n",
    "Keep in mind that the user's age is {user_age} and they live in a city with\n",
    "nickname {city_nickname}.\n",
    "\n",
    "USER'S QUESTION: {user_question}\n",
    "YOUR ANSWER:\n",
    "\"\"\""
   ]
  },
  {
   "cell_type": "code",
   "execution_count": null,
   "id": "7d125e28",
   "metadata": {},
   "outputs": [],
   "source": [
    "cassPrompt = createCassandraPromptTemplate(\n",
    "    session=astraSession,\n",
    "    keyspace='pqdemo',\n",
    "    template=ctemplate0,\n",
    "    input_variables=['city', 'name', 'user_question'],\n",
    "    field_mapper={\n",
    "        'user_age': ('people', 'age'),\n",
    "        'city_nickname': ('nickname_by_city', 'nickname'),\n",
    "    },\n",
    ")"
   ]
  },
  {
   "cell_type": "code",
   "execution_count": null,
   "id": "5b5ad39a",
   "metadata": {},
   "outputs": [],
   "source": [
    "print(cassPrompt.format(city='turin', name='beppe', user_question='Is functional programming fun?'))"
   ]
  },
  {
   "cell_type": "code",
   "execution_count": null,
   "id": "7f7803b2",
   "metadata": {},
   "outputs": [],
   "source": [
    "cassPartialPrompt = cassPrompt.partial(city='lisbon', name='Pedro')"
   ]
  },
  {
   "cell_type": "code",
   "execution_count": null,
   "id": "d82b4c14",
   "metadata": {},
   "outputs": [],
   "source": [
    "print(cassPartialPrompt.format(user_question='Em verdade, o que quiseres?'))"
   ]
  }
 ],
 "metadata": {
  "kernelspec": {
   "display_name": "Python 3 (ipykernel)",
   "language": "python",
   "name": "python3"
  },
  "language_info": {
   "codemirror_mode": {
    "name": "ipython",
    "version": 3
   },
   "file_extension": ".py",
   "mimetype": "text/x-python",
   "name": "python",
   "nbconvert_exporter": "python",
   "pygments_lexer": "ipython3",
   "version": "3.10.11"
  }
 },
 "nbformat": 4,
 "nbformat_minor": 5
}
