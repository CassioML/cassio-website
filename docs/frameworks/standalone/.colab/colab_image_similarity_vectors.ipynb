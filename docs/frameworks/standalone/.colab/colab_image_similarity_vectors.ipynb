{
 "cells": [
  {
   "cell_type": "markdown",
   "metadata": {},
   "source": [
    "# Image Similarity Search with Vector Database\n",
    "\n",
    "Use CassIO and Astra DB / Apache Cassandra® for similarity searches between **image samples**, powered by image embeddings and Vector Search."
   ]
  },
  {
   "cell_type": "markdown",
   "metadata": {},
   "source": [
    "## Colab-specific setup"
   ]
  },
  {
   "cell_type": "markdown",
   "metadata": {},
   "source": [
    "Make sure you have a database available. This is a Colab notebook, so here it is assumed you will use\n",
    "an Astra DB cloud instance. For usage with an Apache Cassandra® cluster, switch to a local setup\n",
    "as instructed [on cassio.org](https://cassio.org/more_info/#use-a-local-vector-capable-cassandra).\n",
    "\n",
    "Get ready to supply the connection parameters: Database ID and Token string\n",
    "(see [Pre-requisites](https://cassio.org/start_here/#vector-database) on cassio.org for details.\n",
    "Remember you need a Token with role [Database Administrator](https://awesome-astra.github.io/docs/pages/astra/create-token/)).\n",
    "\n",
    "_Note: this notebook is part of the CassIO documentation. Visit [this page on cassIO.org](https://cassio.org/frameworks/standalone/image_similarity_vectors/)._\n"
   ]
  },
  {
   "cell_type": "markdown",
   "metadata": {},
   "source": [
    "### GPU Runtime recommended\n",
    "\n",
    "The following demo runs best on a runtime of type **GPU**.\n",
    "Please open the _Runtime_ / _Change Runtime Type_ menu and make sure you see \"GPU\" under _Hardware Acceleration_.\n",
    "(it is suggested to do so right now, as a later switch would reset the kernel and lose all progress.)\n",
    "\n"
   ]
  },
  {
   "cell_type": "code",
   "execution_count": null,
   "id": "2953d95b",
   "metadata": {},
   "outputs": [],
   "source": [
    "# install required dependencies\n",
    "! pip install -q --progress-bar off \\\n",
    "    \"cassio>=0.1.3\" \\\n",
    "    \"datasets==2.13.1\" \\\n",
    "    \"gradio==3.36.1\" \\\n",
    "    \"jupyter>=1.0.0\" \\\n",
    "    \"numpy==1.24.4\" \\\n",
    "    \"panns_inference==0.1.1\" \\\n",
    "    \"python-dotenv==1.0.0\" \\\n",
    "    \"scipy>=1.10\" \\\n",
    "    \"torch==2.0.1\" \\\n",
    "    \"torchvision==0.15.2\" \n",
    "exit()"
   ]
  },
  {
   "cell_type": "markdown",
   "id": "222f44ff",
   "metadata": {},
   "source": [
    "⚠️ **Do not mind a \"Your session crashed...\" message you may see.**\n",
    "\n",
    "It was us, making sure your kernel restarts with all the correct dependency versions. _You can now proceed with the notebook._"
   ]
  },
  {
   "cell_type": "markdown",
   "metadata": {},
   "source": [
    "### DB connection parameters",
    "\n",
    "Example values (check your Astra dashboard):\n",
    "- Database ID example: `01234567-89ab-cdef-0123-456789abcdef`\n",
    "- Token example: `AstraCS:6gBhNmsk135....` (ensure it has a role of at least \"Database Administrator\")\n",
    "- _Keyspace. Optional, string if provided. Example:_ `default_keyspace`"
   ]
  },
  {
   "cell_type": "code",
   "execution_count": null,
   "metadata": {},
   "outputs": [],
   "source": [
    "import os\n",
    "from getpass import getpass\n",
    "\n",
    "# Input your Astra DB connection parameters and secrets:\n",
    "\n",
    "os.environ[\"ASTRA_DB_ID\"] = input(\"ASTRA_DB_ID = \")\n",
    "\n",
    "os.environ[\"ASTRA_DB_APPLICATION_TOKEN\"] = getpass(\"ASTRA_DB_APPLICATION_TOKEN = \")\n",
    "\n",
    "_keyspace = input(\"(Optional) ASTRA_DB_KEYSPACE = \")\n",
    "if _keyspace:\n",
    "    os.environ[\"ASTRA_DB_KEYSPACE\"] = _keyspace"
   ]
  },
  {
   "cell_type": "markdown",
   "metadata": {},
   "source": [
    "### Colab preamble completed\n",
    "\n",
    "The following cells constitute the demo notebook proper."
   ]
  },
  {
   "cell_type": "markdown",
   "id": "8ee0e82f-95fa-4efa-84e3-9873d4dcdaf1",
   "metadata": {
    "id": "8ee0e82f-95fa-4efa-84e3-9873d4dcdaf1"
   },
   "source": [
    "# Image Similarity Search with Vector Database\n",
    "\n",
    "Use CassIO and Astra DB / Apache Cassandra® for similarity searches between **image samples**, powered by image embeddings and Vector Search."
   ]
  },
  {
   "cell_type": "markdown",
   "id": "2bdb8284",
   "metadata": {
    "id": "2bdb8284"
   },
   "source": [
    "_**NOTE:** this uses Cassandra's \"Vector Similarity Search\" capability.\n",
    "Make sure you are connecting to a vector-enabled database for this demo._"
   ]
  },
  {
   "cell_type": "markdown",
   "id": "58bc1d2f-7039-4d2a-950c-ff3686013c55",
   "metadata": {
    "id": "58bc1d2f-7039-4d2a-950c-ff3686013c55"
   },
   "source": [
    "In this notebook you will:\n",
    "\n",
    "1. Download CIFAR10 dataset comprising of image samples from the `torchvision` library.\n",
    "2. Calculate image embedding vectors for them with SqueezeNet.\n",
    "3. Store the embedding vectors on a table in your Cassandra / Astra DB instance, using the `CassIO` library for ease of operation.\n",
    "4. Run one or more searches for images similar to a provided sample.\n",
    "5. Start a simple web-app that exposes a **image search** feature."
   ]
  },
  {
   "cell_type": "markdown",
   "id": "e49d8157",
   "metadata": {
    "id": "e49d8157"
   },
   "source": [
    "### Import packages"
   ]
  },
  {
   "cell_type": "markdown",
   "id": "49c18332",
   "metadata": {
    "id": "49c18332"
   },
   "source": [
    "The CassIO object needed for this demo is the `MetadataVectorCassandraTable`:"
   ]
  },
  {
   "cell_type": "code",
   "execution_count": 1,
   "id": "449f9dff",
   "metadata": {
    "id": "449f9dff"
   },
   "outputs": [],
   "source": [
    "from cassio.table import MetadataVectorCassandraTable"
   ]
  },
  {
   "cell_type": "markdown",
   "id": "25d08ec4-0e7b-4819-933f-43ed5ff95e48",
   "metadata": {
    "id": "25d08ec4-0e7b-4819-933f-43ed5ff95e48"
   },
   "source": [
    "Other packages are needed for various tasks in this demo:"
   ]
  },
  {
   "cell_type": "code",
   "execution_count": 2,
   "id": "54137e39",
   "metadata": {
    "id": "54137e39"
   },
   "outputs": [],
   "source": [
    "import os\n",
    "\n",
    "from tqdm.auto import tqdm\n",
    "import numpy as np\n",
    "from IPython.display import display\n",
    "\n",
    "# To preprocess image from various formats\n",
    "from PIL import Image\n",
    "# To download (image) files\n",
    "import requests\n",
    "# To load image dataset\n",
    "import torch\n",
    "import torchvision\n",
    "from torchvision.transforms import (\n",
    "    Compose,\n",
    "    Resize,\n",
    "    CenterCrop,\n",
    "    ToTensor,\n",
    "    Normalize\n",
    ")\n",
    "# To build an interactive UI\n",
    "import gradio\n",
    "# To plot images\n",
    "import matplotlib.pyplot as plt\n",
    "from mpl_toolkits.axes_grid1 import ImageGrid"
   ]
  },
  {
   "cell_type": "code",
   "execution_count": 3,
   "id": "01da99af-da9b-4f38-b841-d802ff23bf2f",
   "metadata": {
    "id": "01da99af-da9b-4f38-b841-d802ff23bf2f"
   },
   "outputs": [],
   "source": [
    "try:\n",
    "    from google.colab import files\n",
    "    IS_COLAB = True\n",
    "except ModuleNotFoundError:\n",
    "    IS_COLAB = False"
   ]
  },
  {
   "cell_type": "markdown",
   "id": "b7a93b64-e9e9-41d1-95c9-dc9194a5ec8d",
   "metadata": {
    "id": "b7a93b64-e9e9-41d1-95c9-dc9194a5ec8d"
   },
   "source": [
    "### Connect to your DB"
   ]
  },
  {
   "cell_type": "markdown",
   "id": "1dfb2e30",
   "metadata": {
    "id": "1dfb2e30"
   },
   "source": [
    "A database connection is needed. _(If on a Colab, the only supported option is the cloud service Astra DB.)_"
   ]
  },
  {
   "cell_type": "code",
   "execution_count": 4,
   "id": "dbd71d7d-fd25-477f-8117-1ac66ba7fe1f",
   "metadata": {},
   "outputs": [],
   "source": [
    "# Getting ready to initialize the DB connection globally ...\n",
    "import os\n",
    "\n",
    "import cassio"
   ]
  },
  {
   "cell_type": "markdown",
   "id": "c30af571-5244-4b64-8bb9-853fb80749be",
   "metadata": {},
   "source": [
    "Select your choice of database by editing this cell, if needed:"
   ]
  },
  {
   "cell_type": "code",
   "execution_count": 5,
   "id": "c32c5b16-6985-4a51-996f-5ec08f374934",
   "metadata": {},
   "outputs": [],
   "source": [
    "database_mode = \"astra_db\"  # only \"astra_db\" supported on Colab"
   ]
  },
  {
   "cell_type": "code",
   "execution_count": 6,
   "id": "09045382-f2bf-4cff-a35c-e3db0b79eeb5",
   "metadata": {},
   "outputs": [],
   "source": [
    "if database_mode == \"astra_db\":\n",
    "    cassio.init(\n",
    "        database_id=os.environ[\"ASTRA_DB_ID\"],\n",
    "        token=os.environ[\"ASTRA_DB_APPLICATION_TOKEN\"],\n",
    "        keyspace=os.environ.get(\"ASTRA_DB_KEYSPACE\"),  # this is optional\n",
    "    )"
   ]
  },
  {
   "cell_type": "code",
   "execution_count": 7,
   "id": "e84678ae-4648-4df8-b829-0e2bb467085b",
   "metadata": {},
   "outputs": [],
   "source": [
    "if database_mode == \"cassandra\":\n",
    "    # Cassandra not supported on Colab - please define your own getCassandraCQLSession/getCassandraCQLKeyspace\n",
    "    cassio.init(\n",
    "        session=getCassandraCQLSession(),\n",
    "        keyspace=getCassandraCQLKeyspace(),\n",
    "    )"
   ]
  },
  {
   "cell_type": "markdown",
   "id": "CCOnMYJoxLJw",
   "metadata": {
    "id": "CCOnMYJoxLJw"
   },
   "source": [
    "\n",
    "## Load the Data"
   ]
  },
  {
   "cell_type": "markdown",
   "id": "otdRjVbexV-V",
   "metadata": {
    "id": "otdRjVbexV-V"
   },
   "source": [
    "In this demo, you will use image samples from the [Cifar10 dataset](https://www.cs.toronto.edu/~kriz/cifar.html), a labeled collection of 60000 32x32 colour images in 10 classes, with 6000 images per class.\n",
    "\n",
    " When preparing data for the pre-trained PyTorch models, it's essential to follow transformation (preprocess) steps for better results. The input images should have three channels and be in RGB format, with dimensions of at least 224 pixels in height and width (3 x H x W). Moreover, the pixel values undergo normalization using the mean values [0.485, 0.456, 0.406] and standard deviation values [0.229, 0.224, 0.225]. These mean and std values were calculated based on the ImageNet dataset. The dataset can be loaded from the torchvision library as follows:"
   ]
  },
  {
   "cell_type": "code",
   "execution_count": 8,
   "id": "oxvng3-WLzC0",
   "metadata": {
    "id": "oxvng3-WLzC0"
   },
   "outputs": [],
   "source": [
    "preprocess = Compose([\n",
    "    Resize(256),\n",
    "    CenterCrop(224),\n",
    "    ToTensor(),\n",
    "    Normalize(mean=[0.485, 0.456, 0.406], std=[0.229, 0.224, 0.225]),\n",
    "])"
   ]
  },
  {
   "cell_type": "code",
   "execution_count": 9,
   "id": "7oWJORavxb5H",
   "metadata": {
    "id": "7oWJORavxb5H",
    "outputId": "acca8b6a-a553-4328-d564-8e2d0e4a7a30"
   },
   "outputs": [
    {
     "name": "stdout",
     "output_type": "stream",
     "text": [
      "Files already downloaded and verified\n"
     ]
    }
   ],
   "source": [
    "DATA_DIRECTORY = \"data\"\n",
    "\n",
    "datasets = {\n",
    "    \"CIFAR10\": torchvision.datasets.CIFAR10(\n",
    "        DATA_DIRECTORY,\n",
    "        transform=preprocess,\n",
    "        download=True,\n",
    "    ),\n",
    "}"
   ]
  },
  {
   "cell_type": "markdown",
   "id": "f29053bb-2144-4407-b5fc-40f0b9e9e307",
   "metadata": {},
   "source": [
    "## Display few images\n",
    "\n",
    "Each image belongs to a \"class label\". Take a look at the class labels for the images in the dataset (as found on the Cifar10 homepage):\n",
    "\n",
    "These are labels with their respective names :"
   ]
  },
  {
   "cell_type": "code",
   "execution_count": 10,
   "id": "b86f9be9-0b10-4d19-8ae9-9e45ec08ba26",
   "metadata": {},
   "outputs": [],
   "source": [
    "labels_dict = {\n",
    "    0: \"airplane\",\n",
    "    1: \"automobile\",\n",
    "    2: \"bird\",\n",
    "    3: \"cat\",\n",
    "    4: \"deer\",\n",
    "    5: \"dog\",\n",
    "    6: \"frog\",\n",
    "    7: \"horse\",\n",
    "    8: \"ship\",\n",
    "    9: \"truck\",\n",
    "}"
   ]
  },
  {
   "cell_type": "code",
   "execution_count": 11,
   "id": "HskIo3wTjhbw",
   "metadata": {
    "id": "HskIo3wTjhbw",
    "outputId": "0965d612-b8a6-4e51-b80f-4363ed25c9c5"
   },
   "outputs": [
    {
     "data": {
      "image/png": "[encoded data removed]",
      "text/plain": [
       "<Figure size 800x800 with 20 Axes>"
      ]
     },
     "metadata": {},
     "output_type": "display_data"
    }
   ],
   "source": [
    "def show_random_images_from_full_dataset(dset, num_rows=2, num_cols=5):\n",
    "    \"\"\"Show random sample of images in PyTorch dataset.\"\"\"\n",
    "    ### get random sample of images and labels\n",
    "    indices = np.random.randint(0, high=len(dset)+1, size=num_rows*num_cols)\n",
    "    im_arrays = np.take(dset.data, indices, axis=0)\n",
    "    labels = [dset.classes[dset.targets[index]] for index in indices]\n",
    "    ### plot sample\n",
    "    fig = plt.figure(figsize=(8, 8))\n",
    "    grid = ImageGrid(\n",
    "        fig,\n",
    "        111,\n",
    "        nrows_ncols=(num_rows, num_cols),\n",
    "        axes_pad=0.3)\n",
    "    for ax, im_array, label in zip(grid, im_arrays, labels):\n",
    "        ax.imshow(im_array)\n",
    "        ax.set_title(label)\n",
    "        ax.axis(\"off\")\n",
    "show_random_images_from_full_dataset(datasets[\"CIFAR10\"])"
   ]
  },
  {
   "cell_type": "markdown",
   "id": "xxf3DQVuf6B2",
   "metadata": {
    "id": "xxf3DQVuf6B2"
   },
   "source": [
    "## Select only few images from each class\n",
    "\n",
    "It generally takes around 1-2 minutes to process 500 images per class. You'll be loading 5000 images if GPU is available, otherwise a smaller number, to keep execution time under control."
   ]
  },
  {
   "cell_type": "code",
   "execution_count": 12,
   "id": "XXMERmZiD1Ho",
   "metadata": {
    "id": "XXMERmZiD1Ho",
    "outputId": "2d41717e-f49a-4512-87be-5a56396733df"
   },
   "outputs": [
    {
     "name": "stdout",
     "output_type": "stream",
     "text": [
      "\n",
      "CPU is available, hence loading 300 images per class\n",
      "Total selected images: 3000\n"
     ]
    }
   ],
   "source": [
    "GPU_AVAILABLE = torch.cuda.device_count() > 0\n",
    "\n",
    "img_per_class = 100  # You can modify the no of images per class\n",
    "n_classes = len(labels_dict)\n",
    "sel_img_map = {i: [] for i in range(n_classes)}\n",
    "labels_map = {i: [] for i in range(n_classes)}\n",
    "sel_img_arr_map = {i: [] for i in range(n_classes)}\n",
    "\n",
    "if GPU_AVAILABLE:\n",
    "    img_per_class = 500\n",
    "    print(f\"\\nGPU is available, hence loading {img_per_class} images per class\")\n",
    "else:\n",
    "    img_per_class = 300\n",
    "    print(f\"\\nCPU is available, hence loading {img_per_class} images per class\")\n",
    "\n",
    "# Iterate through each class and select a number of images\n",
    "for (img, cl_label), img_arr in zip(datasets[\"CIFAR10\"], datasets[\"CIFAR10\"].data):\n",
    "\n",
    "    # are all classes completed?\n",
    "    if all(len(ims) >= img_per_class for ims in sel_img_map.values()):\n",
    "        break\n",
    "\n",
    "    if len(sel_img_map[cl_label]) < img_per_class:\n",
    "        # add this one\n",
    "        sel_img_map[cl_label].append(img)\n",
    "        labels_map[cl_label].append(cl_label)\n",
    "        sel_img_arr_map[cl_label].append(img_arr)\n",
    "\n",
    "selected_images = []\n",
    "labels = []\n",
    "selected_img_array = []\n",
    "for cl_label in range(n_classes):\n",
    "    selected_images += sel_img_map[cl_label]\n",
    "    labels += labels_map[cl_label]\n",
    "    selected_img_array += sel_img_arr_map[cl_label]\n",
    "print(\"Total selected images:\", len(selected_images))"
   ]
  },
  {
   "cell_type": "markdown",
   "id": "97gYTdw3xt17",
   "metadata": {
    "id": "97gYTdw3xt17"
   },
   "source": [
    "## Loading a Pretrained SqueezeNet Computer Vision Model\n",
    "\n",
    "To utilize a pre-trained model provided by PyTorch, you can load it and use its output as an embedding for image data. This pre-trained model generates a sequence of floats with 1000 dimensions per input image.\n",
    "\n",
    "\n",
    "\n",
    "\n"
   ]
  },
  {
   "cell_type": "code",
   "execution_count": 13,
   "id": "X26ePde5yLaZ",
   "metadata": {
    "id": "X26ePde5yLaZ",
    "outputId": "f2e82c2d-d6f6-4899-9577-eb26f4a00e09"
   },
   "outputs": [
    {
     "name": "stdout",
     "output_type": "stream",
     "text": [
      "Loaded the image embedding model on the CPU. Reduced defaults will be used. Please consider upgrading to a GPU-powered hardware for best experience.\n"
     ]
    }
   ],
   "source": [
    "device = torch.device(\"cuda\" if torch.cuda.is_available() else \"cpu\")\n",
    "model = torchvision.models.squeezenet1_1(\n",
    "    weights=torchvision.models.SqueezeNet1_1_Weights.IMAGENET1K_V1\n",
    ").to(device).eval()\n",
    "\n",
    "if GPU_AVAILABLE:\n",
    "    print(\"Loaded the image embedding model on the GPU.\")\n",
    "else:\n",
    "    print(\n",
    "        \"Loaded the image embedding model on the CPU. Reduced defaults \"\n",
    "        \"will be used. Please consider upgrading to a GPU-powered \"\n",
    "        \"hardware for best experience.\"\n",
    "    )"
   ]
  },
  {
   "cell_type": "markdown",
   "id": "0670b30f-927f-47da-b71d-0a99092c3f58",
   "metadata": {
    "id": "0670b30f-927f-47da-b71d-0a99092c3f58"
   },
   "source": [
    "## Create a DB table through CassIO\n",
    "\n",
    "When an instance of `MetadataVectorCassandraTable` is created, CassIO takes care of the underlying database operations. An important parameter to supply is the embedding vector dimension (fixed, in this case, by the choice of the SqueezeNet model being used):"
   ]
  },
  {
   "cell_type": "code",
   "execution_count": 14,
   "id": "ENEwxldS_Vqy",
   "metadata": {
    "id": "ENEwxldS_Vqy"
   },
   "outputs": [],
   "source": [
    "table_name = \"image_table\"\n",
    "embedding_dimension = 1000\n",
    "\n",
    "v_table = MetadataVectorCassandraTable(\n",
    "    table=table_name,\n",
    "    vector_dimension=embedding_dimension,\n",
    "    primary_key_type=\"TEXT\",\n",
    ")"
   ]
  },
  {
   "cell_type": "markdown",
   "id": "N7qB3Vu-oLwb",
   "metadata": {
    "id": "N7qB3Vu-oLwb"
   },
   "source": [
    "## Preparing Vector Embeddings\n",
    "This cell will encode the downloaded images and store the associated class of each image as metadata."
   ]
  },
  {
   "cell_type": "code",
   "execution_count": 15,
   "id": "9y8Jk0cuoMVB",
   "metadata": {
    "id": "9y8Jk0cuoMVB"
   },
   "outputs": [],
   "source": [
    "def get_vector_metadata(label_indices, class_list):\n",
    "    \"\"\"Return list of {\"label\": <class name>}.\"\"\"\n",
    "    return [{\"label\": class_list[index]} for index in label_indices]\n",
    "\n",
    "# Creating Vector IDs\n",
    "# Each vector ID will have a prefix corresponding to CIFAR10\n",
    "def get_vector_ids(batch_number, batch_size, prefix):\n",
    "    \"\"\"Return vector ids.\"\"\"\n",
    "    start_index = batch_number\n",
    "    end_index = start_index + batch_size\n",
    "    ids = np.arange(start_index, end_index)\n",
    "\n",
    "    # create id based on prefix\n",
    "    # eg. if id == 5, prefix == \"CIFAR10\", then create \"CIFAR10.5\" as vector id.\n",
    "    ids_with_prefix = [f\"{prefix}.{str(x)}\" for x in ids]\n",
    "    return ids_with_prefix\n",
    "\n",
    "\n",
    "def get_vectors_from_batch(data_processed, label_indices,batch_number, dataset):\n",
    "    \"\"\"Return list of tuples like (vector_id, vector_values, vector_metadata).\"\"\"\n",
    "    num_records = len(data_processed)\n",
    "    prefix = dataset.__class__.__name__\n",
    "    with torch.no_grad():\n",
    "        # generate image embeddings with PyTorch model\n",
    "        vector_values = model(data_processed).tolist()\n",
    "    # return respective IDs/metadata for each image embedding\n",
    "    vector_metadata = get_vector_metadata(label_indices, dataset.classes)\n",
    "    vector_ids = get_vector_ids(batch_number, num_records, prefix)\n",
    "    return list(zip(vector_ids, vector_values, vector_metadata))\n",
    "\n",
    "dataset = datasets[\"CIFAR10\"]\n",
    "# Move the data to the respective device\n",
    "preprocessed_data = torch.stack(selected_images).to(device)"
   ]
  },
  {
   "cell_type": "markdown",
   "id": "c1fe256f-9efb-41f0-8803-d99696c6089b",
   "metadata": {
    "id": "c1fe256f-9efb-41f0-8803-d99696c6089b"
   },
   "source": [
    "## Compute and store embedding vectors for images\n",
    "\n",
    "This cell processes the image samples you just loaded. By working in batches, the embedding vectors are evaluated through the SqueezeNet model, and the result is stored in the Cassandra / Astra DB table by invoking the `put_async` method of `MetadataVectorCassandraTable`.\n",
    "\n",
    "_Note: this operation may take **a couple of minutes or so** (depending on whether you are on a CPU or GPU and your hardware specs)._"
   ]
  },
  {
   "cell_type": "code",
   "execution_count": 16,
   "id": "nTJge6DiP4RV",
   "metadata": {
    "id": "nTJge6DiP4RV",
    "outputId": "c51c14bc-e54e-4ec9-e277-90bb269b6636"
   },
   "outputs": [],
   "source": [
    "BATCH_SIZE = 100\n",
    "SAMPLES_TO_PROCESS = len(selected_images)\n",
    "\n",
    "for i in tqdm(range(0, SAMPLES_TO_PROCESS, BATCH_SIZE)):\n",
    "    # Find end of batch\n",
    "    i_end = min(i + BATCH_SIZE, SAMPLES_TO_PROCESS)\n",
    "    # Generate embeddings for all the images in the batch\n",
    "    # with the corresponding vector id and metadata lists\n",
    "    batch_vectors = get_vectors_from_batch(\n",
    "        preprocessed_data[i:i_end],\n",
    "        labels[i:i_end],\n",
    "        i,\n",
    "        dataset,\n",
    "    )\n",
    "\n",
    "    # Insert all entries in the batch concurrently\n",
    "    futures = []\n",
    "    for vector_id, embedding, metadata in batch_vectors:\n",
    "        metadata = metadata\n",
    "        futures.append(v_table.put_async(\n",
    "            row_id=vector_id,\n",
    "            vector=embedding,\n",
    "            body_blob=vector_id,\n",
    "            metadata=metadata,\n",
    "        ))\n",
    "    for future in futures:\n",
    "        future.result()"
   ]
  },
  {
   "cell_type": "markdown",
   "id": "JiainTLa1U1q",
   "metadata": {
    "id": "JiainTLa1U1q"
   },
   "source": [
    "## Run a similarity search\n",
    "\n",
    "You will now obtain a new image file and search for samples similar to it."
   ]
  },
  {
   "cell_type": "markdown",
   "id": "1407bfce",
   "metadata": {
    "id": "1407bfce"
   },
   "source": [
    "Get the image of a ship as:"
   ]
  },
  {
   "cell_type": "code",
   "execution_count": 17,
   "id": "ge8HGNwJ0bDB",
   "metadata": {
    "id": "ge8HGNwJ0bDB",
    "outputId": "a782897a-02b0-469f-ee2c-a2121bb30d67"
   },
   "outputs": [
    {
     "name": "stdout",
     "output_type": "stream",
     "text": [
      "A sample image\n"
     ]
    },
    {
     "data": {
      "image/jpeg": "[encoded data removed]",
      "image/png": "[encoded data removed]",
      "text/plain": [
       "<PIL.Image.Image image mode=RGB size=125x125>"
      ]
     },
     "execution_count": 17,
     "metadata": {},
     "output_type": "execute_result"
    }
   ],
   "source": [
    "url = \"https://www.cs.toronto.edu/~kriz/cifar-10-sample/ship1.png\"\n",
    "r = requests.get(url, stream=True)\n",
    "input_image = Image.open(r.raw)\n",
    "print(\"A sample image\")\n",
    "input_image.resize((125, 125))"
   ]
  },
  {
   "cell_type": "markdown",
   "id": "8yUPkZ1DuSHX",
   "metadata": {
    "id": "8yUPkZ1DuSHX"
   },
   "source": [
    "In order to run the search, first get the embedding vector for the input file, then use it to run a similarity search on the CassIO `MetadataVectorCassandraTable`:"
   ]
  },
  {
   "cell_type": "code",
   "execution_count": 18,
   "id": "046f7a81-b335-4f3b-8aa5-b1cccc2b2ec4",
   "metadata": {},
   "outputs": [],
   "source": [
    "def display_top_5_matches(matches, im_array_indices, im_label_list):\n",
    "    ### plot matching results\n",
    "    fig = plt.figure(figsize=(8, 8))\n",
    "    grid = ImageGrid(\n",
    "        fig,\n",
    "        111,\n",
    "        nrows_ncols=(1, 5),\n",
    "        axes_pad=0.3\n",
    "    )\n",
    "\n",
    "    for ax,im_array_index,im_label in zip(grid, im_array_indices, im_label_list):\n",
    "        ax.imshow(selected_img_array[im_array_index])\n",
    "        ax.set_title(im_label)\n",
    "        ax.axis(\"off\")"
   ]
  },
  {
   "cell_type": "code",
   "execution_count": 19,
   "id": "xwf3xsh40523",
   "metadata": {
    "id": "xwf3xsh40523",
    "outputId": "4f6dd30a-998e-463f-e537-f86c0f751391"
   },
   "outputs": [
    {
     "name": "stdout",
     "output_type": "stream",
     "text": [
      "Match 0: CIFAR10.2409 (label: ship, distance: 0.9867)\n",
      "Match 1: CIFAR10.2653 (label: ship, distance: 0.9851)\n",
      "Match 2: CIFAR10.2401 (label: ship, distance: 0.9835)\n",
      "Match 3: CIFAR10.2524 (label: ship, distance: 0.9831)\n",
      "Match 4: CIFAR10.91 (label: airplane, distance: 0.9830)\n"
     ]
    },
    {
     "data": {
      "image/png": "[encoded data removed]",
      "text/plain": [
       "<Figure size 800x800 with 10 Axes>"
      ]
     },
     "metadata": {},
     "output_type": "display_data"
    }
   ],
   "source": [
    "query_embedding = model(\n",
    "    preprocess(input_image).unsqueeze(0).to(device)\n",
    ").tolist()[0]\n",
    "\n",
    "matches = v_table.metric_ann_search(\n",
    "        vector=query_embedding,\n",
    "        n=5,\n",
    "        metric=\"cos\",\n",
    "    )\n",
    "\n",
    "im_array_indices = []\n",
    "im_label_list = []\n",
    "# Show the top 5 matching results\n",
    "for match_i, match in enumerate(matches):\n",
    "      print(f\"Match {match_i}: {match['body_blob']} \", end=\"\")\n",
    "      print(f\"(label: {match['metadata']['label']}, \", end=\"\")\n",
    "      print(f\"distance: {match['distance']:.4f})\")\n",
    "      image_id=match[\"body_blob\"].split(\".\")\n",
    "      im_array_indices.append(int(image_id[1]))\n",
    "      im_label_list.append(match[\"metadata\"][\"label\"])\n",
    "\n",
    "display_top_5_matches(matches, im_array_indices, im_label_list)"
   ]
  },
  {
   "cell_type": "markdown",
   "id": "3-5Y0en3tPb0",
   "metadata": {
    "id": "3-5Y0en3tPb0"
   },
   "source": [
    "## Experiment with your own image file\n",
    "\n",
    "In this section, you can supply any image file of your own to have a bit of fun.\n",
    "\n",
    "While you're at it, do a bit of refactoring of the image processing steps:"
   ]
  },
  {
   "cell_type": "code",
   "execution_count": 20,
   "id": "0ed14d9c",
   "metadata": {
    "id": "0ed14d9c"
   },
   "outputs": [],
   "source": [
    "def upload_image(filepath):\n",
    "    loaded_image = Image.open(filepath)\n",
    "    loaded_image = loaded_image.resize((125, 125))\n",
    "    return loaded_image\n",
    "\n",
    "def image_similarity_search(supplied_image, top_k=5):\n",
    "    # get the embeddings for the image from the model\n",
    "    supplied_image_embedding = model(\n",
    "        preprocess(supplied_image).unsqueeze(0).to(device)\n",
    "    ).tolist()[0]\n",
    "    # print((supplied_image_embedding))\n",
    "    matches = v_table.metric_ann_search(\n",
    "        vector=supplied_image_embedding,\n",
    "        n=top_k,\n",
    "        metric=\"cos\",\n",
    "    )\n",
    "    return matches"
   ]
  },
  {
   "cell_type": "markdown",
   "id": "19afe047",
   "metadata": {
    "id": "19afe047"
   },
   "source": [
    "Now try providing an image file of yours (skip this part if you want):"
   ]
  },
  {
   "cell_type": "code",
   "execution_count": null,
   "id": "cYnpzEN3tVlh",
   "metadata": {
    "id": "cYnpzEN3tVlh",
    "outputId": "ce6ad40a-d41e-4d47-e13f-1ad03bcf909e"
   },
   "outputs": [],
   "source": [
    "from PIL import Image\n",
    "\n",
    "if IS_COLAB:\n",
    "    print(\"Please upload an image file from your computer: \")\n",
    "    uploaded = files.upload()\n",
    "    img_file_title = list(uploaded.keys())[0]\n",
    "    img_filepath = os.path.join(os.getcwd(), img_file_title)\n",
    "else:\n",
    "    img_filepath = input(\"Please provide the full path to the image file: \")\n",
    "\n",
    "supplied_image = upload_image(img_filepath)\n",
    "upload_array_indices = []\n",
    "upload_label_list = []\n",
    "# Convert the image to RGB mode (removing alpha channel if present)\n",
    "rgb_image = supplied_image.convert(\"RGB\")\n",
    "print(\"Your query image:\")\n",
    "display(rgb_image)\n",
    "\n",
    "matches = image_similarity_search(rgb_image, top_k=3)\n",
    "for match_i, match  in enumerate(matches):\n",
    "    # Show the top 5 matching results\n",
    "    print(f\"Match {match_i}: {match['body_blob']} \", end=\"\")\n",
    "    print(f\"(label: {match['metadata']['label']}, \", end=\"\")\n",
    "    print(f\"distance: {match['distance']:.4f})\")\n",
    "    image_id = match[\"body_blob\"].split(\".\")\n",
    "    upload_array_indices.append(int(image_id[1]))\n",
    "    upload_label_list.append(match[\"metadata\"][\"label\"])\n",
    "\n",
    "print(\"Similar images:\")\n",
    "display_top_5_matches(matches, upload_array_indices, upload_label_list)"
   ]
  },
  {
   "cell_type": "markdown",
   "id": "yXwEwwWmcs8E",
   "metadata": {
    "id": "yXwEwwWmcs8E"
   },
   "source": [
    "## Image Similarity Web App\n",
    "\n",
    "The following cells set up and launch a simple application, powered by [Gradio](https://www.gradio.app/), demonstrating the image similarity search seen so far.\n",
    "\n",
    "In its essence, Gradio makes it easy to expose a graphical interface around the following function, built using the components seen earlier, that accepts a user-provided image as input and returns a number of results from the library, found by similarity."
   ]
  },
  {
   "cell_type": "code",
   "execution_count": null,
   "id": "d6a2df13",
   "metadata": {
    "id": "d6a2df13"
   },
   "outputs": [],
   "source": [
    "NUM_RESULT_WIDGETS = 5\n",
    "\n",
    "def gradio_upload_image(input_image):\n",
    "    if input_image is not None:\n",
    "        found_images = []\n",
    "        # Convert the NumPy array to a PIL Image\n",
    "        pil_image = Image.fromarray(input_image)\n",
    "        matches = image_similarity_search(pil_image, top_k=5)\n",
    "        for match_i, match  in enumerate(matches):\n",
    "            # Show the top 5 matching results\n",
    "            image_id = match[\"body_blob\"].split(\".\")\n",
    "            found_images.append(selected_img_array[int(image_id[1])])\n",
    "            plt.imshow(selected_img_array[int(image_id[1])])\n",
    "    else:\n",
    "        found_images = []\n",
    "    # pad the result in any case to the number of displayed widgets\n",
    "    return found_images + [None] * (NUM_RESULT_WIDGETS-len(found_images))"
   ]
  },
  {
   "cell_type": "markdown",
   "id": "qmwv1HnlAt3x",
   "metadata": {
    "id": "qmwv1HnlAt3x"
   },
   "source": [
    "The next cell starts the Gradio app: click on the URL that will be displayed to open it.\n",
    "\n",
    "Please keep in mind that:\n",
    "\n",
    "- The cell will keep running as long as the UI is running. **Interrupt the notebook kernel to regain control** (e.g. to modify and re-launch, or execute other cells, etc).\n",
    "- The cell output will give both a local URL to access the application, and an URL such as `https://<....>.gradio.live` to reach it from anywhere. **Use the latter link from Colab and when sharing with others**. _(The link will expire after a certain time.)_\n",
    "- The UI will also be shown within the notebook below the cell."
   ]
  },
  {
   "cell_type": "code",
   "execution_count": null,
   "id": "a47be7d5",
   "metadata": {
    "id": "a47be7d5",
    "outputId": "95d2ce05-d798-481c-d378-0bbeda9aa26f"
   },
   "outputs": [],
   "source": [
    "# Define the dimensions for output images\n",
    "output_width = 300\n",
    "output_height = 200\n",
    "\n",
    "image_ui = gradio.Interface(\n",
    "    fn=gradio_upload_image,\n",
    "    inputs=gradio.components.Image(label=\"Your query image\"),\n",
    "    outputs=[\n",
    "        gradio.components.Image(label=f\"Search result #{output_i}\",\n",
    "        width=output_width, height=output_height)\n",
    "        for output_i in range(NUM_RESULT_WIDGETS)\n",
    "    ],\n",
    "    title=\"Image Similarity Search with CassIO & Vector Database\",\n",
    ")\n",
    "image_ui.launch(share=True, debug=True)"
   ]
  },
  {
   "cell_type": "markdown",
   "metadata": {},
   "source": [
    "## What now?\n",
    "\n",
    "This demo is hosted [here](https://cassio.org/frameworks/standalone/image_similarity_vectors/) at cassio.org.\n",
    "\n",
    "Discover the other ways you can integrate \n",
    "Cassandra/Astra DB with your ML/GenAI needs,\n",
    "right **within [your favorite framework](https://cassio.org/frameworks/standalone/about/)**."
   ]
  }
 ],
 "metadata": {
  "colab": {
   "collapsed_sections": [
    "e49d8157"
   ],
   "gpuType": "T4",
   "provenance": [],
   "toc_visible": true
  },
  "kernelspec": {
   "display_name": "Python 3 (ipykernel)",
   "language": "python",
   "name": "python3"
  },
  "language_info": {
   "codemirror_mode": {
    "name": "ipython",
    "version": 3
   },
   "file_extension": ".py",
   "mimetype": "text/x-python",
   "name": "python",
   "nbconvert_exporter": "python",
   "pygments_lexer": "ipython3"
  }
 },
 "nbformat": 4,
 "nbformat_minor": 5
}
