{
 "cells": [
  {
   "cell_type": "markdown",
   "id": "VVNIPhGMhtlJ",
   "metadata": {
    "id": "VVNIPhGMhtlJ"
   },
   "source": [
    "# Image Similarity Search with Vector Database\n",
    "\n",
    "Use CassIO and Astra DB / Apache Cassandra® for similarity searches between **image samples**, powered by image embeddings and Vector Search."
   ]
  },
  {
   "cell_type": "markdown",
   "id": "pAvI2geHhtlP",
   "metadata": {
    "id": "pAvI2geHhtlP"
   },
   "source": [
    "## Colab-specific setup"
   ]
  },
  {
   "cell_type": "markdown",
   "id": "XD3qmZfqhtlQ",
   "metadata": {
    "id": "XD3qmZfqhtlQ"
   },
   "source": [
    "Make sure you have a Database and get ready to upload the Secure Connect Bundle and supply the Token string\n",
    "(see [Pre-requisites](https://cassio.org/start_here/#vector-database) on cassio.org for details. Remember you need a **custom Token** with role [Database Administrator](https://awesome-astra.github.io/docs/pages/astra/create-token/)).\n",
    "\n",
    "_Note: this notebook is part of the CassIO documentation. Visit [this page on cassIO.org](https://cassio.org/frameworks/direct_cassio/sound_similarity_vectors/)._\n"
   ]
  },
  {
   "cell_type": "markdown",
   "id": "nluekIlahtlR",
   "metadata": {
    "id": "nluekIlahtlR"
   },
   "source": [
    "## Colab-specific setup"
   ]
  },
  {
   "cell_type": "markdown",
   "id": "u5tzkTFVhtlS",
   "metadata": {
    "id": "u5tzkTFVhtlS"
   },
   "source": [
    "### GPU Runtime recommended\n",
    "\n",
    "The following demo runs best on a runtime of type **GPU**.\n",
    "Please open the _Runtime_ / _Change Runtime Type_ menu and make sure you see \"GPU\" under _Hardware Acceleration_.\n",
    "(it is suggested to do so right now, as a later switch would reset the kernel and lose all progress.)\n",
    "\n"
   ]
  },
  {
   "cell_type": "code",
   "execution_count": 24,
   "id": "2953d95b",
   "metadata": {
    "id": "2953d95b",
    "outputId": "17048e9f-c34d-4420-c756-ccc636b909aa"
   },
   "outputs": [
    {
     "name": "stdout",
     "output_type": "stream",
     "text": [
      "Requirement already satisfied: cassio==0.0.7 in /usr/local/lib/python3.10/dist-packages (0.0.7)\n",
      "Requirement already satisfied: torchvision==0.15.2 in /usr/local/lib/python3.10/dist-packages (0.15.2+cu118)\n",
      "Requirement already satisfied: gradio==3.36.1 in /usr/local/lib/python3.10/dist-packages (3.36.1)\n",
      "Requirement already satisfied: jupyter>=1.0.0 in /usr/local/lib/python3.10/dist-packages (1.0.0)\n",
      "Requirement already satisfied: numpy==1.24.4 in /usr/local/lib/python3.10/dist-packages (1.24.4)\n",
      "Requirement already satisfied: python-dotenv==1.0.0 in /usr/local/lib/python3.10/dist-packages (1.0.0)\n",
      "Requirement already satisfied: torch==2.0.1 in /usr/local/lib/python3.10/dist-packages (2.0.1+cu118)\n",
      "Requirement already satisfied: cassandra-driver>=3.28.0 in /usr/local/lib/python3.10/dist-packages (from cassio==0.0.7) (3.28.0)\n",
      "Requirement already satisfied: requests in /usr/local/lib/python3.10/dist-packages (from torchvision==0.15.2) (2.27.1)\n",
      "Requirement already satisfied: pillow!=8.3.*,>=5.3.0 in /usr/local/lib/python3.10/dist-packages (from torchvision==0.15.2) (9.4.0)\n",
      "Requirement already satisfied: aiofiles in /usr/local/lib/python3.10/dist-packages (from gradio==3.36.1) (23.1.0)\n",
      "Requirement already satisfied: aiohttp in /usr/local/lib/python3.10/dist-packages (from gradio==3.36.1) (3.8.5)\n",
      "Requirement already satisfied: altair>=4.2.0 in /usr/local/lib/python3.10/dist-packages (from gradio==3.36.1) (4.2.2)\n",
      "Requirement already satisfied: fastapi in /usr/local/lib/python3.10/dist-packages (from gradio==3.36.1) (0.100.1)\n",
      "Requirement already satisfied: ffmpy in /usr/local/lib/python3.10/dist-packages (from gradio==3.36.1) (0.3.1)\n",
      "Requirement already satisfied: gradio-client>=0.2.7 in /usr/local/lib/python3.10/dist-packages (from gradio==3.36.1) (0.3.0)\n",
      "Requirement already satisfied: httpx in /usr/local/lib/python3.10/dist-packages (from gradio==3.36.1) (0.24.1)\n",
      "Requirement already satisfied: huggingface-hub>=0.14.0 in /usr/local/lib/python3.10/dist-packages (from gradio==3.36.1) (0.16.4)\n",
      "Requirement already satisfied: jinja2 in /usr/local/lib/python3.10/dist-packages (from gradio==3.36.1) (3.1.2)\n",
      "Requirement already satisfied: markdown-it-py[linkify]>=2.0.0 in /usr/local/lib/python3.10/dist-packages (from gradio==3.36.1) (2.2.0)\n",
      "Requirement already satisfied: markupsafe in /usr/local/lib/python3.10/dist-packages (from gradio==3.36.1) (2.1.3)\n",
      "Requirement already satisfied: matplotlib in /usr/local/lib/python3.10/dist-packages (from gradio==3.36.1) (3.7.1)\n",
      "Requirement already satisfied: mdit-py-plugins<=0.3.3 in /usr/local/lib/python3.10/dist-packages (from gradio==3.36.1) (0.3.3)\n",
      "Requirement already satisfied: orjson in /usr/local/lib/python3.10/dist-packages (from gradio==3.36.1) (3.9.2)\n",
      "Requirement already satisfied: pandas in /usr/local/lib/python3.10/dist-packages (from gradio==3.36.1) (1.5.3)\n",
      "Requirement already satisfied: pydantic in /usr/local/lib/python3.10/dist-packages (from gradio==3.36.1) (1.10.12)\n",
      "Requirement already satisfied: pydub in /usr/local/lib/python3.10/dist-packages (from gradio==3.36.1) (0.25.1)\n",
      "Requirement already satisfied: pygments>=2.12.0 in /usr/local/lib/python3.10/dist-packages (from gradio==3.36.1) (2.14.0)\n",
      "Requirement already satisfied: python-multipart in /usr/local/lib/python3.10/dist-packages (from gradio==3.36.1) (0.0.6)\n",
      "Requirement already satisfied: pyyaml in /usr/local/lib/python3.10/dist-packages (from gradio==3.36.1) (6.0.1)\n",
      "Requirement already satisfied: semantic-version in /usr/local/lib/python3.10/dist-packages (from gradio==3.36.1) (2.10.0)\n",
      "Requirement already satisfied: uvicorn>=0.14.0 in /usr/local/lib/python3.10/dist-packages (from gradio==3.36.1) (0.23.2)\n",
      "Requirement already satisfied: websockets>=10.0 in /usr/local/lib/python3.10/dist-packages (from gradio==3.36.1) (11.0.3)\n",
      "Requirement already satisfied: filelock in /usr/local/lib/python3.10/dist-packages (from torch==2.0.1) (3.12.2)\n",
      "Requirement already satisfied: typing-extensions in /usr/local/lib/python3.10/dist-packages (from torch==2.0.1) (4.7.1)\n",
      "Requirement already satisfied: sympy in /usr/local/lib/python3.10/dist-packages (from torch==2.0.1) (1.11.1)\n",
      "Requirement already satisfied: networkx in /usr/local/lib/python3.10/dist-packages (from torch==2.0.1) (3.1)\n",
      "Requirement already satisfied: triton==2.0.0 in /usr/local/lib/python3.10/dist-packages (from torch==2.0.1) (2.0.0)\n",
      "Requirement already satisfied: cmake in /usr/local/lib/python3.10/dist-packages (from triton==2.0.0->torch==2.0.1) (3.25.2)\n",
      "Requirement already satisfied: lit in /usr/local/lib/python3.10/dist-packages (from triton==2.0.0->torch==2.0.1) (16.0.6)\n",
      "Requirement already satisfied: notebook in /usr/local/lib/python3.10/dist-packages (from jupyter>=1.0.0) (6.4.8)\n",
      "Requirement already satisfied: qtconsole in /usr/local/lib/python3.10/dist-packages (from jupyter>=1.0.0) (5.4.3)\n",
      "Requirement already satisfied: jupyter-console in /usr/local/lib/python3.10/dist-packages (from jupyter>=1.0.0) (6.1.0)\n",
      "Requirement already satisfied: nbconvert in /usr/local/lib/python3.10/dist-packages (from jupyter>=1.0.0) (6.5.4)\n",
      "Requirement already satisfied: ipykernel in /usr/local/lib/python3.10/dist-packages (from jupyter>=1.0.0) (5.5.6)\n",
      "Requirement already satisfied: ipywidgets in /usr/local/lib/python3.10/dist-packages (from jupyter>=1.0.0) (7.7.1)\n",
      "Requirement already satisfied: entrypoints in /usr/local/lib/python3.10/dist-packages (from altair>=4.2.0->gradio==3.36.1) (0.4)\n",
      "Requirement already satisfied: jsonschema>=3.0 in /usr/local/lib/python3.10/dist-packages (from altair>=4.2.0->gradio==3.36.1) (4.3.3)\n",
      "Requirement already satisfied: toolz in /usr/local/lib/python3.10/dist-packages (from altair>=4.2.0->gradio==3.36.1) (0.12.0)\n",
      "Requirement already satisfied: six>=1.9 in /usr/local/lib/python3.10/dist-packages (from cassandra-driver>=3.28.0->cassio==0.0.7) (1.16.0)\n",
      "Requirement already satisfied: geomet<0.3,>=0.1 in /usr/local/lib/python3.10/dist-packages (from cassandra-driver>=3.28.0->cassio==0.0.7) (0.2.1.post1)\n",
      "Requirement already satisfied: fsspec in /usr/local/lib/python3.10/dist-packages (from gradio-client>=0.2.7->gradio==3.36.1) (2023.6.0)\n",
      "Requirement already satisfied: packaging in /usr/local/lib/python3.10/dist-packages (from gradio-client>=0.2.7->gradio==3.36.1) (23.1)\n",
      "Requirement already satisfied: tqdm>=4.42.1 in /usr/local/lib/python3.10/dist-packages (from huggingface-hub>=0.14.0->gradio==3.36.1) (4.65.0)\n",
      "Requirement already satisfied: mdurl~=0.1 in /usr/local/lib/python3.10/dist-packages (from markdown-it-py[linkify]>=2.0.0->gradio==3.36.1) (0.1.2)\n",
      "Requirement already satisfied: linkify-it-py<3,>=1 in /usr/local/lib/python3.10/dist-packages (from markdown-it-py[linkify]>=2.0.0->gradio==3.36.1) (2.0.2)\n",
      "Requirement already satisfied: python-dateutil>=2.8.1 in /usr/local/lib/python3.10/dist-packages (from pandas->gradio==3.36.1) (2.8.2)\n",
      "Requirement already satisfied: pytz>=2020.1 in /usr/local/lib/python3.10/dist-packages (from pandas->gradio==3.36.1) (2022.7.1)\n",
      "Requirement already satisfied: urllib3<1.27,>=1.21.1 in /usr/local/lib/python3.10/dist-packages (from requests->torchvision==0.15.2) (1.26.16)\n",
      "Requirement already satisfied: certifi>=2017.4.17 in /usr/local/lib/python3.10/dist-packages (from requests->torchvision==0.15.2) (2023.7.22)\n",
      "Requirement already satisfied: charset-normalizer~=2.0.0 in /usr/local/lib/python3.10/dist-packages (from requests->torchvision==0.15.2) (2.0.12)\n",
      "Requirement already satisfied: idna<4,>=2.5 in /usr/local/lib/python3.10/dist-packages (from requests->torchvision==0.15.2) (3.4)\n",
      "Requirement already satisfied: click>=7.0 in /usr/local/lib/python3.10/dist-packages (from uvicorn>=0.14.0->gradio==3.36.1) (8.1.6)\n",
      "Requirement already satisfied: h11>=0.8 in /usr/local/lib/python3.10/dist-packages (from uvicorn>=0.14.0->gradio==3.36.1) (0.14.0)\n",
      "Requirement already satisfied: attrs>=17.3.0 in /usr/local/lib/python3.10/dist-packages (from aiohttp->gradio==3.36.1) (23.1.0)\n",
      "Requirement already satisfied: multidict<7.0,>=4.5 in /usr/local/lib/python3.10/dist-packages (from aiohttp->gradio==3.36.1) (6.0.4)\n",
      "Requirement already satisfied: async-timeout<5.0,>=4.0.0a3 in /usr/local/lib/python3.10/dist-packages (from aiohttp->gradio==3.36.1) (4.0.2)\n",
      "Requirement already satisfied: yarl<2.0,>=1.0 in /usr/local/lib/python3.10/dist-packages (from aiohttp->gradio==3.36.1) (1.9.2)\n",
      "Requirement already satisfied: frozenlist>=1.1.1 in /usr/local/lib/python3.10/dist-packages (from aiohttp->gradio==3.36.1) (1.4.0)\n",
      "Requirement already satisfied: aiosignal>=1.1.2 in /usr/local/lib/python3.10/dist-packages (from aiohttp->gradio==3.36.1) (1.3.1)\n",
      "Requirement already satisfied: starlette<0.28.0,>=0.27.0 in /usr/local/lib/python3.10/dist-packages (from fastapi->gradio==3.36.1) (0.27.0)\n",
      "Requirement already satisfied: httpcore<0.18.0,>=0.15.0 in /usr/local/lib/python3.10/dist-packages (from httpx->gradio==3.36.1) (0.17.3)\n",
      "Requirement already satisfied: sniffio in /usr/local/lib/python3.10/dist-packages (from httpx->gradio==3.36.1) (1.3.0)\n",
      "Requirement already satisfied: ipython-genutils in /usr/local/lib/python3.10/dist-packages (from ipykernel->jupyter>=1.0.0) (0.2.0)\n",
      "Requirement already satisfied: ipython>=5.0.0 in /usr/local/lib/python3.10/dist-packages (from ipykernel->jupyter>=1.0.0) (7.34.0)\n",
      "Requirement already satisfied: traitlets>=4.1.0 in /usr/local/lib/python3.10/dist-packages (from ipykernel->jupyter>=1.0.0) (5.7.1)\n",
      "Requirement already satisfied: jupyter-client in /usr/local/lib/python3.10/dist-packages (from ipykernel->jupyter>=1.0.0) (6.1.12)\n",
      "Requirement already satisfied: tornado>=4.2 in /usr/local/lib/python3.10/dist-packages (from ipykernel->jupyter>=1.0.0) (6.3.1)\n",
      "Requirement already satisfied: widgetsnbextension~=3.6.0 in /usr/local/lib/python3.10/dist-packages (from ipywidgets->jupyter>=1.0.0) (3.6.4)\n",
      "Requirement already satisfied: jupyterlab-widgets>=1.0.0 in /usr/local/lib/python3.10/dist-packages (from ipywidgets->jupyter>=1.0.0) (3.0.8)\n",
      "Requirement already satisfied: prompt-toolkit!=3.0.0,!=3.0.1,<3.1.0,>=2.0.0 in /usr/local/lib/python3.10/dist-packages (from jupyter-console->jupyter>=1.0.0) (3.0.39)\n",
      "Requirement already satisfied: contourpy>=1.0.1 in /usr/local/lib/python3.10/dist-packages (from matplotlib->gradio==3.36.1) (1.1.0)\n",
      "Requirement already satisfied: cycler>=0.10 in /usr/local/lib/python3.10/dist-packages (from matplotlib->gradio==3.36.1) (0.11.0)\n",
      "Requirement already satisfied: fonttools>=4.22.0 in /usr/local/lib/python3.10/dist-packages (from matplotlib->gradio==3.36.1) (4.41.1)\n",
      "Requirement already satisfied: kiwisolver>=1.0.1 in /usr/local/lib/python3.10/dist-packages (from matplotlib->gradio==3.36.1) (1.4.4)\n",
      "Requirement already satisfied: pyparsing>=2.3.1 in /usr/local/lib/python3.10/dist-packages (from matplotlib->gradio==3.36.1) (3.1.0)\n",
      "Requirement already satisfied: lxml in /usr/local/lib/python3.10/dist-packages (from nbconvert->jupyter>=1.0.0) (4.9.3)\n",
      "Requirement already satisfied: beautifulsoup4 in /usr/local/lib/python3.10/dist-packages (from nbconvert->jupyter>=1.0.0) (4.11.2)\n",
      "Requirement already satisfied: bleach in /usr/local/lib/python3.10/dist-packages (from nbconvert->jupyter>=1.0.0) (6.0.0)\n",
      "Requirement already satisfied: defusedxml in /usr/local/lib/python3.10/dist-packages (from nbconvert->jupyter>=1.0.0) (0.7.1)\n",
      "Requirement already satisfied: jupyter-core>=4.7 in /usr/local/lib/python3.10/dist-packages (from nbconvert->jupyter>=1.0.0) (5.3.1)\n",
      "Requirement already satisfied: jupyterlab-pygments in /usr/local/lib/python3.10/dist-packages (from nbconvert->jupyter>=1.0.0) (0.2.2)\n",
      "Requirement already satisfied: mistune<2,>=0.8.1 in /usr/local/lib/python3.10/dist-packages (from nbconvert->jupyter>=1.0.0) (0.8.4)\n",
      "Requirement already satisfied: nbclient>=0.5.0 in /usr/local/lib/python3.10/dist-packages (from nbconvert->jupyter>=1.0.0) (0.8.0)\n",
      "Requirement already satisfied: nbformat>=5.1 in /usr/local/lib/python3.10/dist-packages (from nbconvert->jupyter>=1.0.0) (5.9.1)\n",
      "Requirement already satisfied: pandocfilters>=1.4.1 in /usr/local/lib/python3.10/dist-packages (from nbconvert->jupyter>=1.0.0) (1.5.0)\n",
      "Requirement already satisfied: tinycss2 in /usr/local/lib/python3.10/dist-packages (from nbconvert->jupyter>=1.0.0) (1.2.1)\n",
      "Requirement already satisfied: pyzmq>=17 in /usr/local/lib/python3.10/dist-packages (from notebook->jupyter>=1.0.0) (23.2.1)\n",
      "Requirement already satisfied: argon2-cffi in /usr/local/lib/python3.10/dist-packages (from notebook->jupyter>=1.0.0) (21.3.0)\n",
      "Requirement already satisfied: nest-asyncio>=1.5 in /usr/local/lib/python3.10/dist-packages (from notebook->jupyter>=1.0.0) (1.5.6)\n",
      "Requirement already satisfied: Send2Trash>=1.8.0 in /usr/local/lib/python3.10/dist-packages (from notebook->jupyter>=1.0.0) (1.8.2)\n",
      "Requirement already satisfied: terminado>=0.8.3 in /usr/local/lib/python3.10/dist-packages (from notebook->jupyter>=1.0.0) (0.17.1)\n",
      "Requirement already satisfied: prometheus-client in /usr/local/lib/python3.10/dist-packages (from notebook->jupyter>=1.0.0) (0.17.1)\n",
      "Requirement already satisfied: qtpy>=2.0.1 in /usr/local/lib/python3.10/dist-packages (from qtconsole->jupyter>=1.0.0) (2.3.1)\n",
      "Requirement already satisfied: mpmath>=0.19 in /usr/local/lib/python3.10/dist-packages (from sympy->torch==2.0.1) (1.3.0)\n",
      "Requirement already satisfied: anyio<5.0,>=3.0 in /usr/local/lib/python3.10/dist-packages (from httpcore<0.18.0,>=0.15.0->httpx->gradio==3.36.1) (3.7.1)\n",
      "Requirement already satisfied: setuptools>=18.5 in /usr/local/lib/python3.10/dist-packages (from ipython>=5.0.0->ipykernel->jupyter>=1.0.0) (67.7.2)\n",
      "Requirement already satisfied: jedi>=0.16 in /usr/local/lib/python3.10/dist-packages (from ipython>=5.0.0->ipykernel->jupyter>=1.0.0) (0.19.0)\n",
      "Requirement already satisfied: decorator in /usr/local/lib/python3.10/dist-packages (from ipython>=5.0.0->ipykernel->jupyter>=1.0.0) (4.4.2)\n",
      "Requirement already satisfied: pickleshare in /usr/local/lib/python3.10/dist-packages (from ipython>=5.0.0->ipykernel->jupyter>=1.0.0) (0.7.5)\n",
      "Requirement already satisfied: backcall in /usr/local/lib/python3.10/dist-packages (from ipython>=5.0.0->ipykernel->jupyter>=1.0.0) (0.2.0)\n",
      "Requirement already satisfied: matplotlib-inline in /usr/local/lib/python3.10/dist-packages (from ipython>=5.0.0->ipykernel->jupyter>=1.0.0) (0.1.6)\n",
      "Requirement already satisfied: pexpect>4.3 in /usr/local/lib/python3.10/dist-packages (from ipython>=5.0.0->ipykernel->jupyter>=1.0.0) (4.8.0)\n",
      "Requirement already satisfied: pyrsistent!=0.17.0,!=0.17.1,!=0.17.2,>=0.14.0 in /usr/local/lib/python3.10/dist-packages (from jsonschema>=3.0->altair>=4.2.0->gradio==3.36.1) (0.19.3)\n",
      "Requirement already satisfied: platformdirs>=2.5 in /usr/local/lib/python3.10/dist-packages (from jupyter-core>=4.7->nbconvert->jupyter>=1.0.0) (3.9.1)\n",
      "Requirement already satisfied: uc-micro-py in /usr/local/lib/python3.10/dist-packages (from linkify-it-py<3,>=1->markdown-it-py[linkify]>=2.0.0->gradio==3.36.1) (1.0.2)\n",
      "Requirement already satisfied: fastjsonschema in /usr/local/lib/python3.10/dist-packages (from nbformat>=5.1->nbconvert->jupyter>=1.0.0) (2.18.0)\n",
      "Requirement already satisfied: wcwidth in /usr/local/lib/python3.10/dist-packages (from prompt-toolkit!=3.0.0,!=3.0.1,<3.1.0,>=2.0.0->jupyter-console->jupyter>=1.0.0) (0.2.6)\n",
      "Requirement already satisfied: ptyprocess in /usr/local/lib/python3.10/dist-packages (from terminado>=0.8.3->notebook->jupyter>=1.0.0) (0.7.0)\n",
      "Requirement already satisfied: argon2-cffi-bindings in /usr/local/lib/python3.10/dist-packages (from argon2-cffi->notebook->jupyter>=1.0.0) (21.2.0)\n",
      "Requirement already satisfied: soupsieve>1.2 in /usr/local/lib/python3.10/dist-packages (from beautifulsoup4->nbconvert->jupyter>=1.0.0) (2.4.1)\n",
      "Requirement already satisfied: webencodings in /usr/local/lib/python3.10/dist-packages (from bleach->nbconvert->jupyter>=1.0.0) (0.5.1)\n",
      "Requirement already satisfied: exceptiongroup in /usr/local/lib/python3.10/dist-packages (from anyio<5.0,>=3.0->httpcore<0.18.0,>=0.15.0->httpx->gradio==3.36.1) (1.1.2)\n",
      "Requirement already satisfied: parso<0.9.0,>=0.8.3 in /usr/local/lib/python3.10/dist-packages (from jedi>=0.16->ipython>=5.0.0->ipykernel->jupyter>=1.0.0) (0.8.3)\n",
      "Requirement already satisfied: cffi>=1.0.1 in /usr/local/lib/python3.10/dist-packages (from argon2-cffi-bindings->argon2-cffi->notebook->jupyter>=1.0.0) (1.15.1)\n",
      "Requirement already satisfied: pycparser in /usr/local/lib/python3.10/dist-packages (from cffi>=1.0.1->argon2-cffi-bindings->argon2-cffi->notebook->jupyter>=1.0.0) (2.21)\n"
     ]
    }
   ],
   "source": [
    "# install required dependencies\n",
    "! pip install \\\n",
    "    \"cassio==0.0.7\" \\\n",
    "    \"torchvision==0.15.2\" \\\n",
    "    \"gradio==3.36.1\" \\\n",
    "    \"jupyter>=1.0.0\" \\\n",
    "    \"numpy==1.24.4\" \\\n",
    "    \"python-dotenv==1.0.0\" \\\n",
    "    \"torch==2.0.1\"\n"
   ]
  },
  {
   "cell_type": "markdown",
   "id": "222f44ff",
   "metadata": {
    "id": "222f44ff"
   },
   "source": [
    "You will likely be asked to \"Restart the Runtime\" at this time, as some dependencies\n",
    "have been upgraded. **Please do restart the runtime now** for a smoother execution from this point onward."
   ]
  },
  {
   "cell_type": "code",
   "execution_count": 2,
   "id": "fT-6sWzxhtlg",
   "metadata": {
    "id": "fT-6sWzxhtlg",
    "outputId": "6ff448cb-2092-4be8-c0c1-e3c5073c6d0d"
   },
   "outputs": [
    {
     "name": "stdout",
     "output_type": "stream",
     "text": [
      "Your Astra DB Keyspace name (e.g. cassio_tutorials): sample_key\n"
     ]
    }
   ],
   "source": [
    "# Input your database keyspace name:\n",
    "ASTRA_DB_KEYSPACE = input('Your Astra DB Keyspace name (e.g. cassio_tutorials): ')"
   ]
  },
  {
   "cell_type": "code",
   "execution_count": 3,
   "id": "GGeh-hw3htlh",
   "metadata": {
    "id": "GGeh-hw3htlh",
    "outputId": "faf6d6d5-6706-46f5-c186-4ed5cc63bc84"
   },
   "outputs": [
    {
     "name": "stdout",
     "output_type": "stream",
     "text": [
      "Your Astra DB Token (\"AstraCS:...\"): ··········\n"
     ]
    }
   ],
   "source": [
    "# Input your Astra DB token string, the one starting with \"AstraCS:...\"\n",
    "from getpass import getpass\n",
    "ASTRA_DB_TOKEN_BASED_PASSWORD = getpass('Your Astra DB Token (\"AstraCS:...\"): ')"
   ]
  },
  {
   "cell_type": "markdown",
   "id": "QNQ6T_Gjk0Oz",
   "metadata": {
    "id": "QNQ6T_Gjk0Oz"
   },
   "source": [
    "### Astra DB Secure Connect Bundle\n",
    "\n",
    "Please upload the Secure Connect Bundle zipfile to connect to your Astra DB instance.\n",
    "\n",
    "The Secure Connect Bundle is needed to establish a secure connection to the database.\n",
    "Click [here](https://awesome-astra.github.io/docs/pages/astra/download-scb/#c-procedure) for instructions on how to download it from Astra DB."
   ]
  },
  {
   "cell_type": "code",
   "execution_count": 4,
   "id": "cu4mU3CHhtlk",
   "metadata": {
    "id": "cu4mU3CHhtlk",
    "outputId": "bb6592e3-222a-4eb0-8300-41fc778dbcce"
   },
   "outputs": [
    {
     "name": "stdout",
     "output_type": "stream",
     "text": [
      "Please upload your Secure Connect Bundle\n"
     ]
    },
    {
     "name": "stdout",
     "output_type": "stream",
     "text": [
      "Saving secure-connect-sample-test.zip to secure-connect-sample-test (1).zip\n"
     ]
    }
   ],
   "source": [
    "# Upload your Secure Connect Bundle zipfile:\n",
    "import os\n",
    "from google.colab import files\n",
    "\n",
    "\n",
    "print('Please upload your Secure Connect Bundle')\n",
    "uploaded = files.upload()\n",
    "if uploaded:\n",
    "    astraBundleFileTitle = list(uploaded.keys())[0]\n",
    "    ASTRA_DB_SECURE_BUNDLE_PATH = os.path.join(os.getcwd(), astraBundleFileTitle)\n",
    "else:\n",
    "    raise ValueError(\n",
    "        'Cannot proceed without Secure Connect Bundle. Please re-run the cell.'\n",
    "    )"
   ]
  },
  {
   "cell_type": "code",
   "execution_count": 5,
   "id": "_2Hav_edhtll",
   "metadata": {
    "id": "_2Hav_edhtll"
   },
   "outputs": [],
   "source": [
    "# colab-specific override of helper functions\n",
    "from cassandra.cluster import (\n",
    "    Cluster,\n",
    ")\n",
    "from cassandra.auth import PlainTextAuthProvider\n",
    "\n",
    "# The \"username\" is the literal string 'token' for this connection mode:\n",
    "ASTRA_DB_TOKEN_BASED_USERNAME = 'token'\n",
    "\n",
    "\n",
    "def getCQLSession(mode='astra_db'):\n",
    "    if mode == 'astra_db':\n",
    "        cluster = Cluster(\n",
    "            cloud={\n",
    "                \"secure_connect_bundle\": ASTRA_DB_SECURE_BUNDLE_PATH,\n",
    "            },\n",
    "            auth_provider=PlainTextAuthProvider(\n",
    "                ASTRA_DB_TOKEN_BASED_USERNAME,\n",
    "                ASTRA_DB_TOKEN_BASED_PASSWORD,\n",
    "            ),\n",
    "        )\n",
    "        astraSession = cluster.connect()\n",
    "        return astraSession\n",
    "    else:\n",
    "        raise ValueError('Unsupported CQL Session mode')\n",
    "\n",
    "def getCQLKeyspace(mode='astra_db'):\n",
    "    if mode == 'astra_db':\n",
    "        return ASTRA_DB_KEYSPACE\n",
    "    else:\n",
    "        raise ValueError('Unsupported CQL Session mode')"
   ]
  },
  {
   "cell_type": "markdown",
   "id": "OVzjgdcshtlm",
   "metadata": {
    "id": "OVzjgdcshtlm"
   },
   "source": [
    "### Colab preamble completed\n",
    "\n",
    "The following cells constitute the demo notebook proper."
   ]
  },
  {
   "cell_type": "markdown",
   "id": "8ee0e82f-95fa-4efa-84e3-9873d4dcdaf1",
   "metadata": {
    "id": "8ee0e82f-95fa-4efa-84e3-9873d4dcdaf1"
   },
   "source": [
    "# Image Similarity Search with Vector Database\n",
    "\n",
    "Use CassIO and Astra DB / Apache Cassandra® for similarity searches between **image samples**, powered by image embeddings and Vector Search."
   ]
  },
  {
   "cell_type": "markdown",
   "id": "2bdb8284",
   "metadata": {
    "id": "2bdb8284"
   },
   "source": [
    "_**NOTE:** this uses Cassandra's \"Vector Similarity Search\" capability.\n",
    "Make sure you are connecting to a vector-enabled database for this demo._"
   ]
  },
  {
   "cell_type": "markdown",
   "id": "58bc1d2f-7039-4d2a-950c-ff3686013c55",
   "metadata": {
    "id": "58bc1d2f-7039-4d2a-950c-ff3686013c55"
   },
   "source": [
    "In this notebook you will:\n",
    "\n",
    "1. Download CIFAR10 dataset comprising of image samples from torchvision library.\n",
    "2. Calculate image embedding vectors for them with SqueezeNet.\n",
    "3. Store the embedding vectors on a table in your Cassandra / Astra DB instance, using the CassIO library for ease of operation.\n",
    "4. Run one or more searches for images similar to a provided sample.\n",
    "5. Start a simple web-app that exposes a **image search** feature."
   ]
  },
  {
   "cell_type": "markdown",
   "id": "e49d8157",
   "metadata": {
    "id": "e49d8157"
   },
   "source": [
    "### Import packages"
   ]
  },
  {
   "cell_type": "markdown",
   "id": "49c18332",
   "metadata": {
    "id": "49c18332"
   },
   "source": [
    "The CassIO object needed for this demo is the `VectorTable`:"
   ]
  },
  {
   "cell_type": "code",
   "execution_count": 6,
   "id": "449f9dff",
   "metadata": {
    "id": "449f9dff"
   },
   "outputs": [],
   "source": [
    "from cassio.vector import VectorTable"
   ]
  },
  {
   "cell_type": "markdown",
   "id": "25d08ec4-0e7b-4819-933f-43ed5ff95e48",
   "metadata": {
    "id": "25d08ec4-0e7b-4819-933f-43ed5ff95e48"
   },
   "source": [
    "Other packages are needed for various tasks in this demo:"
   ]
  },
  {
   "cell_type": "code",
   "execution_count": 7,
   "id": "54137e39",
   "metadata": {
    "id": "54137e39"
   },
   "outputs": [],
   "source": [
    "import os\n",
    "\n",
    "from tqdm.auto import tqdm\n",
    "import torch\n",
    "import numpy as np\n",
    "from IPython.display import display\n",
    "\n",
    "# To load image dataset\n",
    "import torchvision\n",
    "import gradio\n",
    "# To plot images\n",
    "import matplotlib.pyplot as plt\n",
    "from mpl_toolkits.axes_grid1 import ImageGrid\n"
   ]
  },
  {
   "cell_type": "code",
   "execution_count": 8,
   "id": "01da99af-da9b-4f38-b841-d802ff23bf2f",
   "metadata": {
    "id": "01da99af-da9b-4f38-b841-d802ff23bf2f"
   },
   "outputs": [],
   "source": [
    "try:\n",
    "    from google.colab import files\n",
    "    IS_COLAB = True\n",
    "except ModuleNotFoundError:\n",
    "    IS_COLAB = False"
   ]
  },
  {
   "cell_type": "markdown",
   "id": "b7a93b64-e9e9-41d1-95c9-dc9194a5ec8d",
   "metadata": {
    "id": "b7a93b64-e9e9-41d1-95c9-dc9194a5ec8d"
   },
   "source": [
    "### Connect to your DB"
   ]
  },
  {
   "cell_type": "markdown",
   "id": "1dfb2e30",
   "metadata": {
    "id": "1dfb2e30"
   },
   "source": [
    "A database connection is needed to access Cassandra. The following assumes\n",
    "that a _vector-search-capable Astra DB instance_ is available. Adjust as needed."
   ]
  },
  {
   "cell_type": "code",
   "execution_count": 9,
   "id": "b13127a7",
   "metadata": {
    "id": "b13127a7",
    "outputId": "d91b0266-3e96-4e87-82bd-5c4aed66dcfd"
   },
   "outputs": [],
   "source": [
    "# creation of the DB connection\n",
    "cqlMode = \"astra_db\" # \"astra_db\"/\"local\"\n",
    "session = getCQLSession(mode=cqlMode)\n",
    "keyspace = getCQLKeyspace(mode=cqlMode)"
   ]
  },
  {
   "cell_type": "markdown",
   "id": "CCOnMYJoxLJw",
   "metadata": {
    "id": "CCOnMYJoxLJw"
   },
   "source": [
    "\n",
    "## Load the Data"
   ]
  },
  {
   "cell_type": "markdown",
   "id": "otdRjVbexV-V",
   "metadata": {
    "id": "otdRjVbexV-V"
   },
   "source": [
    "In this demo, you will use image samples from the [Cifar10 dataset](https://www.cs.toronto.edu/~kriz/cifar.html), a labeled collection of 60000 32x32 colour images in 10 classes, with 6000 images per class.\n",
    "\n",
    " When preparing data for the pre-trained PyTorch models, it's essential to follow transformation (preprocess) steps for better results. The input images should have three channels and be in RGB format, with dimensions of at least 224 pixels in height and width (3 x H x W). Moreover, the pixel values undergo normalization using the mean values [0.485, 0.456, 0.406] and standard deviation values [0.229, 0.224, 0.225]. These mean and std values were calculated based on the ImageNet dataset. The dataset can be loaded from the torchvision library as follows:"
   ]
  },
  {
   "cell_type": "code",
   "execution_count": 10,
   "id": "oxvng3-WLzC0",
   "metadata": {
    "id": "oxvng3-WLzC0"
   },
   "outputs": [],
   "source": [
    "from torchvision.transforms import (\n",
    "    Compose,\n",
    "    Resize,\n",
    "    CenterCrop,\n",
    "    ToTensor,\n",
    "    Normalize\n",
    ")\n",
    "preprocess = Compose([\n",
    "    Resize(256),\n",
    "    CenterCrop(224),\n",
    "    ToTensor(),\n",
    "    Normalize(mean=[0.485, 0.456, 0.406], std=[0.229, 0.224, 0.225]),\n",
    "])"
   ]
  },
  {
   "cell_type": "code",
   "execution_count": 11,
   "id": "7oWJORavxb5H",
   "metadata": {
    "id": "7oWJORavxb5H",
    "outputId": "acca8b6a-a553-4328-d564-8e2d0e4a7a30"
   },
   "outputs": [
    {
     "name": "stdout",
     "output_type": "stream",
     "text": [
      "Files already downloaded and verified\n"
     ]
    }
   ],
   "source": [
    "DATA_DIRECTORY = 'data'\n",
    "\n",
    "datasets = {\n",
    "    'CIFAR10': torchvision.datasets.CIFAR10(DATA_DIRECTORY, transform=preprocess, download=True),\n",
    "}"
   ]
  },
  {
   "cell_type": "markdown",
   "id": "uiTWJVx0jeSo",
   "metadata": {
    "id": "uiTWJVx0jeSo"
   },
   "source": [
    "## Display few images\n",
    "\n",
    "Each image belongs to a \"class label\". Take a look at the class labels for the random images in the dataset:\n",
    "\n",
    "These are labels with it's respective name :\n",
    "labels_dict = {\n",
    "    0: 'airplane',\n",
    "    1: 'automobile',\n",
    "    2: 'bird',\n",
    "    3: 'cat',\n",
    "    4: 'deer',\n",
    "    5: 'dog',\n",
    "    6: 'frog',\n",
    "    7: 'horse',\n",
    "    8: 'ship',\n",
    "    9: 'truck'\n",
    "}"
   ]
  },
  {
   "cell_type": "code",
   "execution_count": 12,
   "id": "HskIo3wTjhbw",
   "metadata": {
    "id": "HskIo3wTjhbw",
    "outputId": "0965d612-b8a6-4e51-b80f-4363ed25c9c5"
   },
   "outputs": [],
   "source": [
    "def show_random_images_from_full_dataset(dset, num_rows=2, num_cols=5):\n",
    "    \"\"\"Show random sample of images in PyTorch dataset.\"\"\"\n",
    "\n",
    "    ### get random sample of images and labels\n",
    "    indices = np.random.randint(0, high=len(dset)+1, size=num_rows*num_cols)\n",
    "    im_arrays = np.take(dset.data, indices, axis=0)\n",
    "    labels = [dset.classes[dset.targets[index]] for index in indices]\n",
    "    ### plot sample\n",
    "    fig = plt.figure(figsize=(8, 8))\n",
    "    grid = ImageGrid(\n",
    "        fig,\n",
    "        111,\n",
    "        nrows_ncols=(num_rows, num_cols),\n",
    "        axes_pad=0.3)\n",
    "    for ax, im_array, label in zip(grid, im_arrays, labels):\n",
    "        ax.imshow(im_array)\n",
    "        ax.set_title(label)\n",
    "        ax.axis(\"off\")\n",
    "show_random_images_from_full_dataset(datasets['CIFAR10'])"
   ]
  },
  {
   "cell_type": "markdown",
   "id": "xxf3DQVuf6B2",
   "metadata": {
    "id": "xxf3DQVuf6B2"
   },
   "source": [
    "## Select only few images from each class\n",
    "\n",
    "\n",
    "It generally takes around 1-2 mins to load 500 images per class. Loading 5000 images if GPU is avaliable , else loading 2000 images to reduce processing time."
   ]
  },
  {
   "cell_type": "code",
   "execution_count": 13,
   "id": "XXMERmZiD1Ho",
   "metadata": {
    "id": "XXMERmZiD1Ho",
    "outputId": "2d41717e-f49a-4512-87be-5a56396733df"
   },
   "outputs": [
    {
     "name": "stdout",
     "output_type": "stream",
     "text": [
      "\n",
      "CPU is avaliable , hence loading 200 images per class\n",
      "Total selected images: 2000\n"
     ]
    }
   ],
   "source": [
    "GPU_AVAILABLE = torch.cuda.device_count() > 0\n",
    "\n",
    "images_per_class=100 # You can modify the no of images per class\n",
    "no_of_classes=10\n",
    "selected_images = []  # List to store selected images\n",
    "labels=[]\n",
    "selected_img_array=[]\n",
    "\n",
    "if GPU_AVAILABLE:\n",
    "    print(\"\\nGPU is available, hence loading 500 images per class\")\n",
    "    images_per_class=500\n",
    "\n",
    "else:\n",
    "    print(\"\\nCPU is avaliable , hence loading 200 images per class\")\n",
    "    images_per_class=200\n",
    "\n",
    "# Iterate through each class and select 100 images\n",
    "for class_label in range(no_of_classes):\n",
    "    image_count = 0\n",
    "\n",
    "    for i in range(len(datasets['CIFAR10'])):\n",
    "        image, label = datasets['CIFAR10'][i]\n",
    "\n",
    "        if label == class_label:\n",
    "            selected_images.append(image)\n",
    "            labels.append(label)\n",
    "            selected_img_array.append(datasets['CIFAR10'].data[i])\n",
    "            image_count += 1\n",
    "\n",
    "        if image_count >= images_per_class:\n",
    "            break\n",
    "\n",
    "print(\"Total selected images:\", len(selected_images))"
   ]
  },
  {
   "cell_type": "markdown",
   "id": "97gYTdw3xt17",
   "metadata": {
    "id": "97gYTdw3xt17"
   },
   "source": [
    "## Loading a Pretrained SqueezeNet Computer Vision Model\n",
    "\n",
    "To utilize a pre-trained model provided by PyTorch, you can load it and use its output as an embedding for image data. This pre-trained model generates a sequence of floats with 1000 dimensions per input image.\n",
    "\n",
    "\n",
    "\n",
    "\n"
   ]
  },
  {
   "cell_type": "code",
   "execution_count": 14,
   "id": "X26ePde5yLaZ",
   "metadata": {
    "id": "X26ePde5yLaZ",
    "outputId": "f2e82c2d-d6f6-4899-9577-eb26f4a00e09"
   },
   "outputs": [
    {
     "name": "stdout",
     "output_type": "stream",
     "text": [
      "\n",
      "Loaded the image embedding model on the CPU. Reduced defaults will be used. Please consider upgrading to a GPU-powered hardware for best experience.\n"
     ]
    }
   ],
   "source": [
    "device = torch.device(\"cuda\" if torch.cuda.is_available() else \"cpu\")\n",
    "model = torchvision.models.squeezenet1_1(pretrained=True).to(device).eval()\n",
    "\n",
    "if GPU_AVAILABLE:\n",
    "    print(\"\\nLoaded the image embedding model on the GPU.\")\n",
    "else:\n",
    "    print(\n",
    "        \"\\nLoaded the image embedding model on the CPU. Reduced defaults \"\n",
    "        \"will be used. Please consider upgrading to a GPU-powered \"\n",
    "        \"hardware for best experience.\"\n",
    "    )"
   ]
  },
  {
   "cell_type": "markdown",
   "id": "0670b30f-927f-47da-b71d-0a99092c3f58",
   "metadata": {
    "id": "0670b30f-927f-47da-b71d-0a99092c3f58"
   },
   "source": [
    "## Create a DB table through CassIO\n",
    "\n",
    "When an instance of `VectorTable` is created, CassIO takes care of the underlying database operations. An important parameter to supply is the embedding vector dimension (fixed, in this case, by the choice of the SqueezeNet model being used):"
   ]
  },
  {
   "cell_type": "code",
   "execution_count": 15,
   "id": "ENEwxldS_Vqy",
   "metadata": {
    "id": "ENEwxldS_Vqy"
   },
   "outputs": [],
   "source": [
    "table_name = \"image_table\"\n",
    "embedding_dimension = 1000\n",
    "\n",
    "v_table = VectorTable(\n",
    "    session=session,\n",
    "    keyspace=keyspace,\n",
    "    table=table_name,\n",
    "    embedding_dimension=embedding_dimension,\n",
    "    primary_key_type=\"TEXT\",\n",
    ")"
   ]
  },
  {
   "cell_type": "markdown",
   "id": "N7qB3Vu-oLwb",
   "metadata": {
    "id": "N7qB3Vu-oLwb"
   },
   "source": [
    "## Preparing Vector Embeddings\n",
    "This cell will encode the downloaded images and store the associated class of each image as metadata."
   ]
  },
  {
   "cell_type": "code",
   "execution_count": 16,
   "id": "9y8Jk0cuoMVB",
   "metadata": {
    "id": "9y8Jk0cuoMVB"
   },
   "outputs": [],
   "source": [
    "def get_vector_metadata(label_indices, class_list):\n",
    "    \"\"\"Return list of {'label': <class name>}.\"\"\"\n",
    "    return [{'label': class_list[index]} for index in label_indices]\n",
    "\n",
    "# Creating Vector IDs\n",
    "# Each vector ID will have a prefix corresponding to CIFAR10\n",
    "def get_vector_ids(batch_number, batch_size, prefix):\n",
    "    \"\"\"Return vector ids.\"\"\"\n",
    "    start_index = batch_number\n",
    "    end_index = start_index + batch_size\n",
    "    ids = np.arange(start_index, end_index)\n",
    "\n",
    "    # create id based on prefix\n",
    "    # eg. if id == 5, prefix == 'CIFAR10', then create 'CIFAR10.5' as vector id.\n",
    "    ids_with_prefix = [f'{prefix}.{str(x)}' for x in ids]\n",
    "    return ids_with_prefix\n",
    "\n",
    "\n",
    "def get_vectors_from_batch(data_processed, label_indices,batch_number, dataset):\n",
    "    \"\"\"Return list of tuples like (vector_id, vector_values, vector_metadata).\"\"\"\n",
    "    num_records = len(data_processed)\n",
    "    prefix = dataset.__class__.__name__\n",
    "    with torch.no_grad():\n",
    "        # generate image embeddings with PyTorch model\n",
    "        vector_values = model(data_processed).tolist()\n",
    "    # return respective IDs/metadata for each image embedding\n",
    "    vector_metadata = get_vector_metadata(label_indices, dataset.classes)\n",
    "    vector_ids = get_vector_ids(batch_number, num_records, prefix)\n",
    "    return list(zip(vector_ids, vector_values, vector_metadata))\n",
    "\n",
    "dataset = datasets['CIFAR10']\n",
    "# Move the data to the respective device\n",
    "preprocessed_data = torch.stack(selected_images).to(device)"
   ]
  },
  {
   "cell_type": "markdown",
   "id": "c1fe256f-9efb-41f0-8803-d99696c6089b",
   "metadata": {
    "id": "c1fe256f-9efb-41f0-8803-d99696c6089b"
   },
   "source": [
    "## Compute and store embedding vectors for images\n",
    "\n",
    "This cell processes the image samples you just loaded. By working in batches, the embedding vectors are evaluated through the SqueezeNet model, and the result is stored in the Cassandra / Astra DB table by invoking the `put_async` method of `VectorTable`.\n",
    "\n",
    "_Note: this operation will take **some minutes**. If connected to CPU, it may take upto 5 mins for 5000 images to process . Hence, it is recommended to connect to GPU for faster processing.  Feel free to adjust the total amount of images to process from the library for a quicker demo._"
   ]
  },
  {
   "cell_type": "code",
   "execution_count": 17,
   "id": "nTJge6DiP4RV",
   "metadata": {
    "id": "nTJge6DiP4RV",
    "outputId": "c51c14bc-e54e-4ec9-e277-90bb269b6636"
   },
   "outputs": [],
   "source": [
    "BATCH_SIZE = 100\n",
    "SAMPLES_TO_PROCESS=len(selected_images)\n",
    "\n",
    "for i in tqdm(range(0, SAMPLES_TO_PROCESS, BATCH_SIZE)):\n",
    "    # Find end of batch\n",
    "    i_end = min(i + BATCH_SIZE, SAMPLES_TO_PROCESS)\n",
    "    # Generate embeddings for all the images in the batch with it's corresponding vector id and metadata\n",
    "    batch_vectors=get_vectors_from_batch(preprocessed_data[i:i_end], labels[i:i_end],i, dataset)\n",
    "\n",
    "    # Insert all entries in the batch concurrently\n",
    "    futures = []\n",
    "    for vector_id, embedding, metadata  in batch_vectors:\n",
    "        metadata = metadata\n",
    "        futures.append(v_table.put_async(\n",
    "            document= vector_id,\n",
    "            embedding_vector=embedding,\n",
    "            document_id=vector_id,\n",
    "            metadata=metadata,\n",
    "            ttl_seconds=None,\n",
    "        ))\n",
    "    for future in futures:\n",
    "        future.result()"
   ]
  },
  {
   "cell_type": "markdown",
   "id": "JiainTLa1U1q",
   "metadata": {
    "id": "JiainTLa1U1q"
   },
   "source": [
    "## Run a similarity search\n",
    "\n",
    "You will now obtain a new image file and search for samples similar to it."
   ]
  },
  {
   "cell_type": "markdown",
   "id": "1407bfce",
   "metadata": {
    "id": "1407bfce"
   },
   "source": [
    "Get the image of a dog as:"
   ]
  },
  {
   "cell_type": "code",
   "execution_count": 19,
   "id": "ge8HGNwJ0bDB",
   "metadata": {
    "id": "ge8HGNwJ0bDB",
    "outputId": "a782897a-02b0-469f-ee2c-a2121bb30d67"
   },
   "outputs": [
    {
     "name": "stdout",
     "output_type": "stream",
     "text": [
      "A sample image\n"
     ]
    },
    {
     "data": {
      "image/png": "[encoded data removed]",
      "text/plain": [
       "<PIL.Image.Image image mode=RGB size=125x125>"
      ]
     },
     "execution_count": 19,
     "metadata": {},
     "output_type": "execute_result"
    }
   ],
   "source": [
    "from PIL import Image\n",
    "import requests\n",
    "\n",
    "url = 'https://www.cs.toronto.edu/~kriz/cifar-10-sample/ship1.png'\n",
    "r = requests.get(url, stream=True)\n",
    "input_image = Image.open(r.raw)\n",
    "print(\"A sample image\")\n",
    "input_image.resize((125,125))\n"
   ]
  },
  {
   "cell_type": "markdown",
   "id": "8yUPkZ1DuSHX",
   "metadata": {
    "id": "8yUPkZ1DuSHX"
   },
   "source": [
    "In order to run the search, first get the embedding vector for the input file, then use it to run a similarity search on the CassIO `VectorTable`:"
   ]
  },
  {
   "cell_type": "code",
   "execution_count": 40,
   "id": "xwf3xsh40523",
   "metadata": {
    "id": "xwf3xsh40523",
    "outputId": "4f6dd30a-998e-463f-e537-f86c0f751391"
   },
   "outputs": [
    {
     "name": "stdout",
     "output_type": "stream",
     "text": [
      "Match 0: CIFAR10.4009 (label: ship, distance: 0.9867)\n",
      "Match 1: CIFAR10.4253 (label: ship, distance: 0.9851)\n",
      "Match 2: CIFAR10.4001 (label: ship, distance: 0.9835)\n",
      "Match 3: CIFAR10.4387 (label: ship, distance: 0.9834)\n",
      "Match 4: CIFAR10.91 (label: airplane, distance: 0.9830)\n"
     ]
    }
   ],
   "source": [
    "query_embedding = model(preprocess(input_image).unsqueeze(0).to(device)).tolist()[0]\n",
    "\n",
    "matches = v_table.search(\n",
    "        embedding_vector=query_embedding,\n",
    "        top_k=5,\n",
    "        metric=\"cos\",\n",
    "        metric_threshold=None,\n",
    "    )\n",
    "\n",
    "im_array_indices=[]\n",
    "im_label_list=[]\n",
    "# Show the top 5 matching results\n",
    "for match_i, match in enumerate(matches):\n",
    "      print(f\"Match {match_i}: {match['document']} \", end=\"\")\n",
    "      print(f\"(label: {match['metadata']['label']}, \", end=\"\")\n",
    "      print(f\"distance: {match['distance']:.4f})\")\n",
    "      image_id=match['document'].split(\".\")\n",
    "      im_array_indices.append(int(image_id[1]))\n",
    "      im_label_list.append(match['metadata']['label'])\n",
    "\n",
    "def display_top_5_matches(matches, im_array_indices, im_label_list):\n",
    "    ### plot matching results\n",
    "    fig = plt.figure(figsize=(8, 8))\n",
    "    grid = ImageGrid(\n",
    "          fig,\n",
    "          111,\n",
    "          nrows_ncols=(1, 5),\n",
    "          axes_pad=0.3)\n",
    "\n",
    "    for ax,im_array_index,im_label in zip(grid,im_array_indices,im_label_list):\n",
    "        ax.imshow(selected_img_array[im_array_index])\n",
    "        ax.set_title(im_label)\n",
    "        ax.axis(\"off\")\n",
    "\n",
    "display_top_5_matches(matches, im_array_indices, im_label_list)\n"
   ]
  },
  {
   "cell_type": "markdown",
   "id": "3-5Y0en3tPb0",
   "metadata": {
    "id": "3-5Y0en3tPb0"
   },
   "source": [
    "## Experiment with your own image file\n",
    "\n",
    "In this section, you can supply any image file of your own to have a bit of fun.\n",
    "\n",
    "While you're at it, do a bit of refactoring of the image processing steps:"
   ]
  },
  {
   "cell_type": "code",
   "execution_count": 41,
   "id": "0ed14d9c",
   "metadata": {
    "id": "0ed14d9c"
   },
   "outputs": [],
   "source": [
    "def upload_image(filepath):\n",
    "    loaded_image = Image.open(filepath)\n",
    "    loaded_image=loaded_image.resize((80,80))\n",
    "    return loaded_image\n",
    "\n",
    "def image_similarity_search(supplied_image, top_k=5):\n",
    "    # get the embeddings for the image from the model\n",
    "    supplied_image_embedding = model(preprocess(supplied_image).unsqueeze(0).to(device)).tolist()[0]\n",
    "    print((supplied_image_embedding))\n",
    "    matches = v_table.search(\n",
    "        embedding_vector=supplied_image_embedding,\n",
    "        top_k=top_k,\n",
    "        metric=\"cos\",\n",
    "        metric_threshold=None,\n",
    "    )\n",
    "    return matches\n"
   ]
  },
  {
   "cell_type": "markdown",
   "id": "19afe047",
   "metadata": {
    "id": "19afe047"
   },
   "source": [
    "Now try providing an image file of yours (skip this part if you want):"
   ]
  },
  {
   "cell_type": "code",
   "execution_count": 42,
   "id": "cYnpzEN3tVlh",
   "metadata": {
    "id": "cYnpzEN3tVlh",
    "outputId": "ce6ad40a-d41e-4d47-e13f-1ad03bcf909e"
   },
   "outputs": [
    {
     "name": "stdout",
     "output_type": "stream",
     "text": [
      "Please upload an image file from your computer:\n"
     ]
    },
    {
     "name": "stdout",
     "output_type": "stream",
     "text": [
      "Saving ship1.png to ship1.png\n",
      "Your query image:\n"
     ]
    },
    {
     "name": "stdout",
     "output_type": "stream",
     "text": [
      "Similar images:\n",
      "[8.976046562194824, 5.853018760681152, 6.696882247924805, 7.427229404449463, 8.272834777832031, 10.993773460388184, 2.562298059463501, 2.544149398803711, 1.5611939430236816, 2.942577838897705, 7.85042142868042, 2.857254981994629, 2.4498753547668457, 1.9209791421890259, 7.401139259338379, 1.416491150856018, 2.323604106903076, 7.109045505523682, 4.1230926513671875, 3.7145309448242188, 3.776705265045166, 5.705783367156982, 3.7470977306365967, 2.718027353286743, 1.3824955224990845, 3.0373191833496094, 5.0486860275268555, 4.1270060539245605, 7.269206523895264, 7.185337543487549, 6.729756832122803, 3.4149653911590576, 6.336710453033447, 8.259127616882324, 8.980483055114746, 4.897894382476807, 7.353363513946533, 1.9886183738708496, 6.8266191482543945, 5.009034156799316, 3.1453518867492676, 5.9240522384643555, 6.0985260009765625, 8.675432205200195, 3.3313863277435303, 2.830519199371338, 2.671961784362793, 6.110537052154541, 2.575195789337158, 3.2935945987701416, 2.526153087615967, 9.243142127990723, 3.5753588676452637, 4.494084358215332, 3.9164071083068848, 2.080695390701294, 4.248213291168213, 2.9591219425201416, 2.822392702102661, 7.258362770080566, 4.090455532073975, 5.61344051361084, 11.644854545593262, 7.177807331085205, 5.430502891540527, 10.22120189666748, 5.9667181968688965, 3.1026546955108643, 7.612353801727295, 2.996386766433716, 2.660482406616211, 6.175392150878906, 5.161720275878906, 7.428372859954834, 3.142202854156494, 2.224268913269043, 2.4247822761535645, 1.4256653785705566, 7.27888822555542, 3.264646053314209, 11.777544975280762, 5.002040386199951, 3.0504519939422607, 4.84347677230835, 5.31815242767334, 1.9051684141159058, 3.9542601108551025, 2.5459988117218018, 4.991442680358887, 2.9733736515045166, 2.529925584793091, 3.3825345039367676, 3.6170084476470947, 1.6316132545471191, 2.087926149368286, 6.40195369720459, 1.676066279411316, 6.719770908355713, 15.017207145690918, 5.849376201629639, 3.616196632385254, 7.569599628448486, 3.525261402130127, 12.09009838104248, 3.6533796787261963, 6.476195812225342, 3.8918111324310303, 5.304619789123535, 2.4645636081695557, 7.3998823165893555, 8.984238624572754, 4.985814571380615, 4.231834888458252, 3.9801647663116455, 3.539466381072998, 6.0288262367248535, 5.819498062133789, 10.462621688842773, 9.541973114013672, 6.200597763061523, 9.332184791564941, 9.520989418029785, 10.829408645629883, 6.465602397918701, 5.926657199859619, 3.1834840774536133, 7.959786891937256, 2.989932060241699, 9.486032485961914, 2.7072043418884277, 1.648599624633789, 5.634095191955566, 4.417121410369873, 2.562711238861084, 2.3809239864349365, 7.524450302124023, 6.8025712966918945, 5.216651439666748, 1.374947428703308, 6.537753105163574, 5.85188627243042, 3.012209177017212, 8.838234901428223, 6.0233612060546875, 5.548659801483154, 8.283458709716797, 9.391961097717285, 14.358019828796387, 15.045219421386719, 11.590967178344727, 11.813212394714355, 7.510343551635742, 9.141524314880371, 6.678335189819336, 8.278021812438965, 7.222535133361816, 8.29357624053955, 8.503190040588379, 10.326652526855469, 8.190467834472656, 7.003326892852783, 7.629648685455322, 7.722301483154297, 7.3107781410217285, 9.9746675491333, 9.546244621276855, 11.377267837524414, 10.890899658203125, 9.990389823913574, 9.18681812286377, 8.015843391418457, 9.465519905090332, 7.2213287353515625, 8.615924835205078, 8.478925704956055, 9.763712882995605, 7.391275405883789, 7.109912395477295, 6.472570419311523, 7.408487796783447, 8.756402969360352, 9.547389030456543, 6.22361421585083, 9.473886489868164, 6.821115970611572, 8.855335235595703, 7.947618007659912, 6.634068012237549, 10.663448333740234, 7.950870037078857, 9.676033020019531, 5.085905075073242, 6.759072303771973, 8.16007137298584, 8.559099197387695, 6.341099262237549, 6.331632614135742, 6.202840328216553, 8.49224853515625, 5.334539413452148, 7.7113118171691895, 4.094690322875977, 5.862569332122803, 7.153948783874512, 5.873802661895752, 8.17666244506836, 10.712636947631836, 9.338866233825684, 9.162687301635742, 7.0824995040893555, 10.802287101745605, 6.619728088378906, 8.211756706237793, 6.931811809539795, 5.720968246459961, 9.084983825683594, 7.819804668426514, 6.617483615875244, 7.383118629455566, 5.521390914916992, 8.619978904724121, 11.049736976623535, 7.538292407989502, 6.860528469085693, 7.080907344818115, 6.509727954864502, 5.133885860443115, 7.768239974975586, 9.810778617858887, 7.097938060760498, 6.100345611572266, 7.120359897613525, 8.862394332885742, 6.518764019012451, 6.077895164489746, 7.9645586013793945, 7.070798873901367, 7.020890235900879, 6.949756145477295, 4.667117118835449, 7.037619590759277, 10.711949348449707, 5.45460844039917, 7.376914978027344, 7.4745659828186035, 6.71494197845459, 8.338839530944824, 7.929139137268066, 11.208381652832031, 8.957863807678223, 10.832883834838867, 7.360113143920898, 8.336566925048828, 7.936232566833496, 6.648253917694092, 8.648219108581543, 8.058324813842773, 7.385760307312012, 6.705430030822754, 6.345677375793457, 6.862212181091309, 7.429417610168457, 8.378220558166504, 6.843543529510498, 10.675830841064453, 6.267154216766357, 6.2976884841918945, 8.44780445098877, 8.544039726257324, 8.264785766601562, 7.280389308929443, 5.884531497955322, 9.060090065002441, 9.120284080505371, 7.486026287078857, 5.770923137664795, 4.3861823081970215, 5.371867656707764, 3.7472949028015137, 8.418745040893555, 6.022021770477295, 7.232626914978027, 5.759332656860352, 8.969799041748047, 7.191781044006348, 7.1642560958862305, 8.209166526794434, 7.6580610275268555, 8.831498146057129, 6.186661243438721, 9.266621589660645, 7.038630485534668, 9.721033096313477, 9.32508659362793, 9.061897277832031, 6.660524845123291, 10.845999717712402, 5.918048858642578, 4.079378128051758, 4.577709674835205, 7.130014419555664, 4.181357383728027, 8.65822982788086, 6.660872936248779, 3.482616901397705, 5.069846153259277, 4.943101406097412, 2.670231342315674, 3.049295425415039, 3.6727700233459473, 9.068005561828613, 2.380802631378174, 1.922438383102417, 2.261375665664673, 5.7677459716796875, 3.0825159549713135, 2.933598756790161, 2.5073485374450684, 2.5934431552886963, 6.426142692565918, 8.121464729309082, 3.169670581817627, 2.215637683868408, 3.9923880100250244, 6.399685859680176, 1.9779919385910034, 5.348387718200684, 4.195938587188721, 2.5667309761047363, 3.2516841888427734, 7.280210018157959, 8.17587661743164, 7.018871307373047, 2.701176166534424, 4.381082534790039, 8.810182571411133, 5.042080879211426, 10.345595359802246, 8.100223541259766, 10.024141311645508, 5.56150484085083, 8.599174499511719, 4.8060736656188965, 4.668150424957275, 6.764584064483643, 8.27860164642334, 2.774916887283325, 8.0877103805542, 4.070229530334473, 9.399883270263672, 6.3942108154296875, 5.951371669769287, 5.5104079246521, 8.681397438049316, 9.511917114257812, 6.388183116912842, 8.788756370544434, 8.27460765838623, 9.571829795837402, 9.526984214782715, 12.232270240783691, 8.576111793518066, 7.3970184326171875, 3.103118419647217, 8.396234512329102, 5.958642959594727, 5.070849418640137, 5.5248541831970215, 4.6783976554870605, 5.662689685821533, 5.258480548858643, 7.131307125091553, 6.362277507781982, 6.044013977050781, 5.972563743591309, 5.811235427856445, 5.249016284942627, 4.591712951660156, 3.0039010047912598, 5.6912617683410645, 5.522642135620117, 4.34633207321167, 4.131892204284668, 7.8105621337890625, 6.272522926330566, 6.027096748352051, 7.909758567810059, 6.964921951293945, 6.248211860656738, 9.945011138916016, 11.155228614807129, 10.994795799255371, 12.926084518432617, 2.296696901321411, 10.26000690460205, 10.010245323181152, 2.420604705810547, 6.004141807556152, 7.67954158782959, 7.2763261795043945, 7.856127738952637, 3.767958164215088, 3.3419277667999268, 7.920353889465332, 14.41504192352295, 9.21446418762207, 3.5050785541534424, 8.643925666809082, 15.216218948364258, 10.278054237365723, 7.61870002746582, 1.6624990701675415, 9.690272331237793, 8.267441749572754, 5.0862603187561035, 3.373502254486084, 9.057024002075195, 6.081646919250488, 10.978267669677734, 10.869150161743164, 4.1531548500061035, 8.469112396240234, 5.915832996368408, 7.359879970550537, 7.950217247009277, 2.5827410221099854, 11.10693359375, 12.135798454284668, 8.551651000976562, 7.568266868591309, 6.609244346618652, 8.139250755310059, 6.416871547698975, 9.779162406921387, 3.6697113513946533, 5.5047526359558105, 9.601980209350586, 5.634112358093262, 9.350830078125, 7.978278636932373, 5.8858866691589355, 5.938467025756836, 4.546831130981445, 3.0449812412261963, 9.845008850097656, 8.826147079467773, 11.081003189086914, 10.50273609161377, 5.580766677856445, 10.736780166625977, 13.340792655944824, 10.080696105957031, 2.4128780364990234, 3.7314653396606445, 3.0200603008270264, 7.166385650634766, 9.072174072265625, 3.4924139976501465, 1.566785454750061, 4.941502571105957, 4.817218780517578, 8.460829734802246, 6.473690509796143, 10.428336143493652, 7.798968315124512, 9.183754920959473, 8.675348281860352, 1.9631340503692627, 6.8589677810668945, 6.846414089202881, 4.307228088378906, 3.9504806995391846, 9.585103988647461, 11.609189987182617, 3.269543170928955, 6.6036553382873535, 7.4982194900512695, 9.814030647277832, 6.968972682952881, 9.530644416809082, 6.501305103302002, 10.69788646697998, 12.659075736999512, 7.234927654266357, 15.667191505432129, 7.371014595031738, 3.0495922565460205, 6.704792022705078, 12.421600341796875, 4.968011379241943, 7.431762218475342, 11.27343463897705, 5.171220302581787, 7.473900318145752, 10.274847030639648, 6.09148645401001, 1.9311115741729736, 2.8447611331939697, 2.558244228363037, 8.357245445251465, 6.033767223358154, 8.77758502960205, 11.346301078796387, 10.509958267211914, 4.610325813293457, 5.667008399963379, 5.860263824462891, 10.430439949035645, 4.217163562774658, 4.465331554412842, 11.785327911376953, 11.742267608642578, 9.211005210876465, 7.930534362792969, 8.222509384155273, 5.1824750900268555, 9.733230590820312, 5.7523722648620605, 9.737076759338379, 9.147090911865234, 4.208324432373047, 8.650081634521484, 9.236726760864258, 5.6760382652282715, 7.522932052612305, 6.743415355682373, 3.615368127822876, 11.286218643188477, 4.314516544342041, 8.003058433532715, 5.5285162925720215, 11.243803024291992, 5.693576335906982, 1.936935305595398, 8.11180591583252, 8.482340812683105, 10.173872947692871, 11.401839256286621, 4.141353607177734, 5.636673450469971, 8.985257148742676, 10.417640686035156, 7.895409107208252, 7.953834533691406, 7.456139087677002, 9.178834915161133, 5.970469951629639, 2.836005687713623, 9.413641929626465, 4.166536331176758, 9.634554862976074, 8.014463424682617, 4.196316719055176, 6.851734638214111, 5.931558132171631, 4.375211715698242, 7.045203685760498, 7.809755325317383, 8.749091148376465, 12.25332260131836, 10.863658905029297, 8.201173782348633, 3.322890043258667, 5.961291313171387, 5.761679649353027, 4.962610244750977, 5.746339797973633, 9.945261001586914, 1.1924247741699219, 9.840065956115723, 8.067511558532715, 4.495019912719727, 6.1468353271484375, 9.173846244812012, 8.800253868103027, 9.129813194274902, 10.15665340423584, 8.77192211151123, 1.3976688385009766, 3.9917943477630615, 2.5811944007873535, 4.0829081535339355, 4.836700439453125, 9.676630973815918, 11.426132202148438, 8.49556827545166, 7.4886980056762695, 8.285655975341797, 10.050124168395996, 7.7820634841918945, 11.48247241973877, 4.523767471313477, 7.207770347595215, 7.973703861236572, 6.601588726043701, 5.416110992431641, 9.601570129394531, 5.0228705406188965, 7.728517055511475, 6.565145015716553, 8.479470252990723, 7.312286376953125, 11.067888259887695, 4.195551872253418, 11.727001190185547, 4.395617961883545, 13.295768737792969, 0.921217143535614, 3.3830957412719727, 4.500509262084961, 12.615943908691406, 6.340397834777832, 8.927117347717285, 8.70133113861084, 2.643441915512085, 11.598424911499023, 8.90662956237793, 8.898075103759766, 4.813423156738281, 5.470215320587158, 8.033942222595215, 8.703939437866211, 3.7889389991760254, 10.732491493225098, 2.7394301891326904, 9.263766288757324, 7.708045959472656, 9.087054252624512, 8.201948165893555, 4.122812747955322, 9.304328918457031, 10.019646644592285, 8.448128700256348, 12.670165061950684, 5.169384956359863, 11.114899635314941, 8.448505401611328, 3.0423498153686523, 6.523619651794434, 11.347033500671387, 1.4201864004135132, 10.097345352172852, 5.066043853759766, 5.389975547790527, 5.102814674377441, 6.701867580413818, 9.559579849243164, 6.995984077453613, 5.781737804412842, 4.769503116607666, 4.8248677253723145, 7.564432144165039, 3.4716436862945557, 10.917947769165039, 9.271611213684082, 3.1716277599334717, 13.635202407836914, 8.053839683532715, 0.557325541973114, 6.868708610534668, 12.097196578979492, 3.1821134090423584, 10.788739204406738, 6.663607597351074, 8.674636840820312, 9.889320373535156, 6.910363674163818, 9.537784576416016, 4.10181188583374, 3.334930181503296, 10.329228401184082, 5.634032249450684, 14.462841987609863, 8.428986549377441, 10.555339813232422, 15.441773414611816, 11.653420448303223, 9.669766426086426, 12.192200660705566, 1.7442492246627808, 9.95542049407959, 5.5516791343688965, 2.3565611839294434, 8.186480522155762, 11.175775527954102, 4.99245548248291, 11.511799812316895, 3.3539345264434814, 5.646022319793701, 5.320830345153809, 7.439333438873291, 8.012928009033203, 10.939621925354004, 14.238654136657715, 9.637621879577637, 7.890259742736816, 7.700924396514893, 1.922611117362976, 3.5416622161865234, 7.726773738861084, 7.657605171203613, 8.981643676757812, 11.325525283813477, 5.438904285430908, 7.835996150970459, 8.390128135681152, 8.822587966918945, 6.092984199523926, 7.668423175811768, 3.4286863803863525, 6.378962516784668, 5.621038436889648, 10.568387985229492, 8.003612518310547, 10.431485176086426, 8.179367065429688, 2.9719130992889404, 7.507450103759766, 6.882565021514893, 8.248695373535156, 8.799956321716309, 0.6486315131187439, 9.55029296875, 9.527085304260254, 9.881641387939453, 6.539374828338623, 8.651572227478027, 13.221185684204102, 11.860847473144531, 11.5961275100708, 4.875986576080322, 9.53892993927002, 5.24587869644165, 8.617430686950684, 7.354117393493652, 2.640127658843994, 6.065571308135986, 4.297420978546143, 5.236569404602051, 9.045244216918945, 10.239627838134766, 8.938392639160156, 10.963332176208496, 7.1792988777160645, 10.378083229064941, 6.858593463897705, 10.280261993408203, 9.725641250610352, 3.5952603816986084, 7.886496543884277, 6.945178985595703, 9.645522117614746, 4.950836181640625, 7.066508769989014, 6.625830173492432, 6.908583641052246, 7.957294940948486, 9.626346588134766, 13.904886245727539, 5.464240550994873, 3.281176805496216, 8.128604888916016, 4.3932905197143555, 10.212806701660156, 5.286872386932373, 6.306337833404541, 10.689895629882812, 6.951818943023682, 5.950683116912842, 6.251729965209961, 10.081902503967285, 7.474283695220947, 13.878195762634277, 4.22843074798584, 7.540207386016846, 6.703043460845947, 7.146567344665527, 6.706737518310547, 8.20754623413086, 6.150728702545166, 10.258833885192871, 7.990104675292969, 14.230058670043945, 10.375391006469727, 9.170196533203125, 6.830682277679443, 5.029231071472168, 7.946625709533691, 5.8146562576293945, 6.171935081481934, 10.5, 6.95842981338501, 8.847209930419922, 4.762072563171387, 3.0115432739257812, 13.340479850769043, 7.235820293426514, 9.8189115524292, 5.3548760414123535, 2.3605008125305176, 7.062045574188232, 10.16213607788086, 10.590898513793945, 7.595227241516113, 9.301204681396484, 11.54824161529541, 2.1801323890686035, 13.443940162658691, 7.0656304359436035, 3.4291534423828125, 9.740222930908203, 9.043859481811523, 11.815877914428711, 10.781501770019531, 17.7078800201416, 2.700378179550171, 2.1204283237457275, 13.251161575317383, 11.085007667541504, 2.8270201683044434, 1.403153657913208, 13.113616943359375, 11.395898818969727, 9.62807559967041, 3.6501317024230957, 5.7006988525390625, 10.856732368469238, 7.571440696716309, 3.4796743392944336, 2.974971294403076, 12.591170310974121, 11.472134590148926, 2.2965874671936035, 8.99229621887207, 4.644934177398682, 9.009891510009766, 12.609559059143066, 7.311601638793945, 13.608235359191895, 3.372443675994873, 6.384296417236328, 11.596853256225586, 8.682143211364746, 6.053302764892578, 8.974353790283203, 5.5570454597473145, 6.8910627365112305, 4.68276834487915, 7.085611820220947, 3.354149103164673, 1.7439974546432495, 11.265835762023926, 4.293879508972168, 6.768566131591797, 6.0963850021362305, 6.733483791351318, 11.107367515563965, 5.006719589233398, 4.800827980041504, 7.907139778137207, 8.295275688171387, 8.339430809020996, 9.157160758972168, 2.782834053039551, 9.016529083251953, 5.988860607147217, 5.843785762786865, 10.813023567199707, 2.453904867172241, 5.689600467681885, 5.853484630584717, 14.959991455078125, 8.664968490600586, 3.9573512077331543, 5.463622570037842, 7.239647388458252, 3.512946605682373, 5.9291911125183105, 8.868003845214844, 6.524352550506592, 7.374922275543213, 7.5110955238342285, 6.778163433074951, 6.124358177185059, 2.807130813598633, 8.450783729553223, 4.842714786529541, 2.9177350997924805, 4.853555202484131, 4.7513508796691895, 7.133368968963623, 9.786705017089844, 7.394108295440674, 6.313478946685791, 7.521028518676758, 9.188122749328613, 6.894580364227295, 6.249344825744629, 7.887750148773193, 9.417386054992676, 3.3172333240509033, 10.176824569702148, 11.63160228729248, 2.545354127883911, 4.657867908477783, 6.5931172370910645, 9.288321495056152, 4.557372570037842, 3.988215923309326, 4.334976673126221, 1.3217039108276367, 5.641463279724121, 8.894970893859863, 7.2314677238464355, 14.395730018615723, 6.130782127380371, 10.565159797668457, 8.349539756774902, 5.212716102600098, 4.955032825469971, 5.169870853424072, 8.51061725616455, 1.0903013944625854, 7.186151027679443, 3.4112708568573, 6.7730937004089355, 5.164861679077148, 8.1666259765625, 2.57665753364563, 4.1332221031188965, 5.761740684509277, 5.296028137207031, 6.29529333114624, 1.1563398838043213, 4.101995468139648, 3.8220577239990234, 4.719954967498779, 3.3720202445983887, 8.057531356811523, 3.5329272747039795, 6.773865222930908, 3.4692440032958984, 3.9051127433776855, 2.4688401222229004, 7.789672374725342, 3.0062499046325684, 10.01794147491455, 2.975592851638794, 3.438877582550049, 5.174351215362549, 1.7012914419174194, 4.7050652503967285, 4.8581109046936035, 2.975884437561035, 4.7113165855407715, 5.759305000305176, 9.450780868530273, 1.6443109512329102, 3.7102737426757812, 4.135890483856201, 5.7852301597595215, 2.445443868637085, 5.147686004638672, 1.1299775838851929, 5.384957313537598, 2.3100857734680176, 3.418095111846924, 2.661968469619751, 4.788934707641602, 8.543006896972656, 12.316545486450195, 5.867680072784424, 5.1894965171813965, 9.576726913452148, 9.598321914672852, 13.047262191772461, 11.566856384277344, 13.748939514160156, 13.101961135864258, 9.844402313232422, 4.165213108062744, 8.745829582214355, 1.8661435842514038, 5.572528839111328, 2.418765068054199, 5.008271217346191, 1.9041502475738525, 6.619748115539551, 2.73073673248291, 2.534210681915283, 2.4496893882751465, 1.7967511415481567, 1.9347238540649414, 2.767331838607788, 2.3376729488372803, 5.435413837432861, 6.305891513824463, 4.847557544708252, 6.082159996032715, 3.7369167804718018]\n",
      "Match 0: CIFAR10.4363 (label: ship, distance: 0.9780)\n",
      "Match 1: CIFAR10.4155 (label: ship, distance: 0.9771)\n",
      "Match 2: CIFAR10.432 (label: airplane, distance: 0.9767)\n"
     ]
    }
   ],
   "source": [
    "if IS_COLAB:\n",
    "    print(\"Please upload an image file from your computer:\")\n",
    "    uploaded = files.upload()\n",
    "    img_file_title = list(uploaded.keys())[0]\n",
    "    img_filepath = os.path.join(os.getcwd(), img_file_title)\n",
    "else:\n",
    "    img_filepath = input(\"Please provide the full path to the image file: \")\n",
    "\n",
    "supplied_image= upload_image(img_filepath)\n",
    "print(\"Your query image:\")\n",
    "display(supplied_image)\n",
    "print(\"Similar images:\")\n",
    "upload_array_indices=[]\n",
    "upload_label_list=[]\n",
    "for match_i, match  in enumerate(image_similarity_search(supplied_image, top_k=3)):\n",
    "      # Show the top 5 matching results\n",
    "      print(f\"Match {match_i}: {match['document']} \", end=\"\")\n",
    "      print(f\"(label: {match['metadata']['label']}, \", end=\"\")\n",
    "      print(f\"distance: {match['distance']:.4f})\")\n",
    "      image_id=match['document'].split(\".\")\n",
    "      upload_array_indices.append(int(image_id[1]))\n",
    "      upload_label_list.append(match['metadata']['label'])\n",
    "display_top_5_matches(matches, upload_array_indices, upload_label_list)\n",
    "\n"
   ]
  },
  {
   "cell_type": "markdown",
   "id": "yXwEwwWmcs8E",
   "metadata": {
    "id": "yXwEwwWmcs8E"
   },
   "source": [
    "## Image Similarity Web App\n",
    "\n",
    "The following cells set up and launch a simple application, powered by [Gradio](https://www.gradio.app/) demonstrating the image similarity search seen so far.\n",
    "\n",
    "In its essence, Gradio makes it easy to expose a graphical interface around the following function, built using the components seen earlier, that accepts a user-provided image as input and returns a number of results from the library, found by similarity."
   ]
  },
  {
   "cell_type": "code",
   "execution_count": 43,
   "id": "d6a2df13",
   "metadata": {
    "id": "d6a2df13"
   },
   "outputs": [],
   "source": [
    "NUM_RESULT_WIDGETS = 5\n",
    "\n",
    "def gradio_upload_image(input_image):\n",
    "    if input_image is not None:\n",
    "        found_images = []\n",
    "        for match_i, match  in enumerate(image_similarity_search(supplied_image, top_k=5)):\n",
    "              # Show the top 5 matching results\n",
    "              image_id=match['document'].split(\".\")\n",
    "              found_images.append(selected_img_array[int(image_id[1])])\n",
    "              plt.imshow(selected_img_array[int(image_id[1])])\n",
    "    else:\n",
    "        found_images = []\n",
    "    # pad the result in any case to the number of displayed widgets\n",
    "    return found_images+[None]*(NUM_RESULT_WIDGETS-len(found_images))"
   ]
  },
  {
   "cell_type": "markdown",
   "id": "qmwv1HnlAt3x",
   "metadata": {
    "id": "qmwv1HnlAt3x"
   },
   "source": [
    "The next cell starts the Gradio app: click on the URL that will be displayed to open it.\n",
    "\n",
    "Please keep in mind that:\n",
    "\n",
    "- The cell will keep running as long as the UI is running. **Interrupt the notebook kernel to regain control** (e.g. to modify and re-launch, or execute other cells, etc).\n",
    "- The cell output will give both a local URL to access the application, and an URL such as `https://<....>.gradio.live` to reach it from anywhere. **Use the latter link from Colab and when sharing with others**. _(The link will expire after a certain time.)_\n",
    "- The UI will also be shown within the notebook below the cell."
   ]
  },
  {
   "cell_type": "code",
   "execution_count": 44,
   "id": "a47be7d5",
   "metadata": {
    "id": "a47be7d5",
    "outputId": "95d2ce05-d798-481c-d378-0bbeda9aa26f"
   },
   "outputs": [
    {
     "name": "stdout",
     "output_type": "stream",
     "text": [
      "Colab notebook detected. This cell will run indefinitely so that you can see errors and logs. To turn off, set debug=False in launch().\n",
      "Running on public URL: https://7b465ab32fd4111dd5.gradio.live\n",
      "\n",
      "This share link expires in 72 hours. For free permanent hosting and GPU upgrades, run `gradio deploy` from Terminal to deploy to Spaces (https://huggingface.co/spaces)\n"
     ]
    },
    {
     "name": "stdout",
     "output_type": "stream",
     "text": [
      "[8.976046562194824, 5.853018760681152, 6.696882247924805, 7.427229404449463, 8.272834777832031, 10.993773460388184, 2.562298059463501, 2.544149398803711, 1.5611939430236816, 2.942577838897705, 7.85042142868042, 2.857254981994629, 2.4498753547668457, 1.9209791421890259, 7.401139259338379, 1.416491150856018, 2.323604106903076, 7.109045505523682, 4.1230926513671875, 3.7145309448242188, 3.776705265045166, 5.705783367156982, 3.7470977306365967, 2.718027353286743, 1.3824955224990845, 3.0373191833496094, 5.0486860275268555, 4.1270060539245605, 7.269206523895264, 7.185337543487549, 6.729756832122803, 3.4149653911590576, 6.336710453033447, 8.259127616882324, 8.980483055114746, 4.897894382476807, 7.353363513946533, 1.9886183738708496, 6.8266191482543945, 5.009034156799316, 3.1453518867492676, 5.9240522384643555, 6.0985260009765625, 8.675432205200195, 3.3313863277435303, 2.830519199371338, 2.671961784362793, 6.110537052154541, 2.575195789337158, 3.2935945987701416, 2.526153087615967, 9.243142127990723, 3.5753588676452637, 4.494084358215332, 3.9164071083068848, 2.080695390701294, 4.248213291168213, 2.9591219425201416, 2.822392702102661, 7.258362770080566, 4.090455532073975, 5.61344051361084, 11.644854545593262, 7.177807331085205, 5.430502891540527, 10.22120189666748, 5.9667181968688965, 3.1026546955108643, 7.612353801727295, 2.996386766433716, 2.660482406616211, 6.175392150878906, 5.161720275878906, 7.428372859954834, 3.142202854156494, 2.224268913269043, 2.4247822761535645, 1.4256653785705566, 7.27888822555542, 3.264646053314209, 11.777544975280762, 5.002040386199951, 3.0504519939422607, 4.84347677230835, 5.31815242767334, 1.9051684141159058, 3.9542601108551025, 2.5459988117218018, 4.991442680358887, 2.9733736515045166, 2.529925584793091, 3.3825345039367676, 3.6170084476470947, 1.6316132545471191, 2.087926149368286, 6.40195369720459, 1.676066279411316, 6.719770908355713, 15.017207145690918, 5.849376201629639, 3.616196632385254, 7.569599628448486, 3.525261402130127, 12.09009838104248, 3.6533796787261963, 6.476195812225342, 3.8918111324310303, 5.304619789123535, 2.4645636081695557, 7.3998823165893555, 8.984238624572754, 4.985814571380615, 4.231834888458252, 3.9801647663116455, 3.539466381072998, 6.0288262367248535, 5.819498062133789, 10.462621688842773, 9.541973114013672, 6.200597763061523, 9.332184791564941, 9.520989418029785, 10.829408645629883, 6.465602397918701, 5.926657199859619, 3.1834840774536133, 7.959786891937256, 2.989932060241699, 9.486032485961914, 2.7072043418884277, 1.648599624633789, 5.634095191955566, 4.417121410369873, 2.562711238861084, 2.3809239864349365, 7.524450302124023, 6.8025712966918945, 5.216651439666748, 1.374947428703308, 6.537753105163574, 5.85188627243042, 3.012209177017212, 8.838234901428223, 6.0233612060546875, 5.548659801483154, 8.283458709716797, 9.391961097717285, 14.358019828796387, 15.045219421386719, 11.590967178344727, 11.813212394714355, 7.510343551635742, 9.141524314880371, 6.678335189819336, 8.278021812438965, 7.222535133361816, 8.29357624053955, 8.503190040588379, 10.326652526855469, 8.190467834472656, 7.003326892852783, 7.629648685455322, 7.722301483154297, 7.3107781410217285, 9.9746675491333, 9.546244621276855, 11.377267837524414, 10.890899658203125, 9.990389823913574, 9.18681812286377, 8.015843391418457, 9.465519905090332, 7.2213287353515625, 8.615924835205078, 8.478925704956055, 9.763712882995605, 7.391275405883789, 7.109912395477295, 6.472570419311523, 7.408487796783447, 8.756402969360352, 9.547389030456543, 6.22361421585083, 9.473886489868164, 6.821115970611572, 8.855335235595703, 7.947618007659912, 6.634068012237549, 10.663448333740234, 7.950870037078857, 9.676033020019531, 5.085905075073242, 6.759072303771973, 8.16007137298584, 8.559099197387695, 6.341099262237549, 6.331632614135742, 6.202840328216553, 8.49224853515625, 5.334539413452148, 7.7113118171691895, 4.094690322875977, 5.862569332122803, 7.153948783874512, 5.873802661895752, 8.17666244506836, 10.712636947631836, 9.338866233825684, 9.162687301635742, 7.0824995040893555, 10.802287101745605, 6.619728088378906, 8.211756706237793, 6.931811809539795, 5.720968246459961, 9.084983825683594, 7.819804668426514, 6.617483615875244, 7.383118629455566, 5.521390914916992, 8.619978904724121, 11.049736976623535, 7.538292407989502, 6.860528469085693, 7.080907344818115, 6.509727954864502, 5.133885860443115, 7.768239974975586, 9.810778617858887, 7.097938060760498, 6.100345611572266, 7.120359897613525, 8.862394332885742, 6.518764019012451, 6.077895164489746, 7.9645586013793945, 7.070798873901367, 7.020890235900879, 6.949756145477295, 4.667117118835449, 7.037619590759277, 10.711949348449707, 5.45460844039917, 7.376914978027344, 7.4745659828186035, 6.71494197845459, 8.338839530944824, 7.929139137268066, 11.208381652832031, 8.957863807678223, 10.832883834838867, 7.360113143920898, 8.336566925048828, 7.936232566833496, 6.648253917694092, 8.648219108581543, 8.058324813842773, 7.385760307312012, 6.705430030822754, 6.345677375793457, 6.862212181091309, 7.429417610168457, 8.378220558166504, 6.843543529510498, 10.675830841064453, 6.267154216766357, 6.2976884841918945, 8.44780445098877, 8.544039726257324, 8.264785766601562, 7.280389308929443, 5.884531497955322, 9.060090065002441, 9.120284080505371, 7.486026287078857, 5.770923137664795, 4.3861823081970215, 5.371867656707764, 3.7472949028015137, 8.418745040893555, 6.022021770477295, 7.232626914978027, 5.759332656860352, 8.969799041748047, 7.191781044006348, 7.1642560958862305, 8.209166526794434, 7.6580610275268555, 8.831498146057129, 6.186661243438721, 9.266621589660645, 7.038630485534668, 9.721033096313477, 9.32508659362793, 9.061897277832031, 6.660524845123291, 10.845999717712402, 5.918048858642578, 4.079378128051758, 4.577709674835205, 7.130014419555664, 4.181357383728027, 8.65822982788086, 6.660872936248779, 3.482616901397705, 5.069846153259277, 4.943101406097412, 2.670231342315674, 3.049295425415039, 3.6727700233459473, 9.068005561828613, 2.380802631378174, 1.922438383102417, 2.261375665664673, 5.7677459716796875, 3.0825159549713135, 2.933598756790161, 2.5073485374450684, 2.5934431552886963, 6.426142692565918, 8.121464729309082, 3.169670581817627, 2.215637683868408, 3.9923880100250244, 6.399685859680176, 1.9779919385910034, 5.348387718200684, 4.195938587188721, 2.5667309761047363, 3.2516841888427734, 7.280210018157959, 8.17587661743164, 7.018871307373047, 2.701176166534424, 4.381082534790039, 8.810182571411133, 5.042080879211426, 10.345595359802246, 8.100223541259766, 10.024141311645508, 5.56150484085083, 8.599174499511719, 4.8060736656188965, 4.668150424957275, 6.764584064483643, 8.27860164642334, 2.774916887283325, 8.0877103805542, 4.070229530334473, 9.399883270263672, 6.3942108154296875, 5.951371669769287, 5.5104079246521, 8.681397438049316, 9.511917114257812, 6.388183116912842, 8.788756370544434, 8.27460765838623, 9.571829795837402, 9.526984214782715, 12.232270240783691, 8.576111793518066, 7.3970184326171875, 3.103118419647217, 8.396234512329102, 5.958642959594727, 5.070849418640137, 5.5248541831970215, 4.6783976554870605, 5.662689685821533, 5.258480548858643, 7.131307125091553, 6.362277507781982, 6.044013977050781, 5.972563743591309, 5.811235427856445, 5.249016284942627, 4.591712951660156, 3.0039010047912598, 5.6912617683410645, 5.522642135620117, 4.34633207321167, 4.131892204284668, 7.8105621337890625, 6.272522926330566, 6.027096748352051, 7.909758567810059, 6.964921951293945, 6.248211860656738, 9.945011138916016, 11.155228614807129, 10.994795799255371, 12.926084518432617, 2.296696901321411, 10.26000690460205, 10.010245323181152, 2.420604705810547, 6.004141807556152, 7.67954158782959, 7.2763261795043945, 7.856127738952637, 3.767958164215088, 3.3419277667999268, 7.920353889465332, 14.41504192352295, 9.21446418762207, 3.5050785541534424, 8.643925666809082, 15.216218948364258, 10.278054237365723, 7.61870002746582, 1.6624990701675415, 9.690272331237793, 8.267441749572754, 5.0862603187561035, 3.373502254486084, 9.057024002075195, 6.081646919250488, 10.978267669677734, 10.869150161743164, 4.1531548500061035, 8.469112396240234, 5.915832996368408, 7.359879970550537, 7.950217247009277, 2.5827410221099854, 11.10693359375, 12.135798454284668, 8.551651000976562, 7.568266868591309, 6.609244346618652, 8.139250755310059, 6.416871547698975, 9.779162406921387, 3.6697113513946533, 5.5047526359558105, 9.601980209350586, 5.634112358093262, 9.350830078125, 7.978278636932373, 5.8858866691589355, 5.938467025756836, 4.546831130981445, 3.0449812412261963, 9.845008850097656, 8.826147079467773, 11.081003189086914, 10.50273609161377, 5.580766677856445, 10.736780166625977, 13.340792655944824, 10.080696105957031, 2.4128780364990234, 3.7314653396606445, 3.0200603008270264, 7.166385650634766, 9.072174072265625, 3.4924139976501465, 1.566785454750061, 4.941502571105957, 4.817218780517578, 8.460829734802246, 6.473690509796143, 10.428336143493652, 7.798968315124512, 9.183754920959473, 8.675348281860352, 1.9631340503692627, 6.8589677810668945, 6.846414089202881, 4.307228088378906, 3.9504806995391846, 9.585103988647461, 11.609189987182617, 3.269543170928955, 6.6036553382873535, 7.4982194900512695, 9.814030647277832, 6.968972682952881, 9.530644416809082, 6.501305103302002, 10.69788646697998, 12.659075736999512, 7.234927654266357, 15.667191505432129, 7.371014595031738, 3.0495922565460205, 6.704792022705078, 12.421600341796875, 4.968011379241943, 7.431762218475342, 11.27343463897705, 5.171220302581787, 7.473900318145752, 10.274847030639648, 6.09148645401001, 1.9311115741729736, 2.8447611331939697, 2.558244228363037, 8.357245445251465, 6.033767223358154, 8.77758502960205, 11.346301078796387, 10.509958267211914, 4.610325813293457, 5.667008399963379, 5.860263824462891, 10.430439949035645, 4.217163562774658, 4.465331554412842, 11.785327911376953, 11.742267608642578, 9.211005210876465, 7.930534362792969, 8.222509384155273, 5.1824750900268555, 9.733230590820312, 5.7523722648620605, 9.737076759338379, 9.147090911865234, 4.208324432373047, 8.650081634521484, 9.236726760864258, 5.6760382652282715, 7.522932052612305, 6.743415355682373, 3.615368127822876, 11.286218643188477, 4.314516544342041, 8.003058433532715, 5.5285162925720215, 11.243803024291992, 5.693576335906982, 1.936935305595398, 8.11180591583252, 8.482340812683105, 10.173872947692871, 11.401839256286621, 4.141353607177734, 5.636673450469971, 8.985257148742676, 10.417640686035156, 7.895409107208252, 7.953834533691406, 7.456139087677002, 9.178834915161133, 5.970469951629639, 2.836005687713623, 9.413641929626465, 4.166536331176758, 9.634554862976074, 8.014463424682617, 4.196316719055176, 6.851734638214111, 5.931558132171631, 4.375211715698242, 7.045203685760498, 7.809755325317383, 8.749091148376465, 12.25332260131836, 10.863658905029297, 8.201173782348633, 3.322890043258667, 5.961291313171387, 5.761679649353027, 4.962610244750977, 5.746339797973633, 9.945261001586914, 1.1924247741699219, 9.840065956115723, 8.067511558532715, 4.495019912719727, 6.1468353271484375, 9.173846244812012, 8.800253868103027, 9.129813194274902, 10.15665340423584, 8.77192211151123, 1.3976688385009766, 3.9917943477630615, 2.5811944007873535, 4.0829081535339355, 4.836700439453125, 9.676630973815918, 11.426132202148438, 8.49556827545166, 7.4886980056762695, 8.285655975341797, 10.050124168395996, 7.7820634841918945, 11.48247241973877, 4.523767471313477, 7.207770347595215, 7.973703861236572, 6.601588726043701, 5.416110992431641, 9.601570129394531, 5.0228705406188965, 7.728517055511475, 6.565145015716553, 8.479470252990723, 7.312286376953125, 11.067888259887695, 4.195551872253418, 11.727001190185547, 4.395617961883545, 13.295768737792969, 0.921217143535614, 3.3830957412719727, 4.500509262084961, 12.615943908691406, 6.340397834777832, 8.927117347717285, 8.70133113861084, 2.643441915512085, 11.598424911499023, 8.90662956237793, 8.898075103759766, 4.813423156738281, 5.470215320587158, 8.033942222595215, 8.703939437866211, 3.7889389991760254, 10.732491493225098, 2.7394301891326904, 9.263766288757324, 7.708045959472656, 9.087054252624512, 8.201948165893555, 4.122812747955322, 9.304328918457031, 10.019646644592285, 8.448128700256348, 12.670165061950684, 5.169384956359863, 11.114899635314941, 8.448505401611328, 3.0423498153686523, 6.523619651794434, 11.347033500671387, 1.4201864004135132, 10.097345352172852, 5.066043853759766, 5.389975547790527, 5.102814674377441, 6.701867580413818, 9.559579849243164, 6.995984077453613, 5.781737804412842, 4.769503116607666, 4.8248677253723145, 7.564432144165039, 3.4716436862945557, 10.917947769165039, 9.271611213684082, 3.1716277599334717, 13.635202407836914, 8.053839683532715, 0.557325541973114, 6.868708610534668, 12.097196578979492, 3.1821134090423584, 10.788739204406738, 6.663607597351074, 8.674636840820312, 9.889320373535156, 6.910363674163818, 9.537784576416016, 4.10181188583374, 3.334930181503296, 10.329228401184082, 5.634032249450684, 14.462841987609863, 8.428986549377441, 10.555339813232422, 15.441773414611816, 11.653420448303223, 9.669766426086426, 12.192200660705566, 1.7442492246627808, 9.95542049407959, 5.5516791343688965, 2.3565611839294434, 8.186480522155762, 11.175775527954102, 4.99245548248291, 11.511799812316895, 3.3539345264434814, 5.646022319793701, 5.320830345153809, 7.439333438873291, 8.012928009033203, 10.939621925354004, 14.238654136657715, 9.637621879577637, 7.890259742736816, 7.700924396514893, 1.922611117362976, 3.5416622161865234, 7.726773738861084, 7.657605171203613, 8.981643676757812, 11.325525283813477, 5.438904285430908, 7.835996150970459, 8.390128135681152, 8.822587966918945, 6.092984199523926, 7.668423175811768, 3.4286863803863525, 6.378962516784668, 5.621038436889648, 10.568387985229492, 8.003612518310547, 10.431485176086426, 8.179367065429688, 2.9719130992889404, 7.507450103759766, 6.882565021514893, 8.248695373535156, 8.799956321716309, 0.6486315131187439, 9.55029296875, 9.527085304260254, 9.881641387939453, 6.539374828338623, 8.651572227478027, 13.221185684204102, 11.860847473144531, 11.5961275100708, 4.875986576080322, 9.53892993927002, 5.24587869644165, 8.617430686950684, 7.354117393493652, 2.640127658843994, 6.065571308135986, 4.297420978546143, 5.236569404602051, 9.045244216918945, 10.239627838134766, 8.938392639160156, 10.963332176208496, 7.1792988777160645, 10.378083229064941, 6.858593463897705, 10.280261993408203, 9.725641250610352, 3.5952603816986084, 7.886496543884277, 6.945178985595703, 9.645522117614746, 4.950836181640625, 7.066508769989014, 6.625830173492432, 6.908583641052246, 7.957294940948486, 9.626346588134766, 13.904886245727539, 5.464240550994873, 3.281176805496216, 8.128604888916016, 4.3932905197143555, 10.212806701660156, 5.286872386932373, 6.306337833404541, 10.689895629882812, 6.951818943023682, 5.950683116912842, 6.251729965209961, 10.081902503967285, 7.474283695220947, 13.878195762634277, 4.22843074798584, 7.540207386016846, 6.703043460845947, 7.146567344665527, 6.706737518310547, 8.20754623413086, 6.150728702545166, 10.258833885192871, 7.990104675292969, 14.230058670043945, 10.375391006469727, 9.170196533203125, 6.830682277679443, 5.029231071472168, 7.946625709533691, 5.8146562576293945, 6.171935081481934, 10.5, 6.95842981338501, 8.847209930419922, 4.762072563171387, 3.0115432739257812, 13.340479850769043, 7.235820293426514, 9.8189115524292, 5.3548760414123535, 2.3605008125305176, 7.062045574188232, 10.16213607788086, 10.590898513793945, 7.595227241516113, 9.301204681396484, 11.54824161529541, 2.1801323890686035, 13.443940162658691, 7.0656304359436035, 3.4291534423828125, 9.740222930908203, 9.043859481811523, 11.815877914428711, 10.781501770019531, 17.7078800201416, 2.700378179550171, 2.1204283237457275, 13.251161575317383, 11.085007667541504, 2.8270201683044434, 1.403153657913208, 13.113616943359375, 11.395898818969727, 9.62807559967041, 3.6501317024230957, 5.7006988525390625, 10.856732368469238, 7.571440696716309, 3.4796743392944336, 2.974971294403076, 12.591170310974121, 11.472134590148926, 2.2965874671936035, 8.99229621887207, 4.644934177398682, 9.009891510009766, 12.609559059143066, 7.311601638793945, 13.608235359191895, 3.372443675994873, 6.384296417236328, 11.596853256225586, 8.682143211364746, 6.053302764892578, 8.974353790283203, 5.5570454597473145, 6.8910627365112305, 4.68276834487915, 7.085611820220947, 3.354149103164673, 1.7439974546432495, 11.265835762023926, 4.293879508972168, 6.768566131591797, 6.0963850021362305, 6.733483791351318, 11.107367515563965, 5.006719589233398, 4.800827980041504, 7.907139778137207, 8.295275688171387, 8.339430809020996, 9.157160758972168, 2.782834053039551, 9.016529083251953, 5.988860607147217, 5.843785762786865, 10.813023567199707, 2.453904867172241, 5.689600467681885, 5.853484630584717, 14.959991455078125, 8.664968490600586, 3.9573512077331543, 5.463622570037842, 7.239647388458252, 3.512946605682373, 5.9291911125183105, 8.868003845214844, 6.524352550506592, 7.374922275543213, 7.5110955238342285, 6.778163433074951, 6.124358177185059, 2.807130813598633, 8.450783729553223, 4.842714786529541, 2.9177350997924805, 4.853555202484131, 4.7513508796691895, 7.133368968963623, 9.786705017089844, 7.394108295440674, 6.313478946685791, 7.521028518676758, 9.188122749328613, 6.894580364227295, 6.249344825744629, 7.887750148773193, 9.417386054992676, 3.3172333240509033, 10.176824569702148, 11.63160228729248, 2.545354127883911, 4.657867908477783, 6.5931172370910645, 9.288321495056152, 4.557372570037842, 3.988215923309326, 4.334976673126221, 1.3217039108276367, 5.641463279724121, 8.894970893859863, 7.2314677238464355, 14.395730018615723, 6.130782127380371, 10.565159797668457, 8.349539756774902, 5.212716102600098, 4.955032825469971, 5.169870853424072, 8.51061725616455, 1.0903013944625854, 7.186151027679443, 3.4112708568573, 6.7730937004089355, 5.164861679077148, 8.1666259765625, 2.57665753364563, 4.1332221031188965, 5.761740684509277, 5.296028137207031, 6.29529333114624, 1.1563398838043213, 4.101995468139648, 3.8220577239990234, 4.719954967498779, 3.3720202445983887, 8.057531356811523, 3.5329272747039795, 6.773865222930908, 3.4692440032958984, 3.9051127433776855, 2.4688401222229004, 7.789672374725342, 3.0062499046325684, 10.01794147491455, 2.975592851638794, 3.438877582550049, 5.174351215362549, 1.7012914419174194, 4.7050652503967285, 4.8581109046936035, 2.975884437561035, 4.7113165855407715, 5.759305000305176, 9.450780868530273, 1.6443109512329102, 3.7102737426757812, 4.135890483856201, 5.7852301597595215, 2.445443868637085, 5.147686004638672, 1.1299775838851929, 5.384957313537598, 2.3100857734680176, 3.418095111846924, 2.661968469619751, 4.788934707641602, 8.543006896972656, 12.316545486450195, 5.867680072784424, 5.1894965171813965, 9.576726913452148, 9.598321914672852, 13.047262191772461, 11.566856384277344, 13.748939514160156, 13.101961135864258, 9.844402313232422, 4.165213108062744, 8.745829582214355, 1.8661435842514038, 5.572528839111328, 2.418765068054199, 5.008271217346191, 1.9041502475738525, 6.619748115539551, 2.73073673248291, 2.534210681915283, 2.4496893882751465, 1.7967511415481567, 1.9347238540649414, 2.767331838607788, 2.3376729488372803, 5.435413837432861, 6.305891513824463, 4.847557544708252, 6.082159996032715, 3.7369167804718018]\n",
      "Keyboard interruption in main thread... closing server.\n",
      "Killing tunnel 127.0.0.1:7860 <> https://7b465ab32fd4111dd5.gradio.live\n"
     ]
    },
    {
     "data": {
      "text/plain": []
     },
     "execution_count": 44,
     "metadata": {},
     "output_type": "execute_result"
    }
   ],
   "source": [
    "# Define the dimensions for output images\n",
    "output_width = 300\n",
    "output_height = 200\n",
    "\n",
    "image_ui = gradio.Interface(\n",
    "    fn=gradio_upload_image,\n",
    "    inputs=gradio.inputs.Image(label=\"Your query image\"),\n",
    "    outputs=[\n",
    "        gradio.components.Image(label=f\"Search result #{output_i}\",\n",
    "        width=output_width, height=output_height)\n",
    "        for output_i in range(NUM_RESULT_WIDGETS)\n",
    "    ],\n",
    "    title=\"Image Similarity Search with CassIO & Vector Database\",\n",
    ")\n",
    "image_ui.launch(share=True, debug=True)"
   ]
  },
  {
   "cell_type": "markdown",
   "id": "Ou9RZMg_htmN",
   "metadata": {
    "id": "Ou9RZMg_htmN"
   },
   "source": [
    "## What now?\n",
    "\n",
    "This demo is hosted [here](https://cassio.org/frameworks/direct_cassio/image_similarity_vectors/) at cassio.org.\n",
    "\n",
    "Discover the other ways you can integrate\n",
    "Cassandra/Astra DB with your ML/GenAI needs,\n",
    "right **within [your favorite framework](https://cassio.org/frameworks/direct_cassio/about/)**."
   ]
  }
 ],
 "metadata": {
  "colab": {
   "collapsed_sections": [
    "e49d8157"
   ],
   "gpuType": "T4",
   "provenance": [],
   "toc_visible": true
  },
  "kernelspec": {
   "display_name": "Python 3 (ipykernel)",
   "language": "python",
   "name": "python3"
  },
  "language_info": {
   "codemirror_mode": {
    "name": "ipython",
    "version": 3
   },
   "file_extension": ".py",
   "mimetype": "text/x-python",
   "name": "python",
   "nbconvert_exporter": "python",
   "pygments_lexer": "ipython3"
  },
  "widgets": {
   "application/vnd.jupyter.widget-state+json": {
    "13685eaf28264e8a8f4c77f24079da57": {
     "model_module": "@jupyter-widgets/controls",
     "model_module_version": "1.5.0",
     "model_name": "ProgressStyleModel",
     "state": {
      "_model_module": "@jupyter-widgets/controls",
      "_model_module_version": "1.5.0",
      "_model_name": "ProgressStyleModel",
      "_view_count": null,
      "_view_module": "@jupyter-widgets/base",
      "_view_module_version": "1.2.0",
      "_view_name": "StyleView",
      "bar_color": null,
      "description_width": ""
     }
    },
    "271423ea521b408e8d778663ce1fd157": {
     "model_module": "@jupyter-widgets/base",
     "model_module_version": "1.2.0",
     "model_name": "LayoutModel",
     "state": {
      "_model_module": "@jupyter-widgets/base",
      "_model_module_version": "1.2.0",
      "_model_name": "LayoutModel",
      "_view_count": null,
      "_view_module": "@jupyter-widgets/base",
      "_view_module_version": "1.2.0",
      "_view_name": "LayoutView",
      "align_content": null,
      "align_items": null,
      "align_self": null,
      "border": null,
      "bottom": null,
      "display": null,
      "flex": null,
      "flex_flow": null,
      "grid_area": null,
      "grid_auto_columns": null,
      "grid_auto_flow": null,
      "grid_auto_rows": null,
      "grid_column": null,
      "grid_gap": null,
      "grid_row": null,
      "grid_template_areas": null,
      "grid_template_columns": null,
      "grid_template_rows": null,
      "height": null,
      "justify_content": null,
      "justify_items": null,
      "left": null,
      "margin": null,
      "max_height": null,
      "max_width": null,
      "min_height": null,
      "min_width": null,
      "object_fit": null,
      "object_position": null,
      "order": null,
      "overflow": null,
      "overflow_x": null,
      "overflow_y": null,
      "padding": null,
      "right": null,
      "top": null,
      "visibility": null,
      "width": null
     }
    },
    "27f8a69275664e2b82b8cbe30de4a22b": {
     "model_module": "@jupyter-widgets/controls",
     "model_module_version": "1.5.0",
     "model_name": "FloatProgressModel",
     "state": {
      "_dom_classes": [],
      "_model_module": "@jupyter-widgets/controls",
      "_model_module_version": "1.5.0",
      "_model_name": "FloatProgressModel",
      "_view_count": null,
      "_view_module": "@jupyter-widgets/controls",
      "_view_module_version": "1.5.0",
      "_view_name": "ProgressView",
      "bar_style": "success",
      "description": "",
      "description_tooltip": null,
      "layout": "IPY_MODEL_d6414347dcb644d7ad5139afa2719ae1",
      "max": 20,
      "min": 0,
      "orientation": "horizontal",
      "style": "IPY_MODEL_13685eaf28264e8a8f4c77f24079da57",
      "value": 20
     }
    },
    "2b0af6994a9743e38978896525c60d07": {
     "model_module": "@jupyter-widgets/controls",
     "model_module_version": "1.5.0",
     "model_name": "DescriptionStyleModel",
     "state": {
      "_model_module": "@jupyter-widgets/controls",
      "_model_module_version": "1.5.0",
      "_model_name": "DescriptionStyleModel",
      "_view_count": null,
      "_view_module": "@jupyter-widgets/base",
      "_view_module_version": "1.2.0",
      "_view_name": "StyleView",
      "description_width": ""
     }
    },
    "2c16604099b2495ab4d39b782b847efd": {
     "model_module": "@jupyter-widgets/controls",
     "model_module_version": "1.5.0",
     "model_name": "HTMLModel",
     "state": {
      "_dom_classes": [],
      "_model_module": "@jupyter-widgets/controls",
      "_model_module_version": "1.5.0",
      "_model_name": "HTMLModel",
      "_view_count": null,
      "_view_module": "@jupyter-widgets/controls",
      "_view_module_version": "1.5.0",
      "_view_name": "HTMLView",
      "description": "",
      "description_tooltip": null,
      "layout": "IPY_MODEL_271423ea521b408e8d778663ce1fd157",
      "placeholder": "​",
      "style": "IPY_MODEL_9cababc0e7394fa4b306ca72f236afd3",
      "value": " 20/20 [01:45&lt;00:00,  5.21s/it]"
     }
    },
    "33b671b82dac4dc98a53ceeadc5ab75c": {
     "model_module": "@jupyter-widgets/base",
     "model_module_version": "1.2.0",
     "model_name": "LayoutModel",
     "state": {
      "_model_module": "@jupyter-widgets/base",
      "_model_module_version": "1.2.0",
      "_model_name": "LayoutModel",
      "_view_count": null,
      "_view_module": "@jupyter-widgets/base",
      "_view_module_version": "1.2.0",
      "_view_name": "LayoutView",
      "align_content": null,
      "align_items": null,
      "align_self": null,
      "border": null,
      "bottom": null,
      "display": null,
      "flex": null,
      "flex_flow": null,
      "grid_area": null,
      "grid_auto_columns": null,
      "grid_auto_flow": null,
      "grid_auto_rows": null,
      "grid_column": null,
      "grid_gap": null,
      "grid_row": null,
      "grid_template_areas": null,
      "grid_template_columns": null,
      "grid_template_rows": null,
      "height": null,
      "justify_content": null,
      "justify_items": null,
      "left": null,
      "margin": null,
      "max_height": null,
      "max_width": null,
      "min_height": null,
      "min_width": null,
      "object_fit": null,
      "object_position": null,
      "order": null,
      "overflow": null,
      "overflow_x": null,
      "overflow_y": null,
      "padding": null,
      "right": null,
      "top": null,
      "visibility": null,
      "width": null
     }
    },
    "819e999919424ce7bc41c6bd8620a1b1": {
     "model_module": "@jupyter-widgets/controls",
     "model_module_version": "1.5.0",
     "model_name": "HBoxModel",
     "state": {
      "_dom_classes": [],
      "_model_module": "@jupyter-widgets/controls",
      "_model_module_version": "1.5.0",
      "_model_name": "HBoxModel",
      "_view_count": null,
      "_view_module": "@jupyter-widgets/controls",
      "_view_module_version": "1.5.0",
      "_view_name": "HBoxView",
      "box_style": "",
      "children": [
       "IPY_MODEL_84ea47fe7c6b4cafa4f873bd808ede6a",
       "IPY_MODEL_27f8a69275664e2b82b8cbe30de4a22b",
       "IPY_MODEL_2c16604099b2495ab4d39b782b847efd"
      ],
      "layout": "IPY_MODEL_a4f39f7966534636a33aa97afefbd7bc"
     }
    },
    "84ea47fe7c6b4cafa4f873bd808ede6a": {
     "model_module": "@jupyter-widgets/controls",
     "model_module_version": "1.5.0",
     "model_name": "HTMLModel",
     "state": {
      "_dom_classes": [],
      "_model_module": "@jupyter-widgets/controls",
      "_model_module_version": "1.5.0",
      "_model_name": "HTMLModel",
      "_view_count": null,
      "_view_module": "@jupyter-widgets/controls",
      "_view_module_version": "1.5.0",
      "_view_name": "HTMLView",
      "description": "",
      "description_tooltip": null,
      "layout": "IPY_MODEL_33b671b82dac4dc98a53ceeadc5ab75c",
      "placeholder": "​",
      "style": "IPY_MODEL_2b0af6994a9743e38978896525c60d07",
      "value": "100%"
     }
    },
    "9cababc0e7394fa4b306ca72f236afd3": {
     "model_module": "@jupyter-widgets/controls",
     "model_module_version": "1.5.0",
     "model_name": "DescriptionStyleModel",
     "state": {
      "_model_module": "@jupyter-widgets/controls",
      "_model_module_version": "1.5.0",
      "_model_name": "DescriptionStyleModel",
      "_view_count": null,
      "_view_module": "@jupyter-widgets/base",
      "_view_module_version": "1.2.0",
      "_view_name": "StyleView",
      "description_width": ""
     }
    },
    "a4f39f7966534636a33aa97afefbd7bc": {
     "model_module": "@jupyter-widgets/base",
     "model_module_version": "1.2.0",
     "model_name": "LayoutModel",
     "state": {
      "_model_module": "@jupyter-widgets/base",
      "_model_module_version": "1.2.0",
      "_model_name": "LayoutModel",
      "_view_count": null,
      "_view_module": "@jupyter-widgets/base",
      "_view_module_version": "1.2.0",
      "_view_name": "LayoutView",
      "align_content": null,
      "align_items": null,
      "align_self": null,
      "border": null,
      "bottom": null,
      "display": null,
      "flex": null,
      "flex_flow": null,
      "grid_area": null,
      "grid_auto_columns": null,
      "grid_auto_flow": null,
      "grid_auto_rows": null,
      "grid_column": null,
      "grid_gap": null,
      "grid_row": null,
      "grid_template_areas": null,
      "grid_template_columns": null,
      "grid_template_rows": null,
      "height": null,
      "justify_content": null,
      "justify_items": null,
      "left": null,
      "margin": null,
      "max_height": null,
      "max_width": null,
      "min_height": null,
      "min_width": null,
      "object_fit": null,
      "object_position": null,
      "order": null,
      "overflow": null,
      "overflow_x": null,
      "overflow_y": null,
      "padding": null,
      "right": null,
      "top": null,
      "visibility": null,
      "width": null
     }
    },
    "d6414347dcb644d7ad5139afa2719ae1": {
     "model_module": "@jupyter-widgets/base",
     "model_module_version": "1.2.0",
     "model_name": "LayoutModel",
     "state": {
      "_model_module": "@jupyter-widgets/base",
      "_model_module_version": "1.2.0",
      "_model_name": "LayoutModel",
      "_view_count": null,
      "_view_module": "@jupyter-widgets/base",
      "_view_module_version": "1.2.0",
      "_view_name": "LayoutView",
      "align_content": null,
      "align_items": null,
      "align_self": null,
      "border": null,
      "bottom": null,
      "display": null,
      "flex": null,
      "flex_flow": null,
      "grid_area": null,
      "grid_auto_columns": null,
      "grid_auto_flow": null,
      "grid_auto_rows": null,
      "grid_column": null,
      "grid_gap": null,
      "grid_row": null,
      "grid_template_areas": null,
      "grid_template_columns": null,
      "grid_template_rows": null,
      "height": null,
      "justify_content": null,
      "justify_items": null,
      "left": null,
      "margin": null,
      "max_height": null,
      "max_width": null,
      "min_height": null,
      "min_width": null,
      "object_fit": null,
      "object_position": null,
      "order": null,
      "overflow": null,
      "overflow_x": null,
      "overflow_y": null,
      "padding": null,
      "right": null,
      "top": null,
      "visibility": null,
      "width": null
     }
    }
   }
  }
 },
 "nbformat": 4,
 "nbformat_minor": 5
}
