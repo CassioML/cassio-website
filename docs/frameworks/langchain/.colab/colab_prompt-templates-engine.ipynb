{
 "cells": [
  {
   "cell_type": "markdown",
   "metadata": {},
   "source": [
    "# Convertor-based templates"
   ]
  },
  {
   "cell_type": "markdown",
   "metadata": {},
   "source": [
    "## Colab-specific setup"
   ]
  },
  {
   "cell_type": "markdown",
   "metadata": {},
   "source": [
    "Make sure you have a database available. This is a Colab notebook, so here it is assumed you will use\n",
    "an Astra DB cloud instance. For usage with an Apache Cassandra® cluster, switch to a local setup\n",
    "as instructed [on cassio.org](https://cassio.org/more_info/#use-a-local-vector-capable-cassandra).\n",
    "\n",
    "Get ready to supply the connection parameters: Database ID and Token string\n",
    "(see [Pre-requisites](https://cassio.org/start_here/#vector-database) on cassio.org for details.\n",
    "Remember you need a Token with role [Database Administrator](https://awesome-astra.github.io/docs/pages/astra/create-token/)).\n",
    "\n",
    "_Note: this notebook is part of the CassIO documentation. Visit [this page on cassIO.org](https://cassio.org/frameworks/langchain/prompt-templates-engine/)._\n"
   ]
  },
  {
   "cell_type": "code",
   "execution_count": null,
   "id": "2953d95b",
   "metadata": {},
   "outputs": [],
   "source": [
    "# install required dependencies\n",
    "! pip install -q --progress-bar off \\\n",
    "    \"git+https://github.com/hemidactylus/langchain@updated-full-preview-remove-shims#egg=langchain&subdirectory=libs/langchain\" \\\n",
    "    \"cassio>=0.1.3\" \\\n",
    "    \"google-cloud-aiplatform>=1.25.0\" \\\n",
    "    \"jupyter>=1.0.0\" \\\n",
    "    \"openai==0.27.7\" \\\n",
    "    \"python-dotenv==1.0.0\" \\\n",
    "    \"tensorflow-cpu==2.12.0\" \\\n",
    "    \"tiktoken==0.4.0\" \\\n",
    "    \"transformers>=4.29.2\" \n",
    "exit()"
   ]
  },
  {
   "cell_type": "markdown",
   "id": "222f44ff",
   "metadata": {},
   "source": [
    "⚠️ **Do not mind a \"Your session crashed...\" message you may see.**\n",
    "\n",
    "It was us, making sure your kernel restarts with all the correct dependency versions. _You can now proceed with the notebook._"
   ]
  },
  {
   "cell_type": "markdown",
   "metadata": {},
   "source": [
    "### Colab preamble completed\n",
    "\n",
    "The following cells constitute the demo notebook proper."
   ]
  },
  {
   "cell_type": "markdown",
   "id": "a5b53931",
   "metadata": {},
   "source": [
    "# Convertor-based templates"
   ]
  },
  {
   "cell_type": "markdown",
   "id": "523161ec",
   "metadata": {},
   "source": [
    "Prompt templates that automatically bind to a database are built on top of a specialized kind of prompt template in LangChain called `ConvertorPromptTemplate`.\n",
    "\n",
    "This kind of prompt has one important ability: at its core is a \"convertor function\", that transforms some of the input variables passed to the prompt's `format` method into another set of output variables with other values:\n",
    "\n",
    "```\n",
    "convertor: {input1: in_value1, ...} => {output1: out_value1, ...}\n",
    "```\n",
    "\n",
    "In other words, some of the named arguments to pass to the `format` method are _not_ ending up directly in the template string's placeholders, rather they are used by the convertor to obtain the final variables for the template string.\n",
    "\n",
    "The intended usage is as follows: the convertor, bound to a database, is set to perform a lookup based on the tables' primary keys to return the desired column values, so that one can pass the lookup keys to `format` and have a prompt magically filled with the data columns from the DB corresponding to that primary key.\n",
    "\n",
    "Here is a diagram for the case of the `CassandraReaderPromptTemplate` (note: the prompt and the variables have been simplified from the case shown in the notebook for the sake of clarity):\n",
    "\n",
    "![CassandraReaderPromptTemplate](https://cassio.org/frameworks/langchain/images/cassandra-reader-prompt-template.png)\n",
    "\n",
    "A simple example with a _custom convertor function_ will show this mechanism in action and provide guidance should you need to implement your own convertor-based prompt template."
   ]
  },
  {
   "cell_type": "markdown",
   "id": "e13b6698",
   "metadata": {},
   "source": [
    "### Building a convertor prompt template "
   ]
  },
  {
   "cell_type": "markdown",
   "id": "bc0ab069",
   "metadata": {},
   "source": [
    "Build a mock \"account balance checker\" that associates a current balance to each user (a key-value store), but that also keeps a counter of how many times a certain balance is accessed."
   ]
  },
  {
   "cell_type": "code",
   "execution_count": 1,
   "id": "c80de96a",
   "metadata": {},
   "outputs": [],
   "source": [
    "class Balancer():\n",
    "    def __init__(self, accounts):\n",
    "        self.accounts = accounts\n",
    "        self._accesses = {}\n",
    "        \n",
    "    def read(self, user):\n",
    "        if user in self.accounts:\n",
    "            self._accesses[user] = self._accesses.get(user, 0) + 1\n",
    "        return self.accounts[user]\n",
    "    \n",
    "    def accesses(self):\n",
    "        return self._accesses"
   ]
  },
  {
   "cell_type": "code",
   "execution_count": 2,
   "id": "cbc96c98",
   "metadata": {},
   "outputs": [
    {
     "name": "stdout",
     "output_type": "stream",
     "text": [
      "{'Rita': 2, 'Anna': 1}\n"
     ]
    }
   ],
   "source": [
    "bal0 = Balancer({'Rita': 100, 'Otto': 40, 'Anna': 150})\n",
    "bal0.read('Rita')\n",
    "bal0.read('Rita')\n",
    "bal0.read('Anna')\n",
    "print(bal0.accesses())"
   ]
  },
  {
   "cell_type": "markdown",
   "id": "89d572c9",
   "metadata": {},
   "source": [
    "Ok, you have seen how this works.\n",
    "\n",
    "Now, create another balancer for use in the template:"
   ]
  },
  {
   "cell_type": "code",
   "execution_count": 3,
   "id": "1a51d86c",
   "metadata": {},
   "outputs": [],
   "source": [
    "myBalance = Balancer({'Katie': 1000, 'Gil': 800, 'Hugh': 1200})"
   ]
  },
  {
   "cell_type": "markdown",
   "id": "de3cfdcd",
   "metadata": {},
   "source": [
    "### Template creation"
   ]
  },
  {
   "cell_type": "code",
   "execution_count": 4,
   "id": "8b0fbf3a",
   "metadata": {},
   "outputs": [],
   "source": [
    "from langchain.prompts.database.convertor_prompt_template import ConvertorPromptTemplate"
   ]
  },
  {
   "cell_type": "markdown",
   "id": "9ef306d0",
   "metadata": {},
   "source": [
    "#### The template string"
   ]
  },
  {
   "cell_type": "code",
   "execution_count": 5,
   "id": "bd3b8090",
   "metadata": {},
   "outputs": [],
   "source": [
    "balancePrompt = (\"Hello. Your balance is {balance}. \"\n",
    "                 \"You have {unreads} unread message(s).\")"
   ]
  },
  {
   "cell_type": "markdown",
   "id": "5837c348-893d-424a-9b29-1ff16d488217",
   "metadata": {},
   "source": [
    "#### The getter and the convertor-prompt-template"
   ]
  },
  {
   "cell_type": "markdown",
   "id": "4c738e58-d6ff-4633-8afc-481c3b9b36e0",
   "metadata": {},
   "source": [
    "The \"getter\", i.e. the convertor, has a dict-in, dict-out signature and in most cases (but not necessarily) retains a reference to a global object (in this case it's `myBalance`, but it could be a DB connection or anything):"
   ]
  },
  {
   "cell_type": "code",
   "execution_count": 6,
   "id": "a8150eb9-6395-474e-a906-cef5ae2f0ede",
   "metadata": {},
   "outputs": [],
   "source": [
    "def bal_getter(args_dict):\n",
    "    user_name = args_dict['user_name']\n",
    "    return {\n",
    "        'balance': myBalance.read(user_name),\n",
    "    }"
   ]
  },
  {
   "cell_type": "markdown",
   "id": "354249da-81f9-4582-8344-b4b8215550e7",
   "metadata": {},
   "source": [
    "When creating the template, note that you have to specify the inputs and outputs of the convertor as well. That is to allow proper management of the prompt template under the various manipulations LangChain can do to prompts."
   ]
  },
  {
   "cell_type": "code",
   "execution_count": 7,
   "id": "a2310d3f-3106-4811-83e3-eaa82877e0c8",
   "metadata": {},
   "outputs": [],
   "source": [
    "myCustomTemplate = ConvertorPromptTemplate(\n",
    "    template=balancePrompt,\n",
    "    input_variables=['unreads'],\n",
    "    convertor=bal_getter,\n",
    "    convertor_input_variables=['user_name'],\n",
    "    convertor_output_variables=['balance'],\n",
    ")"
   ]
  },
  {
   "cell_type": "markdown",
   "id": "b050aecd",
   "metadata": {},
   "source": [
    "### Formatting"
   ]
  },
  {
   "cell_type": "markdown",
   "id": "52b658e7-fa95-4d2c-bf24-3d2e3dfd036f",
   "metadata": {},
   "source": [
    "At this point, formatting the template is a matter of passing the _inputs to the convertor_ (alongside any direct-to-prompt-string variable the prompt may have)."
   ]
  },
  {
   "cell_type": "code",
   "execution_count": 8,
   "id": "78cdd106",
   "metadata": {},
   "outputs": [
    {
     "data": {
      "text/plain": [
       "'Hello. Your balance is 800. You have 123 unread message(s).'"
      ]
     },
     "execution_count": 8,
     "metadata": {},
     "output_type": "execute_result"
    }
   ],
   "source": [
    "myCustomTemplate.format(user_name='Gil', unreads=123)"
   ]
  },
  {
   "cell_type": "code",
   "execution_count": 9,
   "id": "ea1cc4ac",
   "metadata": {},
   "outputs": [
    {
     "data": {
      "text/plain": [
       "'Hello. Your balance is 800. You have 456 unread message(s).'"
      ]
     },
     "execution_count": 9,
     "metadata": {},
     "output_type": "execute_result"
    }
   ],
   "source": [
    "myCustomTemplate.format(user_name='Gil', unreads=456)"
   ]
  },
  {
   "cell_type": "code",
   "execution_count": 10,
   "id": "dfd0c85f",
   "metadata": {},
   "outputs": [
    {
     "data": {
      "text/plain": [
       "'Hello. Your balance is 1000. You have 789 unread message(s).'"
      ]
     },
     "execution_count": 10,
     "metadata": {},
     "output_type": "execute_result"
    }
   ],
   "source": [
    "myCustomTemplate.format(user_name='Katie', unreads=789)"
   ]
  },
  {
   "cell_type": "markdown",
   "id": "2cfbf0d2-3e2f-4065-b546-bb5bc1d04dd5",
   "metadata": {},
   "source": [
    "A quick check reveals that the global dependency of the convertor has indeed been used throughout the calls to method `read` of `myBalance`:"
   ]
  },
  {
   "cell_type": "code",
   "execution_count": 11,
   "id": "00f559e2",
   "metadata": {},
   "outputs": [
    {
     "data": {
      "text/plain": [
       "{'Gil': 2, 'Katie': 1}"
      ]
     },
     "execution_count": 11,
     "metadata": {},
     "output_type": "execute_result"
    }
   ],
   "source": [
    "myBalance.accesses()"
   ]
  },
  {
   "cell_type": "markdown",
   "metadata": {},
   "source": [
    "## What now?\n",
    "\n",
    "This demo is hosted [here](https://cassio.org/frameworks/langchain/prompt-templates-engine/) at cassio.org.\n",
    "\n",
    "Discover the other ways you can integrate \n",
    "Cassandra/Astra DB with your ML/GenAI needs,\n",
    "right **within [your favorite framework](https://cassio.org/frameworks/langchain/about/)**."
   ]
  }
 ],
 "metadata": {
  "kernelspec": {
   "display_name": "Python 3 (ipykernel)",
   "language": "python",
   "name": "python3"
  },
  "language_info": {
   "codemirror_mode": {
    "name": "ipython",
    "version": 3
   },
   "file_extension": ".py",
   "mimetype": "text/x-python",
   "name": "python",
   "nbconvert_exporter": "python",
   "pygments_lexer": "ipython3"
  }
 },
 "nbformat": 4,
 "nbformat_minor": 5
}
