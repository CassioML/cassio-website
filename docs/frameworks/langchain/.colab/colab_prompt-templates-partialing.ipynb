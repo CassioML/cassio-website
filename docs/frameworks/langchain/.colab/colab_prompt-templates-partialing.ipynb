{
 "cells": [
  {
   "cell_type": "markdown",
   "metadata": {},
   "source": [
    "# Partialing Prompt Templates"
   ]
  },
  {
   "cell_type": "markdown",
   "metadata": {},
   "source": [
    "## Colab-specific setup"
   ]
  },
  {
   "cell_type": "markdown",
   "metadata": {},
   "source": [
    "Make sure you have a Database and get ready to upload the Secure Connect Bundle and supply the Token string\n",
    "(see [Pre-requisites](https://cassio.org/start_here/#vector-database) on cassio.org for details. Remember you need a **custom Token** with role [Database Administrator](https://awesome-astra.github.io/docs/pages/astra/create-token/)).\n",
    "\n",
    "_Note: this notebook is part of the CassIO documentation. Visit [this page on cassIO.org](https://cassio.org/frameworks/langchain/prompt-templates-partialing/)._\n"
   ]
  },
  {
   "cell_type": "code",
   "execution_count": null,
   "id": "2953d95b",
   "metadata": {},
   "outputs": [],
   "source": [
    "# install required dependencies\n",
    "! pip install \\\n",
    "    \"git+https://github.com/hemidactylus/langchain@cassio-full-preview#egg=langchain\" \\\n",
    "    \"cassandra-driver>=3.28.0\" \\\n",
    "    \"cassio==0.0.6\" \\\n",
    "    \"google-cloud-aiplatform>=1.25.0\" \\\n",
    "    \"jupyter>=1.0.0\" \\\n",
    "    \"openai==0.27.7\" \\\n",
    "    \"python-dotenv==1.0.0\" \\\n",
    "    \"tensorflow-cpu==2.12.0\" \\\n",
    "    \"tiktoken==0.4.0\" \\\n",
    "    \"transformers>=4.29.2\""
   ]
  },
  {
   "cell_type": "markdown",
   "id": "222f44ff",
   "metadata": {},
   "source": [
    "You will likely be asked to \"Restart the Runtime\" at this time, as some dependencies\n",
    "have been upgraded. **Please do restart the runtime now** for a smoother execution from this point onward."
   ]
  },
  {
   "cell_type": "code",
   "execution_count": null,
   "metadata": {},
   "outputs": [],
   "source": [
    "# Input your database keyspace name:\n",
    "ASTRA_DB_KEYSPACE = input('Your Astra DB Keyspace name (e.g. cassio_tutorials): ')"
   ]
  },
  {
   "cell_type": "code",
   "execution_count": null,
   "metadata": {},
   "outputs": [],
   "source": [
    "# Input your Astra DB token string, the one starting with \"AstraCS:...\"\n",
    "from getpass import getpass\n",
    "ASTRA_DB_TOKEN_BASED_PASSWORD = getpass('Your Astra DB Token (\"AstraCS:...\"): ')"
   ]
  },
  {
   "cell_type": "markdown",
   "metadata": {
    "id": "QNQ6T_Gjk0Oz"
   },
   "source": [
    "### Astra DB Secure Connect Bundle\n",
    "\n",
    "Please upload the Secure Connect Bundle zipfile to connect to your Astra DB instance.\n",
    "\n",
    "The Secure Connect Bundle is needed to establish a secure connection to the database.\n",
    "Click [here](https://awesome-astra.github.io/docs/pages/astra/download-scb/#c-procedure) for instructions on how to download it from Astra DB."
   ]
  },
  {
   "cell_type": "code",
   "execution_count": null,
   "metadata": {},
   "outputs": [],
   "source": [
    "# Upload your Secure Connect Bundle zipfile:\n",
    "import os\n",
    "from google.colab import files\n",
    "\n",
    "\n",
    "print('Please upload your Secure Connect Bundle')\n",
    "uploaded = files.upload()\n",
    "if uploaded:\n",
    "    astraBundleFileTitle = list(uploaded.keys())[0]\n",
    "    ASTRA_DB_SECURE_BUNDLE_PATH = os.path.join(os.getcwd(), astraBundleFileTitle)\n",
    "else:\n",
    "    raise ValueError(\n",
    "        'Cannot proceed without Secure Connect Bundle. Please re-run the cell.'\n",
    "    )"
   ]
  },
  {
   "cell_type": "code",
   "execution_count": null,
   "metadata": {},
   "outputs": [],
   "source": [
    "# colab-specific override of helper functions\n",
    "from cassandra.cluster import (\n",
    "    Cluster,\n",
    ")\n",
    "from cassandra.auth import PlainTextAuthProvider\n",
    "\n",
    "# The \"username\" is the literal string 'token' for this connection mode:\n",
    "ASTRA_DB_TOKEN_BASED_USERNAME = 'token'\n",
    "\n",
    "\n",
    "def getCQLSession(mode='astra_db'):\n",
    "    if mode == 'astra_db':\n",
    "        cluster = Cluster(\n",
    "            cloud={\n",
    "                \"secure_connect_bundle\": ASTRA_DB_SECURE_BUNDLE_PATH,\n",
    "            },\n",
    "            auth_provider=PlainTextAuthProvider(\n",
    "                ASTRA_DB_TOKEN_BASED_USERNAME,\n",
    "                ASTRA_DB_TOKEN_BASED_PASSWORD,\n",
    "            ),\n",
    "        )\n",
    "        astraSession = cluster.connect()\n",
    "        return astraSession\n",
    "    else:\n",
    "        raise ValueError('Unsupported CQL Session mode')\n",
    "\n",
    "def getCQLKeyspace(mode='astra_db'):\n",
    "    if mode == 'astra_db':\n",
    "        return ASTRA_DB_KEYSPACE\n",
    "    else:\n",
    "        raise ValueError('Unsupported CQL Session mode')"
   ]
  },
  {
   "cell_type": "markdown",
   "metadata": {},
   "source": [
    "## Populate the Database"
   ]
  },
  {
   "cell_type": "markdown",
   "metadata": {},
   "source": [
    "This notebook requires some data to be pre-populated on your database. Please follow these steps (roughly equivalent to [this section](https://cassio.org/more_info/#pre-populate-the-database) of the instructions on cassio.org):"
   ]
  },
  {
   "cell_type": "code",
   "execution_count": null,
   "metadata": {},
   "outputs": [],
   "source": [
    "ASTRA_DB_KEYSPACE = getCQLKeyspace(mode=\"astra_db\")\n",
    "\n",
    "!curl https://raw.githubusercontent.com/CassioML/cassio-website/main/setup/provision_db/write_sample_data.cql --output write_sample_data.cql\n",
    "!curl https://downloads.datastax.com/enterprise/cqlsh-astra-20230526-vectortype-bin.tar.gz --output cqlsh.tar.gz\n",
    "!tar -xzf cqlsh.tar.gz\n",
    "!./cqlsh-astra/bin/cqlsh \\\n",
    "    -b \"$ASTRA_DB_SECURE_BUNDLE_PATH\" \\\n",
    "    -u token \\\n",
    "    -p \"$ASTRA_DB_TOKEN_BASED_PASSWORD\" \\\n",
    "    -k \"$ASTRA_DB_KEYSPACE\" \\\n",
    "    -f write_sample_data.cql"
   ]
  },
  {
   "cell_type": "markdown",
   "metadata": {},
   "source": [
    "### Colab preamble completed\n",
    "\n",
    "The following cells constitute the demo notebook proper."
   ]
  },
  {
   "cell_type": "markdown",
   "id": "d956397f",
   "metadata": {},
   "source": [
    "# Partialing Prompt Templates"
   ]
  },
  {
   "cell_type": "markdown",
   "id": "f3e44740",
   "metadata": {},
   "source": [
    "Cassandra-powered prompt templates support partialing. Building on the previous examples:"
   ]
  },
  {
   "cell_type": "code",
   "execution_count": 1,
   "id": "ad27b7b0",
   "metadata": {},
   "outputs": [],
   "source": [
    "from langchain.prompts import createCassandraPromptTemplate"
   ]
  },
  {
   "cell_type": "code",
   "execution_count": 2,
   "id": "7f8edab3",
   "metadata": {},
   "outputs": [],
   "source": [
    "# creation of the DB connection\n",
    "cqlMode = 'astra_db'\n",
    "session = getCQLSession(mode=cqlMode)\n",
    "keyspace = getCQLKeyspace(mode=cqlMode)"
   ]
  },
  {
   "cell_type": "code",
   "execution_count": 3,
   "id": "d5db98e8",
   "metadata": {},
   "outputs": [],
   "source": [
    "ctemplate0 = \"\"\"Please answer a question from a user.\n",
    "Keep in mind that the user's age is {user_age} and they live in a city with\n",
    "nickname {city_nickname}.\n",
    "\n",
    "USER'S QUESTION: {user_question}\n",
    "YOUR ANSWER:\n",
    "\"\"\"\n",
    "\n",
    "cassPrompt = createCassandraPromptTemplate(\n",
    "    session=session,\n",
    "    keyspace=keyspace,\n",
    "    template=ctemplate0,\n",
    "    input_variables=['city', 'name', 'user_question'],\n",
    "    field_mapper={\n",
    "        'user_age': ('people', 'age'),\n",
    "        'city_nickname': ('nickname_by_city', 'nickname'),\n",
    "    },\n",
    ")"
   ]
  },
  {
   "cell_type": "markdown",
   "id": "88aec2df",
   "metadata": {},
   "source": [
    "## Creating a Partial Prompt\n",
    "\n",
    "Let us \"partial\" the prompt above, specifying the DB-lookup inputs and leaving only the user question unspecified:"
   ]
  },
  {
   "cell_type": "code",
   "execution_count": 4,
   "id": "e72c52f3",
   "metadata": {},
   "outputs": [],
   "source": [
    "cassPartialPrompt = cassPrompt.partial(city='lisbon', name='Pedro')"
   ]
  },
  {
   "cell_type": "markdown",
   "id": "25d85050",
   "metadata": {},
   "source": [
    "When rendering the template, the full lookup takes place at once:"
   ]
  },
  {
   "cell_type": "code",
   "execution_count": 5,
   "id": "b95ce8e4",
   "metadata": {},
   "outputs": [
    {
     "name": "stdout",
     "output_type": "stream",
     "text": [
      "Please answer a question from a user.\n",
      "Keep in mind that the user's age is 1 and they live in a city with\n",
      "nickname ACidade.\n",
      "\n",
      "USER'S QUESTION: Em verdade, o que quiseres?\n",
      "YOUR ANSWER:\n",
      "\n"
     ]
    }
   ],
   "source": [
    "print(cassPartialPrompt.format(user_question='Em verdade, o que quiseres?'))"
   ]
  },
  {
   "cell_type": "markdown",
   "id": "ae5a5b6a",
   "metadata": {},
   "source": [
    "## Partialing and Chat Prompt Templates\n",
    "\n",
    "Unfortunately, this is not supported at the LangChain level. Let's create a two-item chat sequence,"
   ]
  },
  {
   "cell_type": "code",
   "execution_count": 6,
   "id": "46971e9c",
   "metadata": {},
   "outputs": [],
   "source": [
    "systemTemplate = \"\"\"\n",
    "You are a chat assistant, helping a user of age {user_age} from a city\n",
    "they refer to as {city_nickname}.\n",
    "\"\"\"\n",
    "\n",
    "cassSystemPrompt = createCassandraPromptTemplate(\n",
    "    session=session,\n",
    "    keyspace=keyspace,\n",
    "    template=systemTemplate,\n",
    "    input_variables=['city', 'name'],\n",
    "    field_mapper={\n",
    "        'user_age': ('people', 'age'),\n",
    "        'city_nickname': ('nickname_by_city', 'nickname'),\n",
    "    },\n",
    ")\n",
    "\n",
    "from langchain.prompts import (\n",
    "    ChatPromptTemplate,\n",
    "    SystemMessagePromptTemplate,\n",
    "    HumanMessagePromptTemplate,\n",
    ")\n",
    "systemMessagePrompt = SystemMessagePromptTemplate(prompt=cassSystemPrompt)\n",
    "\n",
    "humanTemplate = \"{text}\"\n",
    "humanMessagePrompt = HumanMessagePromptTemplate.from_template(humanTemplate)\n",
    "\n",
    "cassChatPrompt = ChatPromptTemplate.from_messages(\n",
    "    [systemMessagePrompt, humanMessagePrompt]\n",
    ")"
   ]
  },
  {
   "cell_type": "markdown",
   "id": "b58a8a0d",
   "metadata": {},
   "source": [
    "and try to \"partial\" it by specifying the DB-lookup parameters:"
   ]
  },
  {
   "cell_type": "code",
   "execution_count": 7,
   "id": "28b8ebe1",
   "metadata": {},
   "outputs": [
    {
     "name": "stdout",
     "output_type": "stream",
     "text": [
      "\"NotImplementedError\" raised by partialing ChatPromptTemplate\n"
     ]
    }
   ],
   "source": [
    "try:\n",
    "    cassChatPartialPrompt = cassChatPrompt.partial(\n",
    "        city='turin',\n",
    "        name='beppe'\n",
    "    )\n",
    "except NotImplementedError:\n",
    "    print('\"NotImplementedError\" raised by partialing ChatPromptTemplate')"
   ]
  },
  {
   "cell_type": "markdown",
   "metadata": {},
   "source": [
    "## What now?\n",
    "\n",
    "This demo is hosted [here](https://cassio.org/frameworks/langchain/prompt-templates-partialing/) at cassio.org.\n",
    "\n",
    "Discover the other ways you can integrate \n",
    "Cassandra/Astra DB with your ML/GenAI needs,\n",
    "right **within [your favorite framework](https://cassio.org/frameworks/langchain/about/)**."
   ]
  }
 ],
 "metadata": {
  "kernelspec": {
   "display_name": "Python 3 (ipykernel)",
   "language": "python",
   "name": "python3"
  },
  "language_info": {
   "codemirror_mode": {
    "name": "ipython",
    "version": 3
   },
   "file_extension": ".py",
   "mimetype": "text/x-python",
   "name": "python",
   "nbconvert_exporter": "python",
   "pygments_lexer": "ipython3"
  }
 },
 "nbformat": 4,
 "nbformat_minor": 5
}
