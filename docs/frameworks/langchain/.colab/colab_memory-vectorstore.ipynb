{
 "cells": [
  {
   "cell_type": "markdown",
   "metadata": {},
   "source": [
    "# VectorStore-backed memory\n",
    "\n",
    "The support for Cassandra vector store, available in LangChain, enables another interesting use case, namely a chat memory buffer that injects the most relevant past exchanges into the prompt, instead of the most recent (as most other memories do). This enables retrieval of related context _arbitrarily far back in the chat history_. All you need is to instantiate a `Cassandra` vector store and wrap it in a `VectorStoreRetrieverMemory` type of memory, provided by LangChain."
   ]
  },
  {
   "cell_type": "markdown",
   "metadata": {},
   "source": [
    "## Colab-specific setup"
   ]
  },
  {
   "cell_type": "markdown",
   "metadata": {},
   "source": [
    "Make sure you have a database available. This is a Colab notebook, so here it is assumed you will use\n",
    "an Astra DB cloud instance. For usage with an Apache Cassandra® cluster, switch to a local setup\n",
    "as instructed [on cassio.org](https://cassio.org/more_info/#use-a-local-vector-capable-cassandra).\n",
    "\n",
    "Get ready to supply the connection parameters: Database ID and Token string\n",
    "(see [Pre-requisites](https://cassio.org/start_here/#vector-database) on cassio.org for details.\n",
    "Remember you need a Token with role [Database Administrator](https://awesome-astra.github.io/docs/pages/astra/create-token/)).\n",
    "\n",
    "Likewise, ensure you have the necessary secret(s) for the LLM provider of your choice: you'll be asked to input it shortly\n",
    "(see [Pre-requisites](https://cassio.org/start_here/#llm-access) on cassio.org for details).\n",
    "\n",
    "_Note: this notebook is part of the CassIO documentation. Visit [this page on cassIO.org](https://cassio.org/frameworks/langchain/memory-vectorstore/)._\n"
   ]
  },
  {
   "cell_type": "code",
   "execution_count": null,
   "id": "2953d95b",
   "metadata": {},
   "outputs": [],
   "source": [
    "# install required dependencies\n",
    "! pip install -q --progress-bar off \\\n",
    "    \"langchain>=0.0.348\" \\\n",
    "    \"cassio>=0.1.3\" \\\n",
    "    \"google-cloud-aiplatform>=1.25.0\" \\\n",
    "    \"jupyter>=1.0.0\" \\\n",
    "    \"openai==0.27.7\" \\\n",
    "    \"python-dotenv==1.0.0\" \\\n",
    "    \"tensorflow-cpu==2.12.0\" \\\n",
    "    \"tiktoken==0.4.0\" \\\n",
    "    \"transformers>=4.29.2\" \n",
    "exit()"
   ]
  },
  {
   "cell_type": "markdown",
   "id": "222f44ff",
   "metadata": {},
   "source": [
    "⚠️ **Do not mind a \"Your session crashed...\" message you may see.**\n",
    "\n",
    "It was us, making sure your kernel restarts with all the correct dependency versions. _You can now proceed with the notebook._"
   ]
  },
  {
   "cell_type": "markdown",
   "metadata": {},
   "source": [
    "### DB connection parameters",
    "\n",
    "Example values (check your Astra dashboard):\n",
    "- Database ID example: `01234567-89ab-cdef-0123-456789abcdef`\n",
    "- Token example: `AstraCS:6gBhNmsk135....` (ensure it has a role of at least \"Database Administrator\")\n",
    "- _Keyspace. Optional, string if provided. Example:_ `default_keyspace`"
   ]
  },
  {
   "cell_type": "code",
   "execution_count": null,
   "metadata": {},
   "outputs": [],
   "source": [
    "import os\n",
    "from getpass import getpass\n",
    "\n",
    "# Input your Astra DB connection parameters and secrets:\n",
    "\n",
    "os.environ[\"ASTRA_DB_ID\"] = input(\"ASTRA_DB_ID = \")\n",
    "\n",
    "os.environ[\"ASTRA_DB_APPLICATION_TOKEN\"] = getpass(\"ASTRA_DB_APPLICATION_TOKEN = \")\n",
    "\n",
    "_keyspace = input(\"(Optional) ASTRA_DB_KEYSPACE = \")\n",
    "if _keyspace:\n",
    "    os.environ[\"ASTRA_DB_KEYSPACE\"] = _keyspace"
   ]
  },
  {
   "cell_type": "markdown",
   "metadata": {
    "id": "QXCQ6T_Gjk0Oz"
   },
   "source": [
    "### LLM Provider\n",
    "\n",
    "In the cell below you can choose between **GCP Vertex AI** or **OpenAI** for your LLM services.\n",
    "(See [Pre-requisites](https://cassio.org/start_here/#llm-access) on cassio.org for more details).\n",
    "\n",
    "Make sure you set the `llmProvider` variable and supply the corresponding access secrets in the following cell."
   ]
  },
  {
   "cell_type": "code",
   "execution_count": null,
   "metadata": {},
   "outputs": [],
   "source": [
    "# Set your secret(s) for LLM access:\n",
    "llmProvider = 'OpenAI'  # 'GCP_VertexAI', 'Azure_OpenAI'\n"
   ]
  },
  {
   "cell_type": "code",
   "execution_count": null,
   "metadata": {},
   "outputs": [],
   "source": [
    "from getpass import getpass\n",
    "if llmProvider == 'OpenAI':\n",
    "    apiSecret = getpass(f'Your secret for LLM provider \"{llmProvider}\": ')\n",
    "    os.environ['OPENAI_API_KEY'] = apiSecret\n",
    "elif llmProvider == 'GCP_VertexAI':\n",
    "    # we need a json file\n",
    "    print(f'Please upload your Service Account JSON for the LLM provider \"{llmProvider}\":')\n",
    "    from google.colab import files\n",
    "    uploaded = files.upload()\n",
    "    if uploaded:\n",
    "        vertexAIJsonFileTitle = list(uploaded.keys())[0]\n",
    "        os.environ['GOOGLE_APPLICATION_CREDENTIALS'] = os.path.join(os.getcwd(), vertexAIJsonFileTitle)\n",
    "    else:\n",
    "        raise ValueError(\n",
    "            'No file uploaded. Please re-run the cell.'\n",
    "        )\n",
    "elif llmProvider == 'Azure_OpenAI':\n",
    "    # a few parameters must be input\n",
    "    apiSecret = input(f'Your API Key for LLM provider \"{llmProvider}\": ')\n",
    "    os.environ['AZURE_OPENAI_API_KEY'] = apiSecret\n",
    "    apiBase = input('The \"Base URL\" for your models (e.g. \"https://YOUR-RESOURCE-NAME.openai.azure.com\"): ')\n",
    "    os.environ['AZURE_OPENAI_API_BASE'] = apiBase\n",
    "    apiLLMDepl = input('The name of your LLM Deployment: ')\n",
    "    os.environ['AZURE_OPENAI_LLM_DEPLOYMENT'] = apiLLMDepl\n",
    "    apiLLMModel = input('The name of your LLM Model (e.g. \"gpt-4\"): ')\n",
    "    os.environ['AZURE_OPENAI_LLM_MODEL'] = apiLLMModel\n",
    "    apiEmbDepl = input('The name for your Embeddings Deployment: ')\n",
    "    os.environ['AZURE_OPENAI_EMBEDDINGS_DEPLOYMENT'] = apiEmbDepl\n",
    "    apiEmbModel = input('The name of your Embedding Model (e.g. \"text-embedding-ada-002\"): ')\n",
    "    os.environ['AZURE_OPENAI_EMBEDDINGS_MODEL'] = apiEmbModel\n",
    "\n",
    "    # The following is probably not going to change for some time...\n",
    "    os.environ['AZURE_OPENAI_API_VERSION'] = '2023-03-15-preview'\n",
    "else:\n",
    "    raise ValueError('Unknown/unsupported LLM Provider')"
   ]
  },
  {
   "cell_type": "markdown",
   "metadata": {},
   "source": [
    "### Colab preamble completed\n",
    "\n",
    "The following cells constitute the demo notebook proper."
   ]
  },
  {
   "cell_type": "markdown",
   "id": "d24440ad",
   "metadata": {},
   "source": [
    "# VectorStore-backed memory\n",
    "\n",
    "The support for Cassandra vector store, available in LangChain, enables another interesting use case, namely a chat memory buffer that injects the most relevant past exchanges into the prompt, instead of the most recent (as most other memories do). This enables retrieval of related context _arbitrarily far back in the chat history_.\n",
    "\n",
    "All you need is to instantiate a `Cassandra` vector store and wrap it in a `VectorStoreRetrieverMemory` type of memory, provided by LangChain."
   ]
  },
  {
   "cell_type": "code",
   "execution_count": 1,
   "id": "44d089d3",
   "metadata": {},
   "outputs": [],
   "source": [
    "from langchain.embeddings.openai import OpenAIEmbeddings\n",
    "from langchain.llms import OpenAI\n",
    "from langchain.memory import VectorStoreRetrieverMemory\n",
    "from langchain.chains import ConversationChain\n",
    "from langchain.prompts import PromptTemplate"
   ]
  },
  {
   "cell_type": "code",
   "execution_count": 2,
   "id": "e5eca9d2",
   "metadata": {},
   "outputs": [],
   "source": [
    "from langchain.vectorstores.cassandra import Cassandra"
   ]
  },
  {
   "cell_type": "markdown",
   "id": "4578a87b",
   "metadata": {},
   "source": [
    "A database connection is needed. _(If on a Colab, the only supported option is the cloud service Astra DB.)_"
   ]
  },
  {
   "cell_type": "code",
   "execution_count": 3,
   "id": "9515d4af-9fc2-4c29-b9f2-5c90cd48cc1b",
   "metadata": {},
   "outputs": [],
   "source": [
    "# Getting ready to initialize the DB connection globally ...\n",
    "import os\n",
    "\n",
    "import cassio"
   ]
  },
  {
   "cell_type": "markdown",
   "id": "25ee44a4-8d6a-4b41-8a8f-7c93eed35034",
   "metadata": {},
   "source": [
    "Select your choice of database by editing this cell, if needed:"
   ]
  },
  {
   "cell_type": "code",
   "execution_count": 4,
   "id": "bfe78b92-7194-4ee9-ba7f-cd308409212c",
   "metadata": {},
   "outputs": [],
   "source": [
    "database_mode = \"astra_db\"  # only \"astra_db\" supported on Colab"
   ]
  },
  {
   "cell_type": "code",
   "execution_count": 5,
   "id": "fb5597b3-a028-4d8f-ad6d-8eaf0c941dcc",
   "metadata": {},
   "outputs": [],
   "source": [
    "if database_mode == \"astra_db\":\n",
    "    cassio.init(\n",
    "        database_id=os.environ[\"ASTRA_DB_ID\"],\n",
    "        token=os.environ[\"ASTRA_DB_APPLICATION_TOKEN\"],\n",
    "        keyspace=os.environ.get(\"ASTRA_DB_KEYSPACE\"),  # this is optional\n",
    "    )"
   ]
  },
  {
   "cell_type": "code",
   "execution_count": 6,
   "id": "329d969b-6532-4dc4-a315-1a5438a59919",
   "metadata": {},
   "outputs": [],
   "source": [
    "if database_mode == \"cassandra\":\n",
    "    # Cassandra not supported on Colab - please define your own getCassandraCQLSession/getCassandraCQLKeyspace\n",
    "    cassio.init(\n",
    "        session=getCassandraCQLSession(),\n",
    "        keyspace=getCassandraCQLKeyspace(),\n",
    "    )"
   ]
  },
  {
   "cell_type": "markdown",
   "id": "44b5aae8",
   "metadata": {},
   "source": [
    "Both an LLM and an embedding function are required.\n",
    "\n",
    "Below is the logic to instantiate the LLM and embeddings of choice. We chose to leave it in the notebooks for clarity."
   ]
  },
  {
   "cell_type": "code",
   "execution_count": 7,
   "id": "14603440",
   "metadata": {},
   "outputs": [
    {
     "name": "stdout",
     "output_type": "stream",
     "text": [
      "LLM+embeddings from OpenAI\n"
     ]
    }
   ],
   "source": [
    "import os\n",
    "# creation of the LLM resources\n",
    "\n",
    "\n",
    "if llmProvider == 'GCP_VertexAI':\n",
    "    from langchain.llms import VertexAI\n",
    "    from langchain.embeddings import VertexAIEmbeddings\n",
    "    llm = VertexAI()\n",
    "    myEmbedding = VertexAIEmbeddings()\n",
    "    print('LLM+embeddings from Vertex AI')\n",
    "elif llmProvider == 'OpenAI':\n",
    "    os.environ['OPENAI_API_TYPE'] = 'open_ai'\n",
    "    from langchain.llms import OpenAI\n",
    "    from langchain.embeddings import OpenAIEmbeddings\n",
    "    llm = OpenAI(temperature=0)\n",
    "    myEmbedding = OpenAIEmbeddings()\n",
    "    print('LLM+embeddings from OpenAI')\n",
    "elif llmProvider == 'Azure_OpenAI':\n",
    "    os.environ['OPENAI_API_TYPE'] = 'azure'\n",
    "    os.environ['OPENAI_API_VERSION'] = os.environ['AZURE_OPENAI_API_VERSION']\n",
    "    os.environ['OPENAI_API_BASE'] = os.environ['AZURE_OPENAI_API_BASE']\n",
    "    os.environ['OPENAI_API_KEY'] = os.environ['AZURE_OPENAI_API_KEY']\n",
    "    from langchain.llms import AzureOpenAI\n",
    "    from langchain.embeddings import OpenAIEmbeddings\n",
    "    llm = AzureOpenAI(temperature=0, model_name=os.environ['AZURE_OPENAI_LLM_MODEL'],\n",
    "                      engine=os.environ['AZURE_OPENAI_LLM_DEPLOYMENT'])\n",
    "    myEmbedding = OpenAIEmbeddings(model=os.environ['AZURE_OPENAI_EMBEDDINGS_MODEL'],\n",
    "                                   deployment=os.environ['AZURE_OPENAI_EMBEDDINGS_DEPLOYMENT'])\n",
    "    print('LLM+embeddings from Azure OpenAI')\n",
    "else:\n",
    "    raise ValueError('Unknown LLM provider.')"
   ]
  },
  {
   "cell_type": "markdown",
   "id": "e3d8393b",
   "metadata": {},
   "source": [
    "## Create the store"
   ]
  },
  {
   "cell_type": "code",
   "execution_count": 8,
   "id": "7b2b44e0",
   "metadata": {},
   "outputs": [],
   "source": [
    "table_name = 'vstore_memory_' + llmProvider\n",
    "cassVStore = Cassandra(\n",
    "    session=None,\n",
    "    keyspace=None,\n",
    "    table_name=table_name,\n",
    "    embedding=myEmbedding,\n",
    ")\n",
    "\n",
    "# just in case this demo runs multiple times\n",
    "cassVStore.clear()"
   ]
  },
  {
   "cell_type": "markdown",
   "id": "a2843410",
   "metadata": {},
   "source": [
    "## Create the retriever and the memory\n",
    "\n",
    "From the vector store a \"retriever\" is spawned. You'll keep the number of items to fetch intentionally very small for demonstration purposes.\n",
    "\n",
    "Next, the retriever is wrapped in a `VectorStoreRetrieverMemory`:"
   ]
  },
  {
   "cell_type": "code",
   "execution_count": 9,
   "id": "62bdb85e",
   "metadata": {},
   "outputs": [],
   "source": [
    "retriever = cassVStore.as_retriever(search_kwargs={'k': 3})\n",
    "semanticMemory = VectorStoreRetrieverMemory(retriever=retriever)"
   ]
  },
  {
   "cell_type": "markdown",
   "id": "d1a4cd9a",
   "metadata": {},
   "source": [
    "Create a fake \"past conversation\". Note how the topic of the discussion wanders to fixing one's PC in the last few exchanges:"
   ]
  },
  {
   "cell_type": "code",
   "execution_count": 10,
   "id": "e723384a",
   "metadata": {},
   "outputs": [],
   "source": [
    "pastExchanges = [\n",
    "    (\n",
    "        {\"input\": \"Hello, what is the biggest mammal?\"},\n",
    "        {\"output\": \"The blue whale.\"},\n",
    "    ),\n",
    "    (\n",
    "        {\"input\": \"... I cannot swim. Actually I hate swimming!\"},\n",
    "        {\"output\": \"I see.\"},\n",
    "    ),\n",
    "    (\n",
    "        {\"input\": \"I like mountains and beech forests.\"},\n",
    "        {\"output\": \"That's good to know.\"},\n",
    "    ),\n",
    "    (\n",
    "        {\"input\": \"Yes, too much water makes me uneasy.\"},\n",
    "        {\"output\": \"Ah, how come?.\"},\n",
    "    ),\n",
    "    (\n",
    "        {\"input\": \"I guess I am just not a seaside person\"},\n",
    "        {\"output\": \"I see. How may I help you?\"},\n",
    "    ),\n",
    "    (\n",
    "        {\"input\": \"I need help installing this driver\"},\n",
    "        {\"output\": \"First download the right version for your operating system.\"},\n",
    "    ),\n",
    "    (\n",
    "        {\"input\": \"Good grief ... my keyboard does not work anymore!\"},\n",
    "        {\"output\": \"Try plugging it in your PC first.\"},\n",
    "    ),\n",
    "]"
   ]
  },
  {
   "cell_type": "markdown",
   "id": "8c8b9f4b",
   "metadata": {},
   "source": [
    "Insert these exchanges into the memory:"
   ]
  },
  {
   "cell_type": "code",
   "execution_count": 11,
   "id": "c114f234",
   "metadata": {},
   "outputs": [],
   "source": [
    "for exI, exO in pastExchanges:\n",
    "    semanticMemory.save_context(exI, exO)"
   ]
  },
  {
   "cell_type": "markdown",
   "id": "cb4c1c59",
   "metadata": {},
   "source": [
    "Given a conversation input, the `load_memory_variables` performs a semantic search and comes up with relevant items from the memory, regardless of their order:"
   ]
  },
  {
   "cell_type": "code",
   "execution_count": 12,
   "id": "74e54892",
   "metadata": {},
   "outputs": [],
   "source": [
    "QUESTION = \"Can you suggest me a sport to try?\""
   ]
  },
  {
   "cell_type": "code",
   "execution_count": 13,
   "id": "2a646c34",
   "metadata": {},
   "outputs": [
    {
     "name": "stdout",
     "output_type": "stream",
     "text": [
      "input: ... I cannot swim. Actually I hate swimming!\n",
      "output: I see.\n",
      "input: I guess I am just not a seaside person\n",
      "output: I see. How may I help you?\n",
      "input: I like mountains and beech forests.\n",
      "output: That's good to know.\n"
     ]
    }
   ],
   "source": [
    "print(semanticMemory.load_memory_variables({\"prompt\": QUESTION})[\"history\"])"
   ]
  },
  {
   "cell_type": "markdown",
   "id": "ba3689b2",
   "metadata": {},
   "source": [
    "## Usage in a conversation chain"
   ]
  },
  {
   "cell_type": "markdown",
   "id": "95178b81",
   "metadata": {},
   "source": [
    "This semantic memory element can be used within a full conversation chain.\n",
    "\n",
    "In the following you'll create a custom prompt and a `ConversationChain` out of it, attaching the latter to the vector-store-powered memory seen above:"
   ]
  },
  {
   "cell_type": "code",
   "execution_count": 14,
   "id": "4a946b78",
   "metadata": {},
   "outputs": [],
   "source": [
    "semanticMemoryTemplateString = \"\"\"The following is a between a human and a helpful AI.\n",
    "The AI is talkative and provides lots of specific details from its context.\n",
    "If the AI does not know the answer to a question, it truthfully says it does not know.\n",
    "\n",
    "The AI can use information from parts of the previous conversation (only if they are relevant):\n",
    "{history}\n",
    "\n",
    "Current conversation:\n",
    "Human: {input}\n",
    "AI:\"\"\"\n",
    "\n",
    "memoryPrompt = PromptTemplate(\n",
    "    input_variables=[\"history\", \"input\"],\n",
    "    template=semanticMemoryTemplateString\n",
    ")\n",
    "\n",
    "conversationWithVectorRetrieval = ConversationChain(\n",
    "    llm=llm, \n",
    "    prompt=memoryPrompt,\n",
    "    memory=semanticMemory,\n",
    "    verbose=True\n",
    ")"
   ]
  },
  {
   "cell_type": "markdown",
   "id": "0b1e6d4a",
   "metadata": {},
   "source": [
    "Run the chain with the sports question:"
   ]
  },
  {
   "cell_type": "code",
   "execution_count": 15,
   "id": "7ff9fcab",
   "metadata": {},
   "outputs": [
    {
     "name": "stdout",
     "output_type": "stream",
     "text": [
      "\n",
      "\n",
      "\u001b[1m> Entering new ConversationChain chain...\u001b[0m\n",
      "Prompt after formatting:\n",
      "\u001b[32;1m\u001b[1;3mThe following is a between a human and a helpful AI.\n",
      "The AI is talkative and provides lots of specific details from its context.\n",
      "If the AI does not know the answer to a question, it truthfully says it does not know.\n",
      "\n",
      "The AI can use information from parts of the previous conversation (only if they are relevant):\n",
      "input: ... I cannot swim. Actually I hate swimming!\n",
      "output: I see.\n",
      "input: I guess I am just not a seaside person\n",
      "output: I see. How may I help you?\n",
      "input: I like mountains and beech forests.\n",
      "output: That's good to know.\n",
      "\n",
      "Current conversation:\n",
      "Human: Can you suggest me a sport to try?\n",
      "AI:\u001b[0m\n",
      "\n",
      "\u001b[1m> Finished chain.\u001b[0m\n"
     ]
    },
    {
     "data": {
      "text/plain": [
       "' Sure, I can suggest some sports for you to try. Depending on your preferences, you could try hiking, running, biking, or even rock climbing. Do any of these sound interesting to you?'"
      ]
     },
     "execution_count": 15,
     "metadata": {},
     "output_type": "execute_result"
    }
   ],
   "source": [
    "conversationWithVectorRetrieval.predict(input=QUESTION)"
   ]
  },
  {
   "cell_type": "markdown",
   "id": "20059880",
   "metadata": {},
   "source": [
    "Notice how new exchanges are automatically added to the memory:"
   ]
  },
  {
   "cell_type": "code",
   "execution_count": 16,
   "id": "356fd41d",
   "metadata": {},
   "outputs": [
    {
     "name": "stdout",
     "output_type": "stream",
     "text": [
      "\n",
      "\n",
      "\u001b[1m> Entering new ConversationChain chain...\u001b[0m\n",
      "Prompt after formatting:\n",
      "\u001b[32;1m\u001b[1;3mThe following is a between a human and a helpful AI.\n",
      "The AI is talkative and provides lots of specific details from its context.\n",
      "If the AI does not know the answer to a question, it truthfully says it does not know.\n",
      "\n",
      "The AI can use information from parts of the previous conversation (only if they are relevant):\n",
      "input: I like mountains and beech forests.\n",
      "output: That's good to know.\n",
      "input: Can you suggest me a sport to try?\n",
      "response:  Sure, I can suggest some sports for you to try. Depending on your preferences, you could try hiking, running, biking, or even rock climbing. Do any of these sound interesting to you?\n",
      "input: ... I cannot swim. Actually I hate swimming!\n",
      "output: I see.\n",
      "\n",
      "Current conversation:\n",
      "Human: Would I like a swim in a mountain lake?\n",
      "AI:\u001b[0m\n",
      "\n",
      "\u001b[1m> Finished chain.\u001b[0m\n"
     ]
    },
    {
     "data": {
      "text/plain": [
       "\" That depends on your preferences. If you don't like swimming, then a swim in a mountain lake may not be the best activity for you. However, if you enjoy the outdoors and the beauty of nature, then a swim in a mountain lake could be a great experience.\""
      ]
     },
     "execution_count": 16,
     "metadata": {},
     "output_type": "execute_result"
    }
   ],
   "source": [
    "conversationWithVectorRetrieval.predict(input=\"Would I like a swim in a mountain lake?\")"
   ]
  },
  {
   "cell_type": "markdown",
   "id": "0f4bfad9",
   "metadata": {},
   "source": [
    "... so that now the most relevant items for the same question are changed:"
   ]
  },
  {
   "cell_type": "code",
   "execution_count": 17,
   "id": "ce0a74be",
   "metadata": {},
   "outputs": [
    {
     "data": {
      "text/plain": [
       "[Document(page_content='input: Can you suggest me a sport to try?\\nresponse:  Sure, I can suggest some sports for you to try. Depending on your preferences, you could try hiking, running, biking, or even rock climbing. Do any of these sound interesting to you?', metadata={}),\n",
       " Document(page_content=\"input: Would I like a swim in a mountain lake?\\nresponse:  That depends on your preferences. If you don't like swimming, then a swim in a mountain lake may not be the best activity for you. However, if you enjoy the outdoors and the beauty of nature, then a swim in a mountain lake could be a great experience.\", metadata={}),\n",
       " Document(page_content='input: ... I cannot swim. Actually I hate swimming!\\noutput: I see.', metadata={})]"
      ]
     },
     "execution_count": 17,
     "metadata": {},
     "output_type": "execute_result"
    }
   ],
   "source": [
    "semanticMemory.retriever.get_relevant_documents(QUESTION)"
   ]
  },
  {
   "cell_type": "markdown",
   "id": "6fa99314",
   "metadata": {},
   "source": [
    "## A counterexample\n",
    "\n",
    "What would happen with a simpler memory element, which simply retrieves a certain number of most recent interactions?\n",
    "\n",
    "Create and populate an instance of LangChain's `ConversationTokenBufferMemory`, limiting it to a maximum token length of 80 (roughly equivalent to the 3 fragments set for the `semanticMemory` object):"
   ]
  },
  {
   "cell_type": "code",
   "execution_count": 18,
   "id": "a4306aee",
   "metadata": {},
   "outputs": [],
   "source": [
    "from langchain.memory import ConversationTokenBufferMemory\n",
    "from langchain.memory import ChatMessageHistory"
   ]
  },
  {
   "cell_type": "code",
   "execution_count": 19,
   "id": "e31863f5",
   "metadata": {},
   "outputs": [],
   "source": [
    "baseHistory = ChatMessageHistory()\n",
    "\n",
    "recencyBufferMemory = ConversationTokenBufferMemory(\n",
    "    chat_memory=baseHistory,\n",
    "    max_token_limit=80,\n",
    "    llm=llm,\n",
    ")"
   ]
  },
  {
   "cell_type": "code",
   "execution_count": 20,
   "id": "3872eedf",
   "metadata": {},
   "outputs": [],
   "source": [
    "for exI, exO in pastExchanges:\n",
    "    recencyBufferMemory.save_context(exI, exO)"
   ]
  },
  {
   "cell_type": "markdown",
   "id": "ce7eb975",
   "metadata": {},
   "source": [
    "Time to ask the same sports question. This is what will get injected into the prompt this time:"
   ]
  },
  {
   "cell_type": "code",
   "execution_count": 21,
   "id": "e0b9564a",
   "metadata": {},
   "outputs": [
    {
     "name": "stdout",
     "output_type": "stream",
     "text": [
      "AI: Ah, how come?.\n",
      "Human: I guess I am just not a seaside person\n",
      "AI: I see. How may I help you?\n",
      "Human: I need help installing this driver\n",
      "AI: First download the right version for your operating system.\n",
      "Human: Good grief ... my keyboard does not work anymore!\n",
      "AI: Try plugging it in your PC first.\n"
     ]
    }
   ],
   "source": [
    "print(recencyBufferMemory.load_memory_variables({\"prompt\": QUESTION})[\"history\"])"
   ]
  },
  {
   "cell_type": "markdown",
   "id": "18863525",
   "metadata": {},
   "source": [
    "... and this is the (rather generic) answer you'd get:"
   ]
  },
  {
   "cell_type": "code",
   "execution_count": 22,
   "id": "cdc52f2a",
   "metadata": {},
   "outputs": [
    {
     "name": "stdout",
     "output_type": "stream",
     "text": [
      "\n",
      "\n",
      "\u001b[1m> Entering new ConversationChain chain...\u001b[0m\n",
      "Prompt after formatting:\n",
      "\u001b[32;1m\u001b[1;3mThe following is a between a human and a helpful AI.\n",
      "The AI is talkative and provides lots of specific details from its context.\n",
      "If the AI does not know the answer to a question, it truthfully says it does not know.\n",
      "\n",
      "The AI can use information from parts of the previous conversation (only if they are relevant):\n",
      "AI: Ah, how come?.\n",
      "Human: I guess I am just not a seaside person\n",
      "AI: I see. How may I help you?\n",
      "Human: I need help installing this driver\n",
      "AI: First download the right version for your operating system.\n",
      "Human: Good grief ... my keyboard does not work anymore!\n",
      "AI: Try plugging it in your PC first.\n",
      "\n",
      "Current conversation:\n",
      "Human: Can you suggest me a sport to try?\n",
      "AI:\u001b[0m\n",
      "\n",
      "\u001b[1m> Finished chain.\u001b[0m\n"
     ]
    },
    {
     "data": {
      "text/plain": [
       "' Sure! What kind of sport are you interested in?'"
      ]
     },
     "execution_count": 22,
     "metadata": {},
     "output_type": "execute_result"
    }
   ],
   "source": [
    "conversationWithRecencyRetrieval = ConversationChain(\n",
    "    llm=llm, \n",
    "    prompt=memoryPrompt,\n",
    "    memory=recencyBufferMemory,\n",
    "    verbose=True\n",
    ")\n",
    "\n",
    "conversationWithRecencyRetrieval.predict(input=QUESTION)"
   ]
  },
  {
   "cell_type": "markdown",
   "metadata": {},
   "source": [
    "## What now?\n",
    "\n",
    "This demo is hosted [here](https://cassio.org/frameworks/langchain/memory-vectorstore/) at cassio.org.\n",
    "\n",
    "Discover the other ways you can integrate \n",
    "Cassandra/Astra DB with your ML/GenAI needs,\n",
    "right **within [your favorite framework](https://cassio.org/frameworks/langchain/about/)**."
   ]
  }
 ],
 "metadata": {
  "kernelspec": {
   "display_name": "Python 3 (ipykernel)",
   "language": "python",
   "name": "python3"
  },
  "language_info": {
   "codemirror_mode": {
    "name": "ipython",
    "version": 3
   },
   "file_extension": ".py",
   "mimetype": "text/x-python",
   "name": "python",
   "nbconvert_exporter": "python",
   "pygments_lexer": "ipython3"
  }
 },
 "nbformat": 4,
 "nbformat_minor": 5
}
