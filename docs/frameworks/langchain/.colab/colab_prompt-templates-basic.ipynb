{
 "cells": [
  {
   "cell_type": "markdown",
   "metadata": {},
   "source": [
    "# Prompt Templates, intro"
   ]
  },
  {
   "cell_type": "markdown",
   "metadata": {},
   "source": [
    "## Colab-specific setup"
   ]
  },
  {
   "cell_type": "markdown",
   "metadata": {},
   "source": [
    "Make sure you have a Database and get ready to upload the Secure Connect Bundle and supply the Token string\n",
    "(see [Pre-requisites](https://cassio.org/start_here/#vector-database) on cassio.org for details. Remember you need a **custom Token** with role [Database Administrator](https://awesome-astra.github.io/docs/pages/astra/create-token/)).\n",
    "\n",
    "_Note: this notebook is part of the CassIO documentation. Visit [this page on cassIO.org](https://cassio.org/frameworks/langchain/prompt-templates-basic/)._\n"
   ]
  },
  {
   "cell_type": "code",
   "execution_count": null,
   "id": "2953d95b",
   "metadata": {},
   "outputs": [],
   "source": [
    "# install required dependencies\n",
    "! pip install -q --progress-bar off \\\n",
    "    \"git+https://github.com/hemidactylus/langchain@updated-full-preview--lab#egg=langchain&subdirectory=libs/langchain\" \\\n",
    "    \"cassio>=0.1.3\" \\\n",
    "    \"google-cloud-aiplatform>=1.25.0\" \\\n",
    "    \"jupyter>=1.0.0\" \\\n",
    "    \"openai==0.27.7\" \\\n",
    "    \"python-dotenv==1.0.0\" \\\n",
    "    \"tensorflow-cpu==2.12.0\" \\\n",
    "    \"tiktoken==0.4.0\" \\\n",
    "    \"transformers>=4.29.2\" \n",
    "exit()"
   ]
  },
  {
   "cell_type": "markdown",
   "id": "222f44ff",
   "metadata": {},
   "source": [
    "⚠️ **Do not mind a \"Your session crashed...\" message you may see.**\n",
    "\n",
    "It was us, making sure your kernel restarts with all the correct dependency versions. _You can now proceed with the notebook._"
   ]
  },
  {
   "cell_type": "code",
   "execution_count": null,
   "metadata": {},
   "outputs": [],
   "source": [
    "# Input your database keyspace name:\n",
    "ASTRA_DB_KEYSPACE = input('Your Astra DB Keyspace name (e.g. cassio_tutorials): ')"
   ]
  },
  {
   "cell_type": "code",
   "execution_count": null,
   "metadata": {},
   "outputs": [],
   "source": [
    "# Input your Astra DB token string, the one starting with \"AstraCS:...\"\n",
    "from getpass import getpass\n",
    "ASTRA_DB_APPLICATION_TOKEN = getpass('Your Astra DB Token (\"AstraCS:...\"): ')"
   ]
  },
  {
   "cell_type": "markdown",
   "metadata": {
    "id": "QNQ6T_Gjk0Oz"
   },
   "source": [
    "### Astra DB Secure Connect Bundle\n",
    "\n",
    "Please upload the Secure Connect Bundle zipfile to connect to your Astra DB instance.\n",
    "\n",
    "The Secure Connect Bundle is needed to establish a secure connection to the database.\n",
    "Click [here](https://awesome-astra.github.io/docs/pages/astra/download-scb/#c-procedure) for instructions on how to download it from Astra DB."
   ]
  },
  {
   "cell_type": "code",
   "execution_count": null,
   "metadata": {},
   "outputs": [],
   "source": [
    "# Upload your Secure Connect Bundle zipfile:\n",
    "import os\n",
    "from google.colab import files\n",
    "\n",
    "\n",
    "print('Please upload your Secure Connect Bundle')\n",
    "uploaded = files.upload()\n",
    "if uploaded:\n",
    "    astraBundleFileTitle = list(uploaded.keys())[0]\n",
    "    ASTRA_DB_SECURE_BUNDLE_PATH = os.path.join(os.getcwd(), astraBundleFileTitle)\n",
    "else:\n",
    "    raise ValueError(\n",
    "        'Cannot proceed without Secure Connect Bundle. Please re-run the cell.'\n",
    "    )"
   ]
  },
  {
   "cell_type": "code",
   "execution_count": null,
   "metadata": {},
   "outputs": [],
   "source": [
    "# colab-specific override of helper functions\n",
    "from cassandra.cluster import (\n",
    "    Cluster,\n",
    ")\n",
    "from cassandra.auth import PlainTextAuthProvider\n",
    "\n",
    "\n",
    "def getCQLSession(mode='astra_db'):\n",
    "    if mode == 'astra_db':\n",
    "        cluster = Cluster(\n",
    "            cloud={\n",
    "                \"secure_connect_bundle\": ASTRA_DB_SECURE_BUNDLE_PATH,\n",
    "            },\n",
    "            auth_provider=PlainTextAuthProvider(\n",
    "                \"token\",\n",
    "                ASTRA_DB_APPLICATION_TOKEN,\n",
    "            ),\n",
    "        )\n",
    "        astraSession = cluster.connect()\n",
    "        return astraSession\n",
    "    else:\n",
    "        raise ValueError('Unsupported CQL Session mode')\n",
    "\n",
    "def getCQLKeyspace(mode='astra_db'):\n",
    "    if mode == 'astra_db':\n",
    "        return ASTRA_DB_KEYSPACE\n",
    "    else:\n",
    "        raise ValueError('Unsupported CQL Session mode')"
   ]
  },
  {
   "cell_type": "markdown",
   "metadata": {},
   "source": [
    "## Populate the Database"
   ]
  },
  {
   "cell_type": "markdown",
   "metadata": {},
   "source": [
    "This notebook requires some data to be pre-populated on your database. Please follow these steps (roughly equivalent to [this section](https://cassio.org/more_info/#pre-populate-the-database) of the instructions on cassio.org):"
   ]
  },
  {
   "cell_type": "code",
   "execution_count": null,
   "metadata": {},
   "outputs": [],
   "source": [
    "ASTRA_DB_KEYSPACE = getCQLKeyspace(mode=\"astra_db\")\n",
    "\n",
    "!curl https://raw.githubusercontent.com/CassioML/cassio-website/main/setup/provision_db/write_sample_data.cql --output write_sample_data.cql\n",
    "!curl https://downloads.datastax.com/enterprise/cqlsh-astra-20230526-vectortype-bin.tar.gz --output cqlsh.tar.gz\n",
    "!tar -xzf cqlsh.tar.gz\n",
    "!./cqlsh-astra/bin/cqlsh \\\n",
    "    -b \"$ASTRA_DB_SECURE_BUNDLE_PATH\" \\\n",
    "    -u token \\\n",
    "    -p \"$ASTRA_DB_APPLICATION_TOKEN\" \\\n",
    "    -k \"$ASTRA_DB_KEYSPACE\" \\\n",
    "    -f write_sample_data.cql"
   ]
  },
  {
   "cell_type": "markdown",
   "metadata": {},
   "source": [
    "### Colab preamble completed\n",
    "\n",
    "The following cells constitute the demo notebook proper."
   ]
  },
  {
   "cell_type": "markdown",
   "id": "3f5c5368",
   "metadata": {},
   "source": [
    "# Prompt Templates, intro"
   ]
  },
  {
   "cell_type": "markdown",
   "id": "871486f5",
   "metadata": {},
   "source": [
    "CassIO powers a sophisticated set of bindings to seamlessly inject data\n",
    "from Cassandra tables into your LangChain prompt templates."
   ]
  },
  {
   "cell_type": "markdown",
   "id": "c0763b09",
   "metadata": {},
   "source": [
    "## Basic usage"
   ]
  },
  {
   "cell_type": "markdown",
   "id": "a7b2eb09-a8bc-482f-9a8d-e5769d15c764",
   "metadata": {},
   "source": [
    "First, import the specialized Cassandra prompt template:"
   ]
  },
  {
   "cell_type": "code",
   "execution_count": 1,
   "id": "a61e4821",
   "metadata": {},
   "outputs": [],
   "source": [
    "from langchain.prompts.database import CassandraReaderPromptTemplate"
   ]
  },
  {
   "cell_type": "markdown",
   "id": "f764f2e2",
   "metadata": {},
   "source": [
    "This cell simply obtains a `Session` object, i.e. an active connection to your database. Replace with custom code if you are not using Astra DB."
   ]
  },
  {
   "cell_type": "code",
   "execution_count": 2,
   "id": "a76ec6ea",
   "metadata": {},
   "outputs": [],
   "source": [
    "# creation of the DB connection\n",
    "cqlMode = 'astra_db'\n",
    "session = getCQLSession(mode=cqlMode)\n",
    "keyspace = getCQLKeyspace(mode=cqlMode)"
   ]
  },
  {
   "cell_type": "code",
   "execution_count": 3,
   "id": "657cd948",
   "metadata": {},
   "outputs": [],
   "source": [
    "ctemplate0 = \"\"\"Please answer a question from a user.\n",
    "Keep in mind that the user's age is {user_age} and they live in a city with\n",
    "nickname {city_nickname}.\n",
    "\n",
    "USER'S QUESTION: {user_question}\n",
    "YOUR ANSWER:\n",
    "\"\"\""
   ]
  },
  {
   "cell_type": "markdown",
   "id": "547a4105",
   "metadata": {},
   "source": [
    "### Natural binding with the DB\n",
    "\n",
    "In the (string) template above, some variables are to be filled with a DB lookup.\n",
    "\n",
    "The following instructions specifies the details of the binding: for instance,\n",
    "the variable `user_age` is to be found on table `people`, specifically in column `age`:"
   ]
  },
  {
   "cell_type": "code",
   "execution_count": 4,
   "id": "1ef22db8",
   "metadata": {},
   "outputs": [],
   "source": [
    "cassPrompt = CassandraReaderPromptTemplate(\n",
    "    session=session,\n",
    "    keyspace=keyspace,\n",
    "    field_mapper={\n",
    "        'user_age': ('people', 'age'),\n",
    "        'city_nickname': ('nickname_by_city', 'nickname'),\n",
    "    },\n",
    "    template=ctemplate0,\n",
    "    input_variables=[\"user_question\"],\n",
    ")"
   ]
  },
  {
   "cell_type": "markdown",
   "id": "e188d25b",
   "metadata": {},
   "source": [
    "**Note** that in the command above you specify the _primary key columns_ as `input_variables`, and not the variable names found in the prompt string above."
   ]
  },
  {
   "cell_type": "markdown",
   "id": "9d954f71",
   "metadata": {},
   "source": [
    "When formatting the Prompt Template, you will have to specify the primary key values\n",
    "for the DB lookup -- the rest is done by the prompt template.\n",
    "\n",
    "In this case there are two lookups from as many tables: the prompt template\n",
    "takes care of everything, provided you pass all the primary key columns required\n",
    "across tables.\n",
    "\n",
    "Note: this operation essentially is a _client-side join_ (a standard pattern with Cassandra)."
   ]
  },
  {
   "cell_type": "code",
   "execution_count": 5,
   "id": "584efc7c",
   "metadata": {},
   "outputs": [
    {
     "name": "stdout",
     "output_type": "stream",
     "text": [
      "Please answer a question from a user.\n",
      "Keep in mind that the user's age is 2 and they live in a city with\n",
      "nickname CereaNeh.\n",
      "\n",
      "USER'S QUESTION: Is functional programming fun?\n",
      "YOUR ANSWER:\n",
      "\n"
     ]
    }
   ],
   "source": [
    "print(cassPrompt.format(city='turin', name='beppe',\n",
    "                        user_question='Is functional programming fun?'))"
   ]
  },
  {
   "cell_type": "markdown",
   "id": "83ba64c4-6aad-4e98-85ab-37bb34e7802f",
   "metadata": {},
   "source": [
    "#### Arbitrary row functions\n",
    "\n",
    "You can specify an arbitrary function to transform the database row into the returned field. The function gets a `{column_name: value}` dictionary expressing the row and returns the value for the prompt template:"
   ]
  },
  {
   "cell_type": "code",
   "execution_count": 6,
   "id": "9128d438-55ad-4402-9d2a-07b234912933",
   "metadata": {},
   "outputs": [
    {
     "name": "stdout",
     "output_type": "stream",
     "text": [
      "Please answer a question from a user.\n",
      "Keep in mind that the user's age is 10014 and they live in a city with\n",
      "nickname Taaac (i.e. milan).\n",
      "\n",
      "USER'S QUESTION: Is there a square circle?\n",
      "YOUR ANSWER:\n",
      "\n"
     ]
    }
   ],
   "source": [
    "def nicknamer(row_dict):\n",
    "    return f\"{row_dict['nickname']} (i.e. {row_dict['city']})\"\n",
    "\n",
    "field_mapper_f = {\n",
    "    'user_age': ('people', lambda row_dict: row_dict['age'] + 10000),\n",
    "    'city_nickname': ('nickname_by_city', nicknamer),\n",
    "}\n",
    "\n",
    "cassPromptF = CassandraReaderPromptTemplate(\n",
    "    session=session,\n",
    "    keyspace=keyspace,\n",
    "    field_mapper=field_mapper_f,\n",
    "    template=ctemplate0,\n",
    "    input_variables=[\"user_question\"],\n",
    ")\n",
    "\n",
    "print(cassPromptF.format(city='milan', name='samanta',\n",
    "                        user_question='Is there a square circle?'))"
   ]
  },
  {
   "cell_type": "markdown",
   "id": "2a2247ed-85e7-4bb7-abb0-9097c6922ade",
   "metadata": {},
   "source": [
    "#### Null and missing values\n",
    "\n",
    "You can control how the prompt template should behave when a `None` value is encountered or even when a table has no rows altogether for a given primary key.\n",
    "\n",
    "First, you can pass a boolean parameter `admit_nulls` to the prompt template.\n",
    "\n",
    "Second, you can use the full four-element tuple format for the entries in the \"field mapper\". This would be `(table_name, column_name_or_function, admit_nulls, default_value)` (whose `admit_nulls` will override the overall default)."
   ]
  },
  {
   "cell_type": "code",
   "execution_count": 7,
   "id": "a1e83cec-31e4-4120-85d0-45cf7d829379",
   "metadata": {},
   "outputs": [
    {
     "name": "stdout",
     "output_type": "stream",
     "text": [
      "Please answer a question from a user.\n",
      "Keep in mind that the user's age is 144 and they live in a city with\n",
      "nickname (no nickname).\n",
      "\n",
      "USER'S QUESTION: What are we having for lunch?\n",
      "YOUR ANSWER:\n",
      "\n"
     ]
    }
   ],
   "source": [
    "field_mapper_n = {\n",
    "    'user_age': ('people', 'age'),\n",
    "    'city_nickname': ('nickname_by_city', 'nickname', True, '(no nickname)'),\n",
    "}\n",
    "\n",
    "cassPromptN = CassandraReaderPromptTemplate(\n",
    "    session=session,\n",
    "    keyspace=keyspace,\n",
    "    field_mapper=field_mapper_n,\n",
    "    template=ctemplate0,\n",
    "    input_variables=[\"user_question\"],\n",
    "    admit_nulls=False,\n",
    ")\n",
    "\n",
    "# Note: there is no \"tokyo\" in the nicknames table\n",
    "print(cassPromptN.format(city='tokyo', name='hideo',\n",
    "                         user_question='What are we having for lunch?'))"
   ]
  },
  {
   "cell_type": "code",
   "execution_count": 8,
   "id": "8bfe002d-9362-4910-a62d-51e27b26ec9e",
   "metadata": {},
   "outputs": [
    {
     "name": "stdout",
     "output_type": "stream",
     "text": [
      "Exception => Null data found for \"user_age\"\n"
     ]
    }
   ],
   "source": [
    "try:\n",
    "    # Note: there are no rows with city='madrid' in the \"people\" table\n",
    "    print(cassPromptN.format(city='madrid', name='alberto',\n",
    "                             user_question='What are we having for lunch?'))\n",
    "except Exception as e:\n",
    "    print(f\"Exception => {str(e)}\")"
   ]
  },
  {
   "cell_type": "markdown",
   "id": "673f685a-2991-4ac5-80be-25482a596d77",
   "metadata": {},
   "source": [
    "## Partialing Prompt Templates\n",
    "\n",
    "Cassandra-powered prompt templates support partialing. Suppose you have just enough information to bind the template to the DB-lookup values: you can leave the `user_question` unspecified for later completion at \"format-time\":"
   ]
  },
  {
   "cell_type": "code",
   "execution_count": 9,
   "id": "47c5f06b-98ff-404c-8564-00e91a6249e2",
   "metadata": {},
   "outputs": [],
   "source": [
    "cassPartialPrompt = cassPrompt.partial(city='lisbon', name='Pedro')"
   ]
  },
  {
   "cell_type": "markdown",
   "id": "e837616e-b184-4c32-8072-2beb4b7a2c9d",
   "metadata": {},
   "source": [
    "The partial prompt template will keep the provided inputs ready to execute the full lookup-and-format operation when needed:"
   ]
  },
  {
   "cell_type": "code",
   "execution_count": 10,
   "id": "7ce69822-7049-4161-8286-69f9e130e42f",
   "metadata": {},
   "outputs": [
    {
     "name": "stdout",
     "output_type": "stream",
     "text": [
      "Please answer a question from a user.\n",
      "Keep in mind that the user's age is 1 and they live in a city with\n",
      "nickname ACidade.\n",
      "\n",
      "USER'S QUESTION: Em verdade, o que quiseres?\n",
      "YOUR ANSWER:\n",
      "\n"
     ]
    }
   ],
   "source": [
    "print(cassPartialPrompt.format(user_question='Em verdade, o que quiseres?'))"
   ]
  },
  {
   "cell_type": "markdown",
   "id": "f6a7c163-32d1-42b2-a7ca-63b37d8ba0e0",
   "metadata": {},
   "source": [
    "You can partial on any choice of input variables, even mixing database-bound and regular inputs:"
   ]
  },
  {
   "cell_type": "code",
   "execution_count": 11,
   "id": "b309e5fe-5515-4280-a584-c4b4dcf641b1",
   "metadata": {},
   "outputs": [
    {
     "name": "stdout",
     "output_type": "stream",
     "text": [
      "Please answer a question from a user.\n",
      "Keep in mind that the user's age is 1 and they live in a city with\n",
      "nickname ACidade.\n",
      "\n",
      "USER'S QUESTION: Estou perto do Tejo?\n",
      "YOUR ANSWER:\n",
      "\n"
     ]
    }
   ],
   "source": [
    "cassPartialPrompt2 = cassPrompt.partial(city='lisbon', user_question='Estou perto do Tejo?')\n",
    "\n",
    "print(cassPartialPrompt2.format(name='Pedro'))"
   ]
  },
  {
   "cell_type": "markdown",
   "id": "94b1044b-4fb6-4135-995d-653be3574f59",
   "metadata": {},
   "source": [
    "## Chat Prompt Templates"
   ]
  },
  {
   "cell_type": "markdown",
   "id": "00890926-02e6-4995-88d9-ff9732a11a52",
   "metadata": {},
   "source": [
    "The Cassandra-specific approach can be seamlessly integrated\n",
    "with LangChain's \"chat prompt templates\", which represent a (template-based) way to manage chat exchanges.\n",
    "\n",
    "Start with a prompt, not much dissimilar from what you've seen so far:"
   ]
  },
  {
   "cell_type": "code",
   "execution_count": 12,
   "id": "7f09fd9e-77fa-4e5a-ad9d-299cd31a82e3",
   "metadata": {},
   "outputs": [],
   "source": [
    "systemTemplate = \"\"\"\n",
    "You are a chat assistant, helping a user of age {user_age} from a city\n",
    "they refer to as {city_nickname}.\n",
    "\"\"\"\n",
    "\n",
    "cassSystemPrompt = CassandraReaderPromptTemplate(\n",
    "    session=session,\n",
    "    keyspace=keyspace,\n",
    "    template=systemTemplate,\n",
    "    input_variables=[],\n",
    "    field_mapper={\n",
    "        'user_age': ('people', 'age'),\n",
    "        'city_nickname': ('nickname_by_city', 'nickname'),\n",
    "    },\n",
    ")"
   ]
  },
  {
   "cell_type": "markdown",
   "id": "5a9915c8-ff18-4f47-b4e0-9319c3e035d3",
   "metadata": {},
   "source": [
    "Next, you need specific abstractions to wrap this \"system prompt\" as part of a broader chat exchange:"
   ]
  },
  {
   "cell_type": "code",
   "execution_count": 13,
   "id": "9a96803b-4c2f-466b-ad7a-0c8c64031541",
   "metadata": {},
   "outputs": [],
   "source": [
    "from langchain.prompts import (\n",
    "    ChatPromptTemplate,\n",
    "    SystemMessagePromptTemplate,\n",
    "    HumanMessagePromptTemplate,\n",
    ")\n",
    "systemMessagePrompt = SystemMessagePromptTemplate(prompt=cassSystemPrompt)"
   ]
  },
  {
   "cell_type": "markdown",
   "id": "598cf408-be02-4a0b-8e02-f96453f43b6e",
   "metadata": {},
   "source": [
    "### A sequence of messages\n",
    "\n",
    "Once you wrap a single prompt template as a \"system message prompt\", go ahead and make it part of a longer chat conversation:"
   ]
  },
  {
   "cell_type": "code",
   "execution_count": 14,
   "id": "f3f54ad2-378a-49d0-ab7e-664682b73793",
   "metadata": {},
   "outputs": [],
   "source": [
    "humanTemplate = \"{text}\"\n",
    "humanMessagePrompt = HumanMessagePromptTemplate.from_template(humanTemplate)\n",
    "\n",
    "cassChatPrompt = ChatPromptTemplate.from_messages(\n",
    "    [systemMessagePrompt, humanMessagePrompt]\n",
    ")"
   ]
  },
  {
   "cell_type": "markdown",
   "id": "300b3a25-fe7a-4d53-b49b-b1bf42e82ec9",
   "metadata": {},
   "source": [
    "### Formatting\n",
    "\n",
    "LangChain takes care of correctly propagating the formatting steps throughout the sequence of messages, including the Cassandra-backed template:"
   ]
  },
  {
   "cell_type": "code",
   "execution_count": 15,
   "id": "9ba93311-8bf5-4475-9681-9a6fbc0edf35",
   "metadata": {},
   "outputs": [
    {
     "name": "stdout",
     "output_type": "stream",
     "text": [
      "System: \n",
      "You are a chat assistant, helping a user of age 2 from a city\n",
      "they refer to as CereaNeh.\n",
      "\n",
      "Human: Assistant, please help me!\n"
     ]
    }
   ],
   "source": [
    "print(cassChatPrompt.format_prompt(\n",
    "    city='turin',\n",
    "    name='beppe',\n",
    "    text='Assistant, please help me!'\n",
    ").to_string())"
   ]
  },
  {
   "cell_type": "markdown",
   "id": "608d2143-0a80-4dd3-ba8e-4661a20c96e3",
   "metadata": {},
   "source": [
    "### Partialing and Chat Prompt Templates\n",
    "\n",
    "In some cases, you may want to partial with respect to the database lookup key(s) even within a chat prompt template:"
   ]
  },
  {
   "cell_type": "code",
   "execution_count": 16,
   "id": "110cbc15-66f3-400a-9b32-416d5cdb2289",
   "metadata": {},
   "outputs": [],
   "source": [
    "cassChatPartialPrompt = cassChatPrompt.partial(\n",
    "    city='turin',\n",
    "    name='beppe'\n",
    ")"
   ]
  },
  {
   "cell_type": "code",
   "execution_count": 17,
   "id": "89c39495-875b-4dc0-a297-b4075925f0c7",
   "metadata": {},
   "outputs": [
    {
     "name": "stdout",
     "output_type": "stream",
     "text": [
      "System: \n",
      "You are a chat assistant, helping a user of age 2 from a city\n",
      "they refer to as CereaNeh.\n",
      "\n",
      "Human: Hahaha!\n"
     ]
    }
   ],
   "source": [
    "print(cassChatPartialPrompt.format(text=\"Hahaha!\"))"
   ]
  },
  {
   "cell_type": "markdown",
   "metadata": {},
   "source": [
    "## What now?\n",
    "\n",
    "This demo is hosted [here](https://cassio.org/frameworks/langchain/prompt-templates-basic/) at cassio.org.\n",
    "\n",
    "Discover the other ways you can integrate \n",
    "Cassandra/Astra DB with your ML/GenAI needs,\n",
    "right **within [your favorite framework](https://cassio.org/frameworks/langchain/about/)**."
   ]
  }
 ],
 "metadata": {
  "kernelspec": {
   "display_name": "Python 3 (ipykernel)",
   "language": "python",
   "name": "python3"
  },
  "language_info": {
   "codemirror_mode": {
    "name": "ipython",
    "version": 3
   },
   "file_extension": ".py",
   "mimetype": "text/x-python",
   "name": "python",
   "nbconvert_exporter": "python",
   "pygments_lexer": "ipython3"
  }
 },
 "nbformat": 4,
 "nbformat_minor": 5
}
