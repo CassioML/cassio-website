{
 "cells": [
  {
   "cell_type": "markdown",
   "metadata": {},
   "source": [
    "# VectorStore/QA, learn more"
   ]
  },
  {
   "cell_type": "markdown",
   "metadata": {},
   "source": [
    "## Colab-specific setup"
   ]
  },
  {
   "cell_type": "markdown",
   "metadata": {},
   "source": [
    "Make sure you have a Database and get ready to upload the Secure Connect Bundle and supply the Token string\n",
    "(see [Pre-requisites](https://cassio.org/start_here/#vector-database) on cassio.org for details. Remember you need a **custom Token** with role [Database Administrator](https://awesome-astra.github.io/docs/pages/astra/create-token/)).\n",
    "\n",
    "Likewise, ensure you have the necessary secret for the LLM provider of your choice: you'll be asked to input it shortly\n",
    "(see [Pre-requisites](https://cassio.org/start_here/#llm-access) on cassio.org for details).\n",
    "\n",
    "_Note: this notebook is part of the CassIO documentation. Visit [this page on cassIO.org](https://cassio.org/frameworks/langchain/qa-advanced/)._\n"
   ]
  },
  {
   "cell_type": "code",
   "execution_count": null,
   "id": "2953d95b",
   "metadata": {},
   "outputs": [],
   "source": [
    "# install required dependencies\n",
    "! pip install \\\n",
    "    \"git+https://github.com/hemidactylus/langchain@updated-full-preview--lab#egg=langchain&subdirectory=libs/langchain\" \\\n",
    "    \"cassio>=0.1.1\" \\\n",
    "    \"google-cloud-aiplatform>=1.25.0\" \\\n",
    "    \"jupyter>=1.0.0\" \\\n",
    "    \"openai==0.27.7\" \\\n",
    "    \"python-dotenv==1.0.0\" \\\n",
    "    \"tensorflow-cpu==2.12.0\" \\\n",
    "    \"tiktoken==0.4.0\" \\\n",
    "    \"transformers>=4.29.2\""
   ]
  },
  {
   "cell_type": "markdown",
   "id": "222f44ff",
   "metadata": {},
   "source": [
    "You will likely be asked to \"Restart the Runtime\" at this time, as some dependencies\n",
    "have been upgraded. **Please do restart the runtime now** for a smoother execution from this point onward."
   ]
  },
  {
   "cell_type": "code",
   "execution_count": null,
   "metadata": {},
   "outputs": [],
   "source": [
    "# Input your database keyspace name:\n",
    "ASTRA_DB_KEYSPACE = input('Your Astra DB Keyspace name (e.g. cassio_tutorials): ')"
   ]
  },
  {
   "cell_type": "code",
   "execution_count": null,
   "metadata": {},
   "outputs": [],
   "source": [
    "# Input your Astra DB token string, the one starting with \"AstraCS:...\"\n",
    "from getpass import getpass\n",
    "ASTRA_DB_APPLICATION_TOKEN = getpass('Your Astra DB Token (\"AstraCS:...\"): ')"
   ]
  },
  {
   "cell_type": "markdown",
   "metadata": {
    "id": "QNQ6T_Gjk0Oz"
   },
   "source": [
    "### Astra DB Secure Connect Bundle\n",
    "\n",
    "Please upload the Secure Connect Bundle zipfile to connect to your Astra DB instance.\n",
    "\n",
    "The Secure Connect Bundle is needed to establish a secure connection to the database.\n",
    "Click [here](https://awesome-astra.github.io/docs/pages/astra/download-scb/#c-procedure) for instructions on how to download it from Astra DB."
   ]
  },
  {
   "cell_type": "code",
   "execution_count": null,
   "metadata": {},
   "outputs": [],
   "source": [
    "# Upload your Secure Connect Bundle zipfile:\n",
    "import os\n",
    "from google.colab import files\n",
    "\n",
    "\n",
    "print('Please upload your Secure Connect Bundle')\n",
    "uploaded = files.upload()\n",
    "if uploaded:\n",
    "    astraBundleFileTitle = list(uploaded.keys())[0]\n",
    "    ASTRA_DB_SECURE_BUNDLE_PATH = os.path.join(os.getcwd(), astraBundleFileTitle)\n",
    "else:\n",
    "    raise ValueError(\n",
    "        'Cannot proceed without Secure Connect Bundle. Please re-run the cell.'\n",
    "    )"
   ]
  },
  {
   "cell_type": "code",
   "execution_count": null,
   "metadata": {},
   "outputs": [],
   "source": [
    "# colab-specific override of helper functions\n",
    "from cassandra.cluster import (\n",
    "    Cluster,\n",
    ")\n",
    "from cassandra.auth import PlainTextAuthProvider\n",
    "\n",
    "\n",
    "def getCQLSession(mode='astra_db'):\n",
    "    if mode == 'astra_db':\n",
    "        cluster = Cluster(\n",
    "            cloud={\n",
    "                \"secure_connect_bundle\": ASTRA_DB_SECURE_BUNDLE_PATH,\n",
    "            },\n",
    "            auth_provider=PlainTextAuthProvider(\n",
    "                \"token\",\n",
    "                ASTRA_DB_APPLICATION_TOKEN,\n",
    "            ),\n",
    "        )\n",
    "        astraSession = cluster.connect()\n",
    "        return astraSession\n",
    "    else:\n",
    "        raise ValueError('Unsupported CQL Session mode')\n",
    "\n",
    "def getCQLKeyspace(mode='astra_db'):\n",
    "    if mode == 'astra_db':\n",
    "        return ASTRA_DB_KEYSPACE\n",
    "    else:\n",
    "        raise ValueError('Unsupported CQL Session mode')"
   ]
  },
  {
   "cell_type": "markdown",
   "metadata": {
    "id": "QXCQ6T_Gjk0Oz"
   },
   "source": [
    "### LLM Provider\n",
    "\n",
    "In the cell below you can choose between **GCP Vertex AI** or **OpenAI** for your LLM services.\n",
    "(See [Pre-requisites](https://cassio.org/start_here/#llm-access) on cassio.org for more details).\n",
    "\n",
    "Make sure you set the `llmProvider` variable and supply the corresponding access secrets in the following cell."
   ]
  },
  {
   "cell_type": "code",
   "execution_count": null,
   "metadata": {},
   "outputs": [],
   "source": [
    "# Set your secret(s) for LLM access:\n",
    "llmProvider = 'OpenAI'  # 'GCP_VertexAI', 'Azure_OpenAI'\n"
   ]
  },
  {
   "cell_type": "code",
   "execution_count": null,
   "metadata": {},
   "outputs": [],
   "source": [
    "from getpass import getpass\n",
    "if llmProvider == 'OpenAI':\n",
    "    apiSecret = getpass(f'Your secret for LLM provider \"{llmProvider}\": ')\n",
    "    os.environ['OPENAI_API_KEY'] = apiSecret\n",
    "elif llmProvider == 'GCP_VertexAI':\n",
    "    # we need a json file\n",
    "    print(f'Please upload your Service Account JSON for the LLM provider \"{llmProvider}\":')\n",
    "    from google.colab import files\n",
    "    uploaded = files.upload()\n",
    "    if uploaded:\n",
    "        vertexAIJsonFileTitle = list(uploaded.keys())[0]\n",
    "        os.environ['GOOGLE_APPLICATION_CREDENTIALS'] = os.path.join(os.getcwd(), vertexAIJsonFileTitle)\n",
    "    else:\n",
    "        raise ValueError(\n",
    "            'No file uploaded. Please re-run the cell.'\n",
    "        )\n",
    "elif llmProvider == 'Azure_OpenAI':\n",
    "    # a few parameters must be input\n",
    "    apiSecret = input(f'Your API Key for LLM provider \"{llmProvider}\": ')\n",
    "    os.environ['AZURE_OPENAI_API_KEY'] = apiSecret\n",
    "    apiBase = input('The \"Base URL\" for your models (e.g. \"https://YOUR-RESOURCE-NAME.openai.azure.com\"): ')\n",
    "    os.environ['AZURE_OPENAI_API_BASE'] = apiBase\n",
    "    apiLLMDepl = input('The name of your LLM Deployment: ')\n",
    "    os.environ['AZURE_OPENAI_LLM_DEPLOYMENT'] = apiLLMDepl\n",
    "    apiLLMModel = input('The name of your LLM Model (e.g. \"gpt-4\"): ')\n",
    "    os.environ['AZURE_OPENAI_LLM_MODEL'] = apiLLMModel\n",
    "    apiEmbDepl = input('The name for your Embeddings Deployment: ')\n",
    "    os.environ['AZURE_OPENAI_EMBEDDINGS_DEPLOYMENT'] = apiEmbDepl\n",
    "    apiEmbModel = input('The name of your Embedding Model (e.g. \"text-embedding-ada-002\"): ')\n",
    "    os.environ['AZURE_OPENAI_EMBEDDINGS_MODEL'] = apiEmbModel\n",
    "\n",
    "    # The following is probably not going to change for some time...\n",
    "    os.environ['AZURE_OPENAI_API_VERSION'] = '2023-03-15-preview'\n",
    "else:\n",
    "    raise ValueError('Unknown/unsupported LLM Provider')"
   ]
  },
  {
   "cell_type": "markdown",
   "metadata": {},
   "source": [
    "### Colab preamble completed\n",
    "\n",
    "The following cells constitute the demo notebook proper."
   ]
  },
  {
   "cell_type": "markdown",
   "id": "5669f0e5",
   "metadata": {},
   "source": [
    "# VectorStore/QA, learn more"
   ]
  },
  {
   "cell_type": "markdown",
   "id": "c3dd601b",
   "metadata": {},
   "source": [
    "_**NOTE:** this uses Cassandra's \"Vector Search\" capability.\n",
    "Make sure you are connecting to a vector-enabled database for this demo._"
   ]
  },
  {
   "cell_type": "markdown",
   "id": "256567e6",
   "metadata": {},
   "source": [
    "In the previous Quickstart, you have created the index and at the same time added the corpus of text to it.\n",
    "\n",
    "In most cases, these two operations happen at different times: besides, often new documents keep being ingested.\n",
    "\n",
    "This notebook demonstrates further interactions you can have with a Cassandra Vector Store.\n",
    "\n",
    "It is assumed you have run the \"VectorStore/QA, Quickstart\" notebook (so that the vector store is not empty)"
   ]
  },
  {
   "cell_type": "code",
   "execution_count": 1,
   "id": "050cad10",
   "metadata": {},
   "outputs": [],
   "source": [
    "from langchain.indexes.vectorstore import VectorStoreIndexWrapper\n",
    "from langchain.text_splitter import RecursiveCharacterTextSplitter\n",
    "from langchain.docstore.document import Document"
   ]
  },
  {
   "cell_type": "markdown",
   "id": "b3812868",
   "metadata": {},
   "source": [
    "The setup is similar to the one you saw:"
   ]
  },
  {
   "cell_type": "code",
   "execution_count": 2,
   "id": "4f725e73",
   "metadata": {},
   "outputs": [],
   "source": [
    "from langchain.vectorstores.cassandra import Cassandra"
   ]
  },
  {
   "cell_type": "code",
   "execution_count": 3,
   "id": "03235110",
   "metadata": {},
   "outputs": [],
   "source": [
    "# creation of the DB connection\n",
    "cqlMode = 'astra_db'\n",
    "session = getCQLSession(mode=cqlMode)\n",
    "keyspace = getCQLKeyspace(mode=cqlMode)"
   ]
  },
  {
   "cell_type": "markdown",
   "id": "ee494289",
   "metadata": {},
   "source": [
    "Below is the logic to instantiate the LLM and embeddings of choice. We chose to leave it in the notebooks for clarity."
   ]
  },
  {
   "cell_type": "code",
   "execution_count": 4,
   "id": "ff22f687",
   "metadata": {},
   "outputs": [
    {
     "name": "stdout",
     "output_type": "stream",
     "text": [
      "LLM+embeddings from OpenAI\n"
     ]
    }
   ],
   "source": [
    "import os\n",
    "# creation of the LLM resources\n",
    "\n",
    "\n",
    "if llmProvider == 'GCP_VertexAI':\n",
    "    from langchain.llms import VertexAI\n",
    "    from langchain.embeddings import VertexAIEmbeddings\n",
    "    llm = VertexAI()\n",
    "    myEmbedding = VertexAIEmbeddings()\n",
    "    print('LLM+embeddings from Vertex AI')\n",
    "elif llmProvider == 'OpenAI':\n",
    "    os.environ['OPENAI_API_TYPE'] = 'open_ai'\n",
    "    from langchain.llms import OpenAI\n",
    "    from langchain.embeddings import OpenAIEmbeddings\n",
    "    llm = OpenAI(temperature=0)\n",
    "    myEmbedding = OpenAIEmbeddings()\n",
    "    print('LLM+embeddings from OpenAI')\n",
    "elif llmProvider == 'Azure_OpenAI':\n",
    "    os.environ['OPENAI_API_TYPE'] = 'azure'\n",
    "    os.environ['OPENAI_API_VERSION'] = os.environ['AZURE_OPENAI_API_VERSION']\n",
    "    os.environ['OPENAI_API_BASE'] = os.environ['AZURE_OPENAI_API_BASE']\n",
    "    os.environ['OPENAI_API_KEY'] = os.environ['AZURE_OPENAI_API_KEY']\n",
    "    from langchain.llms import AzureOpenAI\n",
    "    from langchain.embeddings import OpenAIEmbeddings\n",
    "    llm = AzureOpenAI(temperature=0, model_name=os.environ['AZURE_OPENAI_LLM_MODEL'],\n",
    "                      engine=os.environ['AZURE_OPENAI_LLM_DEPLOYMENT'])\n",
    "    myEmbedding = OpenAIEmbeddings(model=os.environ['AZURE_OPENAI_EMBEDDINGS_MODEL'],\n",
    "                                   deployment=os.environ['AZURE_OPENAI_EMBEDDINGS_DEPLOYMENT'])\n",
    "    print('LLM+embeddings from Azure OpenAI')\n",
    "else:\n",
    "    raise ValueError('Unknown LLM provider.')"
   ]
  },
  {
   "cell_type": "markdown",
   "id": "f0436e0b",
   "metadata": {},
   "source": [
    "## Re-use an existing Vector Store\n",
    "\n",
    "Creating this `Cassandra` vector store, it will re-connect with the existing data on DB.\n",
    "\n",
    "In practice, you are loading an existing, pre-populated vector store for further usage.\n",
    "\n",
    "_(make sure you are using the very same embedding function every time! In fact, this is why we have a separate table for each embedding function, i.e. for each `llmProvider`.)_"
   ]
  },
  {
   "cell_type": "code",
   "execution_count": 5,
   "id": "11cadf30",
   "metadata": {},
   "outputs": [],
   "source": [
    "myCassandraVStore = Cassandra(\n",
    "    embedding=myEmbedding,\n",
    "    session=session,\n",
    "    keyspace=keyspace,\n",
    "    table_name='vs_test1_' + llmProvider,\n",
    ")"
   ]
  },
  {
   "cell_type": "markdown",
   "id": "13a820b1",
   "metadata": {},
   "source": [
    "You can then re-instantiate the `index` from the vector store with:"
   ]
  },
  {
   "cell_type": "code",
   "execution_count": 6,
   "id": "cb875d00",
   "metadata": {},
   "outputs": [],
   "source": [
    "index = VectorStoreIndexWrapper(vectorstore=myCassandraVStore)"
   ]
  },
  {
   "cell_type": "markdown",
   "id": "cee313c5",
   "metadata": {},
   "source": [
    "and use it as you saw in the quickstart:"
   ]
  },
  {
   "cell_type": "code",
   "execution_count": 7,
   "id": "dccc7080",
   "metadata": {},
   "outputs": [
    {
     "data": {
      "text/plain": [
       "' Luchesi is a person who is known for having a critical turn and for not being able to tell Amontillado from Sherry.'"
      ]
     },
     "execution_count": 7,
     "metadata": {},
     "output_type": "execute_result"
    }
   ],
   "source": [
    "query = \"Who is Luchesi?\"\n",
    "index.query(query, llm=llm)"
   ]
  },
  {
   "cell_type": "markdown",
   "id": "fcc30386",
   "metadata": {},
   "source": [
    "## Further usage of the vector store"
   ]
  },
  {
   "cell_type": "markdown",
   "id": "132e479a",
   "metadata": {},
   "source": [
    "These are some of the ways you can query the store:"
   ]
  },
  {
   "cell_type": "code",
   "execution_count": 8,
   "id": "97796bd7",
   "metadata": {},
   "outputs": [
    {
     "data": {
      "text/plain": [
       "[(Document(page_content='\"Nitre,\" I replied.  \"How long have you had that cough?\"\\n\\n\"Ugh! ugh! ugh!--ugh! ugh! ugh!--ugh! ugh! ugh!--ugh! ugh! ugh!--ugh!\\nugh! ugh!\"\\n\\nMy poor friend found it impossible to reply for many minutes.\\n\\n\"It is nothing,\" he said, at last.', metadata={'source': 'texts/amontillado.txt'}),\n",
       "  0.9052722957243504)]"
      ]
     },
     "execution_count": 8,
     "metadata": {},
     "output_type": "execute_result"
    }
   ],
   "source": [
    "myCassandraVStore.similarity_search_with_score(\n",
    "    \"Does anyone have a coughing fit?\",\n",
    "    k=1,\n",
    ")"
   ]
  },
  {
   "cell_type": "markdown",
   "id": "1a172b0c",
   "metadata": {},
   "source": [
    "### Adding new documents\n",
    "\n",
    "Start with a very off-topic question, to demonstrate that no relevant documents are found (yet).\n",
    "\n",
    "_Note: depending on the embedding function, you might still see some results, off-topic in practice, being found at this stage. In a full end-to-end QA session, however, these would likely be discarded by the LLM, which would presumably end up saying, \"I don't know\"._"
   ]
  },
  {
   "cell_type": "code",
   "execution_count": 9,
   "id": "1270f148",
   "metadata": {},
   "outputs": [
    {
     "data": {
      "text/plain": [
       "[(Document(page_content='\"A huge human foot d\\'or, in a field azure; the foot crushes a serpent\\nrampant whose fangs are imbedded in the heel.\"\\n\\n\"And the motto?\"\\n\\n\"_Nemo me impune lacessit_.\"\\n\\n\"Good!\" he said.', metadata={'source': 'texts/amontillado.txt'}),\n",
       "  0.8635470113992079)]"
      ]
     },
     "execution_count": 9,
     "metadata": {},
     "output_type": "execute_result"
    }
   ],
   "source": [
    "SPIDER_QUESTION = 'Compare Agelenidae and Lycosidae'\n",
    "myCassandraVStore.similarity_search_with_relevance_scores(\n",
    "    SPIDER_QUESTION,\n",
    "    k=1,\n",
    "    score_threshold=0.8,\n",
    ")"
   ]
  },
  {
   "cell_type": "markdown",
   "id": "9433df8a",
   "metadata": {},
   "source": [
    "You can add a couple of relevant paragraphs to the index, using the `add_texts` primitive:"
   ]
  },
  {
   "cell_type": "code",
   "execution_count": 10,
   "id": "b863c837",
   "metadata": {},
   "outputs": [
    {
     "name": "stdout",
     "output_type": "stream",
     "text": [
      "5b44a1115e3245198a132a42705694a8\n",
      "f1353d23c55b478192e77453cfdcc30a\n"
     ]
    }
   ],
   "source": [
    "spiderFacts = [\n",
    "    \"\"\"\n",
    "    The Agelenidae are a large family of spiders in the suborder Araneomorphae.\n",
    "    The body length of the smallest Agelenidae spiders are about 4 mm (0.16 in), excluding the legs,\n",
    "    while the larger species grow to 20 mm (0.79 in) long. Some exceptionally large species,\n",
    "    such as Eratigena atrica, may reach 5 to 10 cm (2.0 to 3.9 in) in total leg span.\n",
    "    Agelenids have eight eyes in two horizontal rows of four. Their cephalothoraces narrow\n",
    "    somewhat towards the front where the eyes are. Their abdomens are more or less oval, usually\n",
    "    patterned with two rows of lines and spots. Some species have longitudinal lines on the dorsal\n",
    "    surface of the cephalothorax, whereas other species do not; for example, the hobo spider does not,\n",
    "    which assists in informally distinguishing it from similar-looking species.\n",
    "    \"\"\",\n",
    "    \"\"\"\n",
    "    Jumping spiders are a group of spiders that constitute the family Salticidae.\n",
    "    As of 2019, this family contained over 600 described genera and over 6,000 described species,\n",
    "    making it the largest family of spiders at 13% of all species.\n",
    "    Jumping spiders have some of the best vision among arthropods and use it\n",
    "    in courtship, hunting, and navigation.\n",
    "    Although they normally move unobtrusively and fairly slowly,\n",
    "    most species are capable of very agile jumps, notably when hunting,\n",
    "    but sometimes in response to sudden threats or crossing long gaps.\n",
    "    Both their book lungs and tracheal system are well-developed,\n",
    "    and they use both systems (bimodal breathing).\n",
    "    Jumping spiders are generally recognized by their eye pattern.\n",
    "    All jumping spiders have four pairs of eyes, with the anterior median pair\n",
    "    being particularly large. \n",
    "    \"\"\",\n",
    "]\n",
    "spiderMetadatas = [\n",
    "    {'source': 'wikipedia/Agelenidae'},\n",
    "    {'source': 'wikipedia/Salticidae'},\n",
    "]\n",
    "\n",
    "if llmProvider != 'Azure_OpenAI':\n",
    "    ids = myCassandraVStore.add_texts(\n",
    "        spiderFacts,\n",
    "        spiderMetadatas,\n",
    "    )\n",
    "    print('\\n'.join(ids))\n",
    "else:\n",
    "    # Note: this is a temporary mitigation of an Azure OpenAI error with asking for\n",
    "    #       multiple embedding in a single request, which would error with:\n",
    "    #           \"InvalidRequestError: Too many inputs. The max number of inputs is 1\"\n",
    "    for spFact, spMetadata in zip(spiderFacts, spiderMetadatas):\n",
    "        thisId = myCassandraVStore.add_texts(\n",
    "            [spFact],\n",
    "            [spMetadata],\n",
    "        )[0]\n",
    "        print(thisId)"
   ]
  },
  {
   "cell_type": "markdown",
   "id": "6a6bc9d4",
   "metadata": {},
   "source": [
    "Another way is to add a text through LangChain's `Document` abstraction.\n",
    "\n",
    "Note that, using one of LangChain's splitters, long input documents are made into (possibly overlapping) digestible chunks without much boilerplate:"
   ]
  },
  {
   "cell_type": "code",
   "execution_count": 11,
   "id": "7ef4761c",
   "metadata": {},
   "outputs": [],
   "source": [
    "mySplitter = RecursiveCharacterTextSplitter(chunk_size=250, chunk_overlap=120)"
   ]
  },
  {
   "cell_type": "code",
   "execution_count": 12,
   "id": "0d3c95a4",
   "metadata": {},
   "outputs": [],
   "source": [
    "lycoText = \"\"\"\n",
    "Wolf spiders are members of the family Lycosidae.\n",
    "They are robust and agile hunters with excellent eyesight.\n",
    "They live mostly in solitude, hunt alone, and usually do not spin webs.\n",
    "Some are opportunistic hunters, pouncing upon prey as they\n",
    "find it or chasing it over short distances;\n",
    "others wait for passing prey in or near the mouth of a burrow.\n",
    "\n",
    "Wolf spiders resemble nursery web spiders (family Pisauridae),\n",
    "but wolf spiders carry their egg sacs by attaching them to their spinnerets,\n",
    "while the Pisauridae carry their egg sacs with their chelicerae and pedipalps.\n",
    "Two of the wolf spider's eight eyes are large and prominent;\n",
    "this distinguishes them from nursery web spiders,\n",
    "whose eyes are all of roughly equal size.\n",
    "This can also help distinguish them from the similar-looking grass spiders.\n",
    "\"\"\"\n",
    "\n",
    "lycoDocument = Document(\n",
    "    page_content=lycoText,\n",
    "    metadata={'source': 'wikipedia/Lycosidae'}\n",
    ")"
   ]
  },
  {
   "cell_type": "markdown",
   "id": "952ab1e2",
   "metadata": {},
   "source": [
    "Use the splitter to \"shred\" the input document:"
   ]
  },
  {
   "cell_type": "code",
   "execution_count": 13,
   "id": "53c8841e",
   "metadata": {},
   "outputs": [
    {
     "data": {
      "text/plain": [
       "[Document(page_content='Wolf spiders are members of the family Lycosidae.\\nThey are robust and agile hunters with excellent eyesight.\\nThey live mostly in solitude, hunt alone, and usually do not spin webs.\\nSome are opportunistic hunters, pouncing upon prey as they', metadata={'source': 'wikipedia/Lycosidae'}),\n",
       " Document(page_content='Some are opportunistic hunters, pouncing upon prey as they\\nfind it or chasing it over short distances;\\nothers wait for passing prey in or near the mouth of a burrow.', metadata={'source': 'wikipedia/Lycosidae'}),\n",
       " Document(page_content='Wolf spiders resemble nursery web spiders (family Pisauridae),\\nbut wolf spiders carry their egg sacs by attaching them to their spinnerets,\\nwhile the Pisauridae carry their egg sacs with their chelicerae and pedipalps.', metadata={'source': 'wikipedia/Lycosidae'}),\n",
       " Document(page_content=\"while the Pisauridae carry their egg sacs with their chelicerae and pedipalps.\\nTwo of the wolf spider's eight eyes are large and prominent;\\nthis distinguishes them from nursery web spiders,\\nwhose eyes are all of roughly equal size.\", metadata={'source': 'wikipedia/Lycosidae'}),\n",
       " Document(page_content='this distinguishes them from nursery web spiders,\\nwhose eyes are all of roughly equal size.\\nThis can also help distinguish them from the similar-looking grass spiders.', metadata={'source': 'wikipedia/Lycosidae'})]"
      ]
     },
     "execution_count": 13,
     "metadata": {},
     "output_type": "execute_result"
    }
   ],
   "source": [
    "lycoDocs = mySplitter.transform_documents([lycoDocument])\n",
    "lycoDocs"
   ]
  },
  {
   "cell_type": "markdown",
   "id": "6d89ab56",
   "metadata": {},
   "source": [
    "These are ready to be added to the index:"
   ]
  },
  {
   "cell_type": "code",
   "execution_count": 14,
   "id": "b2c7fd64",
   "metadata": {},
   "outputs": [
    {
     "name": "stdout",
     "output_type": "stream",
     "text": [
      "5b7d726f444b421f9f25a55d73291766\n",
      "4ab50d78b1664ad094e9c8b95b24ca44\n",
      "e9f81b5662dc409db259547348fd099b\n",
      "f2d60ab62b75478fb5d548c29b239529\n",
      "e6ebc3f66acb4c538d6d45fc8d05d6c8\n"
     ]
    }
   ],
   "source": [
    "if llmProvider != 'Azure_OpenAI':\n",
    "    ids = myCassandraVStore.add_documents(lycoDocs)\n",
    "    print('\\n'.join(ids))\n",
    "else:\n",
    "    # Note: this is a temporary mitigation of an Azure OpenAI error with asking for\n",
    "    #       multiple embedding in a single request, which would error with:\n",
    "    #           \"InvalidRequestError: Too many inputs. The max number of inputs is 1\"\n",
    "    for lycoDoc in lycoDocs:\n",
    "        thisId = myCassandraVStore.add_documents([lycoDoc])[0]\n",
    "        print(thisId)"
   ]
  },
  {
   "cell_type": "markdown",
   "id": "304bb956",
   "metadata": {},
   "source": [
    "### Querying the store again\n",
    "\n",
    "Time to repeat the question:"
   ]
  },
  {
   "cell_type": "code",
   "execution_count": 15,
   "id": "95567466",
   "metadata": {},
   "outputs": [
    {
     "data": {
      "text/plain": [
       "[(Document(page_content='\\n    The Agelenidae are a large family of spiders in the suborder Araneomorphae.\\n    The body length of the smallest Agelenidae spiders are about 4 mm (0.16 in), excluding the legs,\\n    while the larger species grow to 20 mm (0.79 in) long. Some exceptionally large species,\\n    such as Eratigena atrica, may reach 5 to 10 cm (2.0 to 3.9 in) in total leg span.\\n    Agelenids have eight eyes in two horizontal rows of four. Their cephalothoraces narrow\\n    somewhat towards the front where the eyes are. Their abdomens are more or less oval, usually\\n    patterned with two rows of lines and spots. Some species have longitudinal lines on the dorsal\\n    surface of the cephalothorax, whereas other species do not; for example, the hobo spider does not,\\n    which assists in informally distinguishing it from similar-looking species.\\n    ', metadata={'source': 'wikipedia/Agelenidae'}),\n",
       "  0.9029937548261041),\n",
       " (Document(page_content=\"while the Pisauridae carry their egg sacs with their chelicerae and pedipalps.\\nTwo of the wolf spider's eight eyes are large and prominent;\\nthis distinguishes them from nursery web spiders,\\nwhose eyes are all of roughly equal size.\", metadata={'source': 'wikipedia/Lycosidae'}),\n",
       "  0.9007724464216618),\n",
       " (Document(page_content='Wolf spiders resemble nursery web spiders (family Pisauridae),\\nbut wolf spiders carry their egg sacs by attaching them to their spinnerets,\\nwhile the Pisauridae carry their egg sacs with their chelicerae and pedipalps.', metadata={'source': 'wikipedia/Lycosidae'}),\n",
       "  0.893145090393671)]"
      ]
     },
     "execution_count": 15,
     "metadata": {},
     "output_type": "execute_result"
    }
   ],
   "source": [
    "myCassandraVStore.similarity_search_with_relevance_scores(\n",
    "    SPIDER_QUESTION,\n",
    "    k=3,\n",
    "    score_threshold=0.8,\n",
    ")"
   ]
  },
  {
   "cell_type": "markdown",
   "id": "334354ee",
   "metadata": {},
   "source": [
    "### Item removal and expiration"
   ]
  },
  {
   "cell_type": "markdown",
   "id": "54f17c35",
   "metadata": {},
   "source": [
    "#### Time-To-Live (TTL)"
   ]
  },
  {
   "cell_type": "markdown",
   "id": "d8922961",
   "metadata": {},
   "source": [
    "If you provide a TTL value when creating the store, every entry will expire away a certain time after its insertion:"
   ]
  },
  {
   "cell_type": "code",
   "execution_count": 16,
   "id": "dd0fd906",
   "metadata": {},
   "outputs": [],
   "source": [
    "myCassandraVStoreWithTTL = Cassandra(\n",
    "    embedding=myEmbedding,\n",
    "    session=session,\n",
    "    keyspace=keyspace,\n",
    "    table_name='vs_test1_shortlived_' + llmProvider,\n",
    "    ttl_seconds=120,\n",
    ")"
   ]
  },
  {
   "cell_type": "markdown",
   "id": "2a907769",
   "metadata": {},
   "source": [
    "The following two documents will be available for two minutes."
   ]
  },
  {
   "cell_type": "code",
   "execution_count": 17,
   "id": "ecec2fd8",
   "metadata": {},
   "outputs": [
    {
     "name": "stdout",
     "output_type": "stream",
     "text": [
      "4a67cdc623c54244bb7931a8575610c4\n",
      "9f59ccbd9e694d7c8a74106b9e3434de\n"
     ]
    }
   ],
   "source": [
    "if llmProvider != 'Azure_OpenAI':\n",
    "    ids = myCassandraVStoreWithTTL.add_documents(lycoDocs[0:2])\n",
    "    print('\\n'.join(ids))\n",
    "else:\n",
    "    # Note: this is a temporary mitigation of an Azure OpenAI error with asking for\n",
    "    #       multiple embedding in a single request, which would error with:\n",
    "    #           \"InvalidRequestError: Too many inputs. The max number of inputs is 1\"\n",
    "    for lycoDoc in lycoDocs[0:2]:\n",
    "        thisId = myCassandraVStoreWithTTL.add_documents([lycoDoc])[0]\n",
    "        print(thisId)"
   ]
  },
  {
   "cell_type": "markdown",
   "id": "f902b173",
   "metadata": {},
   "source": [
    "Alternatively, for a finer control of the time-to-live, you can specify it at insertion time -- which would anyway have precedence over the store-level definition. So, these documents will survive for twenty seconds:"
   ]
  },
  {
   "cell_type": "code",
   "execution_count": 18,
   "id": "b1a874a5",
   "metadata": {},
   "outputs": [
    {
     "name": "stdout",
     "output_type": "stream",
     "text": [
      "cfc09a38e082407daaf025f0cf067487\n",
      "1daee1e823fb464dbbab28177b789a68\n",
      "aea25de5b3b640439168485a77bdd08b\n"
     ]
    }
   ],
   "source": [
    "if llmProvider != 'Azure_OpenAI':\n",
    "    ids = myCassandraVStore.add_documents(lycoDocs[2:], ttl_seconds=20)\n",
    "    print('\\n'.join(ids))\n",
    "else:\n",
    "    # Note: this is a temporary mitigation of an Azure OpenAI error with asking for\n",
    "    #       multiple embedding in a single request, which would error with:\n",
    "    #           \"InvalidRequestError: Too many inputs. The max number of inputs is 1\"\n",
    "    for lycoDoc in lycoDocs[2:]:\n",
    "        thisId = myCassandraVStore.add_documents([lycoDoc], ttl_seconds=20)[0]\n",
    "        print(thisId)"
   ]
  },
  {
   "cell_type": "markdown",
   "id": "36c8ef12",
   "metadata": {},
   "source": [
    "#### Manual removal of entries"
   ]
  },
  {
   "cell_type": "markdown",
   "id": "301e3e25",
   "metadata": {},
   "source": [
    "You can delete individual documents from the store.\n",
    "\n",
    "However, you first need to retrieve their identifier with a similarity search. The following method returns a list of matching 3-tuples, whose last item is the id of the document:"
   ]
  },
  {
   "cell_type": "code",
   "execution_count": 19,
   "id": "ceb1a809",
   "metadata": {},
   "outputs": [
    {
     "name": "stdout",
     "output_type": "stream",
     "text": [
      "  * [0.903] \"The Agelenidae are a large...\" (5b44a1115e3245198a132a42705694a8)\n",
      "  * [0.901] \"while the Pisauridae carry their...\" (f2d60ab62b75478fb5d548c29b239529)\n",
      "  * [0.901] \"while the Pisauridae carry their...\" (1daee1e823fb464dbbab28177b789a68)\n",
      "  * [0.893] \"Wolf spiders resemble nursery we...\" (e9f81b5662dc409db259547348fd099b)\n"
     ]
    }
   ],
   "source": [
    "spiderDocIds = []\n",
    "for doc, score, docId in myCassandraVStore.similarity_search_with_score_id('Compare Agelenidae and Lycosidae'):\n",
    "    print(f'  * [{score:.3f}] \"{doc.page_content[:32].strip()}...\" ({docId})')\n",
    "    spiderDocIds.append(docId)"
   ]
  },
  {
   "cell_type": "markdown",
   "id": "23a2dddf",
   "metadata": {},
   "source": [
    "At this point you can perform the actual document deletion:"
   ]
  },
  {
   "cell_type": "code",
   "execution_count": 20,
   "id": "a9f303cf",
   "metadata": {},
   "outputs": [],
   "source": [
    "for spiderDocId in spiderDocIds:\n",
    "    myCassandraVStore.delete_by_document_id(spiderDocId)"
   ]
  },
  {
   "cell_type": "markdown",
   "id": "26e9339f",
   "metadata": {},
   "source": [
    "The last method to remove entries from the store is demonstrated next."
   ]
  },
  {
   "cell_type": "markdown",
   "id": "b8cbad6a",
   "metadata": {},
   "source": [
    "### Cleanup\n",
    "\n",
    "You're done.\n",
    "\n",
    "In order to leave the index empty for the next demo run, you may want to clean the index (i.e. empty the table on DB).\n",
    "\n",
    "Just don't take this operation lightly in production!"
   ]
  },
  {
   "cell_type": "code",
   "execution_count": 21,
   "id": "8bb1dc91",
   "metadata": {},
   "outputs": [],
   "source": [
    "myCassandraVStore.clear()"
   ]
  },
  {
   "cell_type": "markdown",
   "metadata": {},
   "source": [
    "## What now?\n",
    "\n",
    "This demo is hosted [here](https://cassio.org/frameworks/langchain/qa-advanced/) at cassio.org.\n",
    "\n",
    "Discover the other ways you can integrate \n",
    "Cassandra/Astra DB with your ML/GenAI needs,\n",
    "right **within [your favorite framework](https://cassio.org/frameworks/langchain/about/)**."
   ]
  }
 ],
 "metadata": {
  "kernelspec": {
   "display_name": "Python 3 (ipykernel)",
   "language": "python",
   "name": "python3"
  },
  "language_info": {
   "codemirror_mode": {
    "name": "ipython",
    "version": 3
   },
   "file_extension": ".py",
   "mimetype": "text/x-python",
   "name": "python",
   "nbconvert_exporter": "python",
   "pygments_lexer": "ipython3"
  }
 },
 "nbformat": 4,
 "nbformat_minor": 5
}
