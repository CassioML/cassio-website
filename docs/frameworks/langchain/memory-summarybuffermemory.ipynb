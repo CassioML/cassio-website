{
 "cells": [
  {
   "cell_type": "markdown",
   "id": "4cafac99",
   "metadata": {},
   "source": [
    "# Summary Buffer Memory"
   ]
  },
  {
   "cell_type": "markdown",
   "id": "aa75a285",
   "metadata": {},
   "source": [
    "The same `CassandraChatMessageHistory` can power a more sophisticated kind of chat memory that automatically maintains a **summary** of the past interactions, so as to provide a memory that virtually extends arbitrarily far back in the past while fitting a finite amount of tokens."
   ]
  },
  {
   "cell_type": "code",
   "execution_count": 1,
   "id": "9bd7d938",
   "metadata": {},
   "outputs": [],
   "source": [
    "from langchain.memory import CassandraChatMessageHistory\n",
    "from langchain.memory import ConversationSummaryBufferMemory\n",
    "from langchain.chains import ConversationChain"
   ]
  },
  {
   "cell_type": "code",
   "execution_count": 2,
   "id": "ec8cd7b2",
   "metadata": {},
   "outputs": [],
   "source": [
    "from cqlsession import getCQLSession, getCQLKeyspace\n",
    "cqlMode = 'astra_db' # 'astra_db'/'local'\n",
    "session = getCQLSession(mode=cqlMode)\n",
    "keyspace = getCQLKeyspace(mode=cqlMode)"
   ]
  },
  {
   "cell_type": "code",
   "execution_count": 3,
   "id": "56907ea7",
   "metadata": {},
   "outputs": [],
   "source": [
    "message_history = CassandraChatMessageHistory(\n",
    "    session_id='summarized-conversation-4321',\n",
    "    session=session,\n",
    "    keyspace=keyspace,\n",
    "    ttl_seconds = 3600,\n",
    ")"
   ]
  },
  {
   "cell_type": "code",
   "execution_count": 4,
   "id": "acb5dfe0",
   "metadata": {},
   "outputs": [],
   "source": [
    "message_history.clear()"
   ]
  },
  {
   "cell_type": "markdown",
   "id": "5c02e859",
   "metadata": {},
   "source": [
    "Below is the logic to instantiate the LLM of choice. We choose to leave it in the notebooks for clarity."
   ]
  },
  {
   "cell_type": "code",
   "execution_count": 5,
   "id": "68645a89",
   "metadata": {},
   "outputs": [
    {
     "name": "stdout",
     "output_type": "stream",
     "text": [
      "LLM from OpenAI\n"
     ]
    }
   ],
   "source": [
    "from llm_choice import suggestLLMProvider\n",
    "\n",
    "llmProvider = suggestLLMProvider()\n",
    "# (Alternatively set llmProvider to 'GCP_VertexAI', 'OpenAI' ... manually if you have credentials)\n",
    "\n",
    "if llmProvider == 'GCP_VertexAI':\n",
    "    from langchain.llms import VertexAI\n",
    "    llm = VertexAI()\n",
    "    print('LLM from VertexAI')\n",
    "elif llmProvider == 'OpenAI':\n",
    "    from langchain.llms import OpenAI\n",
    "    llm = OpenAI()\n",
    "    print('LLM from OpenAI')\n",
    "else:\n",
    "    raise ValueError('Unknown LLM provider.')"
   ]
  },
  {
   "cell_type": "markdown",
   "id": "ebf6f715",
   "metadata": {},
   "source": [
    "## Use the memory with summary in a Chain"
   ]
  },
  {
   "cell_type": "code",
   "execution_count": 6,
   "id": "5665c220",
   "metadata": {},
   "outputs": [],
   "source": [
    "memory = ConversationSummaryBufferMemory(\n",
    "    llm=llm,\n",
    "    chat_memory=message_history,\n",
    "    max_token_limit=180,\n",
    ")"
   ]
  },
  {
   "cell_type": "code",
   "execution_count": 7,
   "id": "d00b49c9",
   "metadata": {},
   "outputs": [],
   "source": [
    "summaryConversation = ConversationChain(\n",
    "    llm=llm, \n",
    "    memory=memory,\n",
    "    verbose=True\n",
    ")"
   ]
  },
  {
   "cell_type": "markdown",
   "id": "5b622450",
   "metadata": {},
   "source": [
    "With the verbose output you can track the summary. It starts empty and once few messages have been exchanged it starts to \"incorporate\" those messages that would have been lost in the past."
   ]
  },
  {
   "cell_type": "code",
   "execution_count": 8,
   "id": "ea400a70",
   "metadata": {},
   "outputs": [
    {
     "name": "stdout",
     "output_type": "stream",
     "text": [
      "\n",
      "\n",
      "\u001b[1m> Entering new ConversationChain chain...\u001b[0m\n",
      "Prompt after formatting:\n",
      "\u001b[32;1m\u001b[1;3mThe following is a friendly conversation between a human and an AI. The AI is talkative and provides lots of specific details from its context. If the AI does not know the answer to a question, it truthfully says it does not know.\n",
      "\n",
      "Current conversation:\n",
      "\n",
      "Human: Tell me about William Tell, the hero\n",
      "AI:\u001b[0m\n",
      "\n",
      "\u001b[1m> Finished chain.\u001b[0m\n"
     ]
    },
    {
     "data": {
      "text/plain": [
       "\" William Tell is a folk hero from Switzerland who is best known for shooting an apple off his son's head with a crossbow. He is also known for his resistance to the oppressive rule of the Austrian Habsburgs. The most popular version of his story is that he was forced to shoot an apple off his son's head as a test of his marksmanship by the tyrannical Habsburg governor Gessler. William Tell is a symbol of freedom and independence in Switzerland and is often depicted in statues, paintings, books, and films.\""
      ]
     },
     "execution_count": 8,
     "metadata": {},
     "output_type": "execute_result"
    }
   ],
   "source": [
    "summaryConversation.predict(input='Tell me about William Tell, the hero')"
   ]
  },
  {
   "cell_type": "code",
   "execution_count": 9,
   "id": "a8c60d47",
   "metadata": {},
   "outputs": [
    {
     "name": "stdout",
     "output_type": "stream",
     "text": [
      "\n",
      "\n",
      "\u001b[1m> Entering new ConversationChain chain...\u001b[0m\n",
      "Prompt after formatting:\n",
      "\u001b[32;1m\u001b[1;3mThe following is a friendly conversation between a human and an AI. The AI is talkative and provides lots of specific details from its context. If the AI does not know the answer to a question, it truthfully says it does not know.\n",
      "\n",
      "Current conversation:\n",
      "Human: Tell me about William Tell, the hero\n",
      "AI:  William Tell is a folk hero from Switzerland who is best known for shooting an apple off his son's head with a crossbow. He is also known for his resistance to the oppressive rule of the Austrian Habsburgs. The most popular version of his story is that he was forced to shoot an apple off his son's head as a test of his marksmanship by the tyrannical Habsburg governor Gessler. William Tell is a symbol of freedom and independence in Switzerland and is often depicted in statues, paintings, books, and films.\n",
      "Human: Any relation to the apple from Cupertino?\n",
      "AI:\u001b[0m\n",
      "\n",
      "\u001b[1m> Finished chain.\u001b[0m\n"
     ]
    },
    {
     "data": {
      "text/plain": [
       "\" No, I don't believe there is any relation between the two apples. The apple of William Tell's legend is an apple that is shot off his son's head with a crossbow, while the apple from Cupertino, California is a technology company known for producing the Mac computers, iPhones, and other products.\""
      ]
     },
     "execution_count": 9,
     "metadata": {},
     "output_type": "execute_result"
    }
   ],
   "source": [
    "summaryConversation.predict(\n",
    "    input=\"Any relation to the apple from Cupertino?\"\n",
    ")"
   ]
  },
  {
   "cell_type": "markdown",
   "id": "6312b1fe",
   "metadata": {},
   "source": [
    "No messages have slided past the \"recent window\" yet -- correspondingly, the summary buffer is still empty:"
   ]
  },
  {
   "cell_type": "code",
   "execution_count": 10,
   "id": "bacf5598",
   "metadata": {},
   "outputs": [
    {
     "data": {
      "text/plain": [
       "\"\\nThe human asks the AI about William Tell, the hero. The AI responds that William Tell is a folk hero from Switzerland who is best known for shooting an apple off his son's head with a crossbow, and is a symbol of freedom and independence in Switzerland often depicted in statues, paintings, books, and films. He is also known for his resistance to the oppressive rule of the Austrian Habsburgs, as the most popular version of his story is that he was forced to shoot an apple off his son's head as a test of his marksmanship by the tyrannical Habsburg governor Gessler.\""
      ]
     },
     "execution_count": 10,
     "metadata": {},
     "output_type": "execute_result"
    }
   ],
   "source": [
    "memory.moving_summary_buffer"
   ]
  },
  {
   "cell_type": "markdown",
   "id": "e8858b4c",
   "metadata": {},
   "source": [
    "Continue the conversation - you might start to see the summary of past exchanges making its way to the final prompt for the LLM in the form of a \"System\" contribution to the _Current conversation_:"
   ]
  },
  {
   "cell_type": "code",
   "execution_count": 11,
   "id": "a392a4c0",
   "metadata": {},
   "outputs": [
    {
     "name": "stdout",
     "output_type": "stream",
     "text": [
      "\n",
      "\n",
      "\u001b[1m> Entering new ConversationChain chain...\u001b[0m\n",
      "Prompt after formatting:\n",
      "\u001b[32;1m\u001b[1;3mThe following is a friendly conversation between a human and an AI. The AI is talkative and provides lots of specific details from its context. If the AI does not know the answer to a question, it truthfully says it does not know.\n",
      "\n",
      "Current conversation:\n",
      "System: \n",
      "The human asks the AI about William Tell, the hero. The AI responds that William Tell is a folk hero from Switzerland who is best known for shooting an apple off his son's head with a crossbow, and is a symbol of freedom and independence in Switzerland often depicted in statues, paintings, books, and films. He is also known for his resistance to the oppressive rule of the Austrian Habsburgs, as the most popular version of his story is that he was forced to shoot an apple off his son's head as a test of his marksmanship by the tyrannical Habsburg governor Gessler.\n",
      "Human: Tell me about William Tell, the hero\n",
      "AI:  William Tell is a folk hero from Switzerland who is best known for shooting an apple off his son's head with a crossbow. He is also known for his resistance to the oppressive rule of the Austrian Habsburgs. The most popular version of his story is that he was forced to shoot an apple off his son's head as a test of his marksmanship by the tyrannical Habsburg governor Gessler. William Tell is a symbol of freedom and independence in Switzerland and is often depicted in statues, paintings, books, and films.\n",
      "Human: Any relation to the apple from Cupertino?\n",
      "AI:  No, I don't believe there is any relation between the two apples. The apple of William Tell's legend is an apple that is shot off his son's head with a crossbow, while the apple from Cupertino, California is a technology company known for producing the Mac computers, iPhones, and other products.\n",
      "Human: I heard the two apples may be in fact the very same fruit.\n",
      "AI:\u001b[0m\n",
      "\n",
      "\u001b[1m> Finished chain.\u001b[0m\n"
     ]
    },
    {
     "data": {
      "text/plain": [
       "\" I'm not aware of any evidence that suggests the two apples are the same fruit. The apple of William Tell's legend is an apple that is shot off his son's head with a crossbow, while the apple from Cupertino, California is a technology company known for producing the Mac computers, iPhones, and other products.\""
      ]
     },
     "execution_count": 11,
     "metadata": {},
     "output_type": "execute_result"
    }
   ],
   "source": [
    "summaryConversation.predict(\n",
    "    input=\"I heard the two apples may be in fact the very same fruit.\"\n",
    ")"
   ]
  },
  {
   "cell_type": "markdown",
   "id": "c71f3c5e",
   "metadata": {},
   "source": [
    "This is where the current summary buffer is stored\n",
    "\n",
    "_(Note: depending on the length of the messages so far, at this point you might or might not see an empty summary. In any case, keep reading and it will doubtless start to be nonempty.)_"
   ]
  },
  {
   "cell_type": "code",
   "execution_count": 12,
   "id": "ddd16bb6",
   "metadata": {},
   "outputs": [
    {
     "data": {
      "text/plain": [
       "\"\\nThe human asks the AI about William Tell, the hero. The AI responds that William Tell is a folk hero from Switzerland who is best known for shooting an apple off his son's head with a crossbow, and is a symbol of freedom and independence in Switzerland often depicted in statues, paintings, books, and films. He is also known for his resistance to the oppressive rule of the Austrian Habsburgs, as the most popular version of his story is that he was forced to shoot an apple off his son's head as a test of his marksmanship by the tyrannical Habsburg governor Gessler.\""
      ]
     },
     "execution_count": 12,
     "metadata": {},
     "output_type": "execute_result"
    }
   ],
   "source": [
    "memory.moving_summary_buffer"
   ]
  },
  {
   "cell_type": "markdown",
   "id": "e74c7959",
   "metadata": {},
   "source": [
    "The whole conversation is still in the \"recent\" window. Below is what will start to happen in the `ConversationSummaryBufferMemory` at the next chat message: starting from the message list, and the summary so far (if any), the LLM is asked to come up with a new summary which will overwrite the current one, stored in `memory.moving_summary_buffer`."
   ]
  },
  {
   "cell_type": "code",
   "execution_count": 13,
   "id": "d28243d3",
   "metadata": {},
   "outputs": [
    {
     "name": "stdout",
     "output_type": "stream",
     "text": [
      "\n",
      "The human asks the AI about William Tell, the hero. The AI responds that William Tell is a folk hero from Switzerland who is best known for shooting an apple off his son's head with a crossbow, and is a symbol of freedom and independence in Switzerland often depicted in statues, paintings, books, and films. He is also known for his resistance to the oppressive rule of the Austrian Habsburgs, as the most popular version of his story is that he was forced to shoot an apple off his son's head as a test of his marksmanship by the tyrannical Habsburg governor Gessler. The human then inquires if there is any relation between the apple from Cupertino and William Tell's apple, to which the AI states that there is no evidence to suggest that the two apples are the same.\n"
     ]
    }
   ],
   "source": [
    "print(memory.predict_new_summary(\n",
    "    memory.chat_memory.messages,\n",
    "    memory.moving_summary_buffer,\n",
    "))"
   ]
  },
  {
   "cell_type": "code",
   "execution_count": 14,
   "id": "939cb390",
   "metadata": {},
   "outputs": [
    {
     "name": "stdout",
     "output_type": "stream",
     "text": [
      "\n",
      "\n",
      "\u001b[1m> Entering new ConversationChain chain...\u001b[0m\n",
      "Prompt after formatting:\n",
      "\u001b[32;1m\u001b[1;3mThe following is a friendly conversation between a human and an AI. The AI is talkative and provides lots of specific details from its context. If the AI does not know the answer to a question, it truthfully says it does not know.\n",
      "\n",
      "Current conversation:\n",
      "System: \n",
      "The human asks the AI about William Tell, the hero. The AI responds that William Tell is a folk hero from Switzerland who is best known for shooting an apple off his son's head with a crossbow, and is a symbol of freedom and independence in Switzerland often depicted in statues, paintings, books, and films. He is also known for his resistance to the oppressive rule of the Austrian Habsburgs, as the most popular version of his story is that he was forced to shoot an apple off his son's head as a test of his marksmanship by the tyrannical Habsburg governor Gessler.\n",
      "Human: Tell me about William Tell, the hero\n",
      "AI:  William Tell is a folk hero from Switzerland who is best known for shooting an apple off his son's head with a crossbow. He is also known for his resistance to the oppressive rule of the Austrian Habsburgs. The most popular version of his story is that he was forced to shoot an apple off his son's head as a test of his marksmanship by the tyrannical Habsburg governor Gessler. William Tell is a symbol of freedom and independence in Switzerland and is often depicted in statues, paintings, books, and films.\n",
      "Human: Any relation to the apple from Cupertino?\n",
      "AI:  No, I don't believe there is any relation between the two apples. The apple of William Tell's legend is an apple that is shot off his son's head with a crossbow, while the apple from Cupertino, California is a technology company known for producing the Mac computers, iPhones, and other products.\n",
      "Human: I heard the two apples may be in fact the very same fruit.\n",
      "AI:  I'm not aware of any evidence that suggests the two apples are the same fruit. The apple of William Tell's legend is an apple that is shot off his son's head with a crossbow, while the apple from Cupertino, California is a technology company known for producing the Mac computers, iPhones, and other products.\n",
      "Human: Ok, enough with apples. Let's talk starfish now.\n",
      "AI:\u001b[0m\n",
      "\n",
      "\u001b[1m> Finished chain.\u001b[0m\n"
     ]
    },
    {
     "data": {
      "text/plain": [
       "\" Sure! Starfish are a type of echinoderm that are found in all the world's oceans. They have a radial symmetry and a soft body that is divided into five or more sections. Starfish can range in size from small 1-inch long species to large species that can measure up to 3 feet across. They feed on mollusks, crustaceans, and other small organisms, and some species are even capable of regenerating a new arm if one is lost or damaged.\""
      ]
     },
     "execution_count": 14,
     "metadata": {},
     "output_type": "execute_result"
    }
   ],
   "source": [
    "summaryConversation.predict(\n",
    "    input='Ok, enough with apples. Let\\'s talk starfish now.'\n",
    ")"
   ]
  },
  {
   "cell_type": "code",
   "execution_count": 15,
   "id": "530c600c",
   "metadata": {},
   "outputs": [
    {
     "data": {
      "text/plain": [
       "\"\\nThe human asks the AI about William Tell, the hero. The AI responds that William Tell is a folk hero from Switzerland who is best known for shooting an apple off his son's head with a crossbow, and is a symbol of freedom and independence in Switzerland often depicted in statues, paintings, books, and films. He is also known for his resistance to the oppressive rule of the Austrian Habsburgs, as the most popular version of his story is that he was forced to shoot an apple off his son's head as a test of his marksmanship by the tyrannical Habsburg governor Gessler. The human then inquires about any connection between the apple from Cupertino and William Tell's apple, to which the AI responds that there is no evidence suggesting the two apples are the same fruit.\""
      ]
     },
     "execution_count": 15,
     "metadata": {},
     "output_type": "execute_result"
    }
   ],
   "source": [
    "memory.moving_summary_buffer"
   ]
  },
  {
   "cell_type": "markdown",
   "id": "1f23fcbe",
   "metadata": {},
   "source": [
    "Now the chat history has presumably reached a certain threshold and there is a summary. In the verbose output below, you will see it appearing in the prompt as a \"System\" role in the conversation recap."
   ]
  },
  {
   "cell_type": "code",
   "execution_count": 16,
   "id": "a0a3088e",
   "metadata": {},
   "outputs": [
    {
     "name": "stdout",
     "output_type": "stream",
     "text": [
      "\n",
      "\n",
      "\u001b[1m> Entering new ConversationChain chain...\u001b[0m\n",
      "Prompt after formatting:\n",
      "\u001b[32;1m\u001b[1;3mThe following is a friendly conversation between a human and an AI. The AI is talkative and provides lots of specific details from its context. If the AI does not know the answer to a question, it truthfully says it does not know.\n",
      "\n",
      "Current conversation:\n",
      "System: \n",
      "The human asks the AI about William Tell, the hero. The AI responds that William Tell is a folk hero from Switzerland who is best known for shooting an apple off his son's head with a crossbow, and is a symbol of freedom and independence in Switzerland often depicted in statues, paintings, books, and films. He is also known for his resistance to the oppressive rule of the Austrian Habsburgs, as the most popular version of his story is that he was forced to shoot an apple off his son's head as a test of his marksmanship by the tyrannical Habsburg governor Gessler. The human then inquires about any connection between the apple from Cupertino and William Tell's apple, to which the AI responds that there is no evidence suggesting the two apples are the same fruit.\n",
      "Human: Tell me about William Tell, the hero\n",
      "AI:  William Tell is a folk hero from Switzerland who is best known for shooting an apple off his son's head with a crossbow. He is also known for his resistance to the oppressive rule of the Austrian Habsburgs. The most popular version of his story is that he was forced to shoot an apple off his son's head as a test of his marksmanship by the tyrannical Habsburg governor Gessler. William Tell is a symbol of freedom and independence in Switzerland and is often depicted in statues, paintings, books, and films.\n",
      "Human: Any relation to the apple from Cupertino?\n",
      "AI:  No, I don't believe there is any relation between the two apples. The apple of William Tell's legend is an apple that is shot off his son's head with a crossbow, while the apple from Cupertino, California is a technology company known for producing the Mac computers, iPhones, and other products.\n",
      "Human: I heard the two apples may be in fact the very same fruit.\n",
      "AI:  I'm not aware of any evidence that suggests the two apples are the same fruit. The apple of William Tell's legend is an apple that is shot off his son's head with a crossbow, while the apple from Cupertino, California is a technology company known for producing the Mac computers, iPhones, and other products.\n",
      "Human: Ok, enough with apples. Let's talk starfish now.\n",
      "AI:  Sure! Starfish are a type of echinoderm that are found in all the world's oceans. They have a radial symmetry and a soft body that is divided into five or more sections. Starfish can range in size from small 1-inch long species to large species that can measure up to 3 feet across. They feed on mollusks, crustaceans, and other small organisms, and some species are even capable of regenerating a new arm if one is lost or damaged.\n",
      "Human: I hear that some of those destroy marine ecosystems.\n",
      "AI:\u001b[0m\n",
      "\n",
      "\u001b[1m> Finished chain.\u001b[0m\n"
     ]
    },
    {
     "data": {
      "text/plain": [
       "' Yes, some species of starfish, such as the crown-of-thorns starfish, can cause significant damage to coral reefs and other marine ecosystems. The crown-of-thorns starfish feeds on corals, sponges, and other invertebrates, and has caused extensive damage to reefs in the Indo-Pacific region.'"
      ]
     },
     "execution_count": 16,
     "metadata": {},
     "output_type": "execute_result"
    }
   ],
   "source": [
    "summaryConversation.predict(\n",
    "    input='I hear that some of those destroy marine ecosystems.'\n",
    ")"
   ]
  },
  {
   "cell_type": "code",
   "execution_count": 17,
   "id": "51503316",
   "metadata": {},
   "outputs": [
    {
     "data": {
      "text/plain": [
       "\"\\nThe human asked the AI about William Tell, the hero. The AI responded that William Tell is a folk hero from Switzerland who is best known for shooting an apple off his son's head with a crossbow and is a symbol of freedom and independence in Switzerland often depicted in statues, paintings, books, and films. He is also known for his resistance to the oppressive rule of the Austrian Habsburgs, as the most popular version of his story is that he was forced to shoot an apple off his son's head as a test of his marksmanship by the tyrannical Habsburg governor Gessler. The AI stated there is no evidence suggesting any relation between the apple from Cupertino and William Tell's apple. When the human asked about any connection between them, the AI said there was no evidence suggesting the two apples are the same fruit. The conversation then shifted to starfish, with the AI explaining that they are a type of echinoderm found in all the world's oceans, have a radial symmetry and a soft body divided into five or more sections, and can range in size from small 1-inch long species to large species that can measure up to 3 feet across. They feed on mollusks, crustaceans, and other small\""
      ]
     },
     "execution_count": 17,
     "metadata": {},
     "output_type": "execute_result"
    }
   ],
   "source": [
    "memory.moving_summary_buffer"
   ]
  },
  {
   "cell_type": "markdown",
   "id": "9cf8c078",
   "metadata": {},
   "source": [
    "From this point on, the summary will not grow indefinitely in size, but will rather try to cover a longer and longer conversation in a fixed amount of text."
   ]
  },
  {
   "cell_type": "code",
   "execution_count": 18,
   "id": "0154545f",
   "metadata": {},
   "outputs": [
    {
     "name": "stdout",
     "output_type": "stream",
     "text": [
      "\n",
      "The human asked the AI about William Tell, the hero, with the AI responding that William Tell is a folk hero from Switzerland who is best known for shooting an apple off his son's head with a crossbow and is a symbol of freedom and independence in Switzerland often depicted in statues, paintings, books, and films. He is also known for his resistance to the oppressive rule of the Austrian Habsburgs, as the most popular version of his story is that he was forced to shoot an apple off his son's head as a test of his marksmanship by the tyrannical Habsburg governor Gessler. The AI stated there is no evidence suggesting any relation between the apple from Cupertino and William Tell's apple. When the human asked about any connection between them, the AI said there was no evidence suggesting the two apples are the same fruit. The conversation then shifted to starfish, with the AI explaining that they are a type of echinoderm found in all the world's oceans, have a radial symmetry and a soft body divided into five or more sections, and can range in size from small 1-inch long species to large species that can measure up to 3 feet across. They feed on mollusks, crustaceans, and other\n"
     ]
    }
   ],
   "source": [
    "print(memory.predict_new_summary(\n",
    "    memory.chat_memory.messages,\n",
    "    memory.moving_summary_buffer,\n",
    "))"
   ]
  }
 ],
 "metadata": {
  "kernelspec": {
   "display_name": "Python 3 (ipykernel)",
   "language": "python",
   "name": "python3"
  },
  "language_info": {
   "codemirror_mode": {
    "name": "ipython",
    "version": 3
   },
   "file_extension": ".py",
   "mimetype": "text/x-python",
   "name": "python",
   "nbconvert_exporter": "python",
   "pygments_lexer": "ipython3"
  }
 },
 "nbformat": 4,
 "nbformat_minor": 5
}
