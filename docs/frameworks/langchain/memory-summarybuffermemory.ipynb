{
 "cells": [
  {
   "cell_type": "markdown",
   "id": "4cafac99",
   "metadata": {},
   "source": [
    "# Summary Buffer Memory"
   ]
  },
  {
   "cell_type": "markdown",
   "id": "aa75a285",
   "metadata": {},
   "source": [
    "The same `CassandraChatMessageHistory` can power a more sophisticated kind of chat memory that automatically maintains a **summary** of the past interactions, so as to provide a memory that virtually extends arbitrarily far back in the past while fitting a finite amount of tokens."
   ]
  },
  {
   "cell_type": "code",
   "execution_count": 1,
   "id": "9bd7d938",
   "metadata": {},
   "outputs": [],
   "source": [
    "from langchain.memory import CassandraChatMessageHistory\n",
    "from langchain.memory import ConversationSummaryBufferMemory\n",
    "from langchain.chains import ConversationChain"
   ]
  },
  {
   "cell_type": "code",
   "execution_count": 2,
   "id": "ec8cd7b2",
   "metadata": {},
   "outputs": [],
   "source": [
    "from cqlsession import getCQLSession, getCQLKeyspace\n",
    "cqlMode = 'astra_db' # 'astra_db'/'local'\n",
    "session = getCQLSession(mode=cqlMode)\n",
    "keyspace = getCQLKeyspace(mode=cqlMode)"
   ]
  },
  {
   "cell_type": "code",
   "execution_count": 3,
   "id": "56907ea7",
   "metadata": {},
   "outputs": [],
   "source": [
    "message_history = CassandraChatMessageHistory(\n",
    "    session_id='summarized-conversation-4321',\n",
    "    session=session,\n",
    "    keyspace_name=keyspace,\n",
    "    ttl_seconds = 3600,\n",
    ")"
   ]
  },
  {
   "cell_type": "code",
   "execution_count": 4,
   "id": "acb5dfe0",
   "metadata": {},
   "outputs": [],
   "source": [
    "message_history.clear()"
   ]
  },
  {
   "cell_type": "markdown",
   "id": "5c02e859",
   "metadata": {},
   "source": [
    "Below is the logic to instantiate the LLM of choice. We choose to leave it in the notebooks for clarity."
   ]
  },
  {
   "cell_type": "code",
   "execution_count": 5,
   "id": "68645a89",
   "metadata": {},
   "outputs": [
    {
     "name": "stdout",
     "output_type": "stream",
     "text": [
      "LLM from OpenAI\n"
     ]
    }
   ],
   "source": [
    "from llm_choice import suggestLLMProvider\n",
    "\n",
    "llmProvider = suggestLLMProvider()\n",
    "# (Alternatively set llmProvider to 'GCP_VertexAI', 'OpenAI' ... manually if you have credentials)\n",
    "\n",
    "if llmProvider == 'GCP_VertexAI':\n",
    "    from langchain.llms import VertexAI\n",
    "    llm = VertexAI()\n",
    "    print('LLM from VertexAI')\n",
    "elif llmProvider == 'OpenAI':\n",
    "    from langchain.llms import OpenAI\n",
    "    llm = OpenAI()\n",
    "    print('LLM from OpenAI')\n",
    "else:\n",
    "    raise ValueError('Unknown LLM provider.')"
   ]
  },
  {
   "cell_type": "markdown",
   "id": "ebf6f715",
   "metadata": {},
   "source": [
    "## Use the memory with summary in a Chain"
   ]
  },
  {
   "cell_type": "code",
   "execution_count": 6,
   "id": "5665c220",
   "metadata": {},
   "outputs": [],
   "source": [
    "memory = ConversationSummaryBufferMemory(\n",
    "    llm=llm,\n",
    "    chat_memory=message_history,\n",
    "    max_token_limit=180,\n",
    ")"
   ]
  },
  {
   "cell_type": "code",
   "execution_count": 7,
   "id": "d00b49c9",
   "metadata": {},
   "outputs": [],
   "source": [
    "summaryConversation = ConversationChain(\n",
    "    llm=llm, \n",
    "    memory=memory,\n",
    "    verbose=True\n",
    ")"
   ]
  },
  {
   "cell_type": "markdown",
   "id": "5b622450",
   "metadata": {},
   "source": [
    "With the verbose output you can track the summary. It starts empty and once few messages have been exchanged it starts to \"incorporate\" those messages that would have been lost in the past."
   ]
  },
  {
   "cell_type": "code",
   "execution_count": 8,
   "id": "ea400a70",
   "metadata": {},
   "outputs": [
    {
     "name": "stdout",
     "output_type": "stream",
     "text": [
      "\n",
      "\n",
      "\u001b[1m> Entering new  chain...\u001b[0m\n",
      "Prompt after formatting:\n",
      "\u001b[32;1m\u001b[1;3mThe following is a friendly conversation between a human and an AI. The AI is talkative and provides lots of specific details from its context. If the AI does not know the answer to a question, it truthfully says it does not know.\n",
      "\n",
      "Current conversation:\n",
      "\n",
      "Human: Tell me about William Tell, the hero\n",
      "AI:\u001b[0m\n",
      "\n",
      "\u001b[1m> Finished chain.\u001b[0m\n"
     ]
    },
    {
     "data": {
      "text/plain": [
       "\" William Tell was a legendary Swiss hero who is best known for shooting an apple off his son's head with a crossbow. According to the legend, William was forced to demonstrate his skill with the crossbow by a tyrant from the Habsburg dynasty, Hermann Gessler. If William failed in his task, his son would face severe punishment. William was successful in this task and his feat has become a symbol of Swiss independence.\""
      ]
     },
     "execution_count": 8,
     "metadata": {},
     "output_type": "execute_result"
    }
   ],
   "source": [
    "summaryConversation.predict(input='Tell me about William Tell, the hero')"
   ]
  },
  {
   "cell_type": "code",
   "execution_count": 9,
   "id": "a8c60d47",
   "metadata": {},
   "outputs": [
    {
     "name": "stdout",
     "output_type": "stream",
     "text": [
      "\n",
      "\n",
      "\u001b[1m> Entering new  chain...\u001b[0m\n",
      "Prompt after formatting:\n",
      "\u001b[32;1m\u001b[1;3mThe following is a friendly conversation between a human and an AI. The AI is talkative and provides lots of specific details from its context. If the AI does not know the answer to a question, it truthfully says it does not know.\n",
      "\n",
      "Current conversation:\n",
      "Human: Tell me about William Tell, the hero\n",
      "AI:  William Tell was a legendary Swiss hero who is best known for shooting an apple off his son's head with a crossbow. According to the legend, William was forced to demonstrate his skill with the crossbow by a tyrant from the Habsburg dynasty, Hermann Gessler. If William failed in his task, his son would face severe punishment. William was successful in this task and his feat has become a symbol of Swiss independence.\n",
      "Human: Any relation to the apple from Cupertino?\n",
      "AI:\u001b[0m\n",
      "\n",
      "\u001b[1m> Finished chain.\u001b[0m\n"
     ]
    },
    {
     "data": {
      "text/plain": [
       "' I do not know.'"
      ]
     },
     "execution_count": 9,
     "metadata": {},
     "output_type": "execute_result"
    }
   ],
   "source": [
    "summaryConversation.predict(\n",
    "    input=\"Any relation to the apple from Cupertino?\"\n",
    ")"
   ]
  },
  {
   "cell_type": "markdown",
   "id": "6312b1fe",
   "metadata": {},
   "source": [
    "No messages have slided past the \"recent window\" yet -- correspondingly, the summary buffer is still empty:"
   ]
  },
  {
   "cell_type": "code",
   "execution_count": 10,
   "id": "bacf5598",
   "metadata": {},
   "outputs": [
    {
     "data": {
      "text/plain": [
       "''"
      ]
     },
     "execution_count": 10,
     "metadata": {},
     "output_type": "execute_result"
    }
   ],
   "source": [
    "memory.moving_summary_buffer"
   ]
  },
  {
   "cell_type": "markdown",
   "id": "e8858b4c",
   "metadata": {},
   "source": [
    "Continue the conversation - you might start to see the summary of past exchanges making its way to the final prompt for the LLM in the form of a \"System\" contribution to the _Current conversation_:"
   ]
  },
  {
   "cell_type": "code",
   "execution_count": 11,
   "id": "a392a4c0",
   "metadata": {},
   "outputs": [
    {
     "name": "stdout",
     "output_type": "stream",
     "text": [
      "\n",
      "\n",
      "\u001b[1m> Entering new  chain...\u001b[0m\n",
      "Prompt after formatting:\n",
      "\u001b[32;1m\u001b[1;3mThe following is a friendly conversation between a human and an AI. The AI is talkative and provides lots of specific details from its context. If the AI does not know the answer to a question, it truthfully says it does not know.\n",
      "\n",
      "Current conversation:\n",
      "Human: Tell me about William Tell, the hero\n",
      "AI:  William Tell was a legendary Swiss hero who is best known for shooting an apple off his son's head with a crossbow. According to the legend, William was forced to demonstrate his skill with the crossbow by a tyrant from the Habsburg dynasty, Hermann Gessler. If William failed in his task, his son would face severe punishment. William was successful in this task and his feat has become a symbol of Swiss independence.\n",
      "Human: Any relation to the apple from Cupertino?\n",
      "AI:  I do not know.\n",
      "Human: I heard the two apples may be in fact the very same fruit.\n",
      "AI:\u001b[0m\n",
      "\n",
      "\u001b[1m> Finished chain.\u001b[0m\n"
     ]
    },
    {
     "data": {
      "text/plain": [
       "' That is an interesting theory, but I do not know if it is true.'"
      ]
     },
     "execution_count": 11,
     "metadata": {},
     "output_type": "execute_result"
    }
   ],
   "source": [
    "summaryConversation.predict(\n",
    "    input=\"I heard the two apples may be in fact the very same fruit.\"\n",
    ")"
   ]
  },
  {
   "cell_type": "markdown",
   "id": "c71f3c5e",
   "metadata": {},
   "source": [
    "This is where the current summary buffer is stored\n",
    "\n",
    "_(Note: depending on the length of the messages so far, at this point you might or might not see an empty summary. In any case, keep reading and it will doubtless start to be nonempty.)_"
   ]
  },
  {
   "cell_type": "code",
   "execution_count": 12,
   "id": "ddd16bb6",
   "metadata": {},
   "outputs": [
    {
     "data": {
      "text/plain": [
       "''"
      ]
     },
     "execution_count": 12,
     "metadata": {},
     "output_type": "execute_result"
    }
   ],
   "source": [
    "memory.moving_summary_buffer"
   ]
  },
  {
   "cell_type": "markdown",
   "id": "e74c7959",
   "metadata": {},
   "source": [
    "The whole conversation is still in the \"recent\" window. Below is what will start to happen in the `ConversationSummaryBufferMemory` at the next chat message: starting from the message list, and the summary so far (if any), the LLM is asked to come up with a new summary which will overwrite the current one, stored in `memory.moving_summary_buffer`."
   ]
  },
  {
   "cell_type": "code",
   "execution_count": 13,
   "id": "d28243d3",
   "metadata": {},
   "outputs": [
    {
     "name": "stdout",
     "output_type": "stream",
     "text": [
      "\n",
      "The human asked the AI about William Tell, the hero, and the AI responded that he was a legendary Swiss hero best known for shooting an apple off his son's head with a crossbow. The human then asked if there was any relation to the apple from Cupertino and the AI replied that it did not know, but the human suggested that the two apples may be the same fruit, to which the AI responded that it was an interesting theory but it did not know if it was true.\n"
     ]
    }
   ],
   "source": [
    "print(memory.predict_new_summary(\n",
    "    memory.chat_memory.messages,\n",
    "    memory.moving_summary_buffer,\n",
    "))"
   ]
  },
  {
   "cell_type": "code",
   "execution_count": 14,
   "id": "939cb390",
   "metadata": {},
   "outputs": [
    {
     "name": "stdout",
     "output_type": "stream",
     "text": [
      "\n",
      "\n",
      "\u001b[1m> Entering new  chain...\u001b[0m\n",
      "Prompt after formatting:\n",
      "\u001b[32;1m\u001b[1;3mThe following is a friendly conversation between a human and an AI. The AI is talkative and provides lots of specific details from its context. If the AI does not know the answer to a question, it truthfully says it does not know.\n",
      "\n",
      "Current conversation:\n",
      "Human: Tell me about William Tell, the hero\n",
      "AI:  William Tell was a legendary Swiss hero who is best known for shooting an apple off his son's head with a crossbow. According to the legend, William was forced to demonstrate his skill with the crossbow by a tyrant from the Habsburg dynasty, Hermann Gessler. If William failed in his task, his son would face severe punishment. William was successful in this task and his feat has become a symbol of Swiss independence.\n",
      "Human: Any relation to the apple from Cupertino?\n",
      "AI:  I do not know.\n",
      "Human: I heard the two apples may be in fact the very same fruit.\n",
      "AI:  That is an interesting theory, but I do not know if it is true.\n",
      "Human: Ok, enough with apples. Let's talk starfish now.\n",
      "AI:\u001b[0m\n",
      "\n",
      "\u001b[1m> Finished chain.\u001b[0m\n"
     ]
    },
    {
     "data": {
      "text/plain": [
       "\" Sure! Starfish, also known as sea stars, are a type of invertebrate found in all of the world's oceans. They have a wide variety of shapes and colors, and can range in size from a few millimeters to over a meter in diameter. They feed on clams, mussels, and other invertebrates, using their suction-cup like feet to pry food from the ocean floor.\""
      ]
     },
     "execution_count": 14,
     "metadata": {},
     "output_type": "execute_result"
    }
   ],
   "source": [
    "summaryConversation.predict(\n",
    "    input='Ok, enough with apples. Let\\'s talk starfish now.'\n",
    ")"
   ]
  },
  {
   "cell_type": "code",
   "execution_count": 15,
   "id": "530c600c",
   "metadata": {},
   "outputs": [
    {
     "data": {
      "text/plain": [
       "\"\\nThe human asks what the AI thinks of artificial intelligence. The AI thinks artificial intelligence is a force for good because it will help humans reach their full potential. The human then inquires about William Tell, the hero. The AI explains that William Tell was a legendary Swiss hero who is best known for shooting an apple off his son's head with a crossbow. According to the legend, William was forced to demonstrate his skill with the crossbow by a tyrant from the Habsburg dynasty, Hermann Gessler. If William failed in his task, his son would face severe punishment. William was successful in this task and his feat has become a symbol of Swiss independence.\""
      ]
     },
     "execution_count": 15,
     "metadata": {},
     "output_type": "execute_result"
    }
   ],
   "source": [
    "memory.moving_summary_buffer"
   ]
  },
  {
   "cell_type": "markdown",
   "id": "1f23fcbe",
   "metadata": {},
   "source": [
    "Now the chat history has presumably reached a certain threshold and there is a summary. In the verbose output below, you will see it appearing in the prompt as a \"System\" role in the conversation recap."
   ]
  },
  {
   "cell_type": "code",
   "execution_count": 16,
   "id": "a0a3088e",
   "metadata": {},
   "outputs": [
    {
     "name": "stdout",
     "output_type": "stream",
     "text": [
      "\n",
      "\n",
      "\u001b[1m> Entering new  chain...\u001b[0m\n",
      "Prompt after formatting:\n",
      "\u001b[32;1m\u001b[1;3mThe following is a friendly conversation between a human and an AI. The AI is talkative and provides lots of specific details from its context. If the AI does not know the answer to a question, it truthfully says it does not know.\n",
      "\n",
      "Current conversation:\n",
      "System: \n",
      "The human asks what the AI thinks of artificial intelligence. The AI thinks artificial intelligence is a force for good because it will help humans reach their full potential. The human then inquires about William Tell, the hero. The AI explains that William Tell was a legendary Swiss hero who is best known for shooting an apple off his son's head with a crossbow. According to the legend, William was forced to demonstrate his skill with the crossbow by a tyrant from the Habsburg dynasty, Hermann Gessler. If William failed in his task, his son would face severe punishment. William was successful in this task and his feat has become a symbol of Swiss independence.\n",
      "Human: Tell me about William Tell, the hero\n",
      "AI:  William Tell was a legendary Swiss hero who is best known for shooting an apple off his son's head with a crossbow. According to the legend, William was forced to demonstrate his skill with the crossbow by a tyrant from the Habsburg dynasty, Hermann Gessler. If William failed in his task, his son would face severe punishment. William was successful in this task and his feat has become a symbol of Swiss independence.\n",
      "Human: Any relation to the apple from Cupertino?\n",
      "AI:  I do not know.\n",
      "Human: I heard the two apples may be in fact the very same fruit.\n",
      "AI:  That is an interesting theory, but I do not know if it is true.\n",
      "Human: Ok, enough with apples. Let's talk starfish now.\n",
      "AI:  Sure! Starfish, also known as sea stars, are a type of invertebrate found in all of the world's oceans. They have a wide variety of shapes and colors, and can range in size from a few millimeters to over a meter in diameter. They feed on clams, mussels, and other invertebrates, using their suction-cup like feet to pry food from the ocean floor.\n",
      "Human: I hear that some of those destroy marine ecosystems.\n",
      "AI:\u001b[0m\n",
      "\n",
      "\u001b[1m> Finished chain.\u001b[0m\n"
     ]
    },
    {
     "data": {
      "text/plain": [
       "'  Yes, some species of starfish can be invasive and can cause significant damage to native marine ecosystems. In certain parts of the world, the populations of certain species of starfish have grown unchecked, resulting in the depletion of other species and the disruption of the food chain.'"
      ]
     },
     "execution_count": 16,
     "metadata": {},
     "output_type": "execute_result"
    }
   ],
   "source": [
    "summaryConversation.predict(\n",
    "    input='I hear that some of those destroy marine ecosystems.'\n",
    ")"
   ]
  },
  {
   "cell_type": "code",
   "execution_count": 17,
   "id": "51503316",
   "metadata": {},
   "outputs": [
    {
     "data": {
      "text/plain": [
       "\"\\n\\nThe human asks what the AI thinks of artificial intelligence. The AI thinks artificial intelligence is a force for good because it will help humans reach their full potential. The human then inquires about William Tell, the hero. The AI explains that William Tell was a legendary Swiss hero who is best known for shooting an apple off his son's head with a crossbow. According to the legend, William was forced to demonstrate his skill with the crossbow by a tyrant from the Habsburg dynasty, Hermann Gessler. If William failed in his task, his son would face severe punishment. William was successful in this task and his feat has become a symbol of Swiss independence. The human then asks if there is any relation to the apple from Cupertino and the AI does not know, but the human suggests the two apples may be the same fruit, to which the AI says it is an interesting theory, but they do not know if it is true.\""
      ]
     },
     "execution_count": 17,
     "metadata": {},
     "output_type": "execute_result"
    }
   ],
   "source": [
    "memory.moving_summary_buffer"
   ]
  },
  {
   "cell_type": "markdown",
   "id": "9cf8c078",
   "metadata": {},
   "source": [
    "From this point on, the summary will not grow indefinitely in size, but will rather try to cover a longer and longer conversation in a fixed amount of text."
   ]
  },
  {
   "cell_type": "code",
   "execution_count": 18,
   "id": "0154545f",
   "metadata": {},
   "outputs": [
    {
     "name": "stdout",
     "output_type": "stream",
     "text": [
      "\n",
      "The human asks what the AI thinks of artificial intelligence. The AI thinks artificial intelligence is a force for good because it will help humans reach their full potential. The human then inquires about William Tell, the hero and the AI explains that William Tell was a legendary Swiss hero who is best known for shooting an apple off his son's head with a crossbow. According to the legend, William was forced to demonstrate his skill with the crossbow by a tyrant from the Habsburg dynasty, Hermann Gessler. If William failed in his task, his son would face severe punishment. William was successful in this task and his feat has become a symbol of Swiss independence. When asked if there is any relation to the apple from Cupertino, the AI does not know, but the human suggests the two apples may be the same fruit, to which the AI says it is an interesting theory, but they do not know if it is true. The conversation then moves on to starfish and the AI explains that starfish, also known as sea stars, are a type of invertebrate found in all of the world's oceans. When asked if some of those destroy marine ecosystems, the AI confirms that some species of starfish can be invasive and can cause significant damage to\n"
     ]
    }
   ],
   "source": [
    "print(memory.predict_new_summary(\n",
    "    memory.chat_memory.messages,\n",
    "    memory.moving_summary_buffer,\n",
    "))"
   ]
  }
 ],
 "metadata": {
  "kernelspec": {
   "display_name": "Python 3 (ipykernel)",
   "language": "python",
   "name": "python3"
  },
  "language_info": {
   "codemirror_mode": {
    "name": "ipython",
    "version": 3
   },
   "file_extension": ".py",
   "mimetype": "text/x-python",
   "name": "python",
   "nbconvert_exporter": "python",
   "pygments_lexer": "ipython3",
   "version": "3.10.11"
  }
 },
 "nbformat": 4,
 "nbformat_minor": 5
}
