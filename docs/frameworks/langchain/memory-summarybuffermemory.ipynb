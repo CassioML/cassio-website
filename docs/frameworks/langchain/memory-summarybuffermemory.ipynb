{
 "cells": [
  {
   "cell_type": "markdown",
   "metadata": {},
   "source": [
    "# Summary Buffer Memory"
   ]
  },
  {
   "cell_type": "markdown",
   "metadata": {},
   "source": [
    "The same `CassandraChatMessageHistory` can power a more sophisticated kind of chat memory that automatically maintains a **summary** of the past interactions, so as to provide a memory that virtually extends arbitrarily far back in the past while fitting a finite amount of tokens."
   ]
  },
  {
   "cell_type": "code",
   "execution_count": 1,
   "metadata": {},
   "outputs": [],
   "source": [
    "from langchain.memory import CassandraChatMessageHistory\n",
    "from langchain.memory import ConversationSummaryBufferMemory\n",
    "from langchain.chains import ConversationChain"
   ]
  },
  {
   "cell_type": "code",
   "execution_count": 2,
   "metadata": {},
   "outputs": [],
   "source": [
    "from cqlsession import getCQLSession, getCQLKeyspace\n",
    "astraSession = getCQLSession()\n",
    "astraKeyspace = getCQLKeyspace()"
   ]
  },
  {
   "cell_type": "code",
   "execution_count": 3,
   "metadata": {},
   "outputs": [],
   "source": [
    "message_history = CassandraChatMessageHistory(\n",
    "    session_id='summarized-conversation-4321',\n",
    "    session=astraSession,\n",
    "    keyspace='langchain',\n",
    "    ttl_seconds = 3600,\n",
    ")"
   ]
  },
  {
   "cell_type": "code",
   "execution_count": 4,
   "metadata": {},
   "outputs": [],
   "source": [
    "message_history.clear()"
   ]
  },
  {
   "cell_type": "markdown",
   "metadata": {},
   "source": [
    "Below is the logic to instantiate the LLM of choice. We choose to leave it in the notebooks for clarity."
   ]
  },
  {
   "cell_type": "code",
   "execution_count": 5,
   "metadata": {},
   "outputs": [
    {
     "name": "stdout",
     "output_type": "stream",
     "text": [
      "LLM from OpenAI\n"
     ]
    }
   ],
   "source": [
    "from llm_choice import suggestLLMProvider\n",
    "\n",
    "llmProvider = suggestLLMProvider()\n",
    "# (Alternatively set llmProvider to 'VertexAI', 'OpenAI' ... manually if you have credentials)\n",
    "\n",
    "if llmProvider == 'VertexAI':\n",
    "    from langchain.llms import VertexAI\n",
    "    llm = VertexAI()\n",
    "    print('LLM from VertexAI')\n",
    "elif llmProvider == 'OpenAI':\n",
    "    from langchain.llms import OpenAI\n",
    "    llm = OpenAI()\n",
    "    print('LLM from OpenAI')\n",
    "else:\n",
    "    raise ValueError('Unknown LLM provider.')"
   ]
  },
  {
   "cell_type": "markdown",
   "metadata": {},
   "source": [
    "## Use the memory with summary in a Chain"
   ]
  },
  {
   "cell_type": "code",
   "execution_count": 6,
   "metadata": {},
   "outputs": [],
   "source": [
    "memory = ConversationSummaryBufferMemory(\n",
    "    llm=llm,\n",
    "    chat_memory=message_history,\n",
    "    max_token_limit=180,\n",
    ")"
   ]
  },
  {
   "cell_type": "code",
   "execution_count": 7,
   "metadata": {},
   "outputs": [],
   "source": [
    "summaryConversation = ConversationChain(\n",
    "    llm=llm, \n",
    "    memory=memory,\n",
    "    verbose=True\n",
    ")"
   ]
  },
  {
   "cell_type": "markdown",
   "metadata": {},
   "source": [
    "With the verbose output you can track the summary. It starts empty and once few messages have been exchanged it starts to \"incorporate\" those messages that would have been lost in the past."
   ]
  },
  {
   "cell_type": "code",
   "execution_count": 8,
   "metadata": {},
   "outputs": [
    {
     "name": "stdout",
     "output_type": "stream",
     "text": [
      "\n",
      "\n",
      "\u001b[1m> Entering new ConversationChain chain...\u001b[0m\n",
      "Prompt after formatting:\n",
      "\u001b[32;1m\u001b[1;3mThe following is a friendly conversation between a human and an AI. The AI is talkative and provides lots of specific details from its context. If the AI does not know the answer to a question, it truthfully says it does not know.\n",
      "\n",
      "Current conversation:\n",
      "\n",
      "Human: Tell me about William Tell, the hero\n",
      "AI:\u001b[0m\n",
      "\n",
      "\u001b[1m> Finished chain.\u001b[0m\n"
     ]
    },
    {
     "data": {
      "text/plain": [
       "\" William Tell is a legendary Swiss hero who lived in the early 14th century. He is best known as the figure who shot an apple off his son's head with a crossbow. The story of his life is the subject of a popular folktale. According to legend, William Tell was a patriot who was forced by the local Austrian governor to shoot an apple off his son's head as a demonstration of his marksmanship. When he succeeded, he was released and went on to lead a successful rebellion against the governor. The legend has been a popular subject in art, literature, and popular culture for centuries.\""
      ]
     },
     "execution_count": 8,
     "metadata": {},
     "output_type": "execute_result"
    }
   ],
   "source": [
    "summaryConversation.predict(input='Tell me about William Tell, the hero')"
   ]
  },
  {
   "cell_type": "code",
   "execution_count": 9,
   "metadata": {},
   "outputs": [
    {
     "name": "stdout",
     "output_type": "stream",
     "text": [
      "\n",
      "\n",
      "\u001b[1m> Entering new ConversationChain chain...\u001b[0m\n",
      "Prompt after formatting:\n",
      "\u001b[32;1m\u001b[1;3mThe following is a friendly conversation between a human and an AI. The AI is talkative and provides lots of specific details from its context. If the AI does not know the answer to a question, it truthfully says it does not know.\n",
      "\n",
      "Current conversation:\n",
      "Human: Tell me about William Tell, the hero\n",
      "AI:  William Tell is a legendary Swiss hero who lived in the early 14th century. He is best known as the figure who shot an apple off his son's head with a crossbow. The story of his life is the subject of a popular folktale. According to legend, William Tell was a patriot who was forced by the local Austrian governor to shoot an apple off his son's head as a demonstration of his marksmanship. When he succeeded, he was released and went on to lead a successful rebellion against the governor. The legend has been a popular subject in art, literature, and popular culture for centuries.\n",
      "Human: Any relation to the apple from Cupertino?\n",
      "AI:\u001b[0m\n"
     ]
    },
    {
     "name": "stdout",
     "output_type": "stream",
     "text": [
      "\n",
      "\u001b[1m> Finished chain.\u001b[0m\n"
     ]
    },
    {
     "data": {
      "text/plain": [
       "' No, there is no relation between the apple from Cupertino and the apple from the William Tell legend. The apple from Cupertino is the logo of Apple Inc., which was founded in 1976 by Steve Jobs, Steve Wozniak, and Ronald Wayne. The company is known for its line of consumer electronics, including the iPhone, iPad, and Mac computers.'"
      ]
     },
     "execution_count": 9,
     "metadata": {},
     "output_type": "execute_result"
    }
   ],
   "source": [
    "summaryConversation.predict(\n",
    "    input=\"Any relation to the apple from Cupertino?\"\n",
    ")"
   ]
  },
  {
   "cell_type": "markdown",
   "metadata": {},
   "source": [
    "No messages have slided past the \"recent window\" yet -- correspondingly, the summary buffer is still empty:"
   ]
  },
  {
   "cell_type": "code",
   "execution_count": 10,
   "metadata": {},
   "outputs": [
    {
     "data": {
      "text/plain": [
       "\"\\nThe human asks what the AI knows about William Tell, the hero. The AI responds that William Tell is a legendary Swiss hero who lived in the early 14th century and is best known as the figure who shot an apple off his son's head with a crossbow. The story of his life is the subject of a popular folktale, where he was forced to shoot an apple off his son's head as a demonstration of his marksmanship, and, upon succeeding, was released and went on to lead a successful rebellion against the governor. The legend has been a popular subject in art, literature, and popular culture for centuries.\""
      ]
     },
     "execution_count": 10,
     "metadata": {},
     "output_type": "execute_result"
    }
   ],
   "source": [
    "memory.moving_summary_buffer"
   ]
  },
  {
   "cell_type": "markdown",
   "metadata": {},
   "source": [
    "Continue the conversation - you might start to see the summary of past exchanges making its way to the final prompt for the LLM in the form of a \"System\" contribution to the _Current conversation_:"
   ]
  },
  {
   "cell_type": "code",
   "execution_count": 11,
   "metadata": {},
   "outputs": [
    {
     "name": "stdout",
     "output_type": "stream",
     "text": [
      "\n",
      "\n",
      "\u001b[1m> Entering new ConversationChain chain...\u001b[0m\n",
      "Prompt after formatting:\n",
      "\u001b[32;1m\u001b[1;3mThe following is a friendly conversation between a human and an AI. The AI is talkative and provides lots of specific details from its context. If the AI does not know the answer to a question, it truthfully says it does not know.\n",
      "\n",
      "Current conversation:\n",
      "System: \n",
      "The human asks what the AI knows about William Tell, the hero. The AI responds that William Tell is a legendary Swiss hero who lived in the early 14th century and is best known as the figure who shot an apple off his son's head with a crossbow. The story of his life is the subject of a popular folktale, where he was forced to shoot an apple off his son's head as a demonstration of his marksmanship, and, upon succeeding, was released and went on to lead a successful rebellion against the governor. The legend has been a popular subject in art, literature, and popular culture for centuries.\n",
      "Human: Tell me about William Tell, the hero\n",
      "AI:  William Tell is a legendary Swiss hero who lived in the early 14th century. He is best known as the figure who shot an apple off his son's head with a crossbow. The story of his life is the subject of a popular folktale. According to legend, William Tell was a patriot who was forced by the local Austrian governor to shoot an apple off his son's head as a demonstration of his marksmanship. When he succeeded, he was released and went on to lead a successful rebellion against the governor. The legend has been a popular subject in art, literature, and popular culture for centuries.\n",
      "Human: Any relation to the apple from Cupertino?\n",
      "AI:  No, there is no relation between the apple from Cupertino and the apple from the William Tell legend. The apple from Cupertino is the logo of Apple Inc., which was founded in 1976 by Steve Jobs, Steve Wozniak, and Ronald Wayne. The company is known for its line of consumer electronics, including the iPhone, iPad, and Mac computers.\n",
      "Human: I heard the two apples may be in fact the very same fruit.\n",
      "AI:\u001b[0m\n",
      "\n",
      "\u001b[1m> Finished chain.\u001b[0m\n"
     ]
    },
    {
     "data": {
      "text/plain": [
       "\" I'm sorry, I don't have any information on that.\""
      ]
     },
     "execution_count": 11,
     "metadata": {},
     "output_type": "execute_result"
    }
   ],
   "source": [
    "summaryConversation.predict(\n",
    "    input=\"I heard the two apples may be in fact the very same fruit.\"\n",
    ")"
   ]
  },
  {
   "cell_type": "markdown",
   "metadata": {},
   "source": [
    "This is where the current summary buffer is stored\n",
    "\n",
    "_(Note: depending on the length of the messages so far, at this point you might or might not see an empty summary. In any case, keep reading and it will doubtless start to be nonempty.)_"
   ]
  },
  {
   "cell_type": "code",
   "execution_count": 12,
   "metadata": {},
   "outputs": [
    {
     "data": {
      "text/plain": [
       "\"\\nThe human asks what the AI knows about William Tell, the hero. The AI responds that William Tell is a legendary Swiss hero who lived in the early 14th century and is best known as the figure who shot an apple off his son's head with a crossbow. The story of his life is the subject of a popular folktale, where he was forced to shoot an apple off his son's head as a demonstration of his marksmanship, and, upon succeeding, was released and went on to lead a successful rebellion against the governor. The legend has been a popular subject in art, literature, and popular culture for centuries.\""
      ]
     },
     "execution_count": 12,
     "metadata": {},
     "output_type": "execute_result"
    }
   ],
   "source": [
    "memory.moving_summary_buffer"
   ]
  },
  {
   "cell_type": "markdown",
   "metadata": {},
   "source": [
    "The whole conversation is still in the \"recent\" window. Below is what will start to happen in the `ConversationSummaryBufferMemory` at the next chat message: starting from the message list, and the summary so far (if any), the LLM is asked to come up with a new summary which will overwrite the current one, stored in `memory.moving_summary_buffer`."
   ]
  },
  {
   "cell_type": "code",
   "execution_count": 13,
   "metadata": {},
   "outputs": [
    {
     "name": "stdout",
     "output_type": "stream",
     "text": [
      "\n",
      "The human asks what the AI knows about William Tell, the hero. The AI responds that William Tell is a legendary Swiss hero who lived in the early 14th century and is best known as the figure who shot an apple off his son's head with a crossbow. The story of his life is the subject of a popular folktale, where he was forced to shoot an apple off his son's head as a demonstration of his marksmanship, and, upon succeeding, was released and went on to lead a successful rebellion against the governor. The legend has been a popular subject in art, literature, and popular culture for centuries. When asked about any relation to the apple from Cupertino, the AI responded that there is no relation between the two apples. When asked if the two apples may be the same fruit, the AI stated that it didn't have any information on that.\n"
     ]
    }
   ],
   "source": [
    "print(memory.predict_new_summary(\n",
    "    memory.chat_memory.messages,\n",
    "    memory.moving_summary_buffer,\n",
    "))"
   ]
  },
  {
   "cell_type": "code",
   "execution_count": 14,
   "metadata": {},
   "outputs": [
    {
     "name": "stdout",
     "output_type": "stream",
     "text": [
      "\n",
      "\n",
      "\u001b[1m> Entering new ConversationChain chain...\u001b[0m\n",
      "Prompt after formatting:\n",
      "\u001b[32;1m\u001b[1;3mThe following is a friendly conversation between a human and an AI. The AI is talkative and provides lots of specific details from its context. If the AI does not know the answer to a question, it truthfully says it does not know.\n",
      "\n",
      "Current conversation:\n",
      "System: \n",
      "The human asks what the AI knows about William Tell, the hero. The AI responds that William Tell is a legendary Swiss hero who lived in the early 14th century and is best known as the figure who shot an apple off his son's head with a crossbow. The story of his life is the subject of a popular folktale, where he was forced to shoot an apple off his son's head as a demonstration of his marksmanship, and, upon succeeding, was released and went on to lead a successful rebellion against the governor. The legend has been a popular subject in art, literature, and popular culture for centuries.\n",
      "Human: Tell me about William Tell, the hero\n",
      "AI:  William Tell is a legendary Swiss hero who lived in the early 14th century. He is best known as the figure who shot an apple off his son's head with a crossbow. The story of his life is the subject of a popular folktale. According to legend, William Tell was a patriot who was forced by the local Austrian governor to shoot an apple off his son's head as a demonstration of his marksmanship. When he succeeded, he was released and went on to lead a successful rebellion against the governor. The legend has been a popular subject in art, literature, and popular culture for centuries.\n",
      "Human: Any relation to the apple from Cupertino?\n",
      "AI:  No, there is no relation between the apple from Cupertino and the apple from the William Tell legend. The apple from Cupertino is the logo of Apple Inc., which was founded in 1976 by Steve Jobs, Steve Wozniak, and Ronald Wayne. The company is known for its line of consumer electronics, including the iPhone, iPad, and Mac computers.\n",
      "Human: I heard the two apples may be in fact the very same fruit.\n",
      "AI:  I'm sorry, I don't have any information on that.\n",
      "Human: Ok, enough with apples. Let's talk starfish now.\n",
      "AI:\u001b[0m\n",
      "\n",
      "\u001b[1m> Finished chain.\u001b[0m\n"
     ]
    },
    {
     "data": {
      "text/plain": [
       "' Sure! Starfish are a group of marine invertebrates that belong to the phylum Echinodermata. They have five arms that can regenerate if they are damaged or lost. Starfish are found in all oceans and many of them have a hard external shell covered in spines. They eat mussels, clams, and other small creatures which they catch with their arms. Some species of starfish can even change color to blend into their environment.'"
      ]
     },
     "execution_count": 14,
     "metadata": {},
     "output_type": "execute_result"
    }
   ],
   "source": [
    "summaryConversation.predict(\n",
    "    input='Ok, enough with apples. Let\\'s talk starfish now.'\n",
    ")"
   ]
  },
  {
   "cell_type": "code",
   "execution_count": 15,
   "metadata": {},
   "outputs": [
    {
     "data": {
      "text/plain": [
       "\"\\n\\nThe human asks what the AI knows about William Tell, the hero. The AI responds that William Tell is a legendary Swiss hero who lived in the early 14th century and is best known as the figure who shot an apple off his son's head with a crossbow. The story of his life is the subject of a popular folktale, where he was forced to shoot an apple off his son's head as a demonstration of his marksmanship, and, upon succeeding, was released and went on to lead a successful rebellion against the governor. The legend has been a popular subject in art, literature, and popular culture for centuries. When asked if there is any relation to the apple from Cupertino, the AI responds that there is no relation between the two apples, as the apple from Cupertino is the logo of Apple Inc. founded in 1976.\""
      ]
     },
     "execution_count": 15,
     "metadata": {},
     "output_type": "execute_result"
    }
   ],
   "source": [
    "memory.moving_summary_buffer"
   ]
  },
  {
   "cell_type": "markdown",
   "metadata": {},
   "source": [
    "Now the chat history has presumably reached a certain threshold and there is a summary. In the verbose output below, you will see it appearing in the prompt as a \"System\" role in the conversation recap."
   ]
  },
  {
   "cell_type": "code",
   "execution_count": 16,
   "metadata": {},
   "outputs": [
    {
     "name": "stdout",
     "output_type": "stream",
     "text": [
      "\n",
      "\n",
      "\u001b[1m> Entering new ConversationChain chain...\u001b[0m\n",
      "Prompt after formatting:\n",
      "\u001b[32;1m\u001b[1;3mThe following is a friendly conversation between a human and an AI. The AI is talkative and provides lots of specific details from its context. If the AI does not know the answer to a question, it truthfully says it does not know.\n",
      "\n",
      "Current conversation:\n",
      "System: \n",
      "\n",
      "The human asks what the AI knows about William Tell, the hero. The AI responds that William Tell is a legendary Swiss hero who lived in the early 14th century and is best known as the figure who shot an apple off his son's head with a crossbow. The story of his life is the subject of a popular folktale, where he was forced to shoot an apple off his son's head as a demonstration of his marksmanship, and, upon succeeding, was released and went on to lead a successful rebellion against the governor. The legend has been a popular subject in art, literature, and popular culture for centuries. When asked if there is any relation to the apple from Cupertino, the AI responds that there is no relation between the two apples, as the apple from Cupertino is the logo of Apple Inc. founded in 1976.\n",
      "Human: Tell me about William Tell, the hero\n",
      "AI:  William Tell is a legendary Swiss hero who lived in the early 14th century. He is best known as the figure who shot an apple off his son's head with a crossbow. The story of his life is the subject of a popular folktale. According to legend, William Tell was a patriot who was forced by the local Austrian governor to shoot an apple off his son's head as a demonstration of his marksmanship. When he succeeded, he was released and went on to lead a successful rebellion against the governor. The legend has been a popular subject in art, literature, and popular culture for centuries.\n",
      "Human: Any relation to the apple from Cupertino?\n",
      "AI:  No, there is no relation between the apple from Cupertino and the apple from the William Tell legend. The apple from Cupertino is the logo of Apple Inc., which was founded in 1976 by Steve Jobs, Steve Wozniak, and Ronald Wayne. The company is known for its line of consumer electronics, including the iPhone, iPad, and Mac computers.\n",
      "Human: I heard the two apples may be in fact the very same fruit.\n",
      "AI:  I'm sorry, I don't have any information on that.\n",
      "Human: Ok, enough with apples. Let's talk starfish now.\n",
      "AI:  Sure! Starfish are a group of marine invertebrates that belong to the phylum Echinodermata. They have five arms that can regenerate if they are damaged or lost. Starfish are found in all oceans and many of them have a hard external shell covered in spines. They eat mussels, clams, and other small creatures which they catch with their arms. Some species of starfish can even change color to blend into their environment.\n",
      "Human: I hear that some of those destroy marine ecosystems.\n",
      "AI:\u001b[0m\n",
      "\n",
      "\u001b[1m> Finished chain.\u001b[0m\n"
     ]
    },
    {
     "data": {
      "text/plain": [
       "' Yes, some species of starfish can be damaging to marine ecosystems. For example, the crown-of-thorns starfish is an invasive species that feeds on coral and can devastate coral reefs. To combat this, some countries have implemented programs to remove and control the population of crown-of-thorns starfish in their waters.'"
      ]
     },
     "execution_count": 16,
     "metadata": {},
     "output_type": "execute_result"
    }
   ],
   "source": [
    "summaryConversation.predict(\n",
    "    input='I hear that some of those destroy marine ecosystems.'\n",
    ")"
   ]
  },
  {
   "cell_type": "code",
   "execution_count": 17,
   "metadata": {},
   "outputs": [
    {
     "data": {
      "text/plain": [
       "\"\\nThe human asks what the AI knows about William Tell, the hero. The AI responds that William Tell is a legendary Swiss hero who lived in the early 14th century and is best known as the figure who shot an apple off his son's head with a crossbow. The story of his life is the subject of a popular folktale, where he was forced to shoot an apple off his son's head as a demonstration of his marksmanship, and, upon succeeding, was released and went on to lead a successful rebellion against the governor. The legend has been a popular subject in art, literature, and popular culture for centuries. When asked if there is any relation to the apple from Cupertino, the AI responds that there is no relation between the two apples as the apple from Cupertino is the logo of Apple Inc. founded in 1976. The human then asked if there was any connection between the two apples, to which the AI did not have an answer. The conversation then shifted to starfish.\""
      ]
     },
     "execution_count": 17,
     "metadata": {},
     "output_type": "execute_result"
    }
   ],
   "source": [
    "memory.moving_summary_buffer"
   ]
  },
  {
   "cell_type": "markdown",
   "metadata": {},
   "source": [
    "From this point on, the summary will not grow indefinitely in size, but will rather try to cover a longer and longer conversation."
   ]
  },
  {
   "cell_type": "code",
   "execution_count": 18,
   "metadata": {},
   "outputs": [
    {
     "name": "stdout",
     "output_type": "stream",
     "text": [
      "\n",
      "\n",
      "The human asks what the AI knows about William Tell, the hero. The AI responds that William Tell is a legendary Swiss hero who lived in the early 14th century and is best known as the figure who shot an apple off his son's head with a crossbow. The story of his life is the subject of a popular folktale, where he was forced to shoot an apple off his son's head as a demonstration of his marksmanship, and, upon succeeding, was released and went on to lead a successful rebellion against the governor. The legend has been a popular subject in art, literature, and popular culture for centuries. The human then asked if there was any relation to the apple from Cupertino, to which the AI responded that there was no relation between the two apples as the apple from Cupertino is the logo of Apple Inc. founded in 1976. The conversation then shifted to starfish, which are marine invertebrates that belong to the phylum Echinodermata, have five arms, and can regenerate if they are damaged or lost. The human then asked if some starfish can be damaging to marine ecosystems, to which the AI responded that some species can, such as the crown-of-thorns starfish which feeds on\n"
     ]
    }
   ],
   "source": [
    "print(memory.predict_new_summary(\n",
    "    memory.chat_memory.messages,\n",
    "    memory.moving_summary_buffer,\n",
    "))"
   ]
  }
 ],
 "metadata": {
  "kernelspec": {
   "display_name": "Python 3 (ipykernel)",
   "language": "python",
   "name": "python3"
  },
  "language_info": {
   "codemirror_mode": {
    "name": "ipython",
    "version": 3
   },
   "file_extension": ".py",
   "mimetype": "text/x-python",
   "name": "python",
   "nbconvert_exporter": "python",
   "pygments_lexer": "ipython3"
  }
 },
 "nbformat": 4,
 "nbformat_minor": 5
}
