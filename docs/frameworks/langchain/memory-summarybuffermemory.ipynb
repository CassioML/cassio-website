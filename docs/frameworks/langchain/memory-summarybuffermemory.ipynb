{
 "cells": [
  {
   "cell_type": "markdown",
   "id": "d3afdf65",
   "metadata": {},
   "source": [
    "# Summary Buffer Memory"
   ]
  },
  {
   "cell_type": "code",
   "execution_count": 1,
   "id": "caaf19a0",
   "metadata": {},
   "outputs": [],
   "source": [
    "from langchain.memory import CassandraChatMessageHistory\n",
    "from langchain.memory import ConversationSummaryBufferMemory\n",
    "from langchain.chains import ConversationChain"
   ]
  },
  {
   "cell_type": "code",
   "execution_count": 2,
   "id": "ba4ea355",
   "metadata": {},
   "outputs": [
    {
     "name": "stderr",
     "output_type": "stream",
     "text": [
      "/home/stefano/.virtualenvs/langchain-cassio-3.10/lib/python3.10/site-packages/cassandra/io/asyncorereactor.py:34: DeprecationWarning: The asyncore module is deprecated and will be removed in Python 3.12. The recommended replacement is asyncio\n",
      "  import asyncore\n",
      "/home/stefano/.virtualenvs/langchain-cassio-3.10/lib/python3.10/site-packages/cassandra/datastax/cloud/__init__.py:173: DeprecationWarning: ssl.PROTOCOL_TLS is deprecated\n",
      "  ssl_context = SSLContext(PROTOCOL_TLS)\n",
      "/home/stefano/.virtualenvs/langchain-cassio-3.10/lib/python3.10/site-packages/cassandra/io/asyncorereactor.py:347: DeprecationWarning: ssl.match_hostname() is deprecated\n",
      "  self._connect_socket()\n"
     ]
    }
   ],
   "source": [
    "from cqlsession import getCQLSession, getCQLKeyspace\n",
    "astraSession = getCQLSession()\n",
    "astraKeyspace = getCQLKeyspace()"
   ]
  },
  {
   "cell_type": "code",
   "execution_count": 3,
   "id": "81911a51",
   "metadata": {},
   "outputs": [],
   "source": [
    "message_history = CassandraChatMessageHistory(\n",
    "    session_id='summarized-conversation-4321',\n",
    "    session=astraSession,\n",
    "    keyspace='langchain',\n",
    "    ttl_seconds = 3600,\n",
    ")\n",
    "# message_history.clear()"
   ]
  },
  {
   "cell_type": "code",
   "execution_count": 4,
   "id": "a814761c",
   "metadata": {},
   "outputs": [],
   "source": [
    "from langchain.llms import OpenAI\n",
    "llm = OpenAI()"
   ]
  },
  {
   "cell_type": "code",
   "execution_count": 5,
   "id": "f1cd1287",
   "metadata": {},
   "outputs": [],
   "source": [
    "memory = ConversationSummaryBufferMemory(\n",
    "    llm=llm,\n",
    "    chat_memory=message_history,\n",
    "    max_token_limit=180,\n",
    ")"
   ]
  },
  {
   "cell_type": "code",
   "execution_count": 6,
   "id": "3ed0fbf8",
   "metadata": {},
   "outputs": [],
   "source": [
    "summaryConversation = ConversationChain(\n",
    "    llm=llm, \n",
    "    memory=memory,\n",
    "    verbose=True\n",
    ")"
   ]
  },
  {
   "cell_type": "code",
   "execution_count": 7,
   "id": "2e7c97b5",
   "metadata": {},
   "outputs": [
    {
     "name": "stdout",
     "output_type": "stream",
     "text": [
      "\n",
      "\n",
      "\u001b[1m> Entering new ConversationChain chain...\u001b[0m\n",
      "Prompt after formatting:\n",
      "\u001b[32;1m\u001b[1;3mThe following is a friendly conversation between a human and an AI. The AI is talkative and provides lots of specific details from its context. If the AI does not know the answer to a question, it truthfully says it does not know.\n",
      "\n",
      "Current conversation:\n",
      "\n",
      "Human: Tell me about William Tell\n",
      "AI:\u001b[0m\n",
      "\n",
      "\u001b[1m> Finished chain.\u001b[0m\n"
     ]
    },
    {
     "data": {
      "text/plain": [
       "\" William Tell is a Swiss folk hero from the late 13th century. He is best known for his legendary feat of shooting an arrow through an apple placed on his son's head. He is often portrayed as an expert marksman and archer. He is also known for his role in the formation of the Swiss Confederation, a revolutionary alliance against the Habsburgs.\""
      ]
     },
     "execution_count": 7,
     "metadata": {},
     "output_type": "execute_result"
    }
   ],
   "source": [
    "summaryConversation.predict(input='Tell me about William Tell')"
   ]
  },
  {
   "cell_type": "code",
   "execution_count": 8,
   "id": "1c02ebdd",
   "metadata": {},
   "outputs": [
    {
     "name": "stdout",
     "output_type": "stream",
     "text": [
      "\n",
      "\n",
      "\u001b[1m> Entering new ConversationChain chain...\u001b[0m\n",
      "Prompt after formatting:\n",
      "\u001b[32;1m\u001b[1;3mThe following is a friendly conversation between a human and an AI. The AI is talkative and provides lots of specific details from its context. If the AI does not know the answer to a question, it truthfully says it does not know.\n",
      "\n",
      "Current conversation:\n",
      "Human: Tell me about William Tell\n",
      "AI:  William Tell is a Swiss folk hero from the late 13th century. He is best known for his legendary feat of shooting an arrow through an apple placed on his son's head. He is often portrayed as an expert marksman and archer. He is also known for his role in the formation of the Swiss Confederation, a revolutionary alliance against the Habsburgs.\n",
      "Human: Any relation to the apple from Cupertino?\n",
      "AI:\u001b[0m\n",
      "\n",
      "\u001b[1m> Finished chain.\u001b[0m\n"
     ]
    },
    {
     "data": {
      "text/plain": [
       "\" No, I don't believe there is any relation between William Tell's apple and the apple from Cupertino. The apple from Cupertino is the logo of Apple Inc., an American technology company, while William Tell's apple is a symbol of courage and heroism in Swiss folklore.\""
      ]
     },
     "execution_count": 8,
     "metadata": {},
     "output_type": "execute_result"
    }
   ],
   "source": [
    "summaryConversation.predict(\n",
    "    input=\"Any relation to the apple from Cupertino?\"\n",
    ")"
   ]
  },
  {
   "cell_type": "code",
   "execution_count": 9,
   "id": "4b1b82cf",
   "metadata": {},
   "outputs": [
    {
     "data": {
      "text/plain": [
       "''"
      ]
     },
     "execution_count": 9,
     "metadata": {},
     "output_type": "execute_result"
    }
   ],
   "source": [
    "memory.moving_summary_buffer"
   ]
  },
  {
   "cell_type": "code",
   "execution_count": 10,
   "id": "891b5d84",
   "metadata": {},
   "outputs": [
    {
     "name": "stdout",
     "output_type": "stream",
     "text": [
      "\n",
      "\n",
      "\u001b[1m> Entering new ConversationChain chain...\u001b[0m\n",
      "Prompt after formatting:\n",
      "\u001b[32;1m\u001b[1;3mThe following is a friendly conversation between a human and an AI. The AI is talkative and provides lots of specific details from its context. If the AI does not know the answer to a question, it truthfully says it does not know.\n",
      "\n",
      "Current conversation:\n",
      "Human: Tell me about William Tell\n",
      "AI:  William Tell is a Swiss folk hero from the late 13th century. He is best known for his legendary feat of shooting an arrow through an apple placed on his son's head. He is often portrayed as an expert marksman and archer. He is also known for his role in the formation of the Swiss Confederation, a revolutionary alliance against the Habsburgs.\n",
      "Human: Any relation to the apple from Cupertino?\n",
      "AI:  No, I don't believe there is any relation between William Tell's apple and the apple from Cupertino. The apple from Cupertino is the logo of Apple Inc., an American technology company, while William Tell's apple is a symbol of courage and heroism in Swiss folklore.\n",
      "Human: I heard the two apples may be in fact the very same fruit.\n",
      "AI:\u001b[0m\n",
      "\n",
      "\u001b[1m> Finished chain.\u001b[0m\n"
     ]
    },
    {
     "data": {
      "text/plain": [
       "\" That is an interesting theory, but I'm not aware of any evidence to support this claim. The apple from Cupertino is a modern logo, while William Tell's apple has been a part of Swiss folklore for centuries.\""
      ]
     },
     "execution_count": 10,
     "metadata": {},
     "output_type": "execute_result"
    }
   ],
   "source": [
    "summaryConversation.predict(\n",
    "    input=\"I heard the two apples may be in fact the very same fruit.\"\n",
    ")"
   ]
  },
  {
   "cell_type": "code",
   "execution_count": 11,
   "id": "ea75de13",
   "metadata": {},
   "outputs": [
    {
     "data": {
      "text/plain": [
       "\"\\nThe human asks what the AI knows about William Tell. The AI responds that William Tell is a Swiss folk hero from the late 13th century, best known for his legendary feat of shooting an arrow through an apple placed on his son's head. He is also known for his role in the formation of the Swiss Confederation, a revolutionary alliance against the Habsburgs.\""
      ]
     },
     "execution_count": 11,
     "metadata": {},
     "output_type": "execute_result"
    }
   ],
   "source": [
    "memory.moving_summary_buffer"
   ]
  },
  {
   "cell_type": "code",
   "execution_count": 12,
   "id": "b1f5ba0a",
   "metadata": {},
   "outputs": [
    {
     "name": "stdout",
     "output_type": "stream",
     "text": [
      "\n",
      "\n",
      "The human asks what the AI knows about William Tell. The AI responds that William Tell is a Swiss folk hero from the late 13th century, best known for his legendary feat of shooting an arrow through an apple placed on his son's head. He is also known for his role in the formation of the Swiss Confederation, a revolutionary alliance against the Habsburgs. The human further inquires about a possible relation to the apple from Cupertino, to which the AI responds there is no relation between the two apples, as the apple from Cupertino is the logo of Apple Inc., an American technology company, while William Tell's apple is a symbol of courage and heroism in Swiss folklore. The human suggests the two apples may be the same fruit, to which the AI responds that there is no evidence to support this claim.\n"
     ]
    }
   ],
   "source": [
    "print(memory.predict_new_summary(\n",
    "    memory.chat_memory.messages,\n",
    "    memory.moving_summary_buffer,\n",
    "))"
   ]
  },
  {
   "cell_type": "code",
   "execution_count": 13,
   "id": "c507b6a2",
   "metadata": {},
   "outputs": [
    {
     "name": "stdout",
     "output_type": "stream",
     "text": [
      "\n",
      "\n",
      "\u001b[1m> Entering new ConversationChain chain...\u001b[0m\n",
      "Prompt after formatting:\n",
      "\u001b[32;1m\u001b[1;3mThe following is a friendly conversation between a human and an AI. The AI is talkative and provides lots of specific details from its context. If the AI does not know the answer to a question, it truthfully says it does not know.\n",
      "\n",
      "Current conversation:\n",
      "System: \n",
      "The human asks what the AI knows about William Tell. The AI responds that William Tell is a Swiss folk hero from the late 13th century, best known for his legendary feat of shooting an arrow through an apple placed on his son's head. He is also known for his role in the formation of the Swiss Confederation, a revolutionary alliance against the Habsburgs.\n",
      "Human: Tell me about William Tell\n",
      "AI:  William Tell is a Swiss folk hero from the late 13th century. He is best known for his legendary feat of shooting an arrow through an apple placed on his son's head. He is often portrayed as an expert marksman and archer. He is also known for his role in the formation of the Swiss Confederation, a revolutionary alliance against the Habsburgs.\n",
      "Human: Any relation to the apple from Cupertino?\n",
      "AI:  No, I don't believe there is any relation between William Tell's apple and the apple from Cupertino. The apple from Cupertino is the logo of Apple Inc., an American technology company, while William Tell's apple is a symbol of courage and heroism in Swiss folklore.\n",
      "Human: I heard the two apples may be in fact the very same fruit.\n",
      "AI:  That is an interesting theory, but I'm not aware of any evidence to support this claim. The apple from Cupertino is a modern logo, while William Tell's apple has been a part of Swiss folklore for centuries.\n",
      "Human: Ok, enough with apples. Let's talk starfish now.\n",
      "AI:\u001b[0m\n",
      "\n",
      "\u001b[1m> Finished chain.\u001b[0m\n"
     ]
    },
    {
     "data": {
      "text/plain": [
       "\" Sure! Starfish are a type of marine animal belonging to the phylum Echinodermata. They have a unique body structure with five or more arms and no backbone. They are found in most of the world's oceans and can live in shallow waters, deep sea trenches, and even intertidal zones.\""
      ]
     },
     "execution_count": 13,
     "metadata": {},
     "output_type": "execute_result"
    }
   ],
   "source": [
    "summaryConversation.predict(\n",
    "    input='Ok, enough with apples. Let\\'s talk starfish now.'\n",
    ")"
   ]
  },
  {
   "cell_type": "code",
   "execution_count": 14,
   "id": "84d1b8b8",
   "metadata": {},
   "outputs": [
    {
     "data": {
      "text/plain": [
       "\"\\nThe human asks what the AI knows about William Tell. The AI responds that William Tell is a Swiss folk hero from the late 13th century, best known for his legendary feat of shooting an arrow through an apple placed on his son's head. He is often portrayed as an expert marksman and archer, and is also known for his role in the formation of the Swiss Confederation, a revolutionary alliance against the Habsburgs. The human then inquires about any relation between William Tell's apple and the logo of Apple Inc., to which the AI responds there is no relation.\""
      ]
     },
     "execution_count": 14,
     "metadata": {},
     "output_type": "execute_result"
    }
   ],
   "source": [
    "memory.moving_summary_buffer"
   ]
  },
  {
   "cell_type": "code",
   "execution_count": 15,
   "id": "69188782",
   "metadata": {},
   "outputs": [
    {
     "name": "stdout",
     "output_type": "stream",
     "text": [
      "\n",
      "The human asks what the AI knows about William Tell. The AI responds that William Tell is a Swiss folk hero from the late 13th century, best known for his legendary feat of shooting an arrow through an apple placed on his son's head. He is often portrayed as an expert marksman and archer, and is also known for his role in the formation of the Swiss Confederation, a revolutionary alliance against the Habsburgs. The human then inquires about any relation between William Tell's apple and the logo of Apple Inc., to which the AI responds there is no relation, as the apple from Cupertino is a modern logo while William Tell's apple has been a part of Swiss folklore for centuries. The conversation then shifts to starfish, which the AI explains are a type of marine animal belonging to the phylum Echinodermata with five or more arms and no backbone, found in most of the world's oceans.\n"
     ]
    }
   ],
   "source": [
    "print(memory.predict_new_summary(\n",
    "    memory.chat_memory.messages,\n",
    "    memory.moving_summary_buffer,\n",
    "))"
   ]
  }
 ],
 "metadata": {
  "kernelspec": {
   "display_name": "Python 3 (ipykernel)",
   "language": "python",
   "name": "python3"
  },
  "language_info": {
   "codemirror_mode": {
    "name": "ipython",
    "version": 3
   },
   "file_extension": ".py",
   "mimetype": "text/x-python",
   "name": "python",
   "nbconvert_exporter": "python",
   "pygments_lexer": "ipython3",
   "version": "3.10.11"
  }
 },
 "nbformat": 4,
 "nbformat_minor": 5
}
