{
 "cells": [
  {
   "cell_type": "markdown",
   "id": "2ab8928b",
   "metadata": {},
   "source": [
    "# Feast Prompt Templates\n",
    "\n",
    "This example shows how to bind a LangChain prompt template to an existing Feast feature store\n",
    "and have the prompt rendered with information from the (online) store."
   ]
  },
  {
   "cell_type": "markdown",
   "id": "45e6f3d9",
   "metadata": {},
   "source": [
    "_Note_: to run this code, you need to go first complete the **\"Feast/Cassandra setup\"** instructions given earlier."
   ]
  },
  {
   "cell_type": "markdown",
   "id": "ddb37849",
   "metadata": {},
   "source": [
    "## Initialization of the feature store"
   ]
  },
  {
   "cell_type": "code",
   "execution_count": 1,
   "id": "1f6fe574",
   "metadata": {},
   "outputs": [
    {
     "name": "stderr",
     "output_type": "stream",
     "text": [
      "/home/stefano/.virtualenvs/langchain-cassio-3.10/lib/python3.10/site-packages/cassandra/io/asyncorereactor.py:34: DeprecationWarning: The asyncore module is deprecated and will be removed in Python 3.12. The recommended replacement is asyncio\n",
      "  import asyncore\n"
     ]
    }
   ],
   "source": [
    "from feast import FeatureStore\n",
    "\n",
    "feast_repo_path = \"feast_store/user_features/feature_repo/\"\n",
    "store = FeatureStore(repo_path=feast_repo_path)"
   ]
  },
  {
   "cell_type": "markdown",
   "id": "bafb2681",
   "metadata": {},
   "source": [
    "## Creation of the prompt template"
   ]
  },
  {
   "cell_type": "code",
   "execution_count": 2,
   "id": "d3a974a7",
   "metadata": {},
   "outputs": [
    {
     "name": "stderr",
     "output_type": "stream",
     "text": [
      "/home/stefano/personal/Datastax/code/my_github/langchain/langchain/vectorstores/analyticdb.py:20: MovedIn20Warning: Deprecated API features detected! These feature(s) are not compatible with SQLAlchemy 2.0. To prevent incompatible upgrades prior to updating applications, ensure requirements files are pinned to \"sqlalchemy<2.0\". Set environment variable SQLALCHEMY_WARN_20=1 to show all deprecation warnings.  Set environment variable SQLALCHEMY_SILENCE_UBER_WARNING=1 to silence this message. (Background on SQLAlchemy 2.0 at: https://sqlalche.me/e/b8d9)\n",
      "  Base = declarative_base()  # type: Any\n"
     ]
    }
   ],
   "source": [
    "from langchain.prompts import createFeastPromptTemplate"
   ]
  },
  {
   "cell_type": "code",
   "execution_count": 3,
   "id": "d092dad6",
   "metadata": {},
   "outputs": [],
   "source": [
    "ecommercePrompt = \"\"\"You are a helpful assistant for\n",
    "customers of an e-commerce website.\n",
    "You will give them a suggestion on what to do,\n",
    "based on their profile and pattern of usage so far.\n",
    "The customer information is summarized by the following values:\n",
    "\n",
    "> Customer age:               {age}\n",
    "> Number of purchases so far: {purchases}\n",
    "> Site visits (per month):    {visit_frequency}\n",
    "> Active cart now? (1 = yes): {active_cart}\n",
    "\n",
    "USER QUESTION: {user_question}\n",
    "\n",
    "YOUR SUGGESTION: \"\"\""
   ]
  },
  {
   "cell_type": "code",
   "execution_count": 4,
   "id": "d0eeddb2",
   "metadata": {},
   "outputs": [],
   "source": [
    "ecommerceTemplate = createFeastPromptTemplate(\n",
    "    store=store,\n",
    "    template=ecommercePrompt,\n",
    "    input_variables=[\"user_name\", \"user_question\"],\n",
    "    field_mapper={\n",
    "        'age': ('user_data', 'age'),\n",
    "        'purchases': ('user_data', 'purchases'),\n",
    "        'visit_frequency': ('user_data', 'visit_frequency'),\n",
    "        'active_cart': ('active_cart', 'active_cart'),\n",
    "    },\n",
    ")"
   ]
  },
  {
   "cell_type": "markdown",
   "id": "edd51a6c",
   "metadata": {},
   "source": [
    "## Formatting the template"
   ]
  },
  {
   "cell_type": "markdown",
   "id": "62b6ce9d",
   "metadata": {},
   "source": [
    "### Full rendering"
   ]
  },
  {
   "cell_type": "code",
   "execution_count": 5,
   "id": "c689dd70",
   "metadata": {},
   "outputs": [
    {
     "name": "stderr",
     "output_type": "stream",
     "text": [
      "/home/stefano/.virtualenvs/langchain-cassio-3.10/lib/python3.10/site-packages/cassandra/datastax/cloud/__init__.py:173: DeprecationWarning: ssl.PROTOCOL_TLS is deprecated\n",
      "  ssl_context = SSLContext(PROTOCOL_TLS)\n",
      "/home/stefano/.virtualenvs/langchain-cassio-3.10/lib/python3.10/site-packages/cassandra/io/asyncorereactor.py:347: DeprecationWarning: ssl.match_hostname() is deprecated\n",
      "  self._connect_socket()\n"
     ]
    },
    {
     "name": "stdout",
     "output_type": "stream",
     "text": [
      "You are a helpful assistant for\n",
      "customers of an e-commerce website.\n",
      "You will give them a suggestion on what to do,\n",
      "based on their profile and pattern of usage so far.\n",
      "The customer information is summarized by the following values:\n",
      "\n",
      "> Customer age:               55\n",
      "> Number of purchases so far: 12\n",
      "> Site visits (per month):    0.17000000178813934\n",
      "> Active cart now? (1 = yes): 0\n",
      "\n",
      "USER QUESTION: How do I remove an item from the cart?\n",
      "\n",
      "YOUR SUGGESTION: \n"
     ]
    }
   ],
   "source": [
    "print(ecommerceTemplate.format(\n",
    "    user_name='marilyn', user_question='How do I remove an item from the cart?'\n",
    "))"
   ]
  },
  {
   "cell_type": "markdown",
   "id": "947fa245",
   "metadata": {},
   "source": [
    "### Partialing the template"
   ]
  },
  {
   "cell_type": "code",
   "execution_count": 6,
   "id": "58d44b1b",
   "metadata": {},
   "outputs": [
    {
     "name": "stdout",
     "output_type": "stream",
     "text": [
      "You are a helpful assistant for\n",
      "customers of an e-commerce website.\n",
      "You will give them a suggestion on what to do,\n",
      "based on their profile and pattern of usage so far.\n",
      "The customer information is summarized by the following values:\n",
      "\n",
      "> Customer age:               21\n",
      "> Number of purchases so far: 323\n",
      "> Site visits (per month):    8.59000015258789\n",
      "> Active cart now? (1 = yes): 1\n",
      "\n",
      "USER QUESTION: When is the next special offer?\n",
      "\n",
      "YOUR SUGGESTION: \n"
     ]
    }
   ],
   "source": [
    "eCommPartial = ecommerceTemplate.partial(user_name='rodolfo')\n",
    "print(eCommPartial.format(user_question='When is the next special offer?'))"
   ]
  }
 ],
 "metadata": {
  "kernelspec": {
   "display_name": "Python 3 (ipykernel)",
   "language": "python",
   "name": "python3"
  },
  "language_info": {
   "codemirror_mode": {
    "name": "ipython",
    "version": 3
   },
   "file_extension": ".py",
   "mimetype": "text/x-python",
   "name": "python",
   "nbconvert_exporter": "python",
   "pygments_lexer": "ipython3",
   "version": "3.10.11"
  }
 },
 "nbformat": 4,
 "nbformat_minor": 5
}
