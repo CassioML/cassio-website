{
 "cells": [
  {
   "cell_type": "markdown",
   "id": "ae35bed6",
   "metadata": {},
   "source": [
    "# Feast Prompt Templates\n",
    "\n",
    "This example shows how to bind a LangChain prompt template to an existing Feast feature store\n",
    "and have the prompt formatted with information from the (online) store.\n",
    "\n",
    "The prompt template used here, specialized to retrieval from Feast, is another application of the \"convertor prompt template\" covered and illustrated in another tutorial. Please check that out for more background."
   ]
  },
  {
   "cell_type": "markdown",
   "id": "af5cf843",
   "metadata": {},
   "source": [
    "_Note_: to run this code, you need to go first complete the **\"Feast/Cassandra setup\"** instructions given earlier."
   ]
  },
  {
   "cell_type": "markdown",
   "id": "6a5d410d",
   "metadata": {},
   "source": [
    "## Initialization of the feature store"
   ]
  },
  {
   "cell_type": "markdown",
   "id": "07b678c8-07a3-42b3-9858-9f76c933fb29",
   "metadata": {},
   "source": [
    "First get your feature store ready and queryable:"
   ]
  },
  {
   "cell_type": "code",
   "execution_count": 1,
   "id": "51d9d620",
   "metadata": {},
   "outputs": [],
   "source": [
    "from feast import FeatureStore\n",
    "\n",
    "feast_repo_path = \"feast_store/user_features/feature_repo/\"\n",
    "store = FeatureStore(repo_path=feast_repo_path)"
   ]
  },
  {
   "cell_type": "markdown",
   "id": "78100f82",
   "metadata": {},
   "source": [
    "## Creation of the prompt template"
   ]
  },
  {
   "cell_type": "markdown",
   "id": "e8070f79-467b-478b-9afc-a15a251d0286",
   "metadata": {},
   "source": [
    "You need the `FeastReaderPromptTemplate` to seamlessly bind the feature store to a prompt:"
   ]
  },
  {
   "cell_type": "code",
   "execution_count": 2,
   "id": "19fa113c",
   "metadata": {},
   "outputs": [],
   "source": [
    "from langchain.prompts.database import FeastReaderPromptTemplate"
   ]
  },
  {
   "cell_type": "markdown",
   "id": "a58845cd-4ef5-417e-9802-0cd419c14764",
   "metadata": {},
   "source": [
    "... and of course a prompt string:"
   ]
  },
  {
   "cell_type": "code",
   "execution_count": 3,
   "id": "a106a45b",
   "metadata": {},
   "outputs": [],
   "source": [
    "ecommercePrompt = \"\"\"You are a helpful assistant for\n",
    "customers of an e-commerce website.\n",
    "You will give them a suggestion on what to do,\n",
    "based on their profile and pattern of usage so far.\n",
    "The customer information is summarized by the following values:\n",
    "\n",
    "> Customer age:               {age}\n",
    "> Number of purchases so far: {purchases}\n",
    "> Site visits (per month):    {visit_frequency}\n",
    "> Active cart now? (1 = yes): {active_cart}\n",
    "\n",
    "USER QUESTION: {user_question}\n",
    "\n",
    "YOUR SUGGESTION: \"\"\""
   ]
  },
  {
   "cell_type": "markdown",
   "id": "1db308f4-15c2-436e-abf2-90541f8f225a",
   "metadata": {},
   "source": [
    "Create the prompt template. Note that you have to specify several required settings:\n",
    "- the feature store;\n",
    "- the template string to format with the variables;\n",
    "- the names of the \"regular\" input variables (i.e. those _not_ coming through a Feast lookup)\n",
    "- a dictionary specifying, for each variable appearing in the prompt string, the feature view and the feature name for the Feast lookup."
   ]
  },
  {
   "cell_type": "code",
   "execution_count": 4,
   "id": "b716503a",
   "metadata": {},
   "outputs": [],
   "source": [
    "ecommerceTemplate = FeastReaderPromptTemplate(\n",
    "    feature_store=store,\n",
    "    template=ecommercePrompt,\n",
    "    input_variables=[\"user_question\"],\n",
    "    field_mapper={\n",
    "        'age': ('user_data', 'age'),\n",
    "        'purchases': ('user_data', 'purchases'),\n",
    "        'visit_frequency': ('user_data', 'visit_frequency'),\n",
    "        'active_cart': ('active_cart', 'active_cart'),\n",
    "    },\n",
    ")"
   ]
  },
  {
   "cell_type": "markdown",
   "id": "38ca0bce",
   "metadata": {},
   "source": [
    "## Formatting the template"
   ]
  },
  {
   "cell_type": "markdown",
   "id": "6220d905",
   "metadata": {},
   "source": [
    "### Full formatting\n",
    "\n",
    "To format the template, the \"join keys\" for the Feast lookup must be supplied together with the other regular variables that appear in the template string directly.\n",
    "\n",
    "The Feast prompt template will do the magic of using the join keys, turning them into the requested features, and placing them in the template string:"
   ]
  },
  {
   "cell_type": "code",
   "execution_count": 5,
   "id": "2a7c44b5",
   "metadata": {},
   "outputs": [
    {
     "name": "stdout",
     "output_type": "stream",
     "text": [
      "You are a helpful assistant for\n",
      "customers of an e-commerce website.\n",
      "You will give them a suggestion on what to do,\n",
      "based on their profile and pattern of usage so far.\n",
      "The customer information is summarized by the following values:\n",
      "\n",
      "> Customer age:               55\n",
      "> Number of purchases so far: 12\n",
      "> Site visits (per month):    0.17000000178813934\n",
      "> Active cart now? (1 = yes): 0\n",
      "\n",
      "USER QUESTION: How do I remove an item from the cart?\n",
      "\n",
      "YOUR SUGGESTION: \n"
     ]
    }
   ],
   "source": [
    "print(ecommerceTemplate.format(\n",
    "    user_name='marilyn', user_question='How do I remove an item from the cart?'\n",
    "))"
   ]
  },
  {
   "cell_type": "markdown",
   "id": "493b616e-6075-430a-aefe-71cdd1f8ca64",
   "metadata": {},
   "source": [
    "### Null values\n",
    "\n",
    "By default, features that are not found will result in a literal `None` value:"
   ]
  },
  {
   "cell_type": "code",
   "execution_count": 6,
   "id": "05488430-6674-43e3-b3af-820f47c2489b",
   "metadata": {},
   "outputs": [
    {
     "name": "stdout",
     "output_type": "stream",
     "text": [
      "You are a helpful assistant for\n",
      "customers of an e-commerce website.\n",
      "You will give them a suggestion on what to do,\n",
      "based on their profile and pattern of usage so far.\n",
      "The customer information is summarized by the following values:\n",
      "\n",
      "> Customer age:               None\n",
      "> Number of purchases so far: None\n",
      "> Site visits (per month):    None\n",
      "> Active cart now? (1 = yes): None\n",
      "\n",
      "USER QUESTION: How do I remove an item from the cart?\n",
      "\n",
      "YOUR SUGGESTION: \n"
     ]
    }
   ],
   "source": [
    "print(ecommerceTemplate.format(\n",
    "    user_name='rachel', user_question='How do I remove an item from the cart?'\n",
    "))"
   ]
  },
  {
   "cell_type": "markdown",
   "id": "38144765-4d02-4e9f-86b7-0c91206c16d0",
   "metadata": {},
   "source": [
    "You can choose to raise an error if a null feature is encountered with `admit_nulls=False`:"
   ]
  },
  {
   "cell_type": "code",
   "execution_count": 7,
   "id": "d6f984dc-4c13-49a9-9976-2e1bc34de3a2",
   "metadata": {},
   "outputs": [
    {
     "name": "stdout",
     "output_type": "stream",
     "text": [
      "Exception => Null feature value found for \"user_data:purchases\"\n"
     ]
    }
   ],
   "source": [
    "fussyTemplate = FeastReaderPromptTemplate(\n",
    "    feature_store=store,\n",
    "    template=\"Question: {user_question}, purchases: {purchases}\",\n",
    "    input_variables=[\"user_question\"],\n",
    "    field_mapper={\n",
    "        'purchases': ('user_data', 'purchases'),\n",
    "    },\n",
    "    admit_nulls=False,\n",
    ")\n",
    "\n",
    "try:\n",
    "    # Note: we pick a user_name that is not found on the feature store\n",
    "    fussyTemplate.format(user_name=\"rachel\", user_question=\"Do I exist?\")\n",
    "except Exception as e:\n",
    "    print(f\"Exception => {str(e)}\")"
   ]
  },
  {
   "cell_type": "markdown",
   "id": "ba6aeca5-40e8-4846-8a35-3ae284f8cf50",
   "metadata": {},
   "source": [
    "Alternatively, you can specify _per-variable_ whether nulls are admitted, and even provide a default value for that case:"
   ]
  },
  {
   "cell_type": "code",
   "execution_count": 8,
   "id": "2979c8e0-fe2f-49b5-8388-0e30840902c0",
   "metadata": {},
   "outputs": [
    {
     "data": {
      "text/plain": [
       "'Question: Do I exist?, purchases: None. visits: (no visits).'"
      ]
     },
     "execution_count": 8,
     "metadata": {},
     "output_type": "execute_result"
    }
   ],
   "source": [
    "fussyTemplate = FeastReaderPromptTemplate(\n",
    "    feature_store=store,\n",
    "    template=\"Question: {user_question}, purchases: {purchases}. visits: {visit_frequency}.\",\n",
    "    input_variables=[\"user_question\"],\n",
    "    field_mapper={\n",
    "        'purchases': ('user_data', 'purchases', True),\n",
    "        'visit_frequency': ('user_data', 'visit_frequency', True, \"(no visits)\"),\n",
    "    },\n",
    "    admit_nulls=False,  # this will be overridden per-variable if provided above\n",
    ")\n",
    "\n",
    "fussyTemplate.format(user_name=\"rachel\", user_question=\"Do I exist?\")"
   ]
  },
  {
   "cell_type": "markdown",
   "id": "1020ff8e",
   "metadata": {},
   "source": [
    "### Partialing the template\n",
    "\n",
    "In some cases you want to \"pin\" some of the input variables for a prompt template, getting a partially-ready object that you will later `format` by passing the remaining input parameters. Feast prompt templates let you do that (regardless whether by partialing on the Feast-bound or the regular inputs):"
   ]
  },
  {
   "cell_type": "code",
   "execution_count": 9,
   "id": "f14f201a",
   "metadata": {},
   "outputs": [
    {
     "name": "stdout",
     "output_type": "stream",
     "text": [
      "You are a helpful assistant for\n",
      "customers of an e-commerce website.\n",
      "You will give them a suggestion on what to do,\n",
      "based on their profile and pattern of usage so far.\n",
      "The customer information is summarized by the following values:\n",
      "\n",
      "> Customer age:               21\n",
      "> Number of purchases so far: 323\n",
      "> Site visits (per month):    8.59000015258789\n",
      "> Active cart now? (1 = yes): 1\n",
      "\n",
      "USER QUESTION: When is the next special offer?\n",
      "\n",
      "YOUR SUGGESTION: \n"
     ]
    }
   ],
   "source": [
    "eCommPartial = ecommerceTemplate.partial(user_name='rodolfo')\n",
    "print(eCommPartial.format(user_question='When is the next special offer?'))"
   ]
  },
  {
   "cell_type": "code",
   "execution_count": 10,
   "id": "6ec27399-691e-435e-a76c-2674f45a0b7e",
   "metadata": {},
   "outputs": [
    {
     "name": "stdout",
     "output_type": "stream",
     "text": [
      "You are a helpful assistant for\n",
      "customers of an e-commerce website.\n",
      "You will give them a suggestion on what to do,\n",
      "based on their profile and pattern of usage so far.\n",
      "The customer information is summarized by the following values:\n",
      "\n",
      "> Customer age:               21\n",
      "> Number of purchases so far: 323\n",
      "> Site visits (per month):    8.59000015258789\n",
      "> Active cart now? (1 = yes): 1\n",
      "\n",
      "USER QUESTION: When is the next special offer?\n",
      "\n",
      "YOUR SUGGESTION: \n"
     ]
    }
   ],
   "source": [
    "eCommPartial2 = ecommerceTemplate.partial(user_question='When is the next special offer?')\n",
    "print(eCommPartial2.format(user_name='rodolfo'))"
   ]
  }
 ],
 "metadata": {
  "kernelspec": {
   "display_name": "Python 3 (ipykernel)",
   "language": "python",
   "name": "python3"
  },
  "language_info": {
   "codemirror_mode": {
    "name": "ipython",
    "version": 3
   },
   "file_extension": ".py",
   "mimetype": "text/x-python",
   "name": "python",
   "nbconvert_exporter": "python",
   "pygments_lexer": "ipython3"
  }
 },
 "nbformat": 4,
 "nbformat_minor": 5
}
