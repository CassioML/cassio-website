{
 "cells": [
  {
   "cell_type": "markdown",
   "metadata": {},
   "source": [
    "# Chat Prompt Templates"
   ]
  },
  {
   "cell_type": "markdown",
   "metadata": {},
   "source": [
    "The Cassandra-specific approach can be seamlessly integrated\n",
    "with LangChain's \"chat prompt templates\"."
   ]
  },
  {
   "cell_type": "code",
   "execution_count": 1,
   "metadata": {},
   "outputs": [],
   "source": [
    "from langchain.prompts import createCassandraPromptTemplate"
   ]
  },
  {
   "cell_type": "code",
   "execution_count": 2,
   "metadata": {},
   "outputs": [],
   "source": [
    "from cqlsession import getCQLSession, getCQLKeyspace\n",
    "astraSession = getCQLSession()\n",
    "astraKeyspace = getCQLKeyspace()"
   ]
  },
  {
   "cell_type": "markdown",
   "metadata": {},
   "source": [
    "This is the prompt for a single message in the chat sequence.\n",
    "\n",
    "We create it similarly as for a \"stand-alone Cassandra prompt template\"."
   ]
  },
  {
   "cell_type": "code",
   "execution_count": 3,
   "metadata": {},
   "outputs": [],
   "source": [
    "systemTemplate = \"\"\"\n",
    "You are a chat assistant, helping a user of age {user_age} from a city\n",
    "they refer to as {city_nickname}.\n",
    "\"\"\""
   ]
  },
  {
   "cell_type": "code",
   "execution_count": 4,
   "metadata": {},
   "outputs": [],
   "source": [
    "cassSystemPrompt = createCassandraPromptTemplate(\n",
    "    session=astraSession,\n",
    "    keyspace=astraKeyspace,\n",
    "    template=systemTemplate,\n",
    "    input_variables=['city', 'name'],\n",
    "    field_mapper={\n",
    "        'user_age': ('people', 'age'),\n",
    "        'city_nickname': ('nickname_by_city', 'nickname'),\n",
    "    },\n",
    ")"
   ]
  },
  {
   "cell_type": "code",
   "execution_count": 5,
   "metadata": {},
   "outputs": [],
   "source": [
    "from langchain.prompts import (\n",
    "    ChatPromptTemplate,\n",
    "    SystemMessagePromptTemplate,\n",
    "    HumanMessagePromptTemplate,\n",
    ")\n",
    "systemMessagePrompt = SystemMessagePromptTemplate(prompt=cassSystemPrompt)"
   ]
  },
  {
   "cell_type": "markdown",
   "metadata": {},
   "source": [
    "## A sequence of messages\n",
    "\n",
    "Once we wrapped a single prompt template as a \"system message prompt\", let's make it part of a longer chat conversation:"
   ]
  },
  {
   "cell_type": "code",
   "execution_count": 6,
   "metadata": {},
   "outputs": [],
   "source": [
    "humanTemplate = \"{text}\"\n",
    "humanMessagePrompt = HumanMessagePromptTemplate.from_template(humanTemplate)"
   ]
  },
  {
   "cell_type": "code",
   "execution_count": 7,
   "metadata": {},
   "outputs": [],
   "source": [
    "cassChatPrompt = ChatPromptTemplate.from_messages(\n",
    "    [systemMessagePrompt, humanMessagePrompt]\n",
    ")"
   ]
  },
  {
   "cell_type": "markdown",
   "metadata": {},
   "source": [
    "### Rendering\n",
    "\n",
    "LangChain takes care of correctly propagating the rendering steps throughout the sequence of messages, including the Cassandra-backed template:"
   ]
  },
  {
   "cell_type": "code",
   "execution_count": 8,
   "metadata": {},
   "outputs": [
    {
     "name": "stdout",
     "output_type": "stream",
     "text": [
      "System: \n",
      "You are a chat assistant, helping a user of age 2 from a city\n",
      "they refer to as CereaNeh.\n",
      "\n",
      "Human: Assistant, please help me!\n"
     ]
    }
   ],
   "source": [
    "print(cassChatPrompt.format_prompt(\n",
    "    city='turin',\n",
    "    name='beppe',\n",
    "    text='Assistant, please help me!'\n",
    ").to_string())"
   ]
  }
 ],
 "metadata": {
  "kernelspec": {
   "display_name": "Python 3 (ipykernel)",
   "language": "python",
   "name": "python3"
  },
  "language_info": {
   "codemirror_mode": {
    "name": "ipython",
    "version": 3
   },
   "file_extension": ".py",
   "mimetype": "text/x-python",
   "name": "python",
   "nbconvert_exporter": "python",
   "pygments_lexer": "ipython3"
  }
 },
 "nbformat": 4,
 "nbformat_minor": 5
}
