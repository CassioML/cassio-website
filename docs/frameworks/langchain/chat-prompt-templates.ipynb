{
 "cells": [
  {
   "cell_type": "markdown",
   "id": "ebeadaea",
   "metadata": {},
   "source": [
    "# Chat Prompt Templates"
   ]
  },
  {
   "cell_type": "markdown",
   "id": "261d9e6a",
   "metadata": {},
   "source": [
    "The Cassandra-specific approach can be seamlessly integrated\n",
    "with LangChain's \"chat prompt templates\"."
   ]
  },
  {
   "cell_type": "code",
   "execution_count": 1,
   "id": "cf853de8",
   "metadata": {},
   "outputs": [],
   "source": [
    "from langchain.prompts import createCassandraPromptTemplate"
   ]
  },
  {
   "cell_type": "code",
   "execution_count": 2,
   "id": "dbe53e67",
   "metadata": {},
   "outputs": [],
   "source": [
    "from cqlsession import getCQLSession, getCQLKeyspace\n",
    "cqlMode = 'astra_db' # 'astra_db'/'local'\n",
    "session = getCQLSession(mode=cqlMode)\n",
    "keyspace = getCQLKeyspace(mode=cqlMode)"
   ]
  },
  {
   "cell_type": "markdown",
   "id": "ddfcef20",
   "metadata": {},
   "source": [
    "This is the prompt for a single message in the chat sequence.\n",
    "\n",
    "We create it similarly as for a \"stand-alone Cassandra prompt template\"."
   ]
  },
  {
   "cell_type": "code",
   "execution_count": 3,
   "id": "a564336c",
   "metadata": {},
   "outputs": [],
   "source": [
    "systemTemplate = \"\"\"\n",
    "You are a chat assistant, helping a user of age {user_age} from a city\n",
    "they refer to as {city_nickname}.\n",
    "\"\"\""
   ]
  },
  {
   "cell_type": "code",
   "execution_count": 4,
   "id": "0e3df3ab",
   "metadata": {},
   "outputs": [],
   "source": [
    "cassSystemPrompt = createCassandraPromptTemplate(\n",
    "    session=session,\n",
    "    keyspace=keyspace,\n",
    "    template=systemTemplate,\n",
    "    input_variables=['city', 'name'],\n",
    "    field_mapper={\n",
    "        'user_age': ('people', 'age'),\n",
    "        'city_nickname': ('nickname_by_city', 'nickname'),\n",
    "    },\n",
    ")"
   ]
  },
  {
   "cell_type": "code",
   "execution_count": 5,
   "id": "4cc79f09",
   "metadata": {},
   "outputs": [],
   "source": [
    "from langchain.prompts import (\n",
    "    ChatPromptTemplate,\n",
    "    SystemMessagePromptTemplate,\n",
    "    HumanMessagePromptTemplate,\n",
    ")\n",
    "systemMessagePrompt = SystemMessagePromptTemplate(prompt=cassSystemPrompt)"
   ]
  },
  {
   "cell_type": "markdown",
   "id": "4c3f9d13",
   "metadata": {},
   "source": [
    "## A sequence of messages\n",
    "\n",
    "Once we wrapped a single prompt template as a \"system message prompt\", let's make it part of a longer chat conversation:"
   ]
  },
  {
   "cell_type": "code",
   "execution_count": 6,
   "id": "207b0b3a",
   "metadata": {},
   "outputs": [],
   "source": [
    "humanTemplate = \"{text}\"\n",
    "humanMessagePrompt = HumanMessagePromptTemplate.from_template(humanTemplate)"
   ]
  },
  {
   "cell_type": "code",
   "execution_count": 7,
   "id": "2a81d860",
   "metadata": {},
   "outputs": [],
   "source": [
    "cassChatPrompt = ChatPromptTemplate.from_messages(\n",
    "    [systemMessagePrompt, humanMessagePrompt]\n",
    ")"
   ]
  },
  {
   "cell_type": "markdown",
   "id": "97aff665",
   "metadata": {},
   "source": [
    "### Rendering\n",
    "\n",
    "LangChain takes care of correctly propagating the rendering steps throughout the sequence of messages, including the Cassandra-backed template:"
   ]
  },
  {
   "cell_type": "code",
   "execution_count": 8,
   "id": "6f1558fc",
   "metadata": {},
   "outputs": [
    {
     "name": "stdout",
     "output_type": "stream",
     "text": [
      "System: \n",
      "You are a chat assistant, helping a user of age 2 from a city\n",
      "they refer to as CereaNeh.\n",
      "\n",
      "Human: Assistant, please help me!\n"
     ]
    }
   ],
   "source": [
    "print(cassChatPrompt.format_prompt(\n",
    "    city='turin',\n",
    "    name='beppe',\n",
    "    text='Assistant, please help me!'\n",
    ").to_string())"
   ]
  }
 ],
 "metadata": {
  "kernelspec": {
   "display_name": "Python 3 (ipykernel)",
   "language": "python",
   "name": "python3"
  },
  "language_info": {
   "codemirror_mode": {
    "name": "ipython",
    "version": 3
   },
   "file_extension": ".py",
   "mimetype": "text/x-python",
   "name": "python",
   "nbconvert_exporter": "python",
   "pygments_lexer": "ipython3"
  }
 },
 "nbformat": 4,
 "nbformat_minor": 5
}
