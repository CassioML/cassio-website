{
 "cells": [
  {
   "cell_type": "markdown",
   "id": "ea646e8a",
   "metadata": {},
   "source": [
    "# Prompt Templates, intro"
   ]
  },
  {
   "cell_type": "markdown",
   "id": "d7020b71",
   "metadata": {},
   "source": [
    "CassIO powers a sophisticated set of bindings to seamlessly inject data\n",
    "from Cassandra tables into your LangChain prompt templates."
   ]
  },
  {
   "cell_type": "markdown",
   "id": "4a07bef0",
   "metadata": {},
   "source": [
    "## Basic usage"
   ]
  },
  {
   "cell_type": "code",
   "execution_count": 1,
   "id": "18ec4113",
   "metadata": {},
   "outputs": [],
   "source": [
    "from langchain.prompts import createCassandraPromptTemplate"
   ]
  },
  {
   "cell_type": "markdown",
   "id": "8a4a17c8",
   "metadata": {},
   "source": [
    "This cell simply obtains a `Session` object, i.e. an active connection to your database. Replace with custom code if you are not using Astra DB."
   ]
  },
  {
   "cell_type": "code",
   "execution_count": 2,
   "id": "bb9736ba",
   "metadata": {},
   "outputs": [
    {
     "name": "stderr",
     "output_type": "stream",
     "text": [
      "/home/stefano/.virtualenvs/langchain-cassio-3.10/lib/python3.10/site-packages/cassandra/io/asyncorereactor.py:34: DeprecationWarning: The asyncore module is deprecated and will be removed in Python 3.12. The recommended replacement is asyncio\n",
      "  import asyncore\n",
      "/home/stefano/.virtualenvs/langchain-cassio-3.10/lib/python3.10/site-packages/cassandra/datastax/cloud/__init__.py:173: DeprecationWarning: ssl.PROTOCOL_TLS is deprecated\n",
      "  ssl_context = SSLContext(PROTOCOL_TLS)\n",
      "/home/stefano/.virtualenvs/langchain-cassio-3.10/lib/python3.10/site-packages/cassandra/io/asyncorereactor.py:347: DeprecationWarning: ssl.match_hostname() is deprecated\n",
      "  self._connect_socket()\n"
     ]
    }
   ],
   "source": [
    "from cqlsession import getCQLSession, getCQLKeyspace\n",
    "astraSession = getCQLSession()\n",
    "astraKeyspace = getCQLKeyspace()"
   ]
  },
  {
   "cell_type": "code",
   "execution_count": 3,
   "id": "0c9904ab",
   "metadata": {},
   "outputs": [],
   "source": [
    "ctemplate0 = \"\"\"Please answer a question from a user.\n",
    "Keep in mind that the user's age is {user_age} and they live in a city with\n",
    "nickname {city_nickname}.\n",
    "\n",
    "USER'S QUESTION: {user_question}\n",
    "YOUR ANSWER:\n",
    "\"\"\""
   ]
  },
  {
   "cell_type": "markdown",
   "id": "7d2da309",
   "metadata": {},
   "source": [
    "### Natural binding with the DB\n",
    "\n",
    "In the (string) template above, some variables are to be filled with a DB lookup.\n",
    "\n",
    "The following instructions specifies the details of the binding: for instance,\n",
    "the variable `user_age` is to be found on table `people`, specifically in column `age`:"
   ]
  },
  {
   "cell_type": "code",
   "execution_count": 4,
   "id": "7d125e28",
   "metadata": {},
   "outputs": [],
   "source": [
    "cassPrompt = createCassandraPromptTemplate(\n",
    "    session=astraSession,\n",
    "    keyspace=astraKeyspace,\n",
    "    template=ctemplate0,\n",
    "    input_variables=['city', 'name', 'user_question'],\n",
    "    field_mapper={\n",
    "        'user_age': ('people', 'age'),\n",
    "        'city_nickname': ('nickname_by_city', 'nickname'),\n",
    "    },\n",
    ")"
   ]
  },
  {
   "cell_type": "markdown",
   "id": "68ebd974",
   "metadata": {},
   "source": [
    "**Note** that in the command above we specify the _primary key columns_ as `input_variables`, and not the variable names found in the prompt string above."
   ]
  },
  {
   "cell_type": "markdown",
   "id": "b8e01412",
   "metadata": {},
   "source": [
    "When formatting the Prompt Template, we will have to specify the primary key values\n",
    "for the DB lookup -- the rest is done by the prompt template.\n",
    "\n",
    "In this case there are two lookups from as many tables: the prompt template\n",
    "takes care of everything, provided you pass all the primary key columns required\n",
    "across tables."
   ]
  },
  {
   "cell_type": "code",
   "execution_count": 5,
   "id": "5b5ad39a",
   "metadata": {},
   "outputs": [
    {
     "name": "stdout",
     "output_type": "stream",
     "text": [
      "Please answer a question from a user.\n",
      "Keep in mind that the user's age is 2 and they live in a city with\n",
      "nickname CereaNeh.\n",
      "\n",
      "USER'S QUESTION: Is functional programming fun?\n",
      "YOUR ANSWER:\n",
      "\n"
     ]
    }
   ],
   "source": [
    "print(cassPrompt.format(city='turin', name='beppe',\n",
    "                        user_question='Is functional programming fun?'))"
   ]
  }
 ],
 "metadata": {
  "kernelspec": {
   "display_name": "Python 3 (ipykernel)",
   "language": "python",
   "name": "python3"
  },
  "language_info": {
   "codemirror_mode": {
    "name": "ipython",
    "version": 3
   },
   "file_extension": ".py",
   "mimetype": "text/x-python",
   "name": "python",
   "nbconvert_exporter": "python",
   "pygments_lexer": "ipython3",
   "version": "3.10.11"
  }
 },
 "nbformat": 4,
 "nbformat_minor": 5
}
