{
 "cells": [
  {
   "cell_type": "markdown",
   "metadata": {},
   "source": [
    "# Prompt Templates, intro"
   ]
  },
  {
   "cell_type": "markdown",
   "metadata": {},
   "source": [
    "CassIO powers a sophisticated set of bindings to seamlessly inject data\n",
    "from Cassandra tables into your LangChain prompt templates."
   ]
  },
  {
   "cell_type": "markdown",
   "metadata": {},
   "source": [
    "## Basic usage"
   ]
  },
  {
   "cell_type": "code",
   "execution_count": 1,
   "metadata": {},
   "outputs": [],
   "source": [
    "from langchain.prompts import createCassandraPromptTemplate"
   ]
  },
  {
   "cell_type": "markdown",
   "metadata": {},
   "source": [
    "This cell simply obtains a `Session` object, i.e. an active connection to your database. Replace with custom code if you are not using Astra DB."
   ]
  },
  {
   "cell_type": "code",
   "execution_count": 2,
   "metadata": {},
   "outputs": [],
   "source": [
    "from cqlsession import getCQLSession, getCQLKeyspace\n",
    "astraSession = getCQLSession()\n",
    "astraKeyspace = getCQLKeyspace()"
   ]
  },
  {
   "cell_type": "code",
   "execution_count": 3,
   "metadata": {},
   "outputs": [],
   "source": [
    "ctemplate0 = \"\"\"Please answer a question from a user.\n",
    "Keep in mind that the user's age is {user_age} and they live in a city with\n",
    "nickname {city_nickname}.\n",
    "\n",
    "USER'S QUESTION: {user_question}\n",
    "YOUR ANSWER:\n",
    "\"\"\""
   ]
  },
  {
   "cell_type": "markdown",
   "metadata": {},
   "source": [
    "### Natural binding with the DB\n",
    "\n",
    "In the (string) template above, some variables are to be filled with a DB lookup.\n",
    "\n",
    "The following instructions specifies the details of the binding: for instance,\n",
    "the variable `user_age` is to be found on table `people`, specifically in column `age`:"
   ]
  },
  {
   "cell_type": "code",
   "execution_count": 4,
   "metadata": {},
   "outputs": [],
   "source": [
    "cassPrompt = createCassandraPromptTemplate(\n",
    "    session=astraSession,\n",
    "    keyspace=astraKeyspace,\n",
    "    template=ctemplate0,\n",
    "    input_variables=['city', 'name', 'user_question'],\n",
    "    field_mapper={\n",
    "        'user_age': ('people', 'age'),\n",
    "        'city_nickname': ('nickname_by_city', 'nickname'),\n",
    "    },\n",
    ")"
   ]
  },
  {
   "cell_type": "markdown",
   "metadata": {},
   "source": [
    "**Note** that in the command above we specify the _primary key columns_ as `input_variables`, and not the variable names found in the prompt string above."
   ]
  },
  {
   "cell_type": "markdown",
   "metadata": {},
   "source": [
    "When formatting the Prompt Template, we will have to specify the primary key values\n",
    "for the DB lookup -- the rest is done by the prompt template.\n",
    "\n",
    "In this case there are two lookups from as many tables: the prompt template\n",
    "takes care of everything, provided you pass all the primary key columns required\n",
    "across tables."
   ]
  },
  {
   "cell_type": "code",
   "execution_count": 5,
   "metadata": {},
   "outputs": [
    {
     "name": "stdout",
     "output_type": "stream",
     "text": [
      "Please answer a question from a user.\n",
      "Keep in mind that the user's age is 2 and they live in a city with\n",
      "nickname CereaNeh.\n",
      "\n",
      "USER'S QUESTION: Is functional programming fun?\n",
      "YOUR ANSWER:\n",
      "\n"
     ]
    }
   ],
   "source": [
    "print(cassPrompt.format(city='turin', name='beppe',\n",
    "                        user_question='Is functional programming fun?'))"
   ]
  }
 ],
 "metadata": {
  "kernelspec": {
   "display_name": "Python 3 (ipykernel)",
   "language": "python",
   "name": "python3"
  },
  "language_info": {
   "codemirror_mode": {
    "name": "ipython",
    "version": 3
   },
   "file_extension": ".py",
   "mimetype": "text/x-python",
   "name": "python",
   "nbconvert_exporter": "python",
   "pygments_lexer": "ipython3"
  }
 },
 "nbformat": 4,
 "nbformat_minor": 5
}
