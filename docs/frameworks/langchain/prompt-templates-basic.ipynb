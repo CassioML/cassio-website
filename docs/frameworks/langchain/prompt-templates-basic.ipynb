{
 "cells": [
  {
   "cell_type": "markdown",
   "id": "3f5c5368",
   "metadata": {},
   "source": [
    "# Prompt Templates, intro"
   ]
  },
  {
   "cell_type": "markdown",
   "id": "871486f5",
   "metadata": {},
   "source": [
    "CassIO powers a sophisticated set of bindings to seamlessly inject data\n",
    "from Cassandra tables into your LangChain prompt templates."
   ]
  },
  {
   "cell_type": "markdown",
   "id": "c0763b09",
   "metadata": {},
   "source": [
    "## Basic usage"
   ]
  },
  {
   "cell_type": "code",
   "execution_count": 1,
   "id": "a61e4821",
   "metadata": {},
   "outputs": [],
   "source": [
    "from langchain.prompts.database import CassandraReaderPromptTemplate"
   ]
  },
  {
   "cell_type": "markdown",
   "id": "f764f2e2",
   "metadata": {},
   "source": [
    "This cell simply obtains a `Session` object, i.e. an active connection to your database. Replace with custom code if you are not using Astra DB."
   ]
  },
  {
   "cell_type": "code",
   "execution_count": 2,
   "id": "a76ec6ea",
   "metadata": {},
   "outputs": [],
   "source": [
    "from cqlsession import getCQLSession, getCQLKeyspace\n",
    "cqlMode = 'astra_db' # 'astra_db'/'local'\n",
    "session = getCQLSession(mode=cqlMode)\n",
    "keyspace = getCQLKeyspace(mode=cqlMode)"
   ]
  },
  {
   "cell_type": "code",
   "execution_count": 3,
   "id": "657cd948",
   "metadata": {},
   "outputs": [],
   "source": [
    "ctemplate0 = \"\"\"Please answer a question from a user.\n",
    "Keep in mind that the user's age is {user_age} and they live in a city with\n",
    "nickname {city_nickname}.\n",
    "\n",
    "USER'S QUESTION: {user_question}\n",
    "YOUR ANSWER:\n",
    "\"\"\""
   ]
  },
  {
   "cell_type": "markdown",
   "id": "547a4105",
   "metadata": {},
   "source": [
    "### Natural binding with the DB\n",
    "\n",
    "In the (string) template above, some variables are to be filled with a DB lookup.\n",
    "\n",
    "The following instructions specifies the details of the binding: for instance,\n",
    "the variable `user_age` is to be found on table `people`, specifically in column `age`:"
   ]
  },
  {
   "cell_type": "code",
   "execution_count": 4,
   "id": "1ef22db8",
   "metadata": {},
   "outputs": [],
   "source": [
    "cassPrompt = CassandraReaderPromptTemplate(\n",
    "    session=session,\n",
    "    keyspace=keyspace,\n",
    "    field_mapper={\n",
    "        'user_age': ('people', 'age'),\n",
    "        'city_nickname': ('nickname_by_city', 'nickname'),\n",
    "    },\n",
    "    template=ctemplate0,\n",
    "    input_variables=[\"user_question\"],\n",
    "    # admit_nulls=False,\n",
    ")"
   ]
  },
  {
   "cell_type": "markdown",
   "id": "e188d25b",
   "metadata": {},
   "source": [
    "**Note** that in the command above we specify the _primary key columns_ as `input_variables`, and not the variable names found in the prompt string above."
   ]
  },
  {
   "cell_type": "markdown",
   "id": "9d954f71",
   "metadata": {},
   "source": [
    "When formatting the Prompt Template, we will have to specify the primary key values\n",
    "for the DB lookup -- the rest is done by the prompt template.\n",
    "\n",
    "In this case there are two lookups from as many tables: the prompt template\n",
    "takes care of everything, provided you pass all the primary key columns required\n",
    "across tables.\n",
    "\n",
    "Note: this operation essentially is a _client-side join_ (a common pattern with Cassandra)."
   ]
  },
  {
   "cell_type": "code",
   "execution_count": 5,
   "id": "584efc7c",
   "metadata": {},
   "outputs": [
    {
     "name": "stdout",
     "output_type": "stream",
     "text": [
      "Please answer a question from a user.\n",
      "Keep in mind that the user's age is 2 and they live in a city with\n",
      "nickname CereaNeh.\n",
      "\n",
      "USER'S QUESTION: Is functional programming fun?\n",
      "YOUR ANSWER:\n",
      "\n"
     ]
    }
   ],
   "source": [
    "print(cassPrompt.format(city='turin', name='beppe',\n",
    "                        user_question='Is functional programming fun?'))"
   ]
  },
  {
   "cell_type": "markdown",
   "id": "83ba64c4-6aad-4e98-85ab-37bb34e7802f",
   "metadata": {},
   "source": [
    "#### Arbitrary row functions\n",
    "\n",
    "You can specify an arbitrary function to transform the database row into the returned field. The function gets a `{column_name: value}` dictionary expressing the row and returns the value for the prompt template:"
   ]
  },
  {
   "cell_type": "code",
   "execution_count": 9,
   "id": "9128d438-55ad-4402-9d2a-07b234912933",
   "metadata": {},
   "outputs": [
    {
     "name": "stdout",
     "output_type": "stream",
     "text": [
      "Please answer a question from a user.\n",
      "Keep in mind that the user's age is 10014 and they live in a city with\n",
      "nickname Taaac (i.e. milan).\n",
      "\n",
      "USER'S QUESTION: Is there a square circle?\n",
      "YOUR ANSWER:\n",
      "\n"
     ]
    }
   ],
   "source": [
    "def nicknamer(row_dict):\n",
    "    return f\"{row_dict['nickname']} (i.e. {row_dict['city']})\"\n",
    "\n",
    "field_mapper_f = {\n",
    "    'user_age': ('people', lambda row_dict: row_dict['age'] + 10000),\n",
    "    'city_nickname': ('nickname_by_city', nicknamer),\n",
    "}\n",
    "\n",
    "cassPromptF = CassandraReaderPromptTemplate(\n",
    "    session=session,\n",
    "    keyspace=keyspace,\n",
    "    field_mapper=field_mapper_f,\n",
    "    template=ctemplate0,\n",
    "    input_variables=[\"user_question\"],\n",
    ")\n",
    "\n",
    "print(cassPromptF.format(city='milan', name='samanta',\n",
    "                        user_question='Is there a square circle?'))"
   ]
  },
  {
   "cell_type": "markdown",
   "id": "2a2247ed-85e7-4bb7-abb0-9097c6922ade",
   "metadata": {},
   "source": [
    "#### Null and missing values\n",
    "\n",
    "You can control how the prompt template should behave when a `None` value is encountered or even when a table has no rows altogether for a given primary key.\n",
    "\n",
    "First, you can pass a boolean parameter `admit_nulls` to the prompt template.\n",
    "\n",
    "Second, you can use the full four-element tuple format for the entries in the \"field mapper\". This would be `(table_name, column_name_or_function, admit_nulls, default_value)` (whose `admit_nulls` will override the overall default)."
   ]
  },
  {
   "cell_type": "code",
   "execution_count": 17,
   "id": "a1e83cec-31e4-4120-85d0-45cf7d829379",
   "metadata": {},
   "outputs": [
    {
     "name": "stdout",
     "output_type": "stream",
     "text": [
      "Please answer a question from a user.\n",
      "Keep in mind that the user's age is 144 and they live in a city with\n",
      "nickname (no nickname).\n",
      "\n",
      "USER'S QUESTION: What are we having for lunch?\n",
      "YOUR ANSWER:\n",
      "\n"
     ]
    }
   ],
   "source": [
    "field_mapper_n = {\n",
    "    'user_age': ('people', 'age'),\n",
    "    'city_nickname': ('nickname_by_city', 'nickname', True, '(no nickname)'),\n",
    "}\n",
    "\n",
    "cassPromptN = CassandraReaderPromptTemplate(\n",
    "    session=session,\n",
    "    keyspace=keyspace,\n",
    "    field_mapper=field_mapper_n,\n",
    "    template=ctemplate0,\n",
    "    input_variables=[\"user_question\"],\n",
    "    admit_nulls=False,\n",
    ")\n",
    "\n",
    "# Note: there is no \"tokyo\" in the nicknames table\n",
    "print(cassPromptN.format(city='tokyo', name='hideo',\n",
    "                        user_question='What are we having for lunch?'))"
   ]
  },
  {
   "cell_type": "code",
   "execution_count": 20,
   "id": "8bfe002d-9362-4910-a62d-51e27b26ec9e",
   "metadata": {},
   "outputs": [
    {
     "name": "stdout",
     "output_type": "stream",
     "text": [
      "Exception => Null data found for user_age\n"
     ]
    }
   ],
   "source": [
    "try:\n",
    "    # Note: there are no rows with city='madrid' in the \"people\" table\n",
    "    print(cassPromptN.format(city='madrid', name='alberto',\n",
    "                             user_question='What are we having for lunch?'))\n",
    "except Exception as e:\n",
    "    print(f\"Exception => {str(e)}\")"
   ]
  }
 ],
 "metadata": {
  "kernelspec": {
   "display_name": "Python 3 (ipykernel)",
   "language": "python",
   "name": "python3"
  },
  "language_info": {
   "codemirror_mode": {
    "name": "ipython",
    "version": 3
   },
   "file_extension": ".py",
   "mimetype": "text/x-python",
   "name": "python",
   "nbconvert_exporter": "python",
   "pygments_lexer": "ipython3",
   "version": "3.10.12"
  }
 },
 "nbformat": 4,
 "nbformat_minor": 5
}
