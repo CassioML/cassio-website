{
 "cells": [
  {
   "cell_type": "markdown",
   "id": "4f13cfbd",
   "metadata": {},
   "source": [
    "# Memory, base class\n",
    "\n",
    "This implements the Cassandra-specific I/O facilities, and is then used by LangChain to power every other, more sophisticated, abstraction around keeping chat memory."
   ]
  },
  {
   "cell_type": "code",
   "execution_count": 1,
   "id": "b8262fd7",
   "metadata": {},
   "outputs": [],
   "source": [
    "from langchain.memory import CassandraChatMessageHistory"
   ]
  },
  {
   "cell_type": "code",
   "execution_count": 2,
   "id": "7bed1a81",
   "metadata": {},
   "outputs": [
    {
     "name": "stderr",
     "output_type": "stream",
     "text": [
      "/home/stefano/.virtualenvs/langchain-cassio-3.10/lib/python3.10/site-packages/cassandra/datastax/cloud/__init__.py:173: DeprecationWarning: ssl.PROTOCOL_TLS is deprecated\n",
      "  ssl_context = SSLContext(PROTOCOL_TLS)\n",
      "/home/stefano/.virtualenvs/langchain-cassio-3.10/lib/python3.10/site-packages/cassandra/io/asyncorereactor.py:347: DeprecationWarning: ssl.match_hostname() is deprecated\n",
      "  self._connect_socket()\n"
     ]
    }
   ],
   "source": [
    "from cqlsession import getCQLSession, getCQLKeyspace\n",
    "cqlMode = 'astra_db' # 'astra_db'/'local'\n",
    "session = getCQLSession(mode=cqlMode)\n",
    "keyspace = getCQLKeyspace(mode=cqlMode)"
   ]
  },
  {
   "cell_type": "markdown",
   "id": "a265f332",
   "metadata": {},
   "source": [
    "## Create the ChatMessageHistory"
   ]
  },
  {
   "cell_type": "code",
   "execution_count": 3,
   "id": "76b96e99",
   "metadata": {},
   "outputs": [],
   "source": [
    "message_history = CassandraChatMessageHistory(\n",
    "    session_id='test-session',\n",
    "    session=session,\n",
    "    keyspace=keyspace,\n",
    "    ttl_seconds = 3600,\n",
    ")\n",
    "message_history.clear()"
   ]
  },
  {
   "cell_type": "markdown",
   "id": "b496bd68",
   "metadata": {},
   "source": [
    "The memory starts empty:"
   ]
  },
  {
   "cell_type": "code",
   "execution_count": 4,
   "id": "53232420",
   "metadata": {},
   "outputs": [
    {
     "data": {
      "text/plain": [
       "[]"
      ]
     },
     "execution_count": 4,
     "metadata": {},
     "output_type": "execute_result"
    }
   ],
   "source": [
    "message_history.messages"
   ]
  },
  {
   "cell_type": "markdown",
   "id": "e4bc9a3d",
   "metadata": {},
   "source": [
    "## Insert and retrieve chat messages"
   ]
  },
  {
   "cell_type": "code",
   "execution_count": 5,
   "id": "7bf9eee2",
   "metadata": {},
   "outputs": [],
   "source": [
    "message_history.add_user_message('Hello, I am human.')"
   ]
  },
  {
   "cell_type": "code",
   "execution_count": 6,
   "id": "a08d6ce7",
   "metadata": {},
   "outputs": [],
   "source": [
    "message_history.add_ai_message('Hello, I am the bot.')"
   ]
  },
  {
   "cell_type": "code",
   "execution_count": 7,
   "id": "47713974",
   "metadata": {},
   "outputs": [
    {
     "data": {
      "text/plain": [
       "[HumanMessage(content='Hello, I am human.', additional_kwargs={}, example=False),\n",
       " AIMessage(content='Hello, I am the bot.', additional_kwargs={}, example=False)]"
      ]
     },
     "execution_count": 7,
     "metadata": {},
     "output_type": "execute_result"
    }
   ],
   "source": [
    "message_history.messages"
   ]
  },
  {
   "cell_type": "code",
   "execution_count": 8,
   "id": "cf049f51",
   "metadata": {},
   "outputs": [],
   "source": [
    "message_history.clear()"
   ]
  },
  {
   "cell_type": "code",
   "execution_count": 9,
   "id": "7b30f7c4",
   "metadata": {},
   "outputs": [
    {
     "data": {
      "text/plain": [
       "[]"
      ]
     },
     "execution_count": 9,
     "metadata": {},
     "output_type": "execute_result"
    }
   ],
   "source": [
    "message_history.messages"
   ]
  }
 ],
 "metadata": {
  "kernelspec": {
   "display_name": "Python 3 (ipykernel)",
   "language": "python",
   "name": "python3"
  },
  "language_info": {
   "codemirror_mode": {
    "name": "ipython",
    "version": 3
   },
   "file_extension": ".py",
   "mimetype": "text/x-python",
   "name": "python",
   "nbconvert_exporter": "python",
   "pygments_lexer": "ipython3",
   "version": "3.10.11"
  }
 },
 "nbformat": 4,
 "nbformat_minor": 5
}
