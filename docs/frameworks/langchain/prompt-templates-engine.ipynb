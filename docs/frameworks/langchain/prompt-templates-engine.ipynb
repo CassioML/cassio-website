{
 "cells": [
  {
   "cell_type": "markdown",
   "id": "cd270a2d",
   "metadata": {},
   "source": [
    "# Custom templates"
   ]
  },
  {
   "cell_type": "markdown",
   "id": "816b4fd0",
   "metadata": {},
   "source": [
    "\n",
    "Prompt templates that automatically bind to a database are built on top of a specialized kind of prompt template in LangChain called `DependencyfulPromptTemplate`. This kind of prompt has two abilities:\n",
    "\n",
    "1. it retain \"dependencies\" (such as a database connection) throughout its lifetime;\n",
    "2. it admits named arguments to the `format` method that will be routed to its own \"getter\" function, instead of directly replacing the placeholder variables in the prompt string."
   ]
  },
  {
   "cell_type": "markdown",
   "id": "1a81d857",
   "metadata": {},
   "source": [
    "The Cassandra-backed prompt template then builds a certain `DependencyfulPromptTemplate` bound to the Cassandra database in the right way. Thanks to metadata inspection, detailed knowledge about the DB schema is not provided explicitly when creating the prompt, as was shown earlier.\n",
    "\n",
    "As another example, the Feast template (shown in a later page) builds a different `DependencyfulPromptTemplate` which \"knows\" how to connect to Feast and retrieve the needed information to later fill the template string."
   ]
  },
  {
   "cell_type": "markdown",
   "id": "ff195bfc",
   "metadata": {},
   "source": [
    "### Customization"
   ]
  },
  {
   "cell_type": "markdown",
   "id": "8d0fbd6b",
   "metadata": {},
   "source": [
    "However, sometimes one may need to go beyond the ready-made templates and build a custom prompt. This page shows how this is done.\n",
    "\n",
    "Let's build a mock \"account balance checker\" that associates a current balance to each user (a key-value store), but it also keeps a counter of how many times a certain balance is accessed."
   ]
  },
  {
   "cell_type": "code",
   "execution_count": 1,
   "id": "49559385",
   "metadata": {},
   "outputs": [],
   "source": [
    "class Balancer():\n",
    "    def __init__(self, accounts):\n",
    "        self.accounts = accounts\n",
    "        self._accesses = {}\n",
    "        \n",
    "    def read(self, user):\n",
    "        if user in self.accounts:\n",
    "            self._accesses[user] = self._accesses.get(user, 0) + 1\n",
    "        return self.accounts[user]\n",
    "    \n",
    "    def accesses(self):\n",
    "        return self._accesses"
   ]
  },
  {
   "cell_type": "code",
   "execution_count": 2,
   "id": "06d5fff4",
   "metadata": {},
   "outputs": [
    {
     "name": "stdout",
     "output_type": "stream",
     "text": [
      "{'Rita': 2, 'Anna': 1}\n"
     ]
    }
   ],
   "source": [
    "bal0 = Balancer({'Rita': 100, 'Otto': 40, 'Anna': 150})\n",
    "bal0.read('Rita')\n",
    "bal0.read('Rita')\n",
    "bal0.read('Anna')\n",
    "print(bal0.accesses())"
   ]
  },
  {
   "cell_type": "markdown",
   "id": "ab08211d",
   "metadata": {},
   "source": [
    "Ok, now let's create another balancer for use in the template:"
   ]
  },
  {
   "cell_type": "code",
   "execution_count": 3,
   "id": "e025f6bf",
   "metadata": {},
   "outputs": [],
   "source": [
    "myBalance = Balancer({'Katie': 1000, 'Gil': 800, 'Hugh': 1200})"
   ]
  },
  {
   "cell_type": "markdown",
   "id": "cfcc026b",
   "metadata": {},
   "source": [
    "### Template creation"
   ]
  },
  {
   "cell_type": "markdown",
   "id": "fdb51cce",
   "metadata": {},
   "source": [
    "#### The template string"
   ]
  },
  {
   "cell_type": "code",
   "execution_count": 4,
   "id": "6b11ee73",
   "metadata": {},
   "outputs": [],
   "source": [
    "from langchain.prompts import PromptTemplate, StringPromptTemplate"
   ]
  },
  {
   "cell_type": "code",
   "execution_count": 5,
   "id": "0157ff93",
   "metadata": {},
   "outputs": [],
   "source": [
    "balancePrompt = (\"Hello. Your balance is {balance}. \"\n",
    "                 \"You have {unreads} unread message(s).\")"
   ]
  },
  {
   "cell_type": "markdown",
   "id": "eb0813ae",
   "metadata": {},
   "source": [
    "#### Dependencies\n",
    "\n",
    "This template will have a single dependency, the `Balancer` instance itself:"
   ]
  },
  {
   "cell_type": "code",
   "execution_count": 6,
   "id": "3a4c7d80",
   "metadata": {},
   "outputs": [],
   "source": [
    "dependencyDict = {'balancer': myBalance}"
   ]
  },
  {
   "cell_type": "markdown",
   "id": "bcdaa721",
   "metadata": {},
   "source": [
    "#### Getter\n",
    "\n",
    "We need a \"getter\" function, which will be called in the `format` method of the template and whose first argument is the dict of dependencies (in this case the `Balancer` instance), followed by any other keyword argument.\n",
    "\n",
    "The getter must return a dict with values for all variables in the above `PromptTemplate` that will be retrieved from the storage dependency, i.e. not supplied directly at `format` time:"
   ]
  },
  {
   "cell_type": "code",
   "execution_count": 7,
   "id": "5e72d8af",
   "metadata": {},
   "outputs": [],
   "source": [
    "def balanceGetter(deps, **kwargs):\n",
    "    userName = kwargs['user_name']\n",
    "    balancer = deps['balancer']\n",
    "    return {'balance': balancer.read(userName)}"
   ]
  },
  {
   "cell_type": "code",
   "execution_count": 8,
   "id": "88ff4a00",
   "metadata": {},
   "outputs": [],
   "source": [
    "from langchain.prompts import DependencyfulPromptTemplate\n",
    "\n",
    "myCustomTemplate = DependencyfulPromptTemplate(\n",
    "    template=balancePrompt,\n",
    "    dependencies=dependencyDict,\n",
    "    getter=balanceGetter,\n",
    "    input_variables=[\"user\", \"user_name\"],\n",
    "    forceGetterArguments=[\"user_name\"],\n",
    ")"
   ]
  },
  {
   "cell_type": "markdown",
   "id": "2d51f5f9",
   "metadata": {},
   "source": [
    "#### Rendering"
   ]
  },
  {
   "cell_type": "code",
   "execution_count": 9,
   "id": "e5a02d30",
   "metadata": {},
   "outputs": [
    {
     "data": {
      "text/plain": [
       "'Hello. Your balance is 800. You have 123 unread message(s).'"
      ]
     },
     "execution_count": 9,
     "metadata": {},
     "output_type": "execute_result"
    }
   ],
   "source": [
    "myCustomTemplate.format(user_name='Gil', unreads=123)"
   ]
  },
  {
   "cell_type": "code",
   "execution_count": 10,
   "id": "968eae97",
   "metadata": {},
   "outputs": [
    {
     "data": {
      "text/plain": [
       "'Hello. Your balance is 800. You have 456 unread message(s).'"
      ]
     },
     "execution_count": 10,
     "metadata": {},
     "output_type": "execute_result"
    }
   ],
   "source": [
    "myCustomTemplate.format(user_name='Gil', unreads=456)"
   ]
  },
  {
   "cell_type": "code",
   "execution_count": 11,
   "id": "e903d500",
   "metadata": {},
   "outputs": [
    {
     "data": {
      "text/plain": [
       "'Hello. Your balance is 1000. You have 789 unread message(s).'"
      ]
     },
     "execution_count": 11,
     "metadata": {},
     "output_type": "execute_result"
    }
   ],
   "source": [
    "myCustomTemplate.format(user_name='Katie', unreads=789)"
   ]
  },
  {
   "cell_type": "code",
   "execution_count": 12,
   "id": "c911d1a0",
   "metadata": {},
   "outputs": [
    {
     "data": {
      "text/plain": [
       "{'Gil': 2, 'Katie': 1}"
      ]
     },
     "execution_count": 12,
     "metadata": {},
     "output_type": "execute_result"
    }
   ],
   "source": [
    "myBalance.accesses()"
   ]
  }
 ],
 "metadata": {
  "kernelspec": {
   "display_name": "Python 3 (ipykernel)",
   "language": "python",
   "name": "python3"
  },
  "language_info": {
   "codemirror_mode": {
    "name": "ipython",
    "version": 3
   },
   "file_extension": ".py",
   "mimetype": "text/x-python",
   "name": "python",
   "nbconvert_exporter": "python",
   "pygments_lexer": "ipython3",
   "version": "3.10.11"
  }
 },
 "nbformat": 4,
 "nbformat_minor": 5
}
