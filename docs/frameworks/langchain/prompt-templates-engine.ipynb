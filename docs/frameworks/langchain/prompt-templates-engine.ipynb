{
 "cells": [
  {
   "cell_type": "markdown",
   "id": "a5b53931",
   "metadata": {},
   "source": [
    "# Custom templates"
   ]
  },
  {
   "cell_type": "markdown",
   "id": "523161ec",
   "metadata": {},
   "source": [
    "\n",
    "Prompt templates that automatically bind to a database are built on top of a specialized kind of prompt template in LangChain called `DependencyfulPromptTemplate`. This kind of prompt has two abilities:\n",
    "\n",
    "1. it retain \"dependencies\" (such as a database connection) throughout its lifetime;\n",
    "2. it admits named arguments to the `format` method that will be routed to its own \"getter\" function, instead of directly replacing the placeholder variables in the prompt string."
   ]
  },
  {
   "cell_type": "markdown",
   "id": "a67e6ed3",
   "metadata": {},
   "source": [
    "The Cassandra-backed prompt template then builds a certain `DependencyfulPromptTemplate` bound to the Cassandra database in the right way. Thanks to metadata inspection, detailed knowledge about the DB schema is not provided explicitly when creating the prompt, as was shown earlier.\n",
    "\n",
    "As another example, the Feast template (shown in a later page) builds a different `DependencyfulPromptTemplate` which \"knows\" how to connect to Feast and retrieve the needed information to later fill the template string."
   ]
  },
  {
   "cell_type": "markdown",
   "id": "e13b6698",
   "metadata": {},
   "source": [
    "### Customization"
   ]
  },
  {
   "cell_type": "markdown",
   "id": "bc0ab069",
   "metadata": {},
   "source": [
    "However, sometimes one may need to go beyond the ready-made templates and build a custom prompt. This page shows how this is done.\n",
    "\n",
    "Let's build a mock \"account balance checker\" that associates a current balance to each user (a key-value store), but it also keeps a counter of how many times a certain balance is accessed."
   ]
  },
  {
   "cell_type": "code",
   "execution_count": 1,
   "id": "c80de96a",
   "metadata": {},
   "outputs": [],
   "source": [
    "class Balancer():\n",
    "    def __init__(self, accounts):\n",
    "        self.accounts = accounts\n",
    "        self._accesses = {}\n",
    "        \n",
    "    def read(self, user):\n",
    "        if user in self.accounts:\n",
    "            self._accesses[user] = self._accesses.get(user, 0) + 1\n",
    "        return self.accounts[user]\n",
    "    \n",
    "    def accesses(self):\n",
    "        return self._accesses"
   ]
  },
  {
   "cell_type": "code",
   "execution_count": 2,
   "id": "cbc96c98",
   "metadata": {},
   "outputs": [
    {
     "name": "stdout",
     "output_type": "stream",
     "text": [
      "{'Rita': 2, 'Anna': 1}\n"
     ]
    }
   ],
   "source": [
    "bal0 = Balancer({'Rita': 100, 'Otto': 40, 'Anna': 150})\n",
    "bal0.read('Rita')\n",
    "bal0.read('Rita')\n",
    "bal0.read('Anna')\n",
    "print(bal0.accesses())"
   ]
  },
  {
   "cell_type": "markdown",
   "id": "89d572c9",
   "metadata": {},
   "source": [
    "Ok, now let's create another balancer for use in the template:"
   ]
  },
  {
   "cell_type": "code",
   "execution_count": 3,
   "id": "1a51d86c",
   "metadata": {},
   "outputs": [],
   "source": [
    "myBalance = Balancer({'Katie': 1000, 'Gil': 800, 'Hugh': 1200})"
   ]
  },
  {
   "cell_type": "markdown",
   "id": "de3cfdcd",
   "metadata": {},
   "source": [
    "### Template creation"
   ]
  },
  {
   "cell_type": "markdown",
   "id": "9ef306d0",
   "metadata": {},
   "source": [
    "#### The template string"
   ]
  },
  {
   "cell_type": "code",
   "execution_count": 4,
   "id": "8b0fbf3a",
   "metadata": {},
   "outputs": [],
   "source": [
    "from langchain.prompts import PromptTemplate, StringPromptTemplate"
   ]
  },
  {
   "cell_type": "code",
   "execution_count": 5,
   "id": "bd3b8090",
   "metadata": {},
   "outputs": [],
   "source": [
    "balancePrompt = (\"Hello. Your balance is {balance}. \"\n",
    "                 \"You have {unreads} unread message(s).\")"
   ]
  },
  {
   "cell_type": "markdown",
   "id": "434bf355",
   "metadata": {},
   "source": [
    "#### Dependencies\n",
    "\n",
    "This template will have a single dependency, the `Balancer` instance itself:"
   ]
  },
  {
   "cell_type": "code",
   "execution_count": 6,
   "id": "3c72865c",
   "metadata": {},
   "outputs": [],
   "source": [
    "dependencyDict = {'balancer': myBalance}"
   ]
  },
  {
   "cell_type": "markdown",
   "id": "21946b7a",
   "metadata": {},
   "source": [
    "#### Getter\n",
    "\n",
    "We need a \"getter\" function, which will be called in the `format` method of the template and whose first argument is the dict of dependencies (in this case the `Balancer` instance), followed by any other keyword argument.\n",
    "\n",
    "The getter must return a dict with values for all variables in the above `PromptTemplate` that will be retrieved from the storage dependency, i.e. not supplied directly at `format` time:"
   ]
  },
  {
   "cell_type": "code",
   "execution_count": 7,
   "id": "f8883d08",
   "metadata": {},
   "outputs": [],
   "source": [
    "def balanceGetter(deps, **kwargs):\n",
    "    userName = kwargs['user_name']\n",
    "    balancer = deps['balancer']\n",
    "    return {'balance': balancer.read(userName)}"
   ]
  },
  {
   "cell_type": "code",
   "execution_count": 8,
   "id": "05a60ddb",
   "metadata": {},
   "outputs": [],
   "source": [
    "from langchain.prompts import DependencyfulPromptTemplate\n",
    "\n",
    "myCustomTemplate = DependencyfulPromptTemplate(\n",
    "    template=balancePrompt,\n",
    "    dependencies=dependencyDict,\n",
    "    getter=balanceGetter,\n",
    "    input_variables=[\"user\", \"user_name\"],\n",
    "    forceGetterArguments=[\"user_name\"],\n",
    ")"
   ]
  },
  {
   "cell_type": "markdown",
   "id": "b050aecd",
   "metadata": {},
   "source": [
    "#### Rendering"
   ]
  },
  {
   "cell_type": "code",
   "execution_count": 9,
   "id": "78cdd106",
   "metadata": {},
   "outputs": [
    {
     "data": {
      "text/plain": [
       "'Hello. Your balance is 800. You have 123 unread message(s).'"
      ]
     },
     "execution_count": 9,
     "metadata": {},
     "output_type": "execute_result"
    }
   ],
   "source": [
    "myCustomTemplate.format(user_name='Gil', unreads=123)"
   ]
  },
  {
   "cell_type": "code",
   "execution_count": 10,
   "id": "ea1cc4ac",
   "metadata": {},
   "outputs": [
    {
     "data": {
      "text/plain": [
       "'Hello. Your balance is 800. You have 456 unread message(s).'"
      ]
     },
     "execution_count": 10,
     "metadata": {},
     "output_type": "execute_result"
    }
   ],
   "source": [
    "myCustomTemplate.format(user_name='Gil', unreads=456)"
   ]
  },
  {
   "cell_type": "code",
   "execution_count": 11,
   "id": "dfd0c85f",
   "metadata": {},
   "outputs": [
    {
     "data": {
      "text/plain": [
       "'Hello. Your balance is 1000. You have 789 unread message(s).'"
      ]
     },
     "execution_count": 11,
     "metadata": {},
     "output_type": "execute_result"
    }
   ],
   "source": [
    "myCustomTemplate.format(user_name='Katie', unreads=789)"
   ]
  },
  {
   "cell_type": "code",
   "execution_count": 12,
   "id": "00f559e2",
   "metadata": {},
   "outputs": [
    {
     "data": {
      "text/plain": [
       "{'Gil': 2, 'Katie': 1}"
      ]
     },
     "execution_count": 12,
     "metadata": {},
     "output_type": "execute_result"
    }
   ],
   "source": [
    "myBalance.accesses()"
   ]
  }
 ],
 "metadata": {
  "kernelspec": {
   "display_name": "Python 3 (ipykernel)",
   "language": "python",
   "name": "python3"
  },
  "language_info": {
   "codemirror_mode": {
    "name": "ipython",
    "version": 3
   },
   "file_extension": ".py",
   "mimetype": "text/x-python",
   "name": "python",
   "nbconvert_exporter": "python",
   "pygments_lexer": "ipython3"
  }
 },
 "nbformat": 4,
 "nbformat_minor": 5
}
