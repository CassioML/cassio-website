{
 "cells": [
  {
   "cell_type": "markdown",
   "id": "8c443a80",
   "metadata": {},
   "source": [
    "# Semantic LLM caching"
   ]
  },
  {
   "cell_type": "markdown",
   "id": "47f3f054",
   "metadata": {},
   "source": [
    "_**NOTE:** this uses the experimental \"Vector Similarity Search\" capability.\n",
    "At the moment, this is obtained by building and running an early alpha from a specific branch of the codebase._"
   ]
  },
  {
   "cell_type": "code",
   "execution_count": 1,
   "id": "68457534",
   "metadata": {},
   "outputs": [
    {
     "name": "stderr",
     "output_type": "stream",
     "text": [
      "/home/stefano/.virtualenvs/langchain-cassio-3.10/lib/python3.10/site-packages/cassandra/io/asyncorereactor.py:34: DeprecationWarning: The asyncore module is deprecated and will be removed in Python 3.12. The recommended replacement is asyncio\n",
      "  import asyncore\n"
     ]
    }
   ],
   "source": [
    "from langchain.cache import CassandraSemanticCache"
   ]
  },
  {
   "cell_type": "code",
   "execution_count": 2,
   "id": "016e87b1",
   "metadata": {},
   "outputs": [],
   "source": [
    "from cqlsession import getLocalCassandraSession\n",
    "localSession = getLocalCassandraSession()"
   ]
  },
  {
   "cell_type": "code",
   "execution_count": 3,
   "id": "1d195171",
   "metadata": {},
   "outputs": [],
   "source": [
    "# Open AI\n",
    "from langchain.llms import OpenAI\n",
    "from langchain.embeddings import OpenAIEmbeddings\n",
    "myEmbedding = OpenAIEmbeddings()\n",
    "llm = OpenAI(model_name=\"text-davinci-002\", n=2, best_of=2)"
   ]
  },
  {
   "cell_type": "code",
   "execution_count": 4,
   "id": "47fa8843",
   "metadata": {},
   "outputs": [],
   "source": [
    "from langchain.llms.base import get_prompts\n",
    "this_llm_string = get_prompts(llm.dict(), [])[1]"
   ]
  },
  {
   "cell_type": "code",
   "execution_count": 5,
   "id": "cc777213",
   "metadata": {},
   "outputs": [],
   "source": [
    "import langchain"
   ]
  },
  {
   "cell_type": "code",
   "execution_count": 6,
   "id": "886a6a5d",
   "metadata": {},
   "outputs": [],
   "source": [
    "# For the time being we have to explicitly TURN ON THIS EXPERIMENTAL FLAG on the cassio side\n",
    "import cassio\n",
    "cassio.globals.enableExperimentalVectorSearch()"
   ]
  },
  {
   "cell_type": "code",
   "execution_count": 7,
   "id": "a790b32d",
   "metadata": {},
   "outputs": [],
   "source": [
    "cassSemanticCache = CassandraSemanticCache(\n",
    "    session=localSession,\n",
    "    keyspace='demo',\n",
    "    embedding=myEmbedding\n",
    ")"
   ]
  },
  {
   "cell_type": "code",
   "execution_count": 8,
   "id": "77155d4f",
   "metadata": {},
   "outputs": [],
   "source": [
    "cassSemanticCache.clear(llm_string=this_llm_string)"
   ]
  },
  {
   "cell_type": "code",
   "execution_count": 9,
   "id": "caf519a7",
   "metadata": {},
   "outputs": [],
   "source": [
    "langchain.llm_cache = cassSemanticCache"
   ]
  },
  {
   "cell_type": "code",
   "execution_count": 10,
   "id": "6da49f04",
   "metadata": {},
   "outputs": [
    {
     "name": "stdout",
     "output_type": "stream",
     "text": [
      "CPU times: user 14.1 ms, sys: 3.11 ms, total: 17.2 ms\n",
      "Wall time: 507 ms\n"
     ]
    },
    {
     "data": {
      "text/plain": [
       "'\\n\\nMost spiders have eight eyes.'"
      ]
     },
     "execution_count": 10,
     "metadata": {},
     "output_type": "execute_result"
    }
   ],
   "source": [
    "%%time\n",
    "# The first time, it is not yet in cache, so it should take longer\n",
    "llm(\"How many eyes do spiders have?\")"
   ]
  },
  {
   "cell_type": "code",
   "execution_count": 11,
   "id": "c07c2248",
   "metadata": {},
   "outputs": [
    {
     "name": "stdout",
     "output_type": "stream",
     "text": [
      "CPU times: user 4.43 ms, sys: 197 µs, total: 4.62 ms\n",
      "Wall time: 55.1 ms\n"
     ]
    },
    {
     "data": {
      "text/plain": [
       "'\\n\\nMost spiders have eight eyes.'"
      ]
     },
     "execution_count": 11,
     "metadata": {},
     "output_type": "execute_result"
    }
   ],
   "source": [
    "%%time\n",
    "# Second time, very same question\n",
    "llm(\"How many eyes do spiders have?\")"
   ]
  },
  {
   "cell_type": "code",
   "execution_count": 12,
   "id": "0665f439",
   "metadata": {},
   "outputs": [
    {
     "name": "stdout",
     "output_type": "stream",
     "text": [
      "CPU times: user 11.3 ms, sys: 7.69 ms, total: 19 ms\n",
      "Wall time: 388 ms\n"
     ]
    },
    {
     "data": {
      "text/plain": [
       "'\\n\\nMost spiders have eight eyes.'"
      ]
     },
     "execution_count": 12,
     "metadata": {},
     "output_type": "execute_result"
    }
   ],
   "source": [
    "%%time\n",
    "# Rephrased, but same as above!\n",
    "llm(\"How many eyes does a spider generally have?\")"
   ]
  },
  {
   "cell_type": "code",
   "execution_count": 13,
   "id": "2c13d18e",
   "metadata": {},
   "outputs": [
    {
     "name": "stdout",
     "output_type": "stream",
     "text": [
      "CPU times: user 23.4 ms, sys: 1.88 ms, total: 25.3 ms\n",
      "Wall time: 1.32 s\n"
     ]
    },
    {
     "data": {
      "text/plain": [
       "'\\n\\nNo, the two are not the same. Proof of absence would require evidence that something does not exist, while the absence of proof only means that there is no evidence to support something.'"
      ]
     },
     "execution_count": 13,
     "metadata": {},
     "output_type": "execute_result"
    }
   ],
   "source": [
    "%%time\n",
    "# New question\n",
    "llm(\"Is absence of proof the same as proof of absence?\")"
   ]
  },
  {
   "cell_type": "code",
   "execution_count": 14,
   "id": "7b243e2e",
   "metadata": {},
   "outputs": [
    {
     "name": "stdout",
     "output_type": "stream",
     "text": [
      "CPU times: user 17.3 ms, sys: 0 ns, total: 17.3 ms\n",
      "Wall time: 334 ms\n"
     ]
    },
    {
     "data": {
      "text/plain": [
       "'\\n\\nMost spiders have eight eyes.'"
      ]
     },
     "execution_count": 14,
     "metadata": {},
     "output_type": "execute_result"
    }
   ],
   "source": [
    "%%time\n",
    "# Trying to catch the cache off-guard\n",
    "llm(\"How many eyes are on the head of a typical spider?\")"
   ]
  },
  {
   "cell_type": "code",
   "execution_count": 15,
   "id": "9c183430",
   "metadata": {},
   "outputs": [
    {
     "name": "stdout",
     "output_type": "stream",
     "text": [
      "CPU times: user 11.2 ms, sys: 0 ns, total: 11.2 ms\n",
      "Wall time: 714 ms\n"
     ]
    },
    {
     "data": {
      "text/plain": [
       "'\\n\\nNo, the two are not the same. Proof of absence would require evidence that something does not exist, while the absence of proof only means that there is no evidence to support something.'"
      ]
     },
     "execution_count": 15,
     "metadata": {},
     "output_type": "execute_result"
    }
   ],
   "source": [
    "%%time\n",
    "# Switching to the other question again\n",
    "llm(\"Is it true that the absence of a proof equates the proof of an absence?\")"
   ]
  }
 ],
 "metadata": {
  "kernelspec": {
   "display_name": "Python 3 (ipykernel)",
   "language": "python",
   "name": "python3"
  },
  "language_info": {
   "codemirror_mode": {
    "name": "ipython",
    "version": 3
   },
   "file_extension": ".py",
   "mimetype": "text/x-python",
   "name": "python",
   "nbconvert_exporter": "python",
   "pygments_lexer": "ipython3",
   "version": "3.10.11"
  }
 },
 "nbformat": 4,
 "nbformat_minor": 5
}
