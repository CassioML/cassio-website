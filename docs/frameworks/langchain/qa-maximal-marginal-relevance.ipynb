{
 "cells": [
  {
   "cell_type": "markdown",
   "id": "10f8d5ba",
   "metadata": {},
   "source": [
    "# VectorStore/Q&A, MMR support"
   ]
  },
  {
   "cell_type": "markdown",
   "id": "83d20d93",
   "metadata": {},
   "source": [
    "_**NOTE:** this uses Cassandra's experimental \"Vector Similarity Search\" capability.\n",
    "At the moment, this is obtained by building and running an early alpha from a specific branch of the codebase._"
   ]
  },
  {
   "cell_type": "markdown",
   "id": "03431ba1",
   "metadata": {},
   "source": [
    "Cassandra's `VectorStore` allows for Vector Similarity Search with the **Maximal Marginal Relevance (MMR)** algorithm.\n",
    "\n",
    "This is a search criterion that instead of just selecting the _k_ stored documents most relevant to the provided query, first identifies a larger pool of relevant results, and then singles out _k_ of them so that they carry as diverse information between them as possible.\n",
    "\n",
    "In this way, when the stored text fragments are likely to be redundant, you can optimize token usage and help the models give more comprehensive answers.\n",
    "\n",
    "_This is very useful, for instance, if you are building a Q&A chatbot on past Support chat recorded interactions._"
   ]
  },
  {
   "cell_type": "markdown",
   "id": "f4dcdd52",
   "metadata": {},
   "source": [
    "First prepare a connection to a vector-search-capable Cassandra and initialize the required LLM and embeddings:"
   ]
  },
  {
   "cell_type": "code",
   "execution_count": 1,
   "id": "a0d8ea0b",
   "metadata": {},
   "outputs": [],
   "source": [
    "from langchain.indexes.vectorstore import VectorStoreIndexWrapper\n",
    "from langchain.vectorstores import Cassandra"
   ]
  },
  {
   "cell_type": "code",
   "execution_count": 2,
   "id": "ce26d767",
   "metadata": {},
   "outputs": [],
   "source": [
    "from cqlsession import getLocalSession, getLocalKeyspace\n",
    "localSession = getLocalSession()\n",
    "localKeyspace = getLocalKeyspace()"
   ]
  },
  {
   "cell_type": "markdown",
   "id": "66a41899",
   "metadata": {},
   "source": [
    "Below is the logic to instantiate the LLM and embeddings of choice. We choose to leave it in the notebooks for clarity."
   ]
  },
  {
   "cell_type": "code",
   "execution_count": 3,
   "id": "99ed623f",
   "metadata": {},
   "outputs": [
    {
     "name": "stdout",
     "output_type": "stream",
     "text": [
      "LLM+embeddings from OpenAI\n"
     ]
    }
   ],
   "source": [
    "from llm_choice import suggestLLMProvider\n",
    "\n",
    "llmProvider = suggestLLMProvider()\n",
    "# (Alternatively set llmProvider to 'VertexAI', 'OpenAI' ... manually if you have credentials)\n",
    "\n",
    "if llmProvider == 'VertexAI':\n",
    "    from langchain.llms import VertexAI\n",
    "    from langchain.embeddings import VertexAIEmbeddings\n",
    "    llm = VertexAI(temperature=0)\n",
    "    myEmbedding = VertexAIEmbeddings()\n",
    "    print('LLM+embeddings from VertexAI')\n",
    "elif llmProvider == 'OpenAI':\n",
    "    from langchain.llms import OpenAI\n",
    "    from langchain.embeddings import OpenAIEmbeddings\n",
    "    llm = OpenAI(temperature=0)\n",
    "    myEmbedding = OpenAIEmbeddings()\n",
    "    print('LLM+embeddings from OpenAI')\n",
    "else:\n",
    "    raise ValueError('Unknown LLM provider.')"
   ]
  },
  {
   "cell_type": "markdown",
   "id": "ea236d93",
   "metadata": {},
   "source": [
    "**Note**: for the time being you have to explicitly _turn on this experimental flag_ on the `cassio` side:"
   ]
  },
  {
   "cell_type": "code",
   "execution_count": 4,
   "id": "20334032",
   "metadata": {},
   "outputs": [],
   "source": [
    "import cassio\n",
    "cassio.globals.enableExperimentalVectorSearch()"
   ]
  },
  {
   "cell_type": "markdown",
   "id": "f7bcd360",
   "metadata": {},
   "source": [
    "## Create the store\n",
    "\n",
    "Create a (Cassandra-backed) `VectorStore` and the corresponding LangChain `VectorStoreIndexWrapper`"
   ]
  },
  {
   "cell_type": "code",
   "execution_count": 5,
   "id": "093eccbd",
   "metadata": {},
   "outputs": [],
   "source": [
    "myCassandraVStore = Cassandra(\n",
    "    embedding=myEmbedding,\n",
    "    session=localSession,\n",
    "    keyspace=localKeyspace,\n",
    "    table_name='vs_test2_' + llmProvider,\n",
    ")\n",
    "index = VectorStoreIndexWrapper(vectorstore=myCassandraVStore)"
   ]
  },
  {
   "cell_type": "markdown",
   "id": "d662c4f4",
   "metadata": {},
   "source": [
    "This command simply resets the store in case you want to run this demo repeatedly:"
   ]
  },
  {
   "cell_type": "code",
   "execution_count": 6,
   "id": "c3503668",
   "metadata": {},
   "outputs": [],
   "source": [
    "myCassandraVStore.clear()"
   ]
  },
  {
   "cell_type": "markdown",
   "id": "fbb16e2b",
   "metadata": {},
   "source": [
    "## Populate the index\n",
    "\n",
    "\n",
    "Notice that the first four sentences express the same concept, while the **fifth** adds a new detail:"
   ]
  },
  {
   "cell_type": "code",
   "execution_count": 7,
   "id": "c5742e22",
   "metadata": {},
   "outputs": [],
   "source": [
    "BASE_SENTENCE_0 =     ('The frogs and the toads were meeting in the night '\n",
    "                       'for a party under the moon.')\n",
    "\n",
    "BASE_SENTENCE_1 =     ('There was a party under the moon, that all toads, '\n",
    "                       'with the frogs, decided to throw that night.')\n",
    "\n",
    "BASE_SENTENCE_2 =     ('And the frogs and the toads said: \"Let us have a party '\n",
    "                       'tonight, as the moon is shining\".')\n",
    "\n",
    "BASE_SENTENCE_3 =     ('I remember that night... toads, along with frogs, '\n",
    "                       'were all busy planning a moonlit celebration.')\n",
    "\n",
    "DIFFERENT_SENTENCE =  ('For the party, frogs and toads set a rule: '\n",
    "                       'everyone was to wear a purple hat.')"
   ]
  },
  {
   "cell_type": "markdown",
   "id": "74e3db39",
   "metadata": {},
   "source": [
    "Insert the three into the index, specifying \"sources\" while you're at it (it will be useful later):"
   ]
  },
  {
   "cell_type": "code",
   "execution_count": 8,
   "id": "5db84c82",
   "metadata": {},
   "outputs": [
    {
     "data": {
      "text/plain": [
       "['d86ebe8bf2f6fa27ff01db7e3c4a21ab',\n",
       " 'be4fffdf596f08c1d3f4d9effc2f327e',\n",
       " 'd25517400eac2ff0eb4c9c2b38d5e7db',\n",
       " '7bb2aec568c5577c107a403f2fb1a64e',\n",
       " '4654a61925e397ea5f097019b2fa56d2']"
      ]
     },
     "execution_count": 8,
     "metadata": {},
     "output_type": "execute_result"
    }
   ],
   "source": [
    "myCassandraVStore.add_texts(\n",
    "    [\n",
    "        BASE_SENTENCE_0,\n",
    "        BASE_SENTENCE_1,\n",
    "        BASE_SENTENCE_2,\n",
    "        BASE_SENTENCE_3,\n",
    "        DIFFERENT_SENTENCE,\n",
    "    ],\n",
    "    metadatas=[\n",
    "        {'source': 'Barney\\'s story at the pub'},\n",
    "        {'source': 'Barney\\'s story at the pub'},\n",
    "        {'source': 'Barney\\'s story at the pub'},\n",
    "        {'source': 'Barney\\'s story at the pub'},\n",
    "        {'source': 'The chronicles at the village library'},\n",
    "    ],\n",
    ")"
   ]
  },
  {
   "cell_type": "markdown",
   "id": "64bacd35",
   "metadata": {},
   "source": [
    "## Query the store"
   ]
  },
  {
   "cell_type": "markdown",
   "id": "7b00704e",
   "metadata": {},
   "source": [
    "Here is the question you'll use to query the index:"
   ]
  },
  {
   "cell_type": "code",
   "execution_count": 9,
   "id": "8892e3e5",
   "metadata": {},
   "outputs": [],
   "source": [
    "QUESTION = 'Tell me about the party that night.'"
   ]
  },
  {
   "cell_type": "markdown",
   "id": "7d646ce7",
   "metadata": {},
   "source": [
    "### Query with \"similarity\" search type\n",
    "\n",
    "If you ask for two matches, you will get the two documents most related to the question. But in this case this is something of a waste of tokens:"
   ]
  },
  {
   "cell_type": "code",
   "execution_count": 10,
   "id": "da121510",
   "metadata": {},
   "outputs": [
    {
     "name": "stdout",
     "output_type": "stream",
     "text": [
      "[ 0]: \"There was a party under the moon, that all toads, with the frogs, decided to throw that night.\"\n",
      "[ 1]: \"I remember that night... toads, along with frogs, were all busy planning a moonlit celebration.\"\n"
     ]
    }
   ],
   "source": [
    "matchesSim = myCassandraVStore.search(QUESTION, search_type='similarity', k=2)\n",
    "for i, doc in enumerate(matchesSim):\n",
    "    print(f'[{i:2}]: \"{doc.page_content}\"')"
   ]
  },
  {
   "cell_type": "markdown",
   "id": "4b772f1a",
   "metadata": {},
   "source": [
    "### Query with MMR\n",
    "\n",
    "Now, here's what happens with the MMR search type.\n",
    "\n",
    "_(Not shown here: you can tune the size of the results pool for the first step of the algorithm.)_"
   ]
  },
  {
   "cell_type": "code",
   "execution_count": 11,
   "id": "b80512ef",
   "metadata": {},
   "outputs": [
    {
     "name": "stdout",
     "output_type": "stream",
     "text": [
      "[ 0]: \"There was a party under the moon, that all toads, with the frogs, decided to throw that night.\"\n",
      "[ 1]: \"For the party, frogs and toads set a rule: everyone was to wear a purple hat.\"\n"
     ]
    }
   ],
   "source": [
    "matchesMMR = myCassandraVStore.search(QUESTION, search_type='mmr', k=2)\n",
    "for i, doc in enumerate(matchesMMR):\n",
    "    print(f'[{i:2}]: \"{doc.page_content}\"')"
   ]
  },
  {
   "cell_type": "markdown",
   "id": "98891ca3",
   "metadata": {},
   "source": [
    "## Query the index\n",
    "\n",
    "Currently, LangChain's higher \"index\" abstraction does not allow to specify the search type, nor the number of matches subsequently used in creating the answer. So, by running this command you get an answer, all right."
   ]
  },
  {
   "cell_type": "code",
   "execution_count": 12,
   "id": "f60ccf9a",
   "metadata": {},
   "outputs": [
    {
     "name": "stderr",
     "output_type": "stream",
     "text": [
      "Retrying langchain.llms.openai.completion_with_retry.<locals>._completion_with_retry in 4.0 seconds as it raised RateLimitError: The server had an error while processing your request. Sorry about that!.\n"
     ]
    },
    {
     "name": "stdout",
     "output_type": "stream",
     "text": [
      " The frogs and toads were throwing a party under the moon that night. They were busy planning and preparing for the celebration.\n"
     ]
    }
   ],
   "source": [
    "# (implicitly) by similarity\n",
    "print(index.query(QUESTION, llm=llm))"
   ]
  },
  {
   "cell_type": "markdown",
   "id": "953c0005",
   "metadata": {},
   "source": [
    "You can request the question-answering process to provide references (as long as you annotated all input documents with a `source` metadata field):"
   ]
  },
  {
   "cell_type": "code",
   "execution_count": 13,
   "id": "673fb8da",
   "metadata": {},
   "outputs": [
    {
     "name": "stdout",
     "output_type": "stream",
     "text": [
      "Automatic chain (implicitly by similarity):\n",
      "  ANSWER : The frogs and toads were meeting in the night for a party under the moon.\n",
      "  SOURCES: Barney's story at the pub\n"
     ]
    }
   ],
   "source": [
    "responseSrc = index.query_with_sources(QUESTION, llm=llm)\n",
    "print('Automatic chain (implicitly by similarity):')\n",
    "print(f'  ANSWER : {responseSrc[\"answer\"].strip()}')\n",
    "print(f'  SOURCES: {responseSrc[\"sources\"].strip()}')"
   ]
  },
  {
   "cell_type": "markdown",
   "id": "9c1171c2",
   "metadata": {},
   "source": [
    "Here the default is to fetch _four_ documents ... so that the only other text actually carrying additional information is left out!"
   ]
  },
  {
   "cell_type": "markdown",
   "id": "8132f657",
   "metadata": {},
   "source": [
    "### The Q&A Process behind the scenes"
   ]
  },
  {
   "cell_type": "markdown",
   "id": "53dcc244",
   "metadata": {},
   "source": [
    "In order to exploit the MMR search in end-to-end question-answering pipelines, you need to recreate and manually tweak the steps behind the `query` or `query_with_sources` methods. This takes just a few lines.\n",
    "\n",
    "First you need a few additional modules:"
   ]
  },
  {
   "cell_type": "code",
   "execution_count": 14,
   "id": "155781e6",
   "metadata": {},
   "outputs": [],
   "source": [
    "from langchain.chains.retrieval_qa.base import RetrievalQA\n",
    "from langchain.chains.qa_with_sources.retrieval import RetrievalQAWithSourcesChain"
   ]
  },
  {
   "cell_type": "markdown",
   "id": "9a114051",
   "metadata": {},
   "source": [
    "You are ready to run two Q&A chains, identical in all respects (especially in the number of results to fetch, two), except the `search_type`:"
   ]
  },
  {
   "cell_type": "markdown",
   "id": "ace12ed7",
   "metadata": {},
   "source": [
    "#### Similarity-based Q&A"
   ]
  },
  {
   "cell_type": "code",
   "execution_count": 15,
   "id": "9e5def64",
   "metadata": {},
   "outputs": [
    {
     "name": "stderr",
     "output_type": "stream",
     "text": [
      "Retrying langchain.llms.openai.completion_with_retry.<locals>._completion_with_retry in 4.0 seconds as it raised RateLimitError: The server had an error while processing your request. Sorry about that!.\n"
     ]
    },
    {
     "name": "stdout",
     "output_type": "stream",
     "text": [
      " The party was held under the moon and was planned by both toads and frogs.\n"
     ]
    }
   ],
   "source": [
    "# manual creation of the \"retriever\" with the 'similarity' search type\n",
    "retrieverSim = myCassandraVStore.as_retriever(\n",
    "    search_type='similarity',\n",
    "    search_kwargs={\n",
    "        'k': 2,\n",
    "        # ...\n",
    "    },\n",
    ")\n",
    "# Create a \"RetrievalQA\" chain\n",
    "chainSim = RetrievalQA.from_chain_type(\n",
    "    llm=llm,\n",
    "    retriever=retrieverSim,\n",
    ")\n",
    "# Run it and print results\n",
    "responseSim = chainSim.run(QUESTION)\n",
    "print(responseSim)"
   ]
  },
  {
   "cell_type": "markdown",
   "id": "77391887",
   "metadata": {},
   "source": [
    "#### MMR-based Q&A"
   ]
  },
  {
   "cell_type": "code",
   "execution_count": 16,
   "id": "b6294510",
   "metadata": {},
   "outputs": [
    {
     "name": "stderr",
     "output_type": "stream",
     "text": [
      "Retrying langchain.llms.openai.completion_with_retry.<locals>._completion_with_retry in 4.0 seconds as it raised RateLimitError: The server had an error while processing your request. Sorry about that!.\n"
     ]
    },
    {
     "name": "stdout",
     "output_type": "stream",
     "text": [
      " The party was held under the moon and was attended by both frogs and toads. Everyone was required to wear a purple hat.\n"
     ]
    }
   ],
   "source": [
    "# manual creation of the \"retriever\" with the 'MMR' search type\n",
    "retrieverMMR = myCassandraVStore.as_retriever(\n",
    "    search_type='mmr',\n",
    "    search_kwargs={\n",
    "        'k': 2,\n",
    "        # ...\n",
    "    },\n",
    ")\n",
    "# Create a \"RetrievalQA\" chain\n",
    "chainMMR = RetrievalQA.from_chain_type(\n",
    "    llm=llm,\n",
    "    retriever=retrieverMMR\n",
    ")\n",
    "# Run it and print results\n",
    "responseMMR = chainMMR.run(QUESTION)\n",
    "print(responseMMR)"
   ]
  },
  {
   "cell_type": "markdown",
   "id": "b2976801",
   "metadata": {},
   "source": [
    "#### Answers with sources"
   ]
  },
  {
   "cell_type": "markdown",
   "id": "82c9d85c",
   "metadata": {},
   "source": [
    "You can run the variant of these chains that also returns the source for the documents used in preparing the answer, which makes it even more obvious:"
   ]
  },
  {
   "cell_type": "code",
   "execution_count": 17,
   "id": "bf9fd3b6",
   "metadata": {},
   "outputs": [
    {
     "name": "stdout",
     "output_type": "stream",
     "text": [
      "Similarity-based chain:\n",
      "  ANSWER : The toads and frogs were planning a moonlit celebration.\n",
      "  SOURCES: Barney's story at the pub\n"
     ]
    }
   ],
   "source": [
    "chainSimSrc = RetrievalQAWithSourcesChain.from_chain_type(\n",
    "    llm,\n",
    "    retriever=retrieverSim,\n",
    ")\n",
    "#\n",
    "responseSimSrc = chainSimSrc({chainSimSrc.question_key: QUESTION})\n",
    "print('Similarity-based chain:')\n",
    "print(f'  ANSWER : {responseSimSrc[\"answer\"].strip()}')\n",
    "print(f'  SOURCES: {responseSimSrc[\"sources\"].strip()}')"
   ]
  },
  {
   "cell_type": "code",
   "execution_count": 18,
   "id": "93474b29",
   "metadata": {},
   "outputs": [
    {
     "name": "stdout",
     "output_type": "stream",
     "text": [
      "MMR-based chain:\n",
      "  ANSWER : The party that night was thrown by frogs and toads, and everyone was required to wear a purple hat.\n",
      "  SOURCES: Barney's story at the pub, The chronicles at the village library\n"
     ]
    }
   ],
   "source": [
    "chainMMRSrc = RetrievalQAWithSourcesChain.from_chain_type(\n",
    "    llm,\n",
    "    retriever=retrieverMMR,\n",
    ")\n",
    "#\n",
    "responseMMRSrc = chainMMRSrc({chainMMRSrc.question_key: QUESTION})\n",
    "print('MMR-based chain:')\n",
    "print(f'  ANSWER : {responseMMRSrc[\"answer\"].strip()}')\n",
    "print(f'  SOURCES: {responseMMRSrc[\"sources\"].strip()}')"
   ]
  }
 ],
 "metadata": {
  "kernelspec": {
   "display_name": "Python 3 (ipykernel)",
   "language": "python",
   "name": "python3"
  },
  "language_info": {
   "codemirror_mode": {
    "name": "ipython",
    "version": 3
   },
   "file_extension": ".py",
   "mimetype": "text/x-python",
   "name": "python",
   "nbconvert_exporter": "python",
   "pygments_lexer": "ipython3",
   "version": "3.10.11"
  }
 },
 "nbformat": 4,
 "nbformat_minor": 5
}
