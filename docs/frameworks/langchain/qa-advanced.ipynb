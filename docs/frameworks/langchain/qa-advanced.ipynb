{
 "cells": [
  {
   "cell_type": "markdown",
   "id": "657fc017",
   "metadata": {},
   "source": [
    "# VectorStore/Q&A, learn more"
   ]
  },
  {
   "cell_type": "markdown",
   "id": "82a8bdad",
   "metadata": {},
   "source": [
    "_**NOTE:** this uses Cassandra's experimental \"Vector Similarity Search\" capability.\n",
    "At the moment, this is obtained by building and running an early alpha from a specific branch of the codebase._"
   ]
  },
  {
   "cell_type": "markdown",
   "id": "79efbabc",
   "metadata": {},
   "source": [
    "In the previous Quickstart, you have created the index and at the same time added the corpus of text to it.\n",
    "\n",
    "In most cases, these two operations happen at different times: besides, often new documents keep being ingested.\n",
    "\n",
    "This notebook demonstrates further interactions you can have with a Cassandra Vector Store.\n",
    "\n",
    "It is assumed you have run the Quickstart notebook (so that the vector store is not empty)"
   ]
  },
  {
   "cell_type": "code",
   "execution_count": 1,
   "id": "cf5d698b",
   "metadata": {},
   "outputs": [],
   "source": [
    "from langchain.indexes.vectorstore import VectorStoreIndexWrapper\n",
    "from langchain.text_splitter import RecursiveCharacterTextSplitter\n",
    "from langchain.docstore.document import Document"
   ]
  },
  {
   "cell_type": "markdown",
   "id": "17d782a3",
   "metadata": {},
   "source": [
    "The setup is similar to the one you saw:"
   ]
  },
  {
   "cell_type": "code",
   "execution_count": 2,
   "id": "8f54e3e0",
   "metadata": {},
   "outputs": [],
   "source": [
    "from langchain.vectorstores.cassandra import Cassandra"
   ]
  },
  {
   "cell_type": "code",
   "execution_count": 3,
   "id": "55e8377c",
   "metadata": {},
   "outputs": [],
   "source": [
    "from cqlsession import getLocalSession, getLocalKeyspace\n",
    "localSession = getLocalSession()\n",
    "localKeyspace = getLocalKeyspace()"
   ]
  },
  {
   "cell_type": "markdown",
   "id": "78f7c429",
   "metadata": {},
   "source": [
    "Below is the logic to instantiate the LLM and embeddings of choice. We choose to leave it in the notebooks for clarity."
   ]
  },
  {
   "cell_type": "code",
   "execution_count": 4,
   "id": "ba0112cd",
   "metadata": {},
   "outputs": [
    {
     "name": "stdout",
     "output_type": "stream",
     "text": [
      "LLM+embeddings from OpenAI\n"
     ]
    }
   ],
   "source": [
    "from llm_choice import suggestLLMProvider\n",
    "\n",
    "llmProvider = suggestLLMProvider()\n",
    "# (Alternatively set llmProvider to 'VertexAI', 'OpenAI' ... manually if you have credentials)\n",
    "\n",
    "if llmProvider == 'VertexAI':\n",
    "    from langchain.llms import VertexAI\n",
    "    from langchain.embeddings import VertexAIEmbeddings\n",
    "    llm = VertexAI()\n",
    "    myEmbedding = VertexAIEmbeddings()\n",
    "    print('LLM+embeddings from VertexAI')\n",
    "elif llmProvider == 'OpenAI':\n",
    "    from langchain.llms import OpenAI\n",
    "    from langchain.embeddings import OpenAIEmbeddings\n",
    "    llm = OpenAI(temperature=0)\n",
    "    myEmbedding = OpenAIEmbeddings()\n",
    "    print('LLM+embeddings from OpenAI')\n",
    "else:\n",
    "    raise ValueError('Unknown LLM provider.')"
   ]
  },
  {
   "cell_type": "markdown",
   "id": "062f5ba2",
   "metadata": {},
   "source": [
    "**Note**: for the time being you have to explicitly _turn on this experimental flag_ on the `cassio` side:"
   ]
  },
  {
   "cell_type": "code",
   "execution_count": 5,
   "id": "349054e8",
   "metadata": {},
   "outputs": [],
   "source": [
    "import cassio\n",
    "cassio.globals.enableExperimentalVectorSearch()"
   ]
  },
  {
   "cell_type": "markdown",
   "id": "9a55404d",
   "metadata": {},
   "source": [
    "## Re-use an existing Vector Store\n",
    "\n",
    "Creating this `Cassandra` vector store, it will re-connect with the existing data on DB.\n",
    "\n",
    "In practice, you are loading an existing, pre-populated vector store for further usage.\n",
    "\n",
    "_(make sure you are using the very same embedding function every time! In fact, this is why we have a separate table for each embedding function, i.e. for each `llmProvider`.)_"
   ]
  },
  {
   "cell_type": "code",
   "execution_count": 6,
   "id": "89bddeca",
   "metadata": {},
   "outputs": [],
   "source": [
    "myCassandraVStore = Cassandra(\n",
    "    embedding=myEmbedding,\n",
    "    session=localSession,\n",
    "    keyspace=localKeyspace,\n",
    "    table_name='vs_test1_' + llmProvider,\n",
    ")"
   ]
  },
  {
   "cell_type": "markdown",
   "id": "15acb61b",
   "metadata": {},
   "source": [
    "You can then re-create the `index` from the vector store with:"
   ]
  },
  {
   "cell_type": "code",
   "execution_count": 7,
   "id": "e5edc808",
   "metadata": {},
   "outputs": [],
   "source": [
    "index = VectorStoreIndexWrapper(vectorstore=myCassandraVStore)"
   ]
  },
  {
   "cell_type": "markdown",
   "id": "508c3a77",
   "metadata": {},
   "source": [
    "and use it as you saw in the quickstart:"
   ]
  },
  {
   "cell_type": "code",
   "execution_count": 8,
   "id": "29bc0a71",
   "metadata": {},
   "outputs": [
    {
     "data": {
      "text/plain": [
       "\" Luchesi is a friend of Fortunato's who has a critical turn and is known for his taste in wine.\""
      ]
     },
     "execution_count": 8,
     "metadata": {},
     "output_type": "execute_result"
    }
   ],
   "source": [
    "query = \"Who is Luchesi?\"\n",
    "index.query(query, llm=llm)"
   ]
  },
  {
   "cell_type": "markdown",
   "id": "af183352",
   "metadata": {},
   "source": [
    "## Further usage of the vector store"
   ]
  },
  {
   "cell_type": "markdown",
   "id": "16419765",
   "metadata": {},
   "source": [
    "These are some of the ways you can query the store:"
   ]
  },
  {
   "cell_type": "code",
   "execution_count": 9,
   "id": "3ebaaf9a",
   "metadata": {},
   "outputs": [
    {
     "data": {
      "text/plain": [
       "[(Document(page_content='\"Nitre,\" I replied.  \"How long have you had that cough?\"\\n\\n\"Ugh! ugh! ugh!--ugh! ugh! ugh!--ugh! ugh! ugh!--ugh! ugh! ugh!--ugh!\\nugh! ugh!\"\\n\\nMy poor friend found it impossible to reply for many minutes.\\n\\n\"It is nothing,\" he said, at last.', metadata={'source': 'texts/amontillado.txt'}),\n",
       "  0.905196785033554)]"
      ]
     },
     "execution_count": 9,
     "metadata": {},
     "output_type": "execute_result"
    }
   ],
   "source": [
    "myCassandraVStore.similarity_search_with_score(\n",
    "    \"Does anyone have a coughing fit?\",\n",
    "    k=1,\n",
    ")"
   ]
  },
  {
   "cell_type": "markdown",
   "id": "e62b3aed",
   "metadata": {},
   "source": [
    "### Adding new documents\n",
    "\n",
    "Start with a very off-topic question, to demonstrate that no relevant documents are found (yet).\n",
    "\n",
    "_Note: depending on the embedding function, you might still see some results, off-topic in practice, being found at this stage. In a full end-to-end Q&A session, however, these would likely be discarded by the LLM, which would presumably end up saying, \"I don't know\"._"
   ]
  },
  {
   "cell_type": "code",
   "execution_count": 10,
   "id": "0c803127",
   "metadata": {},
   "outputs": [
    {
     "data": {
      "text/plain": [
       "[(Document(page_content='\"A huge human foot d\\'or, in a field azure; the foot crushes a serpent\\nrampant whose fangs are imbedded in the heel.\"\\n\\n\"And the motto?\"\\n\\n\"_Nemo me impune lacessit_.\"\\n\\n\"Good!\" he said.', metadata={'source': 'texts/amontillado.txt'}),\n",
       "  0.8635578679283822)]"
      ]
     },
     "execution_count": 10,
     "metadata": {},
     "output_type": "execute_result"
    }
   ],
   "source": [
    "SPIDER_QUESTION = 'Compare Agelenidae and Lycosidae'\n",
    "myCassandraVStore.similarity_search_with_relevance_scores(\n",
    "    SPIDER_QUESTION,\n",
    "    k=1,\n",
    "    score_threshold=0.8,\n",
    ")"
   ]
  },
  {
   "cell_type": "markdown",
   "id": "add1d478",
   "metadata": {},
   "source": [
    "You can add a couple of relevant paragraphs to the index, using the `add_texts` primitive:"
   ]
  },
  {
   "cell_type": "code",
   "execution_count": 11,
   "id": "aa3e5187",
   "metadata": {},
   "outputs": [
    {
     "data": {
      "text/plain": [
       "['c35b450d84e94cef37de6a934da51860', '03dcc418d50ee4c61bebaa92f6ee8005']"
      ]
     },
     "execution_count": 11,
     "metadata": {},
     "output_type": "execute_result"
    }
   ],
   "source": [
    "spiderFacts = [\n",
    "    \"\"\"\n",
    "    The Agelenidae are a large family of spiders in the suborder Araneomorphae.\n",
    "    The body length of the smallest Agelenidae spiders are about 4 mm (0.16 in), excluding the legs,\n",
    "    while the larger species grow to 20 mm (0.79 in) long. Some exceptionally large species,\n",
    "    such as Eratigena atrica, may reach 5 to 10 cm (2.0 to 3.9 in) in total leg span.\n",
    "    Agelenids have eight eyes in two horizontal rows of four. Their cephalothoraces narrow\n",
    "    somewhat towards the front where the eyes are. Their abdomens are more or less oval, usually\n",
    "    patterned with two rows of lines and spots. Some species have longitudinal lines on the dorsal\n",
    "    surface of the cephalothorax, whereas other species do not; for example, the hobo spider does not,\n",
    "    which assists in informally distinguishing it from similar-looking species.\n",
    "    \"\"\",\n",
    "    \"\"\"\n",
    "    Jumping spiders are a group of spiders that constitute the family Salticidae.\n",
    "    As of 2019, this family contained over 600 described genera and over 6,000 described species,\n",
    "    making it the largest family of spiders at 13% of all species.\n",
    "    Jumping spiders have some of the best vision among arthropods and use it\n",
    "    in courtship, hunting, and navigation.\n",
    "    Although they normally move unobtrusively and fairly slowly,\n",
    "    most species are capable of very agile jumps, notably when hunting,\n",
    "    but sometimes in response to sudden threats or crossing long gaps.\n",
    "    Both their book lungs and tracheal system are well-developed,\n",
    "    and they use both systems (bimodal breathing).\n",
    "    Jumping spiders are generally recognized by their eye pattern.\n",
    "    All jumping spiders have four pairs of eyes, with the anterior median pair\n",
    "    being particularly large. \n",
    "    \"\"\",\n",
    "]\n",
    "spiderMetadatas = [\n",
    "    {'source': 'wikipedia/Agelenidae'},\n",
    "    {'source': 'wikipedia/Salticidae'},\n",
    "]\n",
    "myCassandraVStore.add_texts(\n",
    "    spiderFacts,\n",
    "    spiderMetadatas,\n",
    ")"
   ]
  },
  {
   "cell_type": "markdown",
   "id": "cce3cfbc",
   "metadata": {},
   "source": [
    "Another way is to add a text through LangChain's `Document` abstraction.\n",
    "\n",
    "Note that, using one of LangChain's splitters, long input documents are made into (possibly overlapping) digestible chunks without much boilerplate:"
   ]
  },
  {
   "cell_type": "code",
   "execution_count": 12,
   "id": "96773980",
   "metadata": {},
   "outputs": [],
   "source": [
    "mySplitter = RecursiveCharacterTextSplitter(chunk_size=250, chunk_overlap=120)"
   ]
  },
  {
   "cell_type": "code",
   "execution_count": 13,
   "id": "bcbdfc54",
   "metadata": {},
   "outputs": [],
   "source": [
    "lycoText = \"\"\"\n",
    "Wolf spiders are members of the family Lycosidae.\n",
    "They are robust and agile hunters with excellent eyesight.\n",
    "They live mostly in solitude, hunt alone, and usually do not spin webs.\n",
    "Some are opportunistic hunters, pouncing upon prey as they\n",
    "find it or chasing it over short distances;\n",
    "others wait for passing prey in or near the mouth of a burrow.\n",
    "\n",
    "Wolf spiders resemble nursery web spiders (family Pisauridae),\n",
    "but wolf spiders carry their egg sacs by attaching them to their spinnerets,\n",
    "while the Pisauridae carry their egg sacs with their chelicerae and pedipalps.\n",
    "Two of the wolf spider's eight eyes are large and prominent;\n",
    "this distinguishes them from nursery web spiders,\n",
    "whose eyes are all of roughly equal size.\n",
    "This can also help distinguish them from the similar-looking grass spiders.\n",
    "\"\"\"\n",
    "\n",
    "lycoDocument = Document(\n",
    "    page_content=lycoText,\n",
    "    metadata={'source': 'wikipedia/Lycosidae'}\n",
    ")"
   ]
  },
  {
   "cell_type": "markdown",
   "id": "645b75dd",
   "metadata": {},
   "source": [
    "Use the splitter to \"shred\" the input document:"
   ]
  },
  {
   "cell_type": "code",
   "execution_count": 14,
   "id": "bd0235f3",
   "metadata": {},
   "outputs": [
    {
     "data": {
      "text/plain": [
       "[Document(page_content='Wolf spiders are members of the family Lycosidae.\\nThey are robust and agile hunters with excellent eyesight.\\nThey live mostly in solitude, hunt alone, and usually do not spin webs.\\nSome are opportunistic hunters, pouncing upon prey as they', metadata={'source': 'wikipedia/Lycosidae'}),\n",
       " Document(page_content='Some are opportunistic hunters, pouncing upon prey as they\\nfind it or chasing it over short distances;\\nothers wait for passing prey in or near the mouth of a burrow.', metadata={'source': 'wikipedia/Lycosidae'}),\n",
       " Document(page_content='Wolf spiders resemble nursery web spiders (family Pisauridae),\\nbut wolf spiders carry their egg sacs by attaching them to their spinnerets,\\nwhile the Pisauridae carry their egg sacs with their chelicerae and pedipalps.', metadata={'source': 'wikipedia/Lycosidae'}),\n",
       " Document(page_content=\"while the Pisauridae carry their egg sacs with their chelicerae and pedipalps.\\nTwo of the wolf spider's eight eyes are large and prominent;\\nthis distinguishes them from nursery web spiders,\\nwhose eyes are all of roughly equal size.\", metadata={'source': 'wikipedia/Lycosidae'}),\n",
       " Document(page_content='this distinguishes them from nursery web spiders,\\nwhose eyes are all of roughly equal size.\\nThis can also help distinguish them from the similar-looking grass spiders.', metadata={'source': 'wikipedia/Lycosidae'})]"
      ]
     },
     "execution_count": 14,
     "metadata": {},
     "output_type": "execute_result"
    }
   ],
   "source": [
    "lycoDocs = mySplitter.transform_documents([lycoDocument])\n",
    "lycoDocs"
   ]
  },
  {
   "cell_type": "markdown",
   "id": "28c4b7df",
   "metadata": {},
   "source": [
    "These are ready to be added to the index:"
   ]
  },
  {
   "cell_type": "code",
   "execution_count": 15,
   "id": "cd63a460",
   "metadata": {},
   "outputs": [
    {
     "data": {
      "text/plain": [
       "['078fb9e67d9ed9415d9ef7d1779f7e5d',\n",
       " '32acf980292dac94d9e0cdab6a1f05b5',\n",
       " 'c0a279086e100f559b2fc59213312076',\n",
       " '4a6305de53b6adec0f5e164c1f3856a0',\n",
       " '902d340a12bfbb5756c15296d4a7bb49']"
      ]
     },
     "execution_count": 15,
     "metadata": {},
     "output_type": "execute_result"
    }
   ],
   "source": [
    "myCassandraVStore.add_documents(lycoDocs)"
   ]
  },
  {
   "cell_type": "markdown",
   "id": "4264ed06",
   "metadata": {},
   "source": [
    "### Querying the store again\n",
    "\n",
    "Time to repeat the question:"
   ]
  },
  {
   "cell_type": "code",
   "execution_count": 16,
   "id": "968fd633",
   "metadata": {},
   "outputs": [
    {
     "data": {
      "text/plain": [
       "[(Document(page_content='\\n    The Agelenidae are a large family of spiders in the suborder Araneomorphae.\\n    The body length of the smallest Agelenidae spiders are about 4 mm (0.16 in), excluding the legs,\\n    while the larger species grow to 20 mm (0.79 in) long. Some exceptionally large species,\\n    such as Eratigena atrica, may reach 5 to 10 cm (2.0 to 3.9 in) in total leg span.\\n    Agelenids have eight eyes in two horizontal rows of four. Their cephalothoraces narrow\\n    somewhat towards the front where the eyes are. Their abdomens are more or less oval, usually\\n    patterned with two rows of lines and spots. Some species have longitudinal lines on the dorsal\\n    surface of the cephalothorax, whereas other species do not; for example, the hobo spider does not,\\n    which assists in informally distinguishing it from similar-looking species.\\n    ', metadata={'source': 'wikipedia/Agelenidae'}),\n",
       "  0.9029212109716943),\n",
       " (Document(page_content=\"while the Pisauridae carry their egg sacs with their chelicerae and pedipalps.\\nTwo of the wolf spider's eight eyes are large and prominent;\\nthis distinguishes them from nursery web spiders,\\nwhose eyes are all of roughly equal size.\", metadata={'source': 'wikipedia/Lycosidae'}),\n",
       "  0.9006974734018747),\n",
       " (Document(page_content='Wolf spiders resemble nursery web spiders (family Pisauridae),\\nbut wolf spiders carry their egg sacs by attaching them to their spinnerets,\\nwhile the Pisauridae carry their egg sacs with their chelicerae and pedipalps.', metadata={'source': 'wikipedia/Lycosidae'}),\n",
       "  0.8930485206731311)]"
      ]
     },
     "execution_count": 16,
     "metadata": {},
     "output_type": "execute_result"
    }
   ],
   "source": [
    "myCassandraVStore.similarity_search_with_relevance_scores(\n",
    "    SPIDER_QUESTION,\n",
    "    k=3,\n",
    "    score_threshold=0.8,\n",
    ")"
   ]
  },
  {
   "cell_type": "markdown",
   "id": "bf175934",
   "metadata": {},
   "source": [
    "### Item removal and expiration"
   ]
  },
  {
   "cell_type": "markdown",
   "id": "b7c66437",
   "metadata": {},
   "source": [
    "#### Time-To-Live (TTL)"
   ]
  },
  {
   "cell_type": "markdown",
   "id": "8ac15bed",
   "metadata": {},
   "source": [
    "If you provide a TTL value when creating the store, every entry will expire away a certain time after its insertion:"
   ]
  },
  {
   "cell_type": "code",
   "execution_count": 17,
   "id": "4440547d",
   "metadata": {},
   "outputs": [],
   "source": [
    "myCassandraVStoreWithTTL = Cassandra(\n",
    "    embedding=myEmbedding,\n",
    "    session=localSession,\n",
    "    keyspace='demo',\n",
    "    table_name='vs_test1_' + llmProvider,\n",
    "    ttl_seconds=10,\n",
    ")"
   ]
  },
  {
   "cell_type": "markdown",
   "id": "1349efb9",
   "metadata": {},
   "source": [
    "The following two documents will be available for ten seconds."
   ]
  },
  {
   "cell_type": "code",
   "execution_count": 18,
   "id": "67795aa8",
   "metadata": {},
   "outputs": [
    {
     "data": {
      "text/plain": [
       "['078fb9e67d9ed9415d9ef7d1779f7e5d', '32acf980292dac94d9e0cdab6a1f05b5']"
      ]
     },
     "execution_count": 18,
     "metadata": {},
     "output_type": "execute_result"
    }
   ],
   "source": [
    "myCassandraVStoreWithTTL.add_documents(lycoDocs[0:2])"
   ]
  },
  {
   "cell_type": "markdown",
   "id": "60532ef0",
   "metadata": {},
   "source": [
    "Alternatively, for a finer control of the time-to-live, you can specify it at insertion time -- which would anyway have precedence over the store-level definition. So, these documents will survive for twenty seconds:"
   ]
  },
  {
   "cell_type": "code",
   "execution_count": 19,
   "id": "5cf4511d",
   "metadata": {},
   "outputs": [
    {
     "data": {
      "text/plain": [
       "['c0a279086e100f559b2fc59213312076',\n",
       " '4a6305de53b6adec0f5e164c1f3856a0',\n",
       " '902d340a12bfbb5756c15296d4a7bb49']"
      ]
     },
     "execution_count": 19,
     "metadata": {},
     "output_type": "execute_result"
    }
   ],
   "source": [
    "myCassandraVStore.add_documents(lycoDocs[2:], ttl_seconds=20)"
   ]
  },
  {
   "cell_type": "markdown",
   "id": "d06333c9",
   "metadata": {},
   "source": [
    "#### Manual removal of entries"
   ]
  },
  {
   "cell_type": "markdown",
   "id": "c368f586",
   "metadata": {},
   "source": [
    "You can delete individual documents from the store.\n",
    "\n",
    "However, you first need to retrieve their identifier with a similarity search. The following method returns a list of matching 3-tuples, whose last item is the id of the document:"
   ]
  },
  {
   "cell_type": "code",
   "execution_count": 20,
   "id": "34be03a4",
   "metadata": {},
   "outputs": [
    {
     "name": "stdout",
     "output_type": "stream",
     "text": [
      "  * [0.903] \"The Agelenidae are a large...\" (c35b450d84e94cef37de6a934da51860)\n",
      "  * [0.901] \"while the Pisauridae carry their...\" (4a6305de53b6adec0f5e164c1f3856a0)\n",
      "  * [0.893] \"Wolf spiders resemble nursery we...\" (c0a279086e100f559b2fc59213312076)\n"
     ]
    }
   ],
   "source": [
    "spiderDocIds = []\n",
    "for doc, score, docId in myCassandraVStore.similarity_search_with_score_id('Compare Agelenidae and Lycosidae'):\n",
    "    print(f'  * [{score:.3f}] \"{doc.page_content[:32].strip()}...\" ({docId})')\n",
    "    spiderDocIds.append(docId)"
   ]
  },
  {
   "cell_type": "markdown",
   "id": "a1fb6ece",
   "metadata": {},
   "source": [
    "At this point you can perform the actual document deletion:"
   ]
  },
  {
   "cell_type": "code",
   "execution_count": 21,
   "id": "54c7764e",
   "metadata": {},
   "outputs": [],
   "source": [
    "for spiderDocId in spiderDocIds:\n",
    "    myCassandraVStore.delete_by_document_id(spiderDocId)"
   ]
  },
  {
   "cell_type": "markdown",
   "id": "eb59ae61",
   "metadata": {},
   "source": [
    "The last method to remove entries from the store is demonstrated next."
   ]
  },
  {
   "cell_type": "markdown",
   "id": "b1fbf73d",
   "metadata": {},
   "source": [
    "### Cleanup\n",
    "\n",
    "You're done.\n",
    "\n",
    "In order to leave the index empty for the next demo run, you may want to clean the index (i.e. empty the table on DB).\n",
    "\n",
    "Just don't take this operation lightly in production!"
   ]
  },
  {
   "cell_type": "code",
   "execution_count": 22,
   "id": "3d106e79",
   "metadata": {},
   "outputs": [],
   "source": [
    "myCassandraVStore.clear()"
   ]
  }
 ],
 "metadata": {
  "kernelspec": {
   "display_name": "Python 3 (ipykernel)",
   "language": "python",
   "name": "python3"
  },
  "language_info": {
   "codemirror_mode": {
    "name": "ipython",
    "version": 3
   },
   "file_extension": ".py",
   "mimetype": "text/x-python",
   "name": "python",
   "nbconvert_exporter": "python",
   "pygments_lexer": "ipython3",
   "version": "3.10.11"
  }
 },
 "nbformat": 4,
 "nbformat_minor": 5
}
