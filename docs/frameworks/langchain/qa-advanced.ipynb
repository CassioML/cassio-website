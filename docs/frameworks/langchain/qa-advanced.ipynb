{
 "cells": [
  {
   "cell_type": "markdown",
   "id": "5669f0e5",
   "metadata": {},
   "source": [
    "# VectorStore/QA, learn more"
   ]
  },
  {
   "cell_type": "markdown",
   "id": "c3dd601b",
   "metadata": {},
   "source": [
    "_**NOTE:** this uses Cassandra's \"Vector Search\" capability.\n",
    "Make sure you are connecting to a vector-enabled database for this demo._"
   ]
  },
  {
   "cell_type": "markdown",
   "id": "256567e6",
   "metadata": {},
   "source": [
    "In the previous Quickstart, you have created the index and at the same time added the corpus of text to it.\n",
    "\n",
    "In most cases, these two operations happen at different times: besides, often new documents keep being ingested.\n",
    "\n",
    "This notebook demonstrates further interactions you can have with a Cassandra Vector Store.\n",
    "\n",
    "It is assumed you have run the \"VectorStore/QA, Quickstart\" notebook (so that the vector store is not empty)"
   ]
  },
  {
   "cell_type": "code",
   "execution_count": 1,
   "id": "050cad10",
   "metadata": {},
   "outputs": [],
   "source": [
    "from langchain.indexes.vectorstore import VectorStoreIndexWrapper\n",
    "from langchain.text_splitter import RecursiveCharacterTextSplitter\n",
    "from langchain.docstore.document import Document"
   ]
  },
  {
   "cell_type": "markdown",
   "id": "b3812868",
   "metadata": {},
   "source": [
    "The setup is similar to the one you saw:"
   ]
  },
  {
   "cell_type": "code",
   "execution_count": 2,
   "id": "4f725e73",
   "metadata": {},
   "outputs": [],
   "source": [
    "from langchain.vectorstores.cassandra import Cassandra"
   ]
  },
  {
   "cell_type": "markdown",
   "id": "4578a87b",
   "metadata": {},
   "source": [
    "A database connection is needed. _(If on a Colab, the only supported option is the cloud service Astra DB.)_"
   ]
  },
  {
   "cell_type": "code",
   "execution_count": 3,
   "id": "9515d4af-9fc2-4c29-b9f2-5c90cd48cc1b",
   "metadata": {},
   "outputs": [],
   "source": [
    "# Ensure loading of database credentials into environment variables:\n",
    "import os\n",
    "from dotenv import load_dotenv\n",
    "load_dotenv(\"../../../.env\")\n",
    "\n",
    "import cassio"
   ]
  },
  {
   "cell_type": "markdown",
   "id": "25ee44a4-8d6a-4b41-8a8f-7c93eed35034",
   "metadata": {},
   "source": [
    "Select your choice of database by editing this cell, if needed:"
   ]
  },
  {
   "cell_type": "code",
   "execution_count": 4,
   "id": "bfe78b92-7194-4ee9-ba7f-cd308409212c",
   "metadata": {},
   "outputs": [],
   "source": [
    "database_mode = \"cassandra\"  # \"cassandra\" / \"astra_db\""
   ]
  },
  {
   "cell_type": "code",
   "execution_count": 5,
   "id": "fb5597b3-a028-4d8f-ad6d-8eaf0c941dcc",
   "metadata": {},
   "outputs": [],
   "source": [
    "if database_mode == \"astra_db\":\n",
    "    cassio.init(\n",
    "        database_id=os.environ[\"ASTRA_DB_ID\"],\n",
    "        token=os.environ[\"ASTRA_DB_APPLICATION_TOKEN\"],\n",
    "        keyspace=os.environ.get(\"ASTRA_DB_KEYSPACE\"),  # this is optional\n",
    "    )"
   ]
  },
  {
   "cell_type": "code",
   "execution_count": 6,
   "id": "329d969b-6532-4dc4-a315-1a5438a59919",
   "metadata": {},
   "outputs": [],
   "source": [
    "if database_mode == \"cassandra\":\n",
    "    from cqlsession import getCassandraCQLSession, getCassandraCQLKeyspace\n",
    "    cassio.init(\n",
    "        session=getCassandraCQLSession(),\n",
    "        keyspace=getCassandraCQLKeyspace(),\n",
    "    )"
   ]
  },
  {
   "cell_type": "markdown",
   "id": "ee494289",
   "metadata": {},
   "source": [
    "Below is the logic to instantiate the LLM and embeddings of choice. We chose to leave it in the notebooks for clarity."
   ]
  },
  {
   "cell_type": "code",
   "execution_count": 7,
   "id": "ff22f687",
   "metadata": {},
   "outputs": [
    {
     "name": "stdout",
     "output_type": "stream",
     "text": [
      "LLM+embeddings from OpenAI\n"
     ]
    }
   ],
   "source": [
    "import os\n",
    "from llm_choice import suggestLLMProvider\n",
    "\n",
    "llmProvider = suggestLLMProvider()\n",
    "# (Alternatively set llmProvider to 'GCP_VertexAI', 'OpenAI', 'Azure_OpenAI' ... manually if you have credentials)\n",
    "\n",
    "if llmProvider == 'GCP_VertexAI':\n",
    "    from langchain.llms import VertexAI\n",
    "    from langchain.embeddings import VertexAIEmbeddings\n",
    "    llm = VertexAI()\n",
    "    myEmbedding = VertexAIEmbeddings()\n",
    "    print('LLM+embeddings from Vertex AI')\n",
    "elif llmProvider == 'OpenAI':\n",
    "    os.environ['OPENAI_API_TYPE'] = 'open_ai'\n",
    "    from langchain.llms import OpenAI\n",
    "    from langchain.embeddings import OpenAIEmbeddings\n",
    "    llm = OpenAI(temperature=0)\n",
    "    myEmbedding = OpenAIEmbeddings()\n",
    "    print('LLM+embeddings from OpenAI')\n",
    "elif llmProvider == 'Azure_OpenAI':\n",
    "    os.environ['OPENAI_API_TYPE'] = 'azure'\n",
    "    os.environ['OPENAI_API_VERSION'] = os.environ['AZURE_OPENAI_API_VERSION']\n",
    "    os.environ['OPENAI_API_BASE'] = os.environ['AZURE_OPENAI_API_BASE']\n",
    "    os.environ['OPENAI_API_KEY'] = os.environ['AZURE_OPENAI_API_KEY']\n",
    "    from langchain.llms import AzureOpenAI\n",
    "    from langchain.embeddings import OpenAIEmbeddings\n",
    "    llm = AzureOpenAI(temperature=0, model_name=os.environ['AZURE_OPENAI_LLM_MODEL'],\n",
    "                      engine=os.environ['AZURE_OPENAI_LLM_DEPLOYMENT'])\n",
    "    myEmbedding = OpenAIEmbeddings(model=os.environ['AZURE_OPENAI_EMBEDDINGS_MODEL'],\n",
    "                                   deployment=os.environ['AZURE_OPENAI_EMBEDDINGS_DEPLOYMENT'])\n",
    "    print('LLM+embeddings from Azure OpenAI')\n",
    "else:\n",
    "    raise ValueError('Unknown LLM provider.')"
   ]
  },
  {
   "cell_type": "markdown",
   "id": "f0436e0b",
   "metadata": {},
   "source": [
    "## Re-use an existing Vector Store\n",
    "\n",
    "Creating this `Cassandra` vector store, it will re-connect with the existing data on DB.\n",
    "\n",
    "In practice, you are loading an existing, pre-populated vector store for further usage.\n",
    "\n",
    "_(make sure you are using the very same embedding function every time! In fact, this is why we have a separate table for each embedding function, i.e. for each `llmProvider`.)_"
   ]
  },
  {
   "cell_type": "code",
   "execution_count": 8,
   "id": "11cadf30",
   "metadata": {},
   "outputs": [],
   "source": [
    "myCassandraVStore = Cassandra(\n",
    "    embedding=myEmbedding,\n",
    "    session=None,\n",
    "    keyspace=None,\n",
    "    table_name='vs_test1_' + llmProvider,\n",
    ")"
   ]
  },
  {
   "cell_type": "markdown",
   "id": "13a820b1",
   "metadata": {},
   "source": [
    "You can then re-instantiate the `index` from the vector store with:"
   ]
  },
  {
   "cell_type": "code",
   "execution_count": 9,
   "id": "cb875d00",
   "metadata": {},
   "outputs": [],
   "source": [
    "index = VectorStoreIndexWrapper(vectorstore=myCassandraVStore)"
   ]
  },
  {
   "cell_type": "markdown",
   "id": "cee313c5",
   "metadata": {},
   "source": [
    "and use it as you saw in the \"Vector Similarity Search QA Quickstart\" (`qa-basic.ipynb`):"
   ]
  },
  {
   "cell_type": "code",
   "execution_count": 10,
   "id": "dccc7080",
   "metadata": {},
   "outputs": [
    {
     "data": {
      "text/plain": [
       "' Luchesi is a connoisseur of wine who Fortunato believes can tell Amontillado from Sherry.'"
      ]
     },
     "execution_count": 10,
     "metadata": {},
     "output_type": "execute_result"
    }
   ],
   "source": [
    "query = \"Who is Luchesi?\"\n",
    "index.query(query, llm=llm)"
   ]
  },
  {
   "cell_type": "markdown",
   "id": "fcc30386",
   "metadata": {},
   "source": [
    "## Further usage of the vector store"
   ]
  },
  {
   "cell_type": "markdown",
   "id": "132e479a",
   "metadata": {},
   "source": [
    "These are some of the ways you can query the store:"
   ]
  },
  {
   "cell_type": "code",
   "execution_count": 11,
   "id": "97796bd7",
   "metadata": {},
   "outputs": [
    {
     "data": {
      "text/plain": [
       "[(Document(page_content='\"Nitre,\" I replied.  \"How long have you had that cough?\"\\n\\n\"Ugh! ugh! ugh!--ugh! ugh! ugh!--ugh! ugh! ugh!--ugh! ugh! ugh!--ugh!\\nugh! ugh!\"\\n\\nMy poor friend found it impossible to reply for many minutes.\\n\\n\"It is nothing,\" he said, at last.', metadata={'source': 'texts/amontillado.txt'}),\n",
       "  0.9052705074079563)]"
      ]
     },
     "execution_count": 11,
     "metadata": {},
     "output_type": "execute_result"
    }
   ],
   "source": [
    "myCassandraVStore.similarity_search_with_score(\n",
    "    \"Does anyone have a coughing fit?\",\n",
    "    k=1,\n",
    ")"
   ]
  },
  {
   "cell_type": "markdown",
   "id": "1a172b0c",
   "metadata": {},
   "source": [
    "### Adding new documents\n",
    "\n",
    "Start with a very off-topic question, to demonstrate that no relevant documents are found (yet).\n",
    "\n",
    "_Note: depending on the embedding function, you might still see some results, off-topic in practice, being found at this stage. In a full end-to-end QA session, however, these would likely be discarded by the LLM, which would presumably end up saying, \"I don't know\"._"
   ]
  },
  {
   "cell_type": "code",
   "execution_count": 12,
   "id": "1270f148",
   "metadata": {},
   "outputs": [
    {
     "data": {
      "text/plain": [
       "[(Document(page_content='\"A huge human foot d\\'or, in a field azure; the foot crushes a serpent\\nrampant whose fangs are imbedded in the heel.\"\\n\\n\"And the motto?\"\\n\\n\"_Nemo me impune lacessit_.\"\\n\\n\"Good!\" he said.', metadata={'source': 'texts/amontillado.txt'}),\n",
       "  0.8635507717421345)]"
      ]
     },
     "execution_count": 12,
     "metadata": {},
     "output_type": "execute_result"
    }
   ],
   "source": [
    "SPIDER_QUESTION = 'Compare Agelenidae and Lycosidae'\n",
    "myCassandraVStore.similarity_search_with_relevance_scores(\n",
    "    SPIDER_QUESTION,\n",
    "    k=1,\n",
    "    score_threshold=0.8,\n",
    ")"
   ]
  },
  {
   "cell_type": "markdown",
   "id": "9433df8a",
   "metadata": {},
   "source": [
    "You can add a couple of relevant paragraphs to the index, using the `add_texts` primitive:"
   ]
  },
  {
   "cell_type": "code",
   "execution_count": 13,
   "id": "b863c837",
   "metadata": {},
   "outputs": [
    {
     "name": "stdout",
     "output_type": "stream",
     "text": [
      "8591e0649933477ba4420aec3b8d5da2\n",
      "4956716e443d432a96d9706b5cf1ffe2\n"
     ]
    }
   ],
   "source": [
    "spiderFacts = [\n",
    "    \"\"\"\n",
    "    The Agelenidae are a large family of spiders in the suborder Araneomorphae.\n",
    "    The body length of the smallest Agelenidae spiders are about 4 mm (0.16 in), excluding the legs,\n",
    "    while the larger species grow to 20 mm (0.79 in) long. Some exceptionally large species,\n",
    "    such as Eratigena atrica, may reach 5 to 10 cm (2.0 to 3.9 in) in total leg span.\n",
    "    Agelenids have eight eyes in two horizontal rows of four. Their cephalothoraces narrow\n",
    "    somewhat towards the front where the eyes are. Their abdomens are more or less oval, usually\n",
    "    patterned with two rows of lines and spots. Some species have longitudinal lines on the dorsal\n",
    "    surface of the cephalothorax, whereas other species do not; for example, the hobo spider does not,\n",
    "    which assists in informally distinguishing it from similar-looking species.\n",
    "    \"\"\",\n",
    "    \"\"\"\n",
    "    Jumping spiders are a group of spiders that constitute the family Salticidae.\n",
    "    As of 2019, this family contained over 600 described genera and over 6,000 described species,\n",
    "    making it the largest family of spiders at 13% of all species.\n",
    "    Jumping spiders have some of the best vision among arthropods and use it\n",
    "    in courtship, hunting, and navigation.\n",
    "    Although they normally move unobtrusively and fairly slowly,\n",
    "    most species are capable of very agile jumps, notably when hunting,\n",
    "    but sometimes in response to sudden threats or crossing long gaps.\n",
    "    Both their book lungs and tracheal system are well-developed,\n",
    "    and they use both systems (bimodal breathing).\n",
    "    Jumping spiders are generally recognized by their eye pattern.\n",
    "    All jumping spiders have four pairs of eyes, with the anterior median pair\n",
    "    being particularly large. \n",
    "    \"\"\",\n",
    "]\n",
    "spiderMetadatas = [\n",
    "    {'source': 'wikipedia/Agelenidae'},\n",
    "    {'source': 'wikipedia/Salticidae'},\n",
    "]\n",
    "\n",
    "if llmProvider != 'Azure_OpenAI':\n",
    "    ids = myCassandraVStore.add_texts(\n",
    "        spiderFacts,\n",
    "        spiderMetadatas,\n",
    "    )\n",
    "    print('\\n'.join(ids))\n",
    "else:\n",
    "    # Note: this is a temporary mitigation of an Azure OpenAI error with asking for\n",
    "    #       multiple embedding in a single request, which would error with:\n",
    "    #           \"InvalidRequestError: Too many inputs. The max number of inputs is 1\"\n",
    "    for spFact, spMetadata in zip(spiderFacts, spiderMetadatas):\n",
    "        thisId = myCassandraVStore.add_texts(\n",
    "            [spFact],\n",
    "            [spMetadata],\n",
    "        )[0]\n",
    "        print(thisId)"
   ]
  },
  {
   "cell_type": "markdown",
   "id": "6a6bc9d4",
   "metadata": {},
   "source": [
    "Another way is to add a text through LangChain's `Document` abstraction.\n",
    "\n",
    "Note that, using one of LangChain's splitters, long input documents are made into (possibly overlapping) digestible chunks without much boilerplate:"
   ]
  },
  {
   "cell_type": "code",
   "execution_count": 14,
   "id": "7ef4761c",
   "metadata": {},
   "outputs": [],
   "source": [
    "mySplitter = RecursiveCharacterTextSplitter(chunk_size=250, chunk_overlap=120)"
   ]
  },
  {
   "cell_type": "code",
   "execution_count": 15,
   "id": "0d3c95a4",
   "metadata": {},
   "outputs": [],
   "source": [
    "lycoText = \"\"\"\n",
    "Wolf spiders are members of the family Lycosidae.\n",
    "They are robust and agile hunters with excellent eyesight.\n",
    "They live mostly in solitude, hunt alone, and usually do not spin webs.\n",
    "Some are opportunistic hunters, pouncing upon prey as they\n",
    "find it or chasing it over short distances;\n",
    "others wait for passing prey in or near the mouth of a burrow.\n",
    "\n",
    "Wolf spiders resemble nursery web spiders (family Pisauridae),\n",
    "but wolf spiders carry their egg sacs by attaching them to their spinnerets,\n",
    "while the Pisauridae carry their egg sacs with their chelicerae and pedipalps.\n",
    "Two of the wolf spider's eight eyes are large and prominent;\n",
    "this distinguishes them from nursery web spiders,\n",
    "whose eyes are all of roughly equal size.\n",
    "This can also help distinguish them from the similar-looking grass spiders.\n",
    "\"\"\"\n",
    "\n",
    "lycoDocument = Document(\n",
    "    page_content=lycoText,\n",
    "    metadata={'source': 'wikipedia/Lycosidae'}\n",
    ")"
   ]
  },
  {
   "cell_type": "markdown",
   "id": "952ab1e2",
   "metadata": {},
   "source": [
    "Use the splitter to \"shred\" the input document:"
   ]
  },
  {
   "cell_type": "code",
   "execution_count": 16,
   "id": "53c8841e",
   "metadata": {},
   "outputs": [
    {
     "data": {
      "text/plain": [
       "[Document(page_content='Wolf spiders are members of the family Lycosidae.\\nThey are robust and agile hunters with excellent eyesight.\\nThey live mostly in solitude, hunt alone, and usually do not spin webs.\\nSome are opportunistic hunters, pouncing upon prey as they', metadata={'source': 'wikipedia/Lycosidae'}),\n",
       " Document(page_content='Some are opportunistic hunters, pouncing upon prey as they\\nfind it or chasing it over short distances;\\nothers wait for passing prey in or near the mouth of a burrow.', metadata={'source': 'wikipedia/Lycosidae'}),\n",
       " Document(page_content='Wolf spiders resemble nursery web spiders (family Pisauridae),\\nbut wolf spiders carry their egg sacs by attaching them to their spinnerets,\\nwhile the Pisauridae carry their egg sacs with their chelicerae and pedipalps.', metadata={'source': 'wikipedia/Lycosidae'}),\n",
       " Document(page_content=\"while the Pisauridae carry their egg sacs with their chelicerae and pedipalps.\\nTwo of the wolf spider's eight eyes are large and prominent;\\nthis distinguishes them from nursery web spiders,\\nwhose eyes are all of roughly equal size.\", metadata={'source': 'wikipedia/Lycosidae'}),\n",
       " Document(page_content='this distinguishes them from nursery web spiders,\\nwhose eyes are all of roughly equal size.\\nThis can also help distinguish them from the similar-looking grass spiders.', metadata={'source': 'wikipedia/Lycosidae'})]"
      ]
     },
     "execution_count": 16,
     "metadata": {},
     "output_type": "execute_result"
    }
   ],
   "source": [
    "lycoDocs = mySplitter.transform_documents([lycoDocument])\n",
    "lycoDocs"
   ]
  },
  {
   "cell_type": "markdown",
   "id": "6d89ab56",
   "metadata": {},
   "source": [
    "These are ready to be added to the index:"
   ]
  },
  {
   "cell_type": "code",
   "execution_count": 17,
   "id": "b2c7fd64",
   "metadata": {},
   "outputs": [
    {
     "name": "stdout",
     "output_type": "stream",
     "text": [
      "b7e6eb16550d4d28b2b2fe9119bf5712\n",
      "f274790734504c0dbd6becfe9f820ecb\n",
      "c1c8983c557a4b0e9ee103275a289008\n",
      "ace6957d368a4e1683f66f7bca4a7689\n",
      "3d1de4166b454b0c91ceeb41d992d779\n"
     ]
    }
   ],
   "source": [
    "if llmProvider != 'Azure_OpenAI':\n",
    "    ids = myCassandraVStore.add_documents(lycoDocs)\n",
    "    print('\\n'.join(ids))\n",
    "else:\n",
    "    # Note: this is a temporary mitigation of an Azure OpenAI error with asking for\n",
    "    #       multiple embedding in a single request, which would error with:\n",
    "    #           \"InvalidRequestError: Too many inputs. The max number of inputs is 1\"\n",
    "    for lycoDoc in lycoDocs:\n",
    "        thisId = myCassandraVStore.add_documents([lycoDoc])[0]\n",
    "        print(thisId)"
   ]
  },
  {
   "cell_type": "markdown",
   "id": "304bb956",
   "metadata": {},
   "source": [
    "### Querying the store again\n",
    "\n",
    "Time to repeat the question:"
   ]
  },
  {
   "cell_type": "code",
   "execution_count": 18,
   "id": "95567466",
   "metadata": {},
   "outputs": [
    {
     "data": {
      "text/plain": [
       "[(Document(page_content='\\n    The Agelenidae are a large family of spiders in the suborder Araneomorphae.\\n    The body length of the smallest Agelenidae spiders are about 4 mm (0.16 in), excluding the legs,\\n    while the larger species grow to 20 mm (0.79 in) long. Some exceptionally large species,\\n    such as Eratigena atrica, may reach 5 to 10 cm (2.0 to 3.9 in) in total leg span.\\n    Agelenids have eight eyes in two horizontal rows of four. Their cephalothoraces narrow\\n    somewhat towards the front where the eyes are. Their abdomens are more or less oval, usually\\n    patterned with two rows of lines and spots. Some species have longitudinal lines on the dorsal\\n    surface of the cephalothorax, whereas other species do not; for example, the hobo spider does not,\\n    which assists in informally distinguishing it from similar-looking species.\\n    ', metadata={'source': 'wikipedia/Agelenidae'}),\n",
       "  0.9029694961210916),\n",
       " (Document(page_content=\"while the Pisauridae carry their egg sacs with their chelicerae and pedipalps.\\nTwo of the wolf spider's eight eyes are large and prominent;\\nthis distinguishes them from nursery web spiders,\\nwhose eyes are all of roughly equal size.\", metadata={'source': 'wikipedia/Lycosidae'}),\n",
       "  0.9007341011796064),\n",
       " (Document(page_content='Wolf spiders resemble nursery web spiders (family Pisauridae),\\nbut wolf spiders carry their egg sacs by attaching them to their spinnerets,\\nwhile the Pisauridae carry their egg sacs with their chelicerae and pedipalps.', metadata={'source': 'wikipedia/Lycosidae'}),\n",
       "  0.893099616943348)]"
      ]
     },
     "execution_count": 18,
     "metadata": {},
     "output_type": "execute_result"
    }
   ],
   "source": [
    "myCassandraVStore.similarity_search_with_relevance_scores(\n",
    "    SPIDER_QUESTION,\n",
    "    k=3,\n",
    "    score_threshold=0.8,\n",
    ")"
   ]
  },
  {
   "cell_type": "markdown",
   "id": "334354ee",
   "metadata": {},
   "source": [
    "### Item removal and expiration"
   ]
  },
  {
   "cell_type": "markdown",
   "id": "54f17c35",
   "metadata": {},
   "source": [
    "#### Time-To-Live (TTL)"
   ]
  },
  {
   "cell_type": "markdown",
   "id": "d8922961",
   "metadata": {},
   "source": [
    "If you provide a TTL value when creating the store, every entry will expire away a certain time after its insertion:"
   ]
  },
  {
   "cell_type": "code",
   "execution_count": 19,
   "id": "dd0fd906",
   "metadata": {},
   "outputs": [],
   "source": [
    "myCassandraVStoreWithTTL = Cassandra(\n",
    "    embedding=myEmbedding,\n",
    "    session=None,\n",
    "    keyspace=None,\n",
    "    table_name='vs_test1_shortlived_' + llmProvider,\n",
    "    ttl_seconds=120,\n",
    ")"
   ]
  },
  {
   "cell_type": "markdown",
   "id": "2a907769",
   "metadata": {},
   "source": [
    "The following two documents will be available for two minutes."
   ]
  },
  {
   "cell_type": "code",
   "execution_count": 20,
   "id": "ecec2fd8",
   "metadata": {},
   "outputs": [
    {
     "name": "stdout",
     "output_type": "stream",
     "text": [
      "1e190faf6561489190d242cb96106c92\n",
      "7c74e98579dc4fc495de3d8ab46c81a3\n"
     ]
    }
   ],
   "source": [
    "if llmProvider != 'Azure_OpenAI':\n",
    "    ids = myCassandraVStoreWithTTL.add_documents(lycoDocs[0:2])\n",
    "    print('\\n'.join(ids))\n",
    "else:\n",
    "    # Note: this is a temporary mitigation of an Azure OpenAI error with asking for\n",
    "    #       multiple embedding in a single request, which would error with:\n",
    "    #           \"InvalidRequestError: Too many inputs. The max number of inputs is 1\"\n",
    "    for lycoDoc in lycoDocs[0:2]:\n",
    "        thisId = myCassandraVStoreWithTTL.add_documents([lycoDoc])[0]\n",
    "        print(thisId)"
   ]
  },
  {
   "cell_type": "markdown",
   "id": "f902b173",
   "metadata": {},
   "source": [
    "Alternatively, for a finer control of the time-to-live, you can specify it at insertion time -- which would anyway have precedence over the store-level definition. So, these documents will survive for twenty seconds:"
   ]
  },
  {
   "cell_type": "code",
   "execution_count": 21,
   "id": "b1a874a5",
   "metadata": {},
   "outputs": [
    {
     "name": "stdout",
     "output_type": "stream",
     "text": [
      "ff69c70273644e1fbd3f1f2257ea49cc\n",
      "15b764a073274ba5981364aa6a966576\n",
      "1483833ffd914486b4fffbc0c01e998f\n"
     ]
    }
   ],
   "source": [
    "if llmProvider != 'Azure_OpenAI':\n",
    "    ids = myCassandraVStore.add_documents(lycoDocs[2:], ttl_seconds=20)\n",
    "    print('\\n'.join(ids))\n",
    "else:\n",
    "    # Note: this is a temporary mitigation of an Azure OpenAI error with asking for\n",
    "    #       multiple embedding in a single request, which would error with:\n",
    "    #           \"InvalidRequestError: Too many inputs. The max number of inputs is 1\"\n",
    "    for lycoDoc in lycoDocs[2:]:\n",
    "        thisId = myCassandraVStore.add_documents([lycoDoc], ttl_seconds=20)[0]\n",
    "        print(thisId)"
   ]
  },
  {
   "cell_type": "markdown",
   "id": "36c8ef12",
   "metadata": {},
   "source": [
    "#### Manual removal of entries"
   ]
  },
  {
   "cell_type": "markdown",
   "id": "301e3e25",
   "metadata": {},
   "source": [
    "You can delete individual documents from the store.\n",
    "\n",
    "However, you first need to retrieve their identifier with a similarity search. The following method returns a list of matching 3-tuples, whose last item is the id of the document:"
   ]
  },
  {
   "cell_type": "code",
   "execution_count": 22,
   "id": "ceb1a809",
   "metadata": {},
   "outputs": [
    {
     "name": "stdout",
     "output_type": "stream",
     "text": [
      "  * [0.903] \"The Agelenidae are a large...\" (8591e0649933477ba4420aec3b8d5da2)\n",
      "  * [0.901] \"while the Pisauridae carry their...\" (15b764a073274ba5981364aa6a966576)\n",
      "  * [0.901] \"while the Pisauridae carry their...\" (ace6957d368a4e1683f66f7bca4a7689)\n",
      "  * [0.893] \"Wolf spiders resemble nursery we...\" (ff69c70273644e1fbd3f1f2257ea49cc)\n"
     ]
    }
   ],
   "source": [
    "spiderDocIds = []\n",
    "for doc, score, docId in myCassandraVStore.similarity_search_with_score_id('Compare Agelenidae and Lycosidae'):\n",
    "    print(f'  * [{score:.3f}] \"{doc.page_content[:32].strip()}...\" ({docId})')\n",
    "    spiderDocIds.append(docId)"
   ]
  },
  {
   "cell_type": "markdown",
   "id": "23a2dddf",
   "metadata": {},
   "source": [
    "At this point you can perform the actual document deletion:"
   ]
  },
  {
   "cell_type": "code",
   "execution_count": 23,
   "id": "a9f303cf",
   "metadata": {},
   "outputs": [],
   "source": [
    "for spiderDocId in spiderDocIds:\n",
    "    myCassandraVStore.delete_by_document_id(spiderDocId)"
   ]
  },
  {
   "cell_type": "markdown",
   "id": "26e9339f",
   "metadata": {},
   "source": [
    "The last method to remove entries from the store is demonstrated next."
   ]
  },
  {
   "cell_type": "markdown",
   "id": "b8cbad6a",
   "metadata": {},
   "source": [
    "### Cleanup\n",
    "\n",
    "You're done.\n",
    "\n",
    "In order to leave the index empty for the next demo run, you may want to clean the index (i.e. empty the table on DB).\n",
    "\n",
    "Just don't take this operation lightly in production!"
   ]
  },
  {
   "cell_type": "code",
   "execution_count": 24,
   "id": "8bb1dc91",
   "metadata": {},
   "outputs": [],
   "source": [
    "myCassandraVStore.clear()"
   ]
  }
 ],
 "metadata": {
  "kernelspec": {
   "display_name": "Python 3 (ipykernel)",
   "language": "python",
   "name": "python3"
  },
  "language_info": {
   "codemirror_mode": {
    "name": "ipython",
    "version": 3
   },
   "file_extension": ".py",
   "mimetype": "text/x-python",
   "name": "python",
   "nbconvert_exporter": "python",
   "pygments_lexer": "ipython3"
  }
 },
 "nbformat": 4,
 "nbformat_minor": 5
}
