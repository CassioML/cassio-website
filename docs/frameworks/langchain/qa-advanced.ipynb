{
 "cells": [
  {
   "cell_type": "markdown",
   "id": "657fc017",
   "metadata": {},
   "source": [
    "# More VectorStore QA"
   ]
  },
  {
   "cell_type": "markdown",
   "id": "82a8bdad",
   "metadata": {},
   "source": [
    "_**NOTE:** this uses Cassandra's experimental \"Vector Similarity Search\" capability.\n",
    "At the moment, this is obtained by building and running an early alpha from a specific branch of the codebase._"
   ]
  },
  {
   "cell_type": "markdown",
   "id": "79efbabc",
   "metadata": {},
   "source": [
    "In the previous Quickstart, you have created the inded and at the same time added the corpus of text to it.\n",
    "\n",
    "In most cases, these two operations happen at different times: besides, often new documents keep being ingested.\n",
    "\n",
    "This notebook demonstrates further interactions you can have with a Cassandra Vector Store.\n",
    "\n",
    "It is assumed you have run the Quickstart notebook (so that the vector store is not empty)"
   ]
  },
  {
   "cell_type": "code",
   "execution_count": 1,
   "id": "cf5d698b",
   "metadata": {},
   "outputs": [],
   "source": [
    "from langchain.text_splitter import RecursiveCharacterTextSplitter\n",
    "from langchain.docstore.document import Document"
   ]
  },
  {
   "cell_type": "markdown",
   "id": "17d782a3",
   "metadata": {},
   "source": [
    "The setup is similar to the one you saw:"
   ]
  },
  {
   "cell_type": "code",
   "execution_count": 2,
   "id": "8f54e3e0",
   "metadata": {},
   "outputs": [],
   "source": [
    "from langchain.vectorstores.cassandra import Cassandra"
   ]
  },
  {
   "cell_type": "code",
   "execution_count": 3,
   "id": "55e8377c",
   "metadata": {},
   "outputs": [],
   "source": [
    "from cqlsession import getLocalSession, getLocalKeyspace\n",
    "localSession = getLocalSession()\n",
    "localKeyspace = getLocalKeyspace()"
   ]
  },
  {
   "cell_type": "code",
   "execution_count": 4,
   "id": "ba0112cd",
   "metadata": {},
   "outputs": [],
   "source": [
    "from langchain.llms import OpenAI\n",
    "from langchain.embeddings import OpenAIEmbeddings\n",
    "\n",
    "llm = OpenAI(temperature=0)\n",
    "myEmbedding = OpenAIEmbeddings()"
   ]
  },
  {
   "cell_type": "markdown",
   "id": "062f5ba2",
   "metadata": {},
   "source": [
    "**Note**: for the time being you have to explicitly _turn on this experimental flag_ on the `cassio` side:"
   ]
  },
  {
   "cell_type": "code",
   "execution_count": 5,
   "id": "349054e8",
   "metadata": {},
   "outputs": [],
   "source": [
    "import cassio\n",
    "cassio.globals.enableExperimentalVectorSearch()"
   ]
  },
  {
   "cell_type": "markdown",
   "id": "9a55404d",
   "metadata": {},
   "source": [
    "## Re-use an existing Vector Store\n",
    "\n",
    "Creating this `Cassandra` vector store, it will re-connect with the existing data on DB.\n",
    "\n",
    "In practice, you are loading an existing, pre-populated vector store for further usage.\n",
    "\n",
    "_(make sure you are using the very same embedding function every time!)_"
   ]
  },
  {
   "cell_type": "code",
   "execution_count": 6,
   "id": "89bddeca",
   "metadata": {},
   "outputs": [],
   "source": [
    "myCassandraVStore = Cassandra(\n",
    "    embedding=myEmbedding,\n",
    "    session=localSession,\n",
    "    keyspace='demo',\n",
    "    table_name='vs_test1',\n",
    ")"
   ]
  },
  {
   "cell_type": "markdown",
   "id": "16419765",
   "metadata": {},
   "source": [
    "These are some of the ways you can query the store:"
   ]
  },
  {
   "cell_type": "code",
   "execution_count": 7,
   "id": "3ebaaf9a",
   "metadata": {},
   "outputs": [
    {
     "data": {
      "text/plain": [
       "[(Document(page_content='\"Nitre,\" I replied.  \"How long have you had that cough?\"\\n\\n\"Ugh! ugh! ugh!--ugh! ugh! ugh!--ugh! ugh! ugh!--ugh! ugh! ugh!--ugh!\\nugh! ugh!\"\\n\\nMy poor friend found it impossible to reply for many minutes.\\n\\n\"It is nothing,\" he said, at last.', metadata={'source': 'texts/amontillado.txt'}),\n",
       "  0.905196785033554)]"
      ]
     },
     "execution_count": 7,
     "metadata": {},
     "output_type": "execute_result"
    }
   ],
   "source": [
    "myCassandraVStore.similarity_search_with_score(\n",
    "    \"Does anyone have a coughing fit?\",\n",
    "    k=1,\n",
    ")"
   ]
  },
  {
   "cell_type": "markdown",
   "id": "e62b3aed",
   "metadata": {},
   "source": [
    "### Adding new documents\n",
    "\n",
    "Start with a very off-topic question, to demonstrate that no relevant documents are found (yet)."
   ]
  },
  {
   "cell_type": "code",
   "execution_count": 8,
   "id": "0c803127",
   "metadata": {},
   "outputs": [
    {
     "name": "stderr",
     "output_type": "stream",
     "text": [
      "/home/stefano/personal/Datastax/code/my_github/langchain/langchain/vectorstores/base.py:151: UserWarning: No relevant docs were retrieved using the relevance score                          threshold 0.88\n",
      "  warnings.warn(\n"
     ]
    },
    {
     "data": {
      "text/plain": [
       "[]"
      ]
     },
     "execution_count": 8,
     "metadata": {},
     "output_type": "execute_result"
    }
   ],
   "source": [
    "SPIDER_QUESTION = 'Compare Agelenidae and Lycosidae'\n",
    "myCassandraVStore.similarity_search_with_relevance_scores(\n",
    "    SPIDER_QUESTION,\n",
    "    k=1,\n",
    "    score_threshold=0.88,\n",
    ")"
   ]
  },
  {
   "cell_type": "markdown",
   "id": "add1d478",
   "metadata": {},
   "source": [
    "You can add a couple of relevant paragraphs to the index, using the `add_texts` primitive:"
   ]
  },
  {
   "cell_type": "code",
   "execution_count": 9,
   "id": "aa3e5187",
   "metadata": {},
   "outputs": [
    {
     "data": {
      "text/plain": [
       "['616746f0-fa57-11ed-b001-9f03b87aa84c',\n",
       " '616746f1-fa57-11ed-b001-9f03b87aa84c']"
      ]
     },
     "execution_count": 9,
     "metadata": {},
     "output_type": "execute_result"
    }
   ],
   "source": [
    "spiderFacts = [\n",
    "    \"\"\"\n",
    "    The Agelenidae are a large family of spiders in the suborder Araneomorphae.\n",
    "    The body length of the smallest Agelenidae spiders are about 4 mm (0.16 in), excluding the legs,\n",
    "    while the larger species grow to 20 mm (0.79 in) long. Some exceptionally large species,\n",
    "    such as Eratigena atrica, may reach 5 to 10 cm (2.0 to 3.9 in) in total leg span.\n",
    "    Agelenids have eight eyes in two horizontal rows of four. Their cephalothoraces narrow\n",
    "    somewhat towards the front where the eyes are. Their abdomens are more or less oval, usually\n",
    "    patterned with two rows of lines and spots. Some species have longitudinal lines on the dorsal\n",
    "    surface of the cephalothorax, whereas other species do not; for example, the hobo spider does not,\n",
    "    which assists in informally distinguishing it from similar-looking species.\n",
    "    \"\"\",\n",
    "    \"\"\"\n",
    "    Jumping spiders are a group of spiders that constitute the family Salticidae.\n",
    "    As of 2019, this family contained over 600 described genera and over 6,000 described species,\n",
    "    making it the largest family of spiders at 13% of all species.\n",
    "    Jumping spiders have some of the best vision among arthropods and use it\n",
    "    in courtship, hunting, and navigation.\n",
    "    Although they normally move unobtrusively and fairly slowly,\n",
    "    most species are capable of very agile jumps, notably when hunting,\n",
    "    but sometimes in response to sudden threats or crossing long gaps.\n",
    "    Both their book lungs and tracheal system are well-developed,\n",
    "    and they use both systems (bimodal breathing).\n",
    "    Jumping spiders are generally recognized by their eye pattern.\n",
    "    All jumping spiders have four pairs of eyes, with the anterior median pair\n",
    "    being particularly large. \n",
    "    \"\"\",\n",
    "]\n",
    "spiderMetadatas = [\n",
    "    {'source': 'wikipedia/Agelenidae'},\n",
    "    {'source': 'wikipedia/Salticidae'},\n",
    "]\n",
    "myCassandraVStore.add_texts(\n",
    "    spiderFacts,\n",
    "    spiderMetadatas,\n",
    ")"
   ]
  },
  {
   "cell_type": "markdown",
   "id": "cce3cfbc",
   "metadata": {},
   "source": [
    "Another way is to add a text through LangChain's `Document` abstraction.\n",
    "\n",
    "Note that, using one of LangChain's splitters, long input documents are made into (possibly overlapping) digestible chunks without much boilerplate:"
   ]
  },
  {
   "cell_type": "code",
   "execution_count": 10,
   "id": "96773980",
   "metadata": {},
   "outputs": [],
   "source": [
    "mySplitter = RecursiveCharacterTextSplitter(chunk_size=250, chunk_overlap=120)"
   ]
  },
  {
   "cell_type": "code",
   "execution_count": 11,
   "id": "bcbdfc54",
   "metadata": {},
   "outputs": [],
   "source": [
    "lycoText = \"\"\"\n",
    "Wolf spiders are members of the family Lycosidae.\n",
    "They are robust and agile hunters with excellent eyesight.\n",
    "They live mostly in solitude, hunt alone, and usually do not spin webs.\n",
    "Some are opportunistic hunters, pouncing upon prey as they\n",
    "find it or chasing it over short distances;\n",
    "others wait for passing prey in or near the mouth of a burrow.\n",
    "\n",
    "Wolf spiders resemble nursery web spiders (family Pisauridae),\n",
    "but wolf spiders carry their egg sacs by attaching them to their spinnerets,\n",
    "while the Pisauridae carry their egg sacs with their chelicerae and pedipalps.\n",
    "Two of the wolf spider's eight eyes are large and prominent;\n",
    "this distinguishes them from nursery web spiders,\n",
    "whose eyes are all of roughly equal size.\n",
    "This can also help distinguish them from the similar-looking grass spiders.\n",
    "\"\"\"\n",
    "\n",
    "lycoDocument = Document(\n",
    "    page_content=lycoText,\n",
    "    metadata={'source': 'wikipedia/Lycosidae'}\n",
    ")"
   ]
  },
  {
   "cell_type": "markdown",
   "id": "645b75dd",
   "metadata": {},
   "source": [
    "Use the splitter to \"shred\" the input document:"
   ]
  },
  {
   "cell_type": "code",
   "execution_count": 12,
   "id": "bd0235f3",
   "metadata": {},
   "outputs": [
    {
     "data": {
      "text/plain": [
       "[Document(page_content='Wolf spiders are members of the family Lycosidae.\\nThey are robust and agile hunters with excellent eyesight.\\nThey live mostly in solitude, hunt alone, and usually do not spin webs.\\nSome are opportunistic hunters, pouncing upon prey as they', metadata={'source': 'wikipedia/Lycosidae'}),\n",
       " Document(page_content='Some are opportunistic hunters, pouncing upon prey as they\\nfind it or chasing it over short distances;\\nothers wait for passing prey in or near the mouth of a burrow.', metadata={'source': 'wikipedia/Lycosidae'}),\n",
       " Document(page_content='Wolf spiders resemble nursery web spiders (family Pisauridae),\\nbut wolf spiders carry their egg sacs by attaching them to their spinnerets,\\nwhile the Pisauridae carry their egg sacs with their chelicerae and pedipalps.', metadata={'source': 'wikipedia/Lycosidae'}),\n",
       " Document(page_content=\"while the Pisauridae carry their egg sacs with their chelicerae and pedipalps.\\nTwo of the wolf spider's eight eyes are large and prominent;\\nthis distinguishes them from nursery web spiders,\\nwhose eyes are all of roughly equal size.\", metadata={'source': 'wikipedia/Lycosidae'}),\n",
       " Document(page_content='this distinguishes them from nursery web spiders,\\nwhose eyes are all of roughly equal size.\\nThis can also help distinguish them from the similar-looking grass spiders.', metadata={'source': 'wikipedia/Lycosidae'})]"
      ]
     },
     "execution_count": 12,
     "metadata": {},
     "output_type": "execute_result"
    }
   ],
   "source": [
    "lycoDocs = mySplitter.transform_documents([lycoDocument])\n",
    "lycoDocs"
   ]
  },
  {
   "cell_type": "markdown",
   "id": "28c4b7df",
   "metadata": {},
   "source": [
    "These are ready to be added to the index:"
   ]
  },
  {
   "cell_type": "code",
   "execution_count": 13,
   "id": "cd63a460",
   "metadata": {},
   "outputs": [
    {
     "data": {
      "text/plain": [
       "['662bf3b6-fa57-11ed-b001-9f03b87aa84c',\n",
       " '662bf3b7-fa57-11ed-b001-9f03b87aa84c',\n",
       " '662bf3b8-fa57-11ed-b001-9f03b87aa84c',\n",
       " '662bf3b9-fa57-11ed-b001-9f03b87aa84c',\n",
       " '662bf3ba-fa57-11ed-b001-9f03b87aa84c']"
      ]
     },
     "execution_count": 13,
     "metadata": {},
     "output_type": "execute_result"
    }
   ],
   "source": [
    "myCassandraVStore.add_documents(lycoDocs)"
   ]
  },
  {
   "cell_type": "markdown",
   "id": "4264ed06",
   "metadata": {},
   "source": [
    "### Querying the index (the store) again\n",
    "\n",
    "Time to repeat the question:"
   ]
  },
  {
   "cell_type": "code",
   "execution_count": 14,
   "id": "968fd633",
   "metadata": {},
   "outputs": [
    {
     "data": {
      "text/plain": [
       "[(Document(page_content='\\n    The Agelenidae are a large family of spiders in the suborder Araneomorphae.\\n    The body length of the smallest Agelenidae spiders are about 4 mm (0.16 in), excluding the legs,\\n    while the larger species grow to 20 mm (0.79 in) long. Some exceptionally large species,\\n    such as Eratigena atrica, may reach 5 to 10 cm (2.0 to 3.9 in) in total leg span.\\n    Agelenids have eight eyes in two horizontal rows of four. Their cephalothoraces narrow\\n    somewhat towards the front where the eyes are. Their abdomens are more or less oval, usually\\n    patterned with two rows of lines and spots. Some species have longitudinal lines on the dorsal\\n    surface of the cephalothorax, whereas other species do not; for example, the hobo spider does not,\\n    which assists in informally distinguishing it from similar-looking species.\\n    ', metadata={'source': 'wikipedia/Agelenidae'}),\n",
       "  0.902924684573849),\n",
       " (Document(page_content=\"while the Pisauridae carry their egg sacs with their chelicerae and pedipalps.\\nTwo of the wolf spider's eight eyes are large and prominent;\\nthis distinguishes them from nursery web spiders,\\nwhose eyes are all of roughly equal size.\", metadata={'source': 'wikipedia/Lycosidae'}),\n",
       "  0.9006974734018747),\n",
       " (Document(page_content='Wolf spiders resemble nursery web spiders (family Pisauridae),\\nbut wolf spiders carry their egg sacs by attaching them to their spinnerets,\\nwhile the Pisauridae carry their egg sacs with their chelicerae and pedipalps.', metadata={'source': 'wikipedia/Lycosidae'}),\n",
       "  0.8930485206731311)]"
      ]
     },
     "execution_count": 14,
     "metadata": {},
     "output_type": "execute_result"
    }
   ],
   "source": [
    "myCassandraVStore.similarity_search_with_relevance_scores(\n",
    "    SPIDER_QUESTION,\n",
    "    k=3,\n",
    "    score_threshold=0.88,\n",
    ")"
   ]
  },
  {
   "cell_type": "markdown",
   "id": "b1fbf73d",
   "metadata": {},
   "source": [
    "### Cleanup\n",
    "\n",
    "You're done.\n",
    "\n",
    "In order to leave the index empty for the next demo run, you may want to clean the index (i.e. empty the table on DB).\n",
    "\n",
    "Just don't do that in production!"
   ]
  },
  {
   "cell_type": "code",
   "execution_count": 15,
   "id": "3d106e79",
   "metadata": {},
   "outputs": [],
   "source": [
    "myCassandraVStore.delete_collection()"
   ]
  }
 ],
 "metadata": {
  "kernelspec": {
   "display_name": "Python 3 (ipykernel)",
   "language": "python",
   "name": "python3"
  },
  "language_info": {
   "codemirror_mode": {
    "name": "ipython",
    "version": 3
   },
   "file_extension": ".py",
   "mimetype": "text/x-python",
   "name": "python",
   "nbconvert_exporter": "python",
   "pygments_lexer": "ipython3",
   "version": "3.10.11"
  }
 },
 "nbformat": 4,
 "nbformat_minor": 5
}
