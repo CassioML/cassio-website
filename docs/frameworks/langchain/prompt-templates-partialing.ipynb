{
 "cells": [
  {
   "cell_type": "markdown",
   "id": "35b178d5",
   "metadata": {},
   "source": [
    "# Partialing Prompt Templates"
   ]
  },
  {
   "cell_type": "markdown",
   "id": "50c451ba",
   "metadata": {},
   "source": [
    "Cassandra-powered prompt templates support partialing. Building on the previous examples:"
   ]
  },
  {
   "cell_type": "code",
   "execution_count": 1,
   "id": "6e73ed73",
   "metadata": {},
   "outputs": [],
   "source": [
    "from langchain.prompts import createCassandraPromptTemplate"
   ]
  },
  {
   "cell_type": "code",
   "execution_count": 2,
   "id": "ed030715",
   "metadata": {},
   "outputs": [
    {
     "name": "stderr",
     "output_type": "stream",
     "text": [
      "/home/stefano/.virtualenvs/langchain-cassio-3.10/lib/python3.10/site-packages/cassandra/io/asyncorereactor.py:34: DeprecationWarning: The asyncore module is deprecated and will be removed in Python 3.12. The recommended replacement is asyncio\n",
      "  import asyncore\n",
      "/home/stefano/.virtualenvs/langchain-cassio-3.10/lib/python3.10/site-packages/cassandra/datastax/cloud/__init__.py:173: DeprecationWarning: ssl.PROTOCOL_TLS is deprecated\n",
      "  ssl_context = SSLContext(PROTOCOL_TLS)\n",
      "/home/stefano/.virtualenvs/langchain-cassio-3.10/lib/python3.10/site-packages/cassandra/io/asyncorereactor.py:347: DeprecationWarning: ssl.match_hostname() is deprecated\n",
      "  self._connect_socket()\n"
     ]
    }
   ],
   "source": [
    "from cqlsession import getCQLSession, getCQLKeyspace\n",
    "astraSession = getCQLSession()\n",
    "astraKeyspace = getCQLKeyspace()\n",
    "\n",
    "ctemplate0 = \"\"\"Please answer a question from a user.\n",
    "Keep in mind that the user's age is {user_age} and they live in a city with\n",
    "nickname {city_nickname}.\n",
    "\n",
    "USER'S QUESTION: {user_question}\n",
    "YOUR ANSWER:\n",
    "\"\"\"\n",
    "\n",
    "cassPrompt = createCassandraPromptTemplate(\n",
    "    session=astraSession,\n",
    "    keyspace=astraKeyspace,\n",
    "    template=ctemplate0,\n",
    "    input_variables=['city', 'name', 'user_question'],\n",
    "    field_mapper={\n",
    "        'user_age': ('people', 'age'),\n",
    "        'city_nickname': ('nickname_by_city', 'nickname'),\n",
    "    },\n",
    ")"
   ]
  },
  {
   "cell_type": "markdown",
   "id": "89e1c520",
   "metadata": {},
   "source": [
    "## Creating a Partial Prompt\n",
    "\n",
    "Let us \"partial\" the prompt above, specifying the DB-lookup inputs and leaving only the user question unspecified:"
   ]
  },
  {
   "cell_type": "code",
   "execution_count": 3,
   "id": "c4978bfd",
   "metadata": {},
   "outputs": [],
   "source": [
    "cassPartialPrompt = cassPrompt.partial(city='lisbon', name='Pedro')"
   ]
  },
  {
   "cell_type": "markdown",
   "id": "1e095c36",
   "metadata": {},
   "source": [
    "When rendering the template, the full lookup takes place at once:"
   ]
  },
  {
   "cell_type": "code",
   "execution_count": 4,
   "id": "a0b70f18",
   "metadata": {},
   "outputs": [
    {
     "name": "stdout",
     "output_type": "stream",
     "text": [
      "Please answer a question from a user.\n",
      "Keep in mind that the user's age is 1 and they live in a city with\n",
      "nickname ACidade.\n",
      "\n",
      "USER'S QUESTION: Em verdade, o que quiseres?\n",
      "YOUR ANSWER:\n",
      "\n"
     ]
    }
   ],
   "source": [
    "print(cassPartialPrompt.format(user_question='Em verdade, o que quiseres?'))"
   ]
  },
  {
   "cell_type": "markdown",
   "id": "4f0a11b0",
   "metadata": {},
   "source": [
    "## Partialing and Chat Prompt Templates\n",
    "\n",
    "Unfortunately, this is not supported at the LangChain level. Let's create a two-item chat sequence,"
   ]
  },
  {
   "cell_type": "code",
   "execution_count": 5,
   "id": "6f391bb0",
   "metadata": {},
   "outputs": [],
   "source": [
    "systemTemplate = \"\"\"\n",
    "You are a chat assistant, helping a user of age {user_age} from a city\n",
    "they refer to as {city_nickname}.\n",
    "\"\"\"\n",
    "\n",
    "cassSystemPrompt = createCassandraPromptTemplate(\n",
    "    session=astraSession,\n",
    "    keyspace=astraKeyspace,\n",
    "    template=systemTemplate,\n",
    "    input_variables=['city', 'name'],\n",
    "    field_mapper={\n",
    "        'user_age': ('people', 'age'),\n",
    "        'city_nickname': ('nickname_by_city', 'nickname'),\n",
    "    },\n",
    ")\n",
    "\n",
    "from langchain.prompts import (\n",
    "    ChatPromptTemplate,\n",
    "    SystemMessagePromptTemplate,\n",
    "    HumanMessagePromptTemplate,\n",
    ")\n",
    "systemMessagePrompt = SystemMessagePromptTemplate(prompt=cassSystemPrompt)\n",
    "\n",
    "humanTemplate = \"{text}\"\n",
    "humanMessagePrompt = HumanMessagePromptTemplate.from_template(humanTemplate)\n",
    "\n",
    "cassChatPrompt = ChatPromptTemplate.from_messages(\n",
    "    [systemMessagePrompt, humanMessagePrompt]\n",
    ")"
   ]
  },
  {
   "cell_type": "markdown",
   "id": "baa2c102",
   "metadata": {},
   "source": [
    "and try to \"partial\" it by specifying the DB-lookup parameters:"
   ]
  },
  {
   "cell_type": "code",
   "execution_count": 6,
   "id": "a063a099",
   "metadata": {},
   "outputs": [
    {
     "name": "stdout",
     "output_type": "stream",
     "text": [
      "\"NotImplementedError\" raised by partialing ChatPromptTemplate\n"
     ]
    }
   ],
   "source": [
    "try:\n",
    "    cassChatPartialPrompt = cassChatPrompt.partial(\n",
    "        city='turin',\n",
    "        name='beppe'\n",
    "    )\n",
    "except NotImplementedError:\n",
    "    print('\"NotImplementedError\" raised by partialing ChatPromptTemplate')"
   ]
  }
 ],
 "metadata": {
  "kernelspec": {
   "display_name": "Python 3 (ipykernel)",
   "language": "python",
   "name": "python3"
  },
  "language_info": {
   "codemirror_mode": {
    "name": "ipython",
    "version": 3
   },
   "file_extension": ".py",
   "mimetype": "text/x-python",
   "name": "python",
   "nbconvert_exporter": "python",
   "pygments_lexer": "ipython3",
   "version": "3.10.11"
  }
 },
 "nbformat": 4,
 "nbformat_minor": 5
}
