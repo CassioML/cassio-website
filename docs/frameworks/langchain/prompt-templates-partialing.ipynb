{
 "cells": [
  {
   "cell_type": "markdown",
   "id": "d956397f",
   "metadata": {},
   "source": [
    "# Partialing Prompt Templates"
   ]
  },
  {
   "cell_type": "markdown",
   "id": "f3e44740",
   "metadata": {},
   "source": [
    "Cassandra-powered prompt templates support partialing. Building on the previous examples:"
   ]
  },
  {
   "cell_type": "code",
   "execution_count": 1,
   "id": "ad27b7b0",
   "metadata": {},
   "outputs": [],
   "source": [
    "from langchain.prompts.database import CassandraReaderPromptTemplate"
   ]
  },
  {
   "cell_type": "code",
   "execution_count": 2,
   "id": "7f8edab3",
   "metadata": {},
   "outputs": [],
   "source": [
    "from cqlsession import getCQLSession, getCQLKeyspace\n",
    "cqlMode = 'astra_db' # 'astra_db'/'local'\n",
    "session = getCQLSession(mode=cqlMode)\n",
    "keyspace = getCQLKeyspace(mode=cqlMode)"
   ]
  },
  {
   "cell_type": "code",
   "execution_count": 3,
   "id": "d5db98e8",
   "metadata": {},
   "outputs": [
    {
     "name": "stdout",
     "output_type": "stream",
     "text": [
      "VALIDATING IN CRPT\n",
      "VALIDATING IN CPT\n"
     ]
    }
   ],
   "source": [
    "ctemplate0 = \"\"\"Please answer a question from a user.\n",
    "Keep in mind that the user's age is {user_age} and they live in a city with\n",
    "nickname {city_nickname}.\n",
    "\n",
    "USER'S QUESTION: {user_question}\n",
    "YOUR ANSWER:\n",
    "\"\"\"\n",
    "\n",
    "cassPrompt = CassandraReaderPromptTemplate(\n",
    "    session=session,\n",
    "    keyspace=keyspace,\n",
    "    template=ctemplate0,\n",
    "    input_variables=['user_question'],\n",
    "    field_mapper={\n",
    "        'user_age': ('people', 'age'),\n",
    "        'city_nickname': ('nickname_by_city', 'nickname'),\n",
    "    },\n",
    ")"
   ]
  },
  {
   "cell_type": "markdown",
   "id": "88aec2df",
   "metadata": {},
   "source": [
    "## Creating a Partial Prompt\n",
    "\n",
    "Let us \"partial\" the prompt above, specifying the DB-lookup inputs and leaving only the user question unspecified:"
   ]
  },
  {
   "cell_type": "code",
   "execution_count": 4,
   "id": "e72c52f3",
   "metadata": {},
   "outputs": [
    {
     "name": "stdout",
     "output_type": "stream",
     "text": [
      "VALIDATING IN CRPT\n",
      "VALIDATING IN CPT\n"
     ]
    }
   ],
   "source": [
    "cassPartialPrompt = cassPrompt.partial(city='lisbon', name='Pedro')"
   ]
  },
  {
   "cell_type": "markdown",
   "id": "25d85050",
   "metadata": {},
   "source": [
    "When rendering the template, the full lookup takes place at once:"
   ]
  },
  {
   "cell_type": "code",
   "execution_count": 5,
   "id": "b95ce8e4",
   "metadata": {},
   "outputs": [
    {
     "name": "stdout",
     "output_type": "stream",
     "text": [
      "CALLING CONVERTOR {'city': 'lisbon', 'name': 'Pedro'}\n",
      "Please answer a question from a user.\n",
      "Keep in mind that the user's age is 1 and they live in a city with\n",
      "nickname ACidade.\n",
      "\n",
      "USER'S QUESTION: Em verdade, o que quiseres?\n",
      "YOUR ANSWER:\n",
      "\n"
     ]
    }
   ],
   "source": [
    "print(cassPartialPrompt.format(user_question='Em verdade, o que quiseres?'))"
   ]
  },
  {
   "cell_type": "markdown",
   "id": "ae5a5b6a",
   "metadata": {},
   "source": [
    "## Partialing and Chat Prompt Templates\n",
    "\n",
    "In most cases you may want to partial with respect to the database lookup key(s) even within a chat prompt template:"
   ]
  },
  {
   "cell_type": "code",
   "execution_count": 10,
   "id": "46971e9c",
   "metadata": {},
   "outputs": [
    {
     "name": "stdout",
     "output_type": "stream",
     "text": [
      "VALIDATING IN CRPT\n",
      "VALIDATING IN CPT\n"
     ]
    }
   ],
   "source": [
    "systemTemplate = \"\"\"\n",
    "You are a chat assistant, helping a user of age {user_age} from a city\n",
    "they refer to as {city_nickname}.\n",
    "\"\"\"\n",
    "\n",
    "cassSystemPrompt = CassandraReaderPromptTemplate(\n",
    "    session=session,\n",
    "    keyspace=keyspace,\n",
    "    template=systemTemplate,\n",
    "    input_variables=[],\n",
    "    field_mapper={\n",
    "        'user_age': ('people', 'age'),\n",
    "        'city_nickname': ('nickname_by_city', 'nickname'),\n",
    "    },\n",
    ")\n",
    "\n",
    "from langchain.prompts import (\n",
    "    ChatPromptTemplate,\n",
    "    SystemMessagePromptTemplate,\n",
    "    HumanMessagePromptTemplate,\n",
    ")\n",
    "systemMessagePrompt = SystemMessagePromptTemplate(prompt=cassSystemPrompt)\n",
    "\n",
    "humanTemplate = \"{text}\"\n",
    "humanMessagePrompt = HumanMessagePromptTemplate.from_template(humanTemplate)\n",
    "\n",
    "cassChatPrompt = ChatPromptTemplate.from_messages(\n",
    "    [systemMessagePrompt, humanMessagePrompt]\n",
    ")"
   ]
  },
  {
   "cell_type": "markdown",
   "id": "b58a8a0d",
   "metadata": {},
   "source": [
    "and try to \"partial\" it by specifying the DB-lookup parameters:"
   ]
  },
  {
   "cell_type": "code",
   "execution_count": 11,
   "id": "28b8ebe1",
   "metadata": {},
   "outputs": [],
   "source": [
    "cassChatPartialPrompt = cassChatPrompt.partial(\n",
    "    city='turin',\n",
    "    name='beppe'\n",
    ")"
   ]
  },
  {
   "cell_type": "code",
   "execution_count": 12,
   "id": "051a34f2-487f-4f6e-9843-696f792ec876",
   "metadata": {},
   "outputs": [
    {
     "name": "stdout",
     "output_type": "stream",
     "text": [
      "CALLING CONVERTOR {'city': 'turin', 'name': 'beppe'}\n"
     ]
    },
    {
     "data": {
      "text/plain": [
       "'System: \\nYou are a chat assistant, helping a user of age 2 from a city\\nthey refer to as CereaNeh.\\n\\nHuman: Hahaha!'"
      ]
     },
     "execution_count": 12,
     "metadata": {},
     "output_type": "execute_result"
    }
   ],
   "source": [
    "cassChatPartialPrompt.format(text=\"Hahaha!\")"
   ]
  }
 ],
 "metadata": {
  "kernelspec": {
   "display_name": "Python 3 (ipykernel)",
   "language": "python",
   "name": "python3"
  },
  "language_info": {
   "codemirror_mode": {
    "name": "ipython",
    "version": 3
   },
   "file_extension": ".py",
   "mimetype": "text/x-python",
   "name": "python",
   "nbconvert_exporter": "python",
   "pygments_lexer": "ipython3",
   "version": "3.10.12"
  }
 },
 "nbformat": 4,
 "nbformat_minor": 5
}
